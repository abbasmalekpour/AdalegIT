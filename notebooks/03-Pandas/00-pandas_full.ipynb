{
 "cells": [
  {
   "cell_type": "markdown",
   "metadata": {},
   "source": [
    "<!DOCTYPE html>\n",
    "<html>\n",
    "<body>\n",
    "<div align=\"center\">\n",
    "<h3>Prepared by Asif Bhat</h3>\n",
    "    \n",
    "<h1>Pandas - Series & Dataframes</h1>\n",
    "\n",
    "<h3>Follow Me on - <a href=\"https://www.linkedin.com/in/asif-bhat/\">LinkedIn</a>&nbsp; <a href=\"https://mobile.twitter.com/_asifbhat_\">Twitter</a>&nbsp; <a href=\"https://www.instagram.com/datasciencescoop/?hl=en\">Instagram</a>&nbsp; <a href=\"https://www.facebook.com/datasciencescoop/\">Facebook</a></h3>\n",
    "</div>\n",
    "</body>\n",
    "</html>"
   ]
  },
  {
   "cell_type": "code",
   "execution_count": 1,
   "metadata": {},
   "outputs": [],
   "source": [
    "import numpy as np\n",
    "import pandas as pd\n",
    "import matplotlib.pyplot as plt\n",
    "import glob\n",
    "import re\n",
    "import math"
   ]
  },
  {
   "cell_type": "markdown",
   "metadata": {},
   "source": [
    "# Series"
   ]
  },
  {
   "cell_type": "markdown",
   "metadata": {},
   "source": [
    "## Create Series"
   ]
  },
  {
   "cell_type": "code",
   "execution_count": 2,
   "metadata": {},
   "outputs": [
    {
     "data": {
      "text/plain": [
       "0    1\n",
       "1    2\n",
       "2    3\n",
       "3    4\n",
       "4    5\n",
       "5    6\n",
       "6    7\n",
       "dtype: int64"
      ]
     },
     "execution_count": 2,
     "metadata": {},
     "output_type": "execute_result"
    }
   ],
   "source": [
    "# Create series from Nump Array\n",
    "v = np.array([1,2,3,4,5,6,7])\n",
    "s1 = pd.Series(v)\n",
    "s1"
   ]
  },
  {
   "cell_type": "code",
   "execution_count": 3,
   "metadata": {},
   "outputs": [
    {
     "data": {
      "text/plain": [
       "dtype('int64')"
      ]
     },
     "execution_count": 3,
     "metadata": {},
     "output_type": "execute_result"
    }
   ],
   "source": [
    "#Datatype of Series\n",
    "s1.dtype"
   ]
  },
  {
   "cell_type": "code",
   "execution_count": 4,
   "metadata": {},
   "outputs": [],
   "source": [
    "# number of bytes allocated to each item\n",
    "# s1.itemsize"
   ]
  },
  {
   "cell_type": "code",
   "execution_count": 5,
   "metadata": {},
   "outputs": [
    {
     "data": {
      "text/plain": [
       "56"
      ]
     },
     "execution_count": 5,
     "metadata": {},
     "output_type": "execute_result"
    }
   ],
   "source": [
    "# Number of bytes consumed by Series\n",
    "s1.nbytes"
   ]
  },
  {
   "cell_type": "code",
   "execution_count": 6,
   "metadata": {},
   "outputs": [
    {
     "data": {
      "text/plain": [
       "(7,)"
      ]
     },
     "execution_count": 6,
     "metadata": {},
     "output_type": "execute_result"
    }
   ],
   "source": [
    "# Shape of the Series\n",
    "s1.shape"
   ]
  },
  {
   "cell_type": "code",
   "execution_count": 7,
   "metadata": {},
   "outputs": [
    {
     "data": {
      "text/plain": [
       "1"
      ]
     },
     "execution_count": 7,
     "metadata": {},
     "output_type": "execute_result"
    }
   ],
   "source": [
    "# number of dimensions\n",
    "s1.ndim"
   ]
  },
  {
   "cell_type": "code",
   "execution_count": 8,
   "metadata": {},
   "outputs": [
    {
     "data": {
      "text/plain": [
       "7"
      ]
     },
     "execution_count": 8,
     "metadata": {},
     "output_type": "execute_result"
    }
   ],
   "source": [
    "# Length of Series\n",
    "len(s1)"
   ]
  },
  {
   "cell_type": "code",
   "execution_count": 9,
   "metadata": {},
   "outputs": [
    {
     "data": {
      "text/plain": [
       "7"
      ]
     },
     "execution_count": 9,
     "metadata": {},
     "output_type": "execute_result"
    }
   ],
   "source": [
    "s1.count()"
   ]
  },
  {
   "cell_type": "code",
   "execution_count": 10,
   "metadata": {},
   "outputs": [
    {
     "data": {
      "text/plain": [
       "7"
      ]
     },
     "execution_count": 10,
     "metadata": {},
     "output_type": "execute_result"
    }
   ],
   "source": [
    "s1.size"
   ]
  },
  {
   "cell_type": "code",
   "execution_count": 11,
   "metadata": {},
   "outputs": [
    {
     "data": {
      "text/plain": [
       "a    1\n",
       "b    2\n",
       "c    3\n",
       "dtype: int64"
      ]
     },
     "execution_count": 11,
     "metadata": {},
     "output_type": "execute_result"
    }
   ],
   "source": [
    "# Create series from List \n",
    "s0 = pd.Series([1,2,3],index = ['a','b','c'])\n",
    "s0"
   ]
  },
  {
   "cell_type": "code",
   "execution_count": 12,
   "metadata": {},
   "outputs": [
    {
     "data": {
      "text/plain": [
       "a    1\n",
       "b    2\n",
       "c    3\n",
       "d    4\n",
       "e    5\n",
       "f    6\n",
       "g    7\n",
       "dtype: int64"
      ]
     },
     "execution_count": 12,
     "metadata": {},
     "output_type": "execute_result"
    }
   ],
   "source": [
    "# Modifying index in Series\n",
    "s1.index = ['a' , 'b' , 'c' , 'd' , 'e' , 'f' , 'g']\n",
    "s1"
   ]
  },
  {
   "cell_type": "code",
   "execution_count": 13,
   "metadata": {},
   "outputs": [
    {
     "data": {
      "text/plain": [
       "(array([0.09139724, 0.54560287, 0.22489591, 0.3681115 , 0.99569368,\n",
       "        0.07555583, 0.70285062, 0.60940611, 0.32105073, 0.25426414]),\n",
       " array([0, 1, 2, 3, 4, 5, 6, 7, 8, 9]),\n",
       " 0    0.091397\n",
       " 1    0.545603\n",
       " 2    0.224896\n",
       " 3    0.368111\n",
       " 4    0.995694\n",
       " 5    0.075556\n",
       " 6    0.702851\n",
       " 7    0.609406\n",
       " 8    0.321051\n",
       " 9    0.254264\n",
       " dtype: float64)"
      ]
     },
     "execution_count": 13,
     "metadata": {},
     "output_type": "execute_result"
    }
   ],
   "source": [
    "# Create Series using Random and Range function\n",
    "v2 = np.random.random(10)\n",
    "ind2 = np.arange(0,10)\n",
    "s = pd.Series(v2,ind2)\n",
    "v2 , ind2 , s"
   ]
  },
  {
   "cell_type": "code",
   "execution_count": 14,
   "metadata": {},
   "outputs": [
    {
     "data": {
      "text/plain": [
       "a1    10\n",
       "a2    20\n",
       "a3    30\n",
       "a4    40\n",
       "dtype: int64"
      ]
     },
     "execution_count": 14,
     "metadata": {},
     "output_type": "execute_result"
    }
   ],
   "source": [
    "# Creating Series from Dictionary\n",
    "dict1 = {'a1' :10 , 'a2' :20 , 'a3':30 , 'a4':40}\n",
    "s3 = pd.Series(dict1)\n",
    "s3"
   ]
  },
  {
   "cell_type": "code",
   "execution_count": 15,
   "metadata": {},
   "outputs": [
    {
     "data": {
      "text/plain": [
       "0    99\n",
       "1    99\n",
       "2    99\n",
       "3    99\n",
       "4    99\n",
       "5    99\n",
       "dtype: int64"
      ]
     },
     "execution_count": 15,
     "metadata": {},
     "output_type": "execute_result"
    }
   ],
   "source": [
    "pd.Series(99, index=[0, 1, 2, 3, 4, 5]) "
   ]
  },
  {
   "cell_type": "markdown",
   "metadata": {},
   "source": [
    "## Slicing Series"
   ]
  },
  {
   "cell_type": "code",
   "execution_count": 16,
   "metadata": {},
   "outputs": [
    {
     "data": {
      "text/plain": [
       "0    0.091397\n",
       "1    0.545603\n",
       "2    0.224896\n",
       "3    0.368111\n",
       "4    0.995694\n",
       "5    0.075556\n",
       "6    0.702851\n",
       "7    0.609406\n",
       "8    0.321051\n",
       "9    0.254264\n",
       "dtype: float64"
      ]
     },
     "execution_count": 16,
     "metadata": {},
     "output_type": "execute_result"
    }
   ],
   "source": [
    "s"
   ]
  },
  {
   "cell_type": "code",
   "execution_count": 17,
   "metadata": {},
   "outputs": [
    {
     "data": {
      "text/plain": [
       "0    0.091397\n",
       "1    0.545603\n",
       "2    0.224896\n",
       "3    0.368111\n",
       "4    0.995694\n",
       "5    0.075556\n",
       "6    0.702851\n",
       "7    0.609406\n",
       "8    0.321051\n",
       "9    0.254264\n",
       "dtype: float64"
      ]
     },
     "execution_count": 17,
     "metadata": {},
     "output_type": "execute_result"
    }
   ],
   "source": [
    "# Return all elements of the series\n",
    "s[:]"
   ]
  },
  {
   "cell_type": "code",
   "execution_count": 18,
   "metadata": {},
   "outputs": [
    {
     "data": {
      "text/plain": [
       "0    0.091397\n",
       "1    0.545603\n",
       "2    0.224896\n",
       "dtype: float64"
      ]
     },
     "execution_count": 18,
     "metadata": {},
     "output_type": "execute_result"
    }
   ],
   "source": [
    "# First three element of the Series\n",
    "s[0:3]"
   ]
  },
  {
   "cell_type": "code",
   "execution_count": 19,
   "metadata": {},
   "outputs": [
    {
     "data": {
      "text/plain": [
       "9    0.254264\n",
       "dtype: float64"
      ]
     },
     "execution_count": 19,
     "metadata": {},
     "output_type": "execute_result"
    }
   ],
   "source": [
    "# Last element of the Series\n",
    "s[-1:]"
   ]
  },
  {
   "cell_type": "code",
   "execution_count": 20,
   "metadata": {},
   "outputs": [
    {
     "data": {
      "text/plain": [
       "0    0.091397\n",
       "1    0.545603\n",
       "2    0.224896\n",
       "3    0.368111\n",
       "dtype: float64"
      ]
     },
     "execution_count": 20,
     "metadata": {},
     "output_type": "execute_result"
    }
   ],
   "source": [
    "# Fetch first 4 elements in a series\n",
    "s[:4]"
   ]
  },
  {
   "cell_type": "code",
   "execution_count": 21,
   "metadata": {},
   "outputs": [
    {
     "data": {
      "text/plain": [
       "0    0.091397\n",
       "1    0.545603\n",
       "2    0.224896\n",
       "3    0.368111\n",
       "4    0.995694\n",
       "5    0.075556\n",
       "6    0.702851\n",
       "7    0.609406\n",
       "dtype: float64"
      ]
     },
     "execution_count": 21,
     "metadata": {},
     "output_type": "execute_result"
    }
   ],
   "source": [
    "# Return all elements of the series except last two elements.\n",
    "s[:-2]"
   ]
  },
  {
   "cell_type": "code",
   "execution_count": 22,
   "metadata": {},
   "outputs": [
    {
     "data": {
      "text/plain": [
       "0    0.091397\n",
       "1    0.545603\n",
       "2    0.224896\n",
       "3    0.368111\n",
       "4    0.995694\n",
       "5    0.075556\n",
       "6    0.702851\n",
       "7    0.609406\n",
       "8    0.321051\n",
       "dtype: float64"
      ]
     },
     "execution_count": 22,
     "metadata": {},
     "output_type": "execute_result"
    }
   ],
   "source": [
    "# Return all elements of the series except last element.\n",
    "s[:-1]"
   ]
  },
  {
   "cell_type": "code",
   "execution_count": 23,
   "metadata": {},
   "outputs": [
    {
     "data": {
      "text/plain": [
       "8    0.321051\n",
       "9    0.254264\n",
       "dtype: float64"
      ]
     },
     "execution_count": 23,
     "metadata": {},
     "output_type": "execute_result"
    }
   ],
   "source": [
    "# Return last two elements of the series\n",
    "s[-2:]"
   ]
  },
  {
   "cell_type": "code",
   "execution_count": 24,
   "metadata": {},
   "outputs": [
    {
     "data": {
      "text/plain": [
       "9    0.254264\n",
       "dtype: float64"
      ]
     },
     "execution_count": 24,
     "metadata": {},
     "output_type": "execute_result"
    }
   ],
   "source": [
    "# # Return last element of the series\n",
    "s[-1:]"
   ]
  },
  {
   "cell_type": "code",
   "execution_count": 25,
   "metadata": {},
   "outputs": [
    {
     "data": {
      "text/plain": [
       "7    0.609406\n",
       "8    0.321051\n",
       "dtype: float64"
      ]
     },
     "execution_count": 25,
     "metadata": {},
     "output_type": "execute_result"
    }
   ],
   "source": [
    "s[-3:-1]"
   ]
  },
  {
   "cell_type": "markdown",
   "metadata": {},
   "source": [
    "## Append Series"
   ]
  },
  {
   "cell_type": "code",
   "execution_count": 26,
   "metadata": {},
   "outputs": [
    {
     "data": {
      "text/plain": [
       "a    1\n",
       "b    2\n",
       "c    3\n",
       "d    4\n",
       "e    5\n",
       "f    6\n",
       "g    7\n",
       "dtype: int64"
      ]
     },
     "execution_count": 26,
     "metadata": {},
     "output_type": "execute_result"
    }
   ],
   "source": [
    "s2 = s1.copy()\n",
    "s2"
   ]
  },
  {
   "cell_type": "code",
   "execution_count": 27,
   "metadata": {},
   "outputs": [
    {
     "data": {
      "text/plain": [
       "a1    10\n",
       "a2    20\n",
       "a3    30\n",
       "a4    40\n",
       "dtype: int64"
      ]
     },
     "execution_count": 27,
     "metadata": {},
     "output_type": "execute_result"
    }
   ],
   "source": [
    "s3"
   ]
  },
  {
   "cell_type": "code",
   "execution_count": 28,
   "metadata": {},
   "outputs": [
    {
     "data": {
      "text/plain": [
       "a      1\n",
       "b      2\n",
       "c      3\n",
       "d      4\n",
       "e      5\n",
       "f      6\n",
       "g      7\n",
       "a1    10\n",
       "a2    20\n",
       "a3    30\n",
       "a4    40\n",
       "dtype: int64"
      ]
     },
     "execution_count": 28,
     "metadata": {},
     "output_type": "execute_result"
    }
   ],
   "source": [
    "# Append S2 & S3 Series\n",
    "s4 = s2.append(s3)\n",
    "s4"
   ]
  },
  {
   "cell_type": "code",
   "execution_count": 29,
   "metadata": {},
   "outputs": [
    {
     "data": {
      "text/plain": [
       "a      1\n",
       "b      2\n",
       "c      3\n",
       "d      4\n",
       "e      5\n",
       "f      6\n",
       "g      7\n",
       "a1    10\n",
       "a2    20\n",
       "a3    30\n",
       "dtype: int64"
      ]
     },
     "execution_count": 29,
     "metadata": {},
     "output_type": "execute_result"
    }
   ],
   "source": [
    "# When \"inplace=False\" it will return a new copy of data with the operation performed\n",
    "s4.drop('a4' , inplace=False)"
   ]
  },
  {
   "cell_type": "code",
   "execution_count": 30,
   "metadata": {},
   "outputs": [
    {
     "data": {
      "text/plain": [
       "a      1\n",
       "b      2\n",
       "c      3\n",
       "d      4\n",
       "e      5\n",
       "f      6\n",
       "g      7\n",
       "a1    10\n",
       "a2    20\n",
       "a3    30\n",
       "a4    40\n",
       "dtype: int64"
      ]
     },
     "execution_count": 30,
     "metadata": {},
     "output_type": "execute_result"
    }
   ],
   "source": [
    "s4"
   ]
  },
  {
   "cell_type": "code",
   "execution_count": 31,
   "metadata": {},
   "outputs": [
    {
     "data": {
      "text/plain": [
       "a      1\n",
       "b      2\n",
       "c      3\n",
       "d      4\n",
       "e      5\n",
       "f      6\n",
       "g      7\n",
       "a1    10\n",
       "a2    20\n",
       "a3    30\n",
       "dtype: int64"
      ]
     },
     "execution_count": 31,
     "metadata": {},
     "output_type": "execute_result"
    }
   ],
   "source": [
    "# When we use \"inplace=True\" it will affect the dataframe\n",
    "s4.drop('a4', inplace=True)\n",
    "s4"
   ]
  },
  {
   "cell_type": "code",
   "execution_count": 32,
   "metadata": {},
   "outputs": [
    {
     "data": {
      "text/plain": [
       "a      1\n",
       "b      2\n",
       "c      3\n",
       "d      4\n",
       "e      5\n",
       "f      6\n",
       "g      7\n",
       "a1    10\n",
       "a2    20\n",
       "a3    30\n",
       "a4     7\n",
       "dtype: int64"
      ]
     },
     "execution_count": 32,
     "metadata": {},
     "output_type": "execute_result"
    }
   ],
   "source": [
    "s4 = s4.append(pd.Series({'a4': 7}))\n",
    "s4"
   ]
  },
  {
   "cell_type": "markdown",
   "metadata": {},
   "source": [
    "## Operation on Series"
   ]
  },
  {
   "cell_type": "code",
   "execution_count": 33,
   "metadata": {},
   "outputs": [
    {
     "data": {
      "text/plain": [
       "(0    10\n",
       " 1    20\n",
       " 2    30\n",
       " dtype: int64,\n",
       " 0    1\n",
       " 1    2\n",
       " 2    3\n",
       " dtype: int64)"
      ]
     },
     "execution_count": 33,
     "metadata": {},
     "output_type": "execute_result"
    }
   ],
   "source": [
    "v1 = np.array([10,20,30])\n",
    "v2 = np.array([1,2,3])\n",
    "s1 = pd.Series(v1) \n",
    "s2 = pd.Series(v2)\n",
    "s1 , s2"
   ]
  },
  {
   "cell_type": "code",
   "execution_count": 34,
   "metadata": {},
   "outputs": [
    {
     "data": {
      "text/plain": [
       "0    11\n",
       "1    22\n",
       "2    33\n",
       "dtype: int64"
      ]
     },
     "execution_count": 34,
     "metadata": {},
     "output_type": "execute_result"
    }
   ],
   "source": [
    "# Addition of two series\n",
    "s1.add(s2)"
   ]
  },
  {
   "cell_type": "code",
   "execution_count": 35,
   "metadata": {},
   "outputs": [
    {
     "data": {
      "text/plain": [
       "0     9\n",
       "1    18\n",
       "2    27\n",
       "dtype: int64"
      ]
     },
     "execution_count": 35,
     "metadata": {},
     "output_type": "execute_result"
    }
   ],
   "source": [
    "# Subtraction of two series\n",
    "s1.sub(s2)"
   ]
  },
  {
   "cell_type": "code",
   "execution_count": 36,
   "metadata": {},
   "outputs": [
    {
     "data": {
      "text/plain": [
       "0     9\n",
       "1    18\n",
       "2    27\n",
       "dtype: int64"
      ]
     },
     "execution_count": 36,
     "metadata": {},
     "output_type": "execute_result"
    }
   ],
   "source": [
    "# Subtraction of two series\n",
    "s1.subtract(s2)"
   ]
  },
  {
   "cell_type": "code",
   "execution_count": 37,
   "metadata": {},
   "outputs": [
    {
     "data": {
      "text/plain": [
       "0    19\n",
       "1    29\n",
       "2    39\n",
       "dtype: int64"
      ]
     },
     "execution_count": 37,
     "metadata": {},
     "output_type": "execute_result"
    }
   ],
   "source": [
    "# Increment all numbers in a series by 9\n",
    "s1.add(9)"
   ]
  },
  {
   "cell_type": "code",
   "execution_count": 38,
   "metadata": {},
   "outputs": [
    {
     "data": {
      "text/plain": [
       "0    10\n",
       "1    40\n",
       "2    90\n",
       "dtype: int64"
      ]
     },
     "execution_count": 38,
     "metadata": {},
     "output_type": "execute_result"
    }
   ],
   "source": [
    "# Multiplication of two series\n",
    "s1.mul(s2)"
   ]
  },
  {
   "cell_type": "code",
   "execution_count": 39,
   "metadata": {},
   "outputs": [
    {
     "data": {
      "text/plain": [
       "0    10\n",
       "1    40\n",
       "2    90\n",
       "dtype: int64"
      ]
     },
     "execution_count": 39,
     "metadata": {},
     "output_type": "execute_result"
    }
   ],
   "source": [
    "# Multiplication of two series\n",
    "s1.multiply(s2)"
   ]
  },
  {
   "cell_type": "code",
   "execution_count": 40,
   "metadata": {},
   "outputs": [
    {
     "data": {
      "text/plain": [
       "0    10000\n",
       "1    20000\n",
       "2    30000\n",
       "dtype: int64"
      ]
     },
     "execution_count": 40,
     "metadata": {},
     "output_type": "execute_result"
    }
   ],
   "source": [
    "# Multiply each element by 1000\n",
    "s1.multiply(1000)"
   ]
  },
  {
   "cell_type": "code",
   "execution_count": 41,
   "metadata": {},
   "outputs": [
    {
     "data": {
      "text/plain": [
       "0    10.0\n",
       "1    10.0\n",
       "2    10.0\n",
       "dtype: float64"
      ]
     },
     "execution_count": 41,
     "metadata": {},
     "output_type": "execute_result"
    }
   ],
   "source": [
    "# Division\n",
    "s1.divide(s2)"
   ]
  },
  {
   "cell_type": "code",
   "execution_count": 42,
   "metadata": {},
   "outputs": [
    {
     "data": {
      "text/plain": [
       "0    10.0\n",
       "1    10.0\n",
       "2    10.0\n",
       "dtype: float64"
      ]
     },
     "execution_count": 42,
     "metadata": {},
     "output_type": "execute_result"
    }
   ],
   "source": [
    "# Division\n",
    "s1.div(s2)"
   ]
  },
  {
   "cell_type": "code",
   "execution_count": 43,
   "metadata": {},
   "outputs": [
    {
     "data": {
      "text/plain": [
       "30"
      ]
     },
     "execution_count": 43,
     "metadata": {},
     "output_type": "execute_result"
    }
   ],
   "source": [
    "# MAX number in a series\n",
    "s1.max()"
   ]
  },
  {
   "cell_type": "code",
   "execution_count": 44,
   "metadata": {},
   "outputs": [
    {
     "data": {
      "text/plain": [
       "10"
      ]
     },
     "execution_count": 44,
     "metadata": {},
     "output_type": "execute_result"
    }
   ],
   "source": [
    "# Min number in a series\n",
    "s1.min()"
   ]
  },
  {
   "cell_type": "code",
   "execution_count": 45,
   "metadata": {},
   "outputs": [
    {
     "data": {
      "text/plain": [
       "20.0"
      ]
     },
     "execution_count": 45,
     "metadata": {},
     "output_type": "execute_result"
    }
   ],
   "source": [
    "# Average\n",
    "s1.mean()"
   ]
  },
  {
   "cell_type": "code",
   "execution_count": 46,
   "metadata": {},
   "outputs": [
    {
     "data": {
      "text/plain": [
       "20.0"
      ]
     },
     "execution_count": 46,
     "metadata": {},
     "output_type": "execute_result"
    }
   ],
   "source": [
    "# Median\n",
    "s1.median()"
   ]
  },
  {
   "cell_type": "code",
   "execution_count": 47,
   "metadata": {},
   "outputs": [
    {
     "data": {
      "text/plain": [
       "10.0"
      ]
     },
     "execution_count": 47,
     "metadata": {},
     "output_type": "execute_result"
    }
   ],
   "source": [
    "# Standard Deviation\n",
    "s1.std()"
   ]
  },
  {
   "cell_type": "code",
   "execution_count": 48,
   "metadata": {},
   "outputs": [
    {
     "data": {
      "text/plain": [
       "False"
      ]
     },
     "execution_count": 48,
     "metadata": {},
     "output_type": "execute_result"
    }
   ],
   "source": [
    "# Series comparison\n",
    "s1.equals(s2)"
   ]
  },
  {
   "cell_type": "code",
   "execution_count": 49,
   "metadata": {},
   "outputs": [],
   "source": [
    "s4 =s1"
   ]
  },
  {
   "cell_type": "code",
   "execution_count": 50,
   "metadata": {},
   "outputs": [
    {
     "data": {
      "text/plain": [
       "True"
      ]
     },
     "execution_count": 50,
     "metadata": {},
     "output_type": "execute_result"
    }
   ],
   "source": [
    "# Series comparison\n",
    "s1.equals(s4)"
   ]
  },
  {
   "cell_type": "code",
   "execution_count": 51,
   "metadata": {},
   "outputs": [
    {
     "data": {
      "text/plain": [
       "0    1\n",
       "1    1\n",
       "2    2\n",
       "3    2\n",
       "4    3\n",
       "5    3\n",
       "dtype: int64"
      ]
     },
     "execution_count": 51,
     "metadata": {},
     "output_type": "execute_result"
    }
   ],
   "source": [
    "s5 = pd.Series([1,1,2,2,3,3], index=[0, 1, 2, 3, 4, 5])\n",
    "s5"
   ]
  },
  {
   "cell_type": "code",
   "execution_count": 52,
   "metadata": {},
   "outputs": [
    {
     "data": {
      "text/plain": [
       "3    2\n",
       "2    2\n",
       "1    2\n",
       "dtype: int64"
      ]
     },
     "execution_count": 52,
     "metadata": {},
     "output_type": "execute_result"
    }
   ],
   "source": [
    "s5.value_counts()"
   ]
  },
  {
   "cell_type": "markdown",
   "metadata": {},
   "source": [
    "# DataFrame"
   ]
  },
  {
   "cell_type": "markdown",
   "metadata": {},
   "source": [
    "## Create DataFrame"
   ]
  },
  {
   "cell_type": "code",
   "execution_count": null,
   "metadata": {},
   "outputs": [],
   "source": []
  },
  {
   "cell_type": "code",
   "execution_count": 53,
   "metadata": {},
   "outputs": [
    {
     "data": {
      "text/html": [
       "<div>\n",
       "<style scoped>\n",
       "    .dataframe tbody tr th:only-of-type {\n",
       "        vertical-align: middle;\n",
       "    }\n",
       "\n",
       "    .dataframe tbody tr th {\n",
       "        vertical-align: top;\n",
       "    }\n",
       "\n",
       "    .dataframe thead th {\n",
       "        text-align: right;\n",
       "    }\n",
       "</style>\n",
       "<table border=\"1\" class=\"dataframe\">\n",
       "  <thead>\n",
       "    <tr style=\"text-align: right;\">\n",
       "      <th></th>\n",
       "    </tr>\n",
       "  </thead>\n",
       "  <tbody>\n",
       "  </tbody>\n",
       "</table>\n",
       "</div>"
      ],
      "text/plain": [
       "Empty DataFrame\n",
       "Columns: []\n",
       "Index: []"
      ]
     },
     "execution_count": 53,
     "metadata": {},
     "output_type": "execute_result"
    }
   ],
   "source": [
    "df = pd.DataFrame()\n",
    "df"
   ]
  },
  {
   "cell_type": "code",
   "execution_count": 54,
   "metadata": {},
   "outputs": [
    {
     "data": {
      "text/html": [
       "<div>\n",
       "<style scoped>\n",
       "    .dataframe tbody tr th:only-of-type {\n",
       "        vertical-align: middle;\n",
       "    }\n",
       "\n",
       "    .dataframe tbody tr th {\n",
       "        vertical-align: top;\n",
       "    }\n",
       "\n",
       "    .dataframe thead th {\n",
       "        text-align: right;\n",
       "    }\n",
       "</style>\n",
       "<table border=\"1\" class=\"dataframe\">\n",
       "  <thead>\n",
       "    <tr style=\"text-align: right;\">\n",
       "      <th></th>\n",
       "      <th>0</th>\n",
       "    </tr>\n",
       "  </thead>\n",
       "  <tbody>\n",
       "    <tr>\n",
       "      <th>0</th>\n",
       "      <td>Java</td>\n",
       "    </tr>\n",
       "    <tr>\n",
       "      <th>1</th>\n",
       "      <td>Python</td>\n",
       "    </tr>\n",
       "    <tr>\n",
       "      <th>2</th>\n",
       "      <td>C</td>\n",
       "    </tr>\n",
       "    <tr>\n",
       "      <th>3</th>\n",
       "      <td>C++</td>\n",
       "    </tr>\n",
       "  </tbody>\n",
       "</table>\n",
       "</div>"
      ],
      "text/plain": [
       "        0\n",
       "0    Java\n",
       "1  Python\n",
       "2       C\n",
       "3     C++"
      ]
     },
     "execution_count": 54,
     "metadata": {},
     "output_type": "execute_result"
    }
   ],
   "source": [
    "# Create Dataframe using List\n",
    "lang = ['Java' , 'Python' , 'C' , 'C++']\n",
    "df = pd.DataFrame(lang)\n",
    "df"
   ]
  },
  {
   "cell_type": "code",
   "execution_count": 55,
   "metadata": {},
   "outputs": [
    {
     "data": {
      "text/html": [
       "<div>\n",
       "<style scoped>\n",
       "    .dataframe tbody tr th:only-of-type {\n",
       "        vertical-align: middle;\n",
       "    }\n",
       "\n",
       "    .dataframe tbody tr th {\n",
       "        vertical-align: top;\n",
       "    }\n",
       "\n",
       "    .dataframe thead th {\n",
       "        text-align: right;\n",
       "    }\n",
       "</style>\n",
       "<table border=\"1\" class=\"dataframe\">\n",
       "  <thead>\n",
       "    <tr style=\"text-align: right;\">\n",
       "      <th></th>\n",
       "      <th>0</th>\n",
       "      <th>1</th>\n",
       "    </tr>\n",
       "  </thead>\n",
       "  <tbody>\n",
       "    <tr>\n",
       "      <th>0</th>\n",
       "      <td>Java</td>\n",
       "      <td>1</td>\n",
       "    </tr>\n",
       "    <tr>\n",
       "      <th>1</th>\n",
       "      <td>Python</td>\n",
       "      <td>2</td>\n",
       "    </tr>\n",
       "    <tr>\n",
       "      <th>2</th>\n",
       "      <td>C</td>\n",
       "      <td>3</td>\n",
       "    </tr>\n",
       "    <tr>\n",
       "      <th>3</th>\n",
       "      <td>C++</td>\n",
       "      <td>4</td>\n",
       "    </tr>\n",
       "  </tbody>\n",
       "</table>\n",
       "</div>"
      ],
      "text/plain": [
       "        0  1\n",
       "0    Java  1\n",
       "1  Python  2\n",
       "2       C  3\n",
       "3     C++  4"
      ]
     },
     "execution_count": 55,
     "metadata": {},
     "output_type": "execute_result"
    }
   ],
   "source": [
    "# Add column in the Dataframe\n",
    "rating = [1,2,3,4]\n",
    "df[1] = rating\n",
    "df"
   ]
  },
  {
   "cell_type": "code",
   "execution_count": 56,
   "metadata": {},
   "outputs": [],
   "source": [
    "df.columns = ['Language','Rating']"
   ]
  },
  {
   "cell_type": "code",
   "execution_count": 57,
   "metadata": {},
   "outputs": [
    {
     "data": {
      "text/html": [
       "<div>\n",
       "<style scoped>\n",
       "    .dataframe tbody tr th:only-of-type {\n",
       "        vertical-align: middle;\n",
       "    }\n",
       "\n",
       "    .dataframe tbody tr th {\n",
       "        vertical-align: top;\n",
       "    }\n",
       "\n",
       "    .dataframe thead th {\n",
       "        text-align: right;\n",
       "    }\n",
       "</style>\n",
       "<table border=\"1\" class=\"dataframe\">\n",
       "  <thead>\n",
       "    <tr style=\"text-align: right;\">\n",
       "      <th></th>\n",
       "      <th>Language</th>\n",
       "      <th>Rating</th>\n",
       "    </tr>\n",
       "  </thead>\n",
       "  <tbody>\n",
       "    <tr>\n",
       "      <th>0</th>\n",
       "      <td>Java</td>\n",
       "      <td>1</td>\n",
       "    </tr>\n",
       "    <tr>\n",
       "      <th>1</th>\n",
       "      <td>Python</td>\n",
       "      <td>2</td>\n",
       "    </tr>\n",
       "    <tr>\n",
       "      <th>2</th>\n",
       "      <td>C</td>\n",
       "      <td>3</td>\n",
       "    </tr>\n",
       "    <tr>\n",
       "      <th>3</th>\n",
       "      <td>C++</td>\n",
       "      <td>4</td>\n",
       "    </tr>\n",
       "  </tbody>\n",
       "</table>\n",
       "</div>"
      ],
      "text/plain": [
       "  Language  Rating\n",
       "0     Java       1\n",
       "1   Python       2\n",
       "2        C       3\n",
       "3      C++       4"
      ]
     },
     "execution_count": 57,
     "metadata": {},
     "output_type": "execute_result"
    }
   ],
   "source": [
    "df"
   ]
  },
  {
   "cell_type": "code",
   "execution_count": 58,
   "metadata": {},
   "outputs": [],
   "source": [
    "# Create Dataframe from Dictionary\n",
    "\n",
    "data = [{'a': 1, 'b': 2},{'a': 5, 'b': 10, 'c': 20}]\n",
    "\n",
    "df2 = pd.DataFrame(data)\n",
    "df3 = pd.DataFrame(data, index=['row1', 'row2'], columns=['a', 'b'])\n",
    "df4 = pd.DataFrame(data, index=['row1', 'row2'], columns=['a', 'b' ,'c'])\n",
    "df5 = pd.DataFrame(data, index=['row1', 'row2'], columns=['a', 'b' ,'c' , 'd'])"
   ]
  },
  {
   "cell_type": "code",
   "execution_count": 59,
   "metadata": {},
   "outputs": [
    {
     "data": {
      "text/html": [
       "<div>\n",
       "<style scoped>\n",
       "    .dataframe tbody tr th:only-of-type {\n",
       "        vertical-align: middle;\n",
       "    }\n",
       "\n",
       "    .dataframe tbody tr th {\n",
       "        vertical-align: top;\n",
       "    }\n",
       "\n",
       "    .dataframe thead th {\n",
       "        text-align: right;\n",
       "    }\n",
       "</style>\n",
       "<table border=\"1\" class=\"dataframe\">\n",
       "  <thead>\n",
       "    <tr style=\"text-align: right;\">\n",
       "      <th></th>\n",
       "      <th>a</th>\n",
       "      <th>b</th>\n",
       "      <th>c</th>\n",
       "    </tr>\n",
       "  </thead>\n",
       "  <tbody>\n",
       "    <tr>\n",
       "      <th>0</th>\n",
       "      <td>1</td>\n",
       "      <td>2</td>\n",
       "      <td>NaN</td>\n",
       "    </tr>\n",
       "    <tr>\n",
       "      <th>1</th>\n",
       "      <td>5</td>\n",
       "      <td>10</td>\n",
       "      <td>20.0</td>\n",
       "    </tr>\n",
       "  </tbody>\n",
       "</table>\n",
       "</div>"
      ],
      "text/plain": [
       "   a   b     c\n",
       "0  1   2   NaN\n",
       "1  5  10  20.0"
      ]
     },
     "execution_count": 59,
     "metadata": {},
     "output_type": "execute_result"
    }
   ],
   "source": [
    "df2"
   ]
  },
  {
   "cell_type": "code",
   "execution_count": 60,
   "metadata": {},
   "outputs": [
    {
     "data": {
      "text/html": [
       "<div>\n",
       "<style scoped>\n",
       "    .dataframe tbody tr th:only-of-type {\n",
       "        vertical-align: middle;\n",
       "    }\n",
       "\n",
       "    .dataframe tbody tr th {\n",
       "        vertical-align: top;\n",
       "    }\n",
       "\n",
       "    .dataframe thead th {\n",
       "        text-align: right;\n",
       "    }\n",
       "</style>\n",
       "<table border=\"1\" class=\"dataframe\">\n",
       "  <thead>\n",
       "    <tr style=\"text-align: right;\">\n",
       "      <th></th>\n",
       "      <th>a</th>\n",
       "      <th>b</th>\n",
       "    </tr>\n",
       "  </thead>\n",
       "  <tbody>\n",
       "    <tr>\n",
       "      <th>row1</th>\n",
       "      <td>1</td>\n",
       "      <td>2</td>\n",
       "    </tr>\n",
       "    <tr>\n",
       "      <th>row2</th>\n",
       "      <td>5</td>\n",
       "      <td>10</td>\n",
       "    </tr>\n",
       "  </tbody>\n",
       "</table>\n",
       "</div>"
      ],
      "text/plain": [
       "      a   b\n",
       "row1  1   2\n",
       "row2  5  10"
      ]
     },
     "execution_count": 60,
     "metadata": {},
     "output_type": "execute_result"
    }
   ],
   "source": [
    "df3"
   ]
  },
  {
   "cell_type": "code",
   "execution_count": 61,
   "metadata": {},
   "outputs": [
    {
     "data": {
      "text/html": [
       "<div>\n",
       "<style scoped>\n",
       "    .dataframe tbody tr th:only-of-type {\n",
       "        vertical-align: middle;\n",
       "    }\n",
       "\n",
       "    .dataframe tbody tr th {\n",
       "        vertical-align: top;\n",
       "    }\n",
       "\n",
       "    .dataframe thead th {\n",
       "        text-align: right;\n",
       "    }\n",
       "</style>\n",
       "<table border=\"1\" class=\"dataframe\">\n",
       "  <thead>\n",
       "    <tr style=\"text-align: right;\">\n",
       "      <th></th>\n",
       "      <th>a</th>\n",
       "      <th>b</th>\n",
       "      <th>c</th>\n",
       "    </tr>\n",
       "  </thead>\n",
       "  <tbody>\n",
       "    <tr>\n",
       "      <th>row1</th>\n",
       "      <td>1</td>\n",
       "      <td>2</td>\n",
       "      <td>NaN</td>\n",
       "    </tr>\n",
       "    <tr>\n",
       "      <th>row2</th>\n",
       "      <td>5</td>\n",
       "      <td>10</td>\n",
       "      <td>20.0</td>\n",
       "    </tr>\n",
       "  </tbody>\n",
       "</table>\n",
       "</div>"
      ],
      "text/plain": [
       "      a   b     c\n",
       "row1  1   2   NaN\n",
       "row2  5  10  20.0"
      ]
     },
     "execution_count": 61,
     "metadata": {},
     "output_type": "execute_result"
    }
   ],
   "source": [
    "df4"
   ]
  },
  {
   "cell_type": "code",
   "execution_count": 62,
   "metadata": {},
   "outputs": [
    {
     "data": {
      "text/html": [
       "<div>\n",
       "<style scoped>\n",
       "    .dataframe tbody tr th:only-of-type {\n",
       "        vertical-align: middle;\n",
       "    }\n",
       "\n",
       "    .dataframe tbody tr th {\n",
       "        vertical-align: top;\n",
       "    }\n",
       "\n",
       "    .dataframe thead th {\n",
       "        text-align: right;\n",
       "    }\n",
       "</style>\n",
       "<table border=\"1\" class=\"dataframe\">\n",
       "  <thead>\n",
       "    <tr style=\"text-align: right;\">\n",
       "      <th></th>\n",
       "      <th>a</th>\n",
       "      <th>b</th>\n",
       "      <th>c</th>\n",
       "      <th>d</th>\n",
       "    </tr>\n",
       "  </thead>\n",
       "  <tbody>\n",
       "    <tr>\n",
       "      <th>row1</th>\n",
       "      <td>1</td>\n",
       "      <td>2</td>\n",
       "      <td>NaN</td>\n",
       "      <td>NaN</td>\n",
       "    </tr>\n",
       "    <tr>\n",
       "      <th>row2</th>\n",
       "      <td>5</td>\n",
       "      <td>10</td>\n",
       "      <td>20.0</td>\n",
       "      <td>NaN</td>\n",
       "    </tr>\n",
       "  </tbody>\n",
       "</table>\n",
       "</div>"
      ],
      "text/plain": [
       "      a   b     c   d\n",
       "row1  1   2   NaN NaN\n",
       "row2  5  10  20.0 NaN"
      ]
     },
     "execution_count": 62,
     "metadata": {},
     "output_type": "execute_result"
    }
   ],
   "source": [
    "df5"
   ]
  },
  {
   "cell_type": "code",
   "execution_count": 63,
   "metadata": {},
   "outputs": [
    {
     "data": {
      "text/html": [
       "<div>\n",
       "<style scoped>\n",
       "    .dataframe tbody tr th:only-of-type {\n",
       "        vertical-align: middle;\n",
       "    }\n",
       "\n",
       "    .dataframe tbody tr th {\n",
       "        vertical-align: top;\n",
       "    }\n",
       "\n",
       "    .dataframe thead th {\n",
       "        text-align: right;\n",
       "    }\n",
       "</style>\n",
       "<table border=\"1\" class=\"dataframe\">\n",
       "  <thead>\n",
       "    <tr style=\"text-align: right;\">\n",
       "      <th></th>\n",
       "      <th>ID</th>\n",
       "      <th>Name</th>\n",
       "    </tr>\n",
       "  </thead>\n",
       "  <tbody>\n",
       "    <tr>\n",
       "      <th>0</th>\n",
       "      <td>1</td>\n",
       "      <td>Asif</td>\n",
       "    </tr>\n",
       "    <tr>\n",
       "      <th>1</th>\n",
       "      <td>2</td>\n",
       "      <td>Basit</td>\n",
       "    </tr>\n",
       "    <tr>\n",
       "      <th>2</th>\n",
       "      <td>3</td>\n",
       "      <td>Ross</td>\n",
       "    </tr>\n",
       "    <tr>\n",
       "      <th>3</th>\n",
       "      <td>4</td>\n",
       "      <td>John</td>\n",
       "    </tr>\n",
       "  </tbody>\n",
       "</table>\n",
       "</div>"
      ],
      "text/plain": [
       "   ID   Name\n",
       "0   1   Asif\n",
       "1   2  Basit\n",
       "2   3   Ross\n",
       "3   4   John"
      ]
     },
     "execution_count": 63,
     "metadata": {},
     "output_type": "execute_result"
    }
   ],
   "source": [
    "# Create Dataframe from Dictionary\n",
    "df0 = pd.DataFrame({'ID' :[1,2,3,4] , 'Name' :['Asif' , 'Basit' , 'Ross' , 'John']})\n",
    "df0"
   ]
  },
  {
   "cell_type": "code",
   "execution_count": 64,
   "metadata": {},
   "outputs": [
    {
     "data": {
      "text/html": [
       "<div>\n",
       "<style scoped>\n",
       "    .dataframe tbody tr th:only-of-type {\n",
       "        vertical-align: middle;\n",
       "    }\n",
       "\n",
       "    .dataframe tbody tr th {\n",
       "        vertical-align: top;\n",
       "    }\n",
       "\n",
       "    .dataframe thead th {\n",
       "        text-align: right;\n",
       "    }\n",
       "</style>\n",
       "<table border=\"1\" class=\"dataframe\">\n",
       "  <thead>\n",
       "    <tr style=\"text-align: right;\">\n",
       "      <th></th>\n",
       "      <th>A</th>\n",
       "      <th>B</th>\n",
       "    </tr>\n",
       "  </thead>\n",
       "  <tbody>\n",
       "    <tr>\n",
       "      <th>a</th>\n",
       "      <td>1.0</td>\n",
       "      <td>1</td>\n",
       "    </tr>\n",
       "    <tr>\n",
       "      <th>b</th>\n",
       "      <td>2.0</td>\n",
       "      <td>2</td>\n",
       "    </tr>\n",
       "    <tr>\n",
       "      <th>c</th>\n",
       "      <td>3.0</td>\n",
       "      <td>3</td>\n",
       "    </tr>\n",
       "    <tr>\n",
       "      <th>d</th>\n",
       "      <td>NaN</td>\n",
       "      <td>4</td>\n",
       "    </tr>\n",
       "  </tbody>\n",
       "</table>\n",
       "</div>"
      ],
      "text/plain": [
       "     A  B\n",
       "a  1.0  1\n",
       "b  2.0  2\n",
       "c  3.0  3\n",
       "d  NaN  4"
      ]
     },
     "execution_count": 64,
     "metadata": {},
     "output_type": "execute_result"
    }
   ],
   "source": [
    "# Create a DataFrame from Dictionary of Series\n",
    "dict = {'A' : pd.Series([1, 2, 3],    index=['a', 'b', 'c']),\n",
    "        'B' : pd.Series([1, 2, 3, 4], index=['a', 'b', 'c', 'd'])}\n",
    "\n",
    "df1 = pd.DataFrame(dict)\n",
    "df1"
   ]
  },
  {
   "cell_type": "markdown",
   "metadata": {},
   "source": [
    "#### Dataframe of Random Numbers with Date Indices"
   ]
  },
  {
   "cell_type": "code",
   "execution_count": 65,
   "metadata": {},
   "outputs": [
    {
     "data": {
      "text/plain": [
       "DatetimeIndex(['2020-01-20', '2020-01-21', '2020-01-22', '2020-01-23',\n",
       "               '2020-01-24', '2020-01-25', '2020-01-26'],\n",
       "              dtype='datetime64[ns]', freq='D')"
      ]
     },
     "execution_count": 65,
     "metadata": {},
     "output_type": "execute_result"
    }
   ],
   "source": [
    "dates = pd.date_range(start='2020-01-20', end='2020-01-26')\n",
    "dates"
   ]
  },
  {
   "cell_type": "code",
   "execution_count": 66,
   "metadata": {},
   "outputs": [
    {
     "data": {
      "text/plain": [
       "DatetimeIndex(['2020-05-18 16:42:22.854848', '2020-05-19 16:42:22.854848',\n",
       "               '2020-05-20 16:42:22.854848', '2020-05-21 16:42:22.854848',\n",
       "               '2020-05-22 16:42:22.854848', '2020-05-23 16:42:22.854848',\n",
       "               '2020-05-24 16:42:22.854848'],\n",
       "              dtype='datetime64[ns]', freq='D')"
      ]
     },
     "execution_count": 66,
     "metadata": {},
     "output_type": "execute_result"
    }
   ],
   "source": [
    "dates = pd.date_range('today',periods= 7)\n",
    "dates"
   ]
  },
  {
   "cell_type": "code",
   "execution_count": 67,
   "metadata": {},
   "outputs": [
    {
     "data": {
      "text/plain": [
       "DatetimeIndex(['2020-01-20', '2020-01-21', '2020-01-22', '2020-01-23',\n",
       "               '2020-01-24', '2020-01-25', '2020-01-26'],\n",
       "              dtype='datetime64[ns]', freq='D')"
      ]
     },
     "execution_count": 67,
     "metadata": {},
     "output_type": "execute_result"
    }
   ],
   "source": [
    "dates = pd.date_range(start='2020-01-20', periods=7)\n",
    "dates"
   ]
  },
  {
   "cell_type": "code",
   "execution_count": 68,
   "metadata": {},
   "outputs": [
    {
     "data": {
      "text/plain": [
       "array([[0.56775586, 0.44012273, 0.38856336, 0.68898259, 0.08539801,\n",
       "        0.50556463, 0.62922345],\n",
       "       [0.61772653, 0.96368131, 0.97074479, 0.76119042, 0.98276084,\n",
       "        0.32160505, 0.79725375],\n",
       "       [0.04478323, 0.11084651, 0.38004565, 0.78451075, 0.26444139,\n",
       "        0.36406356, 0.85348261],\n",
       "       [0.69112323, 0.50583673, 0.06993112, 0.81160842, 0.1147715 ,\n",
       "        0.54846468, 0.91761756],\n",
       "       [0.72995546, 0.97643011, 0.30479561, 0.77786597, 0.88323014,\n",
       "        0.12510406, 0.18853782],\n",
       "       [0.62627351, 0.30839733, 0.69419426, 0.61727658, 0.19116576,\n",
       "        0.71702641, 0.43806502],\n",
       "       [0.95190409, 0.83453795, 0.95836366, 0.96821392, 0.45391789,\n",
       "        0.31902079, 0.38171986]])"
      ]
     },
     "execution_count": 68,
     "metadata": {},
     "output_type": "execute_result"
    }
   ],
   "source": [
    "M = np.random.random((7,7))\n",
    "M"
   ]
  },
  {
   "cell_type": "code",
   "execution_count": 69,
   "metadata": {},
   "outputs": [
    {
     "data": {
      "text/html": [
       "<div>\n",
       "<style scoped>\n",
       "    .dataframe tbody tr th:only-of-type {\n",
       "        vertical-align: middle;\n",
       "    }\n",
       "\n",
       "    .dataframe tbody tr th {\n",
       "        vertical-align: top;\n",
       "    }\n",
       "\n",
       "    .dataframe thead th {\n",
       "        text-align: right;\n",
       "    }\n",
       "</style>\n",
       "<table border=\"1\" class=\"dataframe\">\n",
       "  <thead>\n",
       "    <tr style=\"text-align: right;\">\n",
       "      <th></th>\n",
       "      <th>0</th>\n",
       "      <th>1</th>\n",
       "      <th>2</th>\n",
       "      <th>3</th>\n",
       "      <th>4</th>\n",
       "      <th>5</th>\n",
       "      <th>6</th>\n",
       "    </tr>\n",
       "  </thead>\n",
       "  <tbody>\n",
       "    <tr>\n",
       "      <th>2020-01-20</th>\n",
       "      <td>0.567756</td>\n",
       "      <td>0.440123</td>\n",
       "      <td>0.388563</td>\n",
       "      <td>0.688983</td>\n",
       "      <td>0.085398</td>\n",
       "      <td>0.505565</td>\n",
       "      <td>0.629223</td>\n",
       "    </tr>\n",
       "    <tr>\n",
       "      <th>2020-01-21</th>\n",
       "      <td>0.617727</td>\n",
       "      <td>0.963681</td>\n",
       "      <td>0.970745</td>\n",
       "      <td>0.761190</td>\n",
       "      <td>0.982761</td>\n",
       "      <td>0.321605</td>\n",
       "      <td>0.797254</td>\n",
       "    </tr>\n",
       "    <tr>\n",
       "      <th>2020-01-22</th>\n",
       "      <td>0.044783</td>\n",
       "      <td>0.110847</td>\n",
       "      <td>0.380046</td>\n",
       "      <td>0.784511</td>\n",
       "      <td>0.264441</td>\n",
       "      <td>0.364064</td>\n",
       "      <td>0.853483</td>\n",
       "    </tr>\n",
       "    <tr>\n",
       "      <th>2020-01-23</th>\n",
       "      <td>0.691123</td>\n",
       "      <td>0.505837</td>\n",
       "      <td>0.069931</td>\n",
       "      <td>0.811608</td>\n",
       "      <td>0.114771</td>\n",
       "      <td>0.548465</td>\n",
       "      <td>0.917618</td>\n",
       "    </tr>\n",
       "    <tr>\n",
       "      <th>2020-01-24</th>\n",
       "      <td>0.729955</td>\n",
       "      <td>0.976430</td>\n",
       "      <td>0.304796</td>\n",
       "      <td>0.777866</td>\n",
       "      <td>0.883230</td>\n",
       "      <td>0.125104</td>\n",
       "      <td>0.188538</td>\n",
       "    </tr>\n",
       "    <tr>\n",
       "      <th>2020-01-25</th>\n",
       "      <td>0.626274</td>\n",
       "      <td>0.308397</td>\n",
       "      <td>0.694194</td>\n",
       "      <td>0.617277</td>\n",
       "      <td>0.191166</td>\n",
       "      <td>0.717026</td>\n",
       "      <td>0.438065</td>\n",
       "    </tr>\n",
       "    <tr>\n",
       "      <th>2020-01-26</th>\n",
       "      <td>0.951904</td>\n",
       "      <td>0.834538</td>\n",
       "      <td>0.958364</td>\n",
       "      <td>0.968214</td>\n",
       "      <td>0.453918</td>\n",
       "      <td>0.319021</td>\n",
       "      <td>0.381720</td>\n",
       "    </tr>\n",
       "  </tbody>\n",
       "</table>\n",
       "</div>"
      ],
      "text/plain": [
       "                   0         1         2         3         4         5  \\\n",
       "2020-01-20  0.567756  0.440123  0.388563  0.688983  0.085398  0.505565   \n",
       "2020-01-21  0.617727  0.963681  0.970745  0.761190  0.982761  0.321605   \n",
       "2020-01-22  0.044783  0.110847  0.380046  0.784511  0.264441  0.364064   \n",
       "2020-01-23  0.691123  0.505837  0.069931  0.811608  0.114771  0.548465   \n",
       "2020-01-24  0.729955  0.976430  0.304796  0.777866  0.883230  0.125104   \n",
       "2020-01-25  0.626274  0.308397  0.694194  0.617277  0.191166  0.717026   \n",
       "2020-01-26  0.951904  0.834538  0.958364  0.968214  0.453918  0.319021   \n",
       "\n",
       "                   6  \n",
       "2020-01-20  0.629223  \n",
       "2020-01-21  0.797254  \n",
       "2020-01-22  0.853483  \n",
       "2020-01-23  0.917618  \n",
       "2020-01-24  0.188538  \n",
       "2020-01-25  0.438065  \n",
       "2020-01-26  0.381720  "
      ]
     },
     "execution_count": 69,
     "metadata": {},
     "output_type": "execute_result"
    }
   ],
   "source": [
    "dframe = pd.DataFrame(M , index=dates)\n",
    "dframe"
   ]
  },
  {
   "cell_type": "code",
   "execution_count": 70,
   "metadata": {},
   "outputs": [
    {
     "data": {
      "text/html": [
       "<div>\n",
       "<style scoped>\n",
       "    .dataframe tbody tr th:only-of-type {\n",
       "        vertical-align: middle;\n",
       "    }\n",
       "\n",
       "    .dataframe tbody tr th {\n",
       "        vertical-align: top;\n",
       "    }\n",
       "\n",
       "    .dataframe thead th {\n",
       "        text-align: right;\n",
       "    }\n",
       "</style>\n",
       "<table border=\"1\" class=\"dataframe\">\n",
       "  <thead>\n",
       "    <tr style=\"text-align: right;\">\n",
       "      <th></th>\n",
       "      <th>C1</th>\n",
       "      <th>C2</th>\n",
       "      <th>C3</th>\n",
       "      <th>C4</th>\n",
       "      <th>C5</th>\n",
       "      <th>C6</th>\n",
       "      <th>C7</th>\n",
       "    </tr>\n",
       "  </thead>\n",
       "  <tbody>\n",
       "    <tr>\n",
       "      <th>2020-01-20</th>\n",
       "      <td>0.567756</td>\n",
       "      <td>0.440123</td>\n",
       "      <td>0.388563</td>\n",
       "      <td>0.688983</td>\n",
       "      <td>0.085398</td>\n",
       "      <td>0.505565</td>\n",
       "      <td>0.629223</td>\n",
       "    </tr>\n",
       "    <tr>\n",
       "      <th>2020-01-21</th>\n",
       "      <td>0.617727</td>\n",
       "      <td>0.963681</td>\n",
       "      <td>0.970745</td>\n",
       "      <td>0.761190</td>\n",
       "      <td>0.982761</td>\n",
       "      <td>0.321605</td>\n",
       "      <td>0.797254</td>\n",
       "    </tr>\n",
       "    <tr>\n",
       "      <th>2020-01-22</th>\n",
       "      <td>0.044783</td>\n",
       "      <td>0.110847</td>\n",
       "      <td>0.380046</td>\n",
       "      <td>0.784511</td>\n",
       "      <td>0.264441</td>\n",
       "      <td>0.364064</td>\n",
       "      <td>0.853483</td>\n",
       "    </tr>\n",
       "    <tr>\n",
       "      <th>2020-01-23</th>\n",
       "      <td>0.691123</td>\n",
       "      <td>0.505837</td>\n",
       "      <td>0.069931</td>\n",
       "      <td>0.811608</td>\n",
       "      <td>0.114771</td>\n",
       "      <td>0.548465</td>\n",
       "      <td>0.917618</td>\n",
       "    </tr>\n",
       "    <tr>\n",
       "      <th>2020-01-24</th>\n",
       "      <td>0.729955</td>\n",
       "      <td>0.976430</td>\n",
       "      <td>0.304796</td>\n",
       "      <td>0.777866</td>\n",
       "      <td>0.883230</td>\n",
       "      <td>0.125104</td>\n",
       "      <td>0.188538</td>\n",
       "    </tr>\n",
       "    <tr>\n",
       "      <th>2020-01-25</th>\n",
       "      <td>0.626274</td>\n",
       "      <td>0.308397</td>\n",
       "      <td>0.694194</td>\n",
       "      <td>0.617277</td>\n",
       "      <td>0.191166</td>\n",
       "      <td>0.717026</td>\n",
       "      <td>0.438065</td>\n",
       "    </tr>\n",
       "    <tr>\n",
       "      <th>2020-01-26</th>\n",
       "      <td>0.951904</td>\n",
       "      <td>0.834538</td>\n",
       "      <td>0.958364</td>\n",
       "      <td>0.968214</td>\n",
       "      <td>0.453918</td>\n",
       "      <td>0.319021</td>\n",
       "      <td>0.381720</td>\n",
       "    </tr>\n",
       "  </tbody>\n",
       "</table>\n",
       "</div>"
      ],
      "text/plain": [
       "                  C1        C2        C3        C4        C5        C6  \\\n",
       "2020-01-20  0.567756  0.440123  0.388563  0.688983  0.085398  0.505565   \n",
       "2020-01-21  0.617727  0.963681  0.970745  0.761190  0.982761  0.321605   \n",
       "2020-01-22  0.044783  0.110847  0.380046  0.784511  0.264441  0.364064   \n",
       "2020-01-23  0.691123  0.505837  0.069931  0.811608  0.114771  0.548465   \n",
       "2020-01-24  0.729955  0.976430  0.304796  0.777866  0.883230  0.125104   \n",
       "2020-01-25  0.626274  0.308397  0.694194  0.617277  0.191166  0.717026   \n",
       "2020-01-26  0.951904  0.834538  0.958364  0.968214  0.453918  0.319021   \n",
       "\n",
       "                  C7  \n",
       "2020-01-20  0.629223  \n",
       "2020-01-21  0.797254  \n",
       "2020-01-22  0.853483  \n",
       "2020-01-23  0.917618  \n",
       "2020-01-24  0.188538  \n",
       "2020-01-25  0.438065  \n",
       "2020-01-26  0.381720  "
      ]
     },
     "execution_count": 70,
     "metadata": {},
     "output_type": "execute_result"
    }
   ],
   "source": [
    "#Changing Column Names\n",
    "dframe.columns = ['C1' , 'C2' , 'C3', 'C4', 'C5', 'C6', 'C7']\n",
    "dframe"
   ]
  },
  {
   "cell_type": "code",
   "execution_count": 71,
   "metadata": {},
   "outputs": [
    {
     "data": {
      "text/plain": [
       "DatetimeIndex(['2020-01-20', '2020-01-21', '2020-01-22', '2020-01-23',\n",
       "               '2020-01-24', '2020-01-25', '2020-01-26'],\n",
       "              dtype='datetime64[ns]', freq='D')"
      ]
     },
     "execution_count": 71,
     "metadata": {},
     "output_type": "execute_result"
    }
   ],
   "source": [
    "# List Index\n",
    "dframe.index"
   ]
  },
  {
   "cell_type": "code",
   "execution_count": 72,
   "metadata": {},
   "outputs": [
    {
     "data": {
      "text/plain": [
       "Index(['C1', 'C2', 'C3', 'C4', 'C5', 'C6', 'C7'], dtype='object')"
      ]
     },
     "execution_count": 72,
     "metadata": {},
     "output_type": "execute_result"
    }
   ],
   "source": [
    "# List Column Names\n",
    "dframe.columns"
   ]
  },
  {
   "cell_type": "code",
   "execution_count": 73,
   "metadata": {},
   "outputs": [
    {
     "data": {
      "text/plain": [
       "C1    float64\n",
       "C2    float64\n",
       "C3    float64\n",
       "C4    float64\n",
       "C5    float64\n",
       "C6    float64\n",
       "C7    float64\n",
       "dtype: object"
      ]
     },
     "execution_count": 73,
     "metadata": {},
     "output_type": "execute_result"
    }
   ],
   "source": [
    "# Datatype of each column\n",
    "dframe.dtypes"
   ]
  },
  {
   "cell_type": "code",
   "execution_count": 74,
   "metadata": {},
   "outputs": [
    {
     "data": {
      "text/html": [
       "<div>\n",
       "<style scoped>\n",
       "    .dataframe tbody tr th:only-of-type {\n",
       "        vertical-align: middle;\n",
       "    }\n",
       "\n",
       "    .dataframe tbody tr th {\n",
       "        vertical-align: top;\n",
       "    }\n",
       "\n",
       "    .dataframe thead th {\n",
       "        text-align: right;\n",
       "    }\n",
       "</style>\n",
       "<table border=\"1\" class=\"dataframe\">\n",
       "  <thead>\n",
       "    <tr style=\"text-align: right;\">\n",
       "      <th></th>\n",
       "      <th>C1</th>\n",
       "      <th>C2</th>\n",
       "      <th>C3</th>\n",
       "      <th>C4</th>\n",
       "      <th>C5</th>\n",
       "      <th>C6</th>\n",
       "      <th>C7</th>\n",
       "    </tr>\n",
       "  </thead>\n",
       "  <tbody>\n",
       "    <tr>\n",
       "      <th>2020-01-22</th>\n",
       "      <td>0.044783</td>\n",
       "      <td>0.110847</td>\n",
       "      <td>0.380046</td>\n",
       "      <td>0.784511</td>\n",
       "      <td>0.264441</td>\n",
       "      <td>0.364064</td>\n",
       "      <td>0.853483</td>\n",
       "    </tr>\n",
       "    <tr>\n",
       "      <th>2020-01-20</th>\n",
       "      <td>0.567756</td>\n",
       "      <td>0.440123</td>\n",
       "      <td>0.388563</td>\n",
       "      <td>0.688983</td>\n",
       "      <td>0.085398</td>\n",
       "      <td>0.505565</td>\n",
       "      <td>0.629223</td>\n",
       "    </tr>\n",
       "    <tr>\n",
       "      <th>2020-01-21</th>\n",
       "      <td>0.617727</td>\n",
       "      <td>0.963681</td>\n",
       "      <td>0.970745</td>\n",
       "      <td>0.761190</td>\n",
       "      <td>0.982761</td>\n",
       "      <td>0.321605</td>\n",
       "      <td>0.797254</td>\n",
       "    </tr>\n",
       "    <tr>\n",
       "      <th>2020-01-25</th>\n",
       "      <td>0.626274</td>\n",
       "      <td>0.308397</td>\n",
       "      <td>0.694194</td>\n",
       "      <td>0.617277</td>\n",
       "      <td>0.191166</td>\n",
       "      <td>0.717026</td>\n",
       "      <td>0.438065</td>\n",
       "    </tr>\n",
       "    <tr>\n",
       "      <th>2020-01-23</th>\n",
       "      <td>0.691123</td>\n",
       "      <td>0.505837</td>\n",
       "      <td>0.069931</td>\n",
       "      <td>0.811608</td>\n",
       "      <td>0.114771</td>\n",
       "      <td>0.548465</td>\n",
       "      <td>0.917618</td>\n",
       "    </tr>\n",
       "    <tr>\n",
       "      <th>2020-01-24</th>\n",
       "      <td>0.729955</td>\n",
       "      <td>0.976430</td>\n",
       "      <td>0.304796</td>\n",
       "      <td>0.777866</td>\n",
       "      <td>0.883230</td>\n",
       "      <td>0.125104</td>\n",
       "      <td>0.188538</td>\n",
       "    </tr>\n",
       "    <tr>\n",
       "      <th>2020-01-26</th>\n",
       "      <td>0.951904</td>\n",
       "      <td>0.834538</td>\n",
       "      <td>0.958364</td>\n",
       "      <td>0.968214</td>\n",
       "      <td>0.453918</td>\n",
       "      <td>0.319021</td>\n",
       "      <td>0.381720</td>\n",
       "    </tr>\n",
       "  </tbody>\n",
       "</table>\n",
       "</div>"
      ],
      "text/plain": [
       "                  C1        C2        C3        C4        C5        C6  \\\n",
       "2020-01-22  0.044783  0.110847  0.380046  0.784511  0.264441  0.364064   \n",
       "2020-01-20  0.567756  0.440123  0.388563  0.688983  0.085398  0.505565   \n",
       "2020-01-21  0.617727  0.963681  0.970745  0.761190  0.982761  0.321605   \n",
       "2020-01-25  0.626274  0.308397  0.694194  0.617277  0.191166  0.717026   \n",
       "2020-01-23  0.691123  0.505837  0.069931  0.811608  0.114771  0.548465   \n",
       "2020-01-24  0.729955  0.976430  0.304796  0.777866  0.883230  0.125104   \n",
       "2020-01-26  0.951904  0.834538  0.958364  0.968214  0.453918  0.319021   \n",
       "\n",
       "                  C7  \n",
       "2020-01-22  0.853483  \n",
       "2020-01-20  0.629223  \n",
       "2020-01-21  0.797254  \n",
       "2020-01-25  0.438065  \n",
       "2020-01-23  0.917618  \n",
       "2020-01-24  0.188538  \n",
       "2020-01-26  0.381720  "
      ]
     },
     "execution_count": 74,
     "metadata": {},
     "output_type": "execute_result"
    }
   ],
   "source": [
    "# Sort Dataframe by Column 'C1' in Ascending Order\n",
    "dframe.sort_values(by='C1')"
   ]
  },
  {
   "cell_type": "code",
   "execution_count": 75,
   "metadata": {},
   "outputs": [
    {
     "data": {
      "text/html": [
       "<div>\n",
       "<style scoped>\n",
       "    .dataframe tbody tr th:only-of-type {\n",
       "        vertical-align: middle;\n",
       "    }\n",
       "\n",
       "    .dataframe tbody tr th {\n",
       "        vertical-align: top;\n",
       "    }\n",
       "\n",
       "    .dataframe thead th {\n",
       "        text-align: right;\n",
       "    }\n",
       "</style>\n",
       "<table border=\"1\" class=\"dataframe\">\n",
       "  <thead>\n",
       "    <tr style=\"text-align: right;\">\n",
       "      <th></th>\n",
       "      <th>C1</th>\n",
       "      <th>C2</th>\n",
       "      <th>C3</th>\n",
       "      <th>C4</th>\n",
       "      <th>C5</th>\n",
       "      <th>C6</th>\n",
       "      <th>C7</th>\n",
       "    </tr>\n",
       "  </thead>\n",
       "  <tbody>\n",
       "    <tr>\n",
       "      <th>2020-01-26</th>\n",
       "      <td>0.951904</td>\n",
       "      <td>0.834538</td>\n",
       "      <td>0.958364</td>\n",
       "      <td>0.968214</td>\n",
       "      <td>0.453918</td>\n",
       "      <td>0.319021</td>\n",
       "      <td>0.381720</td>\n",
       "    </tr>\n",
       "    <tr>\n",
       "      <th>2020-01-24</th>\n",
       "      <td>0.729955</td>\n",
       "      <td>0.976430</td>\n",
       "      <td>0.304796</td>\n",
       "      <td>0.777866</td>\n",
       "      <td>0.883230</td>\n",
       "      <td>0.125104</td>\n",
       "      <td>0.188538</td>\n",
       "    </tr>\n",
       "    <tr>\n",
       "      <th>2020-01-23</th>\n",
       "      <td>0.691123</td>\n",
       "      <td>0.505837</td>\n",
       "      <td>0.069931</td>\n",
       "      <td>0.811608</td>\n",
       "      <td>0.114771</td>\n",
       "      <td>0.548465</td>\n",
       "      <td>0.917618</td>\n",
       "    </tr>\n",
       "    <tr>\n",
       "      <th>2020-01-25</th>\n",
       "      <td>0.626274</td>\n",
       "      <td>0.308397</td>\n",
       "      <td>0.694194</td>\n",
       "      <td>0.617277</td>\n",
       "      <td>0.191166</td>\n",
       "      <td>0.717026</td>\n",
       "      <td>0.438065</td>\n",
       "    </tr>\n",
       "    <tr>\n",
       "      <th>2020-01-21</th>\n",
       "      <td>0.617727</td>\n",
       "      <td>0.963681</td>\n",
       "      <td>0.970745</td>\n",
       "      <td>0.761190</td>\n",
       "      <td>0.982761</td>\n",
       "      <td>0.321605</td>\n",
       "      <td>0.797254</td>\n",
       "    </tr>\n",
       "    <tr>\n",
       "      <th>2020-01-20</th>\n",
       "      <td>0.567756</td>\n",
       "      <td>0.440123</td>\n",
       "      <td>0.388563</td>\n",
       "      <td>0.688983</td>\n",
       "      <td>0.085398</td>\n",
       "      <td>0.505565</td>\n",
       "      <td>0.629223</td>\n",
       "    </tr>\n",
       "    <tr>\n",
       "      <th>2020-01-22</th>\n",
       "      <td>0.044783</td>\n",
       "      <td>0.110847</td>\n",
       "      <td>0.380046</td>\n",
       "      <td>0.784511</td>\n",
       "      <td>0.264441</td>\n",
       "      <td>0.364064</td>\n",
       "      <td>0.853483</td>\n",
       "    </tr>\n",
       "  </tbody>\n",
       "</table>\n",
       "</div>"
      ],
      "text/plain": [
       "                  C1        C2        C3        C4        C5        C6  \\\n",
       "2020-01-26  0.951904  0.834538  0.958364  0.968214  0.453918  0.319021   \n",
       "2020-01-24  0.729955  0.976430  0.304796  0.777866  0.883230  0.125104   \n",
       "2020-01-23  0.691123  0.505837  0.069931  0.811608  0.114771  0.548465   \n",
       "2020-01-25  0.626274  0.308397  0.694194  0.617277  0.191166  0.717026   \n",
       "2020-01-21  0.617727  0.963681  0.970745  0.761190  0.982761  0.321605   \n",
       "2020-01-20  0.567756  0.440123  0.388563  0.688983  0.085398  0.505565   \n",
       "2020-01-22  0.044783  0.110847  0.380046  0.784511  0.264441  0.364064   \n",
       "\n",
       "                  C7  \n",
       "2020-01-26  0.381720  \n",
       "2020-01-24  0.188538  \n",
       "2020-01-23  0.917618  \n",
       "2020-01-25  0.438065  \n",
       "2020-01-21  0.797254  \n",
       "2020-01-20  0.629223  \n",
       "2020-01-22  0.853483  "
      ]
     },
     "execution_count": 75,
     "metadata": {},
     "output_type": "execute_result"
    }
   ],
   "source": [
    "# Sort Dataframe by Column 'C1' in Descending Order\n",
    "dframe.sort_values(by='C1' , ascending=False)"
   ]
  },
  {
   "cell_type": "markdown",
   "metadata": {},
   "source": [
    "## Delete Column in DataFrame"
   ]
  },
  {
   "cell_type": "code",
   "execution_count": 76,
   "metadata": {},
   "outputs": [
    {
     "data": {
      "text/html": [
       "<div>\n",
       "<style scoped>\n",
       "    .dataframe tbody tr th:only-of-type {\n",
       "        vertical-align: middle;\n",
       "    }\n",
       "\n",
       "    .dataframe tbody tr th {\n",
       "        vertical-align: top;\n",
       "    }\n",
       "\n",
       "    .dataframe thead th {\n",
       "        text-align: right;\n",
       "    }\n",
       "</style>\n",
       "<table border=\"1\" class=\"dataframe\">\n",
       "  <thead>\n",
       "    <tr style=\"text-align: right;\">\n",
       "      <th></th>\n",
       "      <th>A</th>\n",
       "      <th>B</th>\n",
       "    </tr>\n",
       "  </thead>\n",
       "  <tbody>\n",
       "    <tr>\n",
       "      <th>a</th>\n",
       "      <td>1.0</td>\n",
       "      <td>1</td>\n",
       "    </tr>\n",
       "    <tr>\n",
       "      <th>b</th>\n",
       "      <td>2.0</td>\n",
       "      <td>2</td>\n",
       "    </tr>\n",
       "    <tr>\n",
       "      <th>c</th>\n",
       "      <td>3.0</td>\n",
       "      <td>3</td>\n",
       "    </tr>\n",
       "    <tr>\n",
       "      <th>d</th>\n",
       "      <td>NaN</td>\n",
       "      <td>4</td>\n",
       "    </tr>\n",
       "  </tbody>\n",
       "</table>\n",
       "</div>"
      ],
      "text/plain": [
       "     A  B\n",
       "a  1.0  1\n",
       "b  2.0  2\n",
       "c  3.0  3\n",
       "d  NaN  4"
      ]
     },
     "execution_count": 76,
     "metadata": {},
     "output_type": "execute_result"
    }
   ],
   "source": [
    "df1"
   ]
  },
  {
   "cell_type": "code",
   "execution_count": 77,
   "metadata": {},
   "outputs": [],
   "source": [
    "# Delete Column using \"del\" function\n",
    "del df1['B']"
   ]
  },
  {
   "cell_type": "code",
   "execution_count": 78,
   "metadata": {},
   "outputs": [
    {
     "data": {
      "text/html": [
       "<div>\n",
       "<style scoped>\n",
       "    .dataframe tbody tr th:only-of-type {\n",
       "        vertical-align: middle;\n",
       "    }\n",
       "\n",
       "    .dataframe tbody tr th {\n",
       "        vertical-align: top;\n",
       "    }\n",
       "\n",
       "    .dataframe thead th {\n",
       "        text-align: right;\n",
       "    }\n",
       "</style>\n",
       "<table border=\"1\" class=\"dataframe\">\n",
       "  <thead>\n",
       "    <tr style=\"text-align: right;\">\n",
       "      <th></th>\n",
       "      <th>A</th>\n",
       "    </tr>\n",
       "  </thead>\n",
       "  <tbody>\n",
       "    <tr>\n",
       "      <th>a</th>\n",
       "      <td>1.0</td>\n",
       "    </tr>\n",
       "    <tr>\n",
       "      <th>b</th>\n",
       "      <td>2.0</td>\n",
       "    </tr>\n",
       "    <tr>\n",
       "      <th>c</th>\n",
       "      <td>3.0</td>\n",
       "    </tr>\n",
       "    <tr>\n",
       "      <th>d</th>\n",
       "      <td>NaN</td>\n",
       "    </tr>\n",
       "  </tbody>\n",
       "</table>\n",
       "</div>"
      ],
      "text/plain": [
       "     A\n",
       "a  1.0\n",
       "b  2.0\n",
       "c  3.0\n",
       "d  NaN"
      ]
     },
     "execution_count": 78,
     "metadata": {},
     "output_type": "execute_result"
    }
   ],
   "source": [
    "df1"
   ]
  },
  {
   "cell_type": "code",
   "execution_count": 79,
   "metadata": {},
   "outputs": [
    {
     "data": {
      "text/html": [
       "<div>\n",
       "<style scoped>\n",
       "    .dataframe tbody tr th:only-of-type {\n",
       "        vertical-align: middle;\n",
       "    }\n",
       "\n",
       "    .dataframe tbody tr th {\n",
       "        vertical-align: top;\n",
       "    }\n",
       "\n",
       "    .dataframe thead th {\n",
       "        text-align: right;\n",
       "    }\n",
       "</style>\n",
       "<table border=\"1\" class=\"dataframe\">\n",
       "  <thead>\n",
       "    <tr style=\"text-align: right;\">\n",
       "      <th></th>\n",
       "      <th>a</th>\n",
       "      <th>b</th>\n",
       "      <th>c</th>\n",
       "      <th>d</th>\n",
       "    </tr>\n",
       "  </thead>\n",
       "  <tbody>\n",
       "    <tr>\n",
       "      <th>row1</th>\n",
       "      <td>1</td>\n",
       "      <td>2</td>\n",
       "      <td>NaN</td>\n",
       "      <td>NaN</td>\n",
       "    </tr>\n",
       "    <tr>\n",
       "      <th>row2</th>\n",
       "      <td>5</td>\n",
       "      <td>10</td>\n",
       "      <td>20.0</td>\n",
       "      <td>NaN</td>\n",
       "    </tr>\n",
       "  </tbody>\n",
       "</table>\n",
       "</div>"
      ],
      "text/plain": [
       "      a   b     c   d\n",
       "row1  1   2   NaN NaN\n",
       "row2  5  10  20.0 NaN"
      ]
     },
     "execution_count": 79,
     "metadata": {},
     "output_type": "execute_result"
    }
   ],
   "source": [
    "df5"
   ]
  },
  {
   "cell_type": "code",
   "execution_count": 80,
   "metadata": {},
   "outputs": [
    {
     "data": {
      "text/plain": [
       "row1     NaN\n",
       "row2    20.0\n",
       "Name: c, dtype: float64"
      ]
     },
     "execution_count": 80,
     "metadata": {},
     "output_type": "execute_result"
    }
   ],
   "source": [
    "# Delete Column using pop()\n",
    "df5.pop('c')"
   ]
  },
  {
   "cell_type": "code",
   "execution_count": 81,
   "metadata": {},
   "outputs": [
    {
     "data": {
      "text/html": [
       "<div>\n",
       "<style scoped>\n",
       "    .dataframe tbody tr th:only-of-type {\n",
       "        vertical-align: middle;\n",
       "    }\n",
       "\n",
       "    .dataframe tbody tr th {\n",
       "        vertical-align: top;\n",
       "    }\n",
       "\n",
       "    .dataframe thead th {\n",
       "        text-align: right;\n",
       "    }\n",
       "</style>\n",
       "<table border=\"1\" class=\"dataframe\">\n",
       "  <thead>\n",
       "    <tr style=\"text-align: right;\">\n",
       "      <th></th>\n",
       "      <th>a</th>\n",
       "      <th>b</th>\n",
       "      <th>d</th>\n",
       "    </tr>\n",
       "  </thead>\n",
       "  <tbody>\n",
       "    <tr>\n",
       "      <th>row1</th>\n",
       "      <td>1</td>\n",
       "      <td>2</td>\n",
       "      <td>NaN</td>\n",
       "    </tr>\n",
       "    <tr>\n",
       "      <th>row2</th>\n",
       "      <td>5</td>\n",
       "      <td>10</td>\n",
       "      <td>NaN</td>\n",
       "    </tr>\n",
       "  </tbody>\n",
       "</table>\n",
       "</div>"
      ],
      "text/plain": [
       "      a   b   d\n",
       "row1  1   2 NaN\n",
       "row2  5  10 NaN"
      ]
     },
     "execution_count": 81,
     "metadata": {},
     "output_type": "execute_result"
    }
   ],
   "source": [
    "df5"
   ]
  },
  {
   "cell_type": "markdown",
   "metadata": {},
   "source": [
    "## Data Selection in Dataframe"
   ]
  },
  {
   "cell_type": "code",
   "execution_count": 82,
   "metadata": {},
   "outputs": [
    {
     "data": {
      "text/html": [
       "<div>\n",
       "<style scoped>\n",
       "    .dataframe tbody tr th:only-of-type {\n",
       "        vertical-align: middle;\n",
       "    }\n",
       "\n",
       "    .dataframe tbody tr th {\n",
       "        vertical-align: top;\n",
       "    }\n",
       "\n",
       "    .dataframe thead th {\n",
       "        text-align: right;\n",
       "    }\n",
       "</style>\n",
       "<table border=\"1\" class=\"dataframe\">\n",
       "  <thead>\n",
       "    <tr style=\"text-align: right;\">\n",
       "      <th></th>\n",
       "      <th>Language</th>\n",
       "      <th>Rating</th>\n",
       "    </tr>\n",
       "  </thead>\n",
       "  <tbody>\n",
       "    <tr>\n",
       "      <th>0</th>\n",
       "      <td>Java</td>\n",
       "      <td>1</td>\n",
       "    </tr>\n",
       "    <tr>\n",
       "      <th>1</th>\n",
       "      <td>Python</td>\n",
       "      <td>2</td>\n",
       "    </tr>\n",
       "    <tr>\n",
       "      <th>2</th>\n",
       "      <td>C</td>\n",
       "      <td>3</td>\n",
       "    </tr>\n",
       "    <tr>\n",
       "      <th>3</th>\n",
       "      <td>C++</td>\n",
       "      <td>4</td>\n",
       "    </tr>\n",
       "  </tbody>\n",
       "</table>\n",
       "</div>"
      ],
      "text/plain": [
       "  Language  Rating\n",
       "0     Java       1\n",
       "1   Python       2\n",
       "2        C       3\n",
       "3      C++       4"
      ]
     },
     "execution_count": 82,
     "metadata": {},
     "output_type": "execute_result"
    }
   ],
   "source": [
    "df"
   ]
  },
  {
   "cell_type": "code",
   "execution_count": 83,
   "metadata": {},
   "outputs": [
    {
     "data": {
      "text/html": [
       "<div>\n",
       "<style scoped>\n",
       "    .dataframe tbody tr th:only-of-type {\n",
       "        vertical-align: middle;\n",
       "    }\n",
       "\n",
       "    .dataframe tbody tr th {\n",
       "        vertical-align: top;\n",
       "    }\n",
       "\n",
       "    .dataframe thead th {\n",
       "        text-align: right;\n",
       "    }\n",
       "</style>\n",
       "<table border=\"1\" class=\"dataframe\">\n",
       "  <thead>\n",
       "    <tr style=\"text-align: right;\">\n",
       "      <th></th>\n",
       "      <th>Language</th>\n",
       "      <th>Rating</th>\n",
       "    </tr>\n",
       "  </thead>\n",
       "  <tbody>\n",
       "    <tr>\n",
       "      <th>1</th>\n",
       "      <td>Java</td>\n",
       "      <td>1</td>\n",
       "    </tr>\n",
       "    <tr>\n",
       "      <th>2</th>\n",
       "      <td>Python</td>\n",
       "      <td>2</td>\n",
       "    </tr>\n",
       "    <tr>\n",
       "      <th>3</th>\n",
       "      <td>C</td>\n",
       "      <td>3</td>\n",
       "    </tr>\n",
       "    <tr>\n",
       "      <th>4</th>\n",
       "      <td>C++</td>\n",
       "      <td>4</td>\n",
       "    </tr>\n",
       "  </tbody>\n",
       "</table>\n",
       "</div>"
      ],
      "text/plain": [
       "  Language  Rating\n",
       "1     Java       1\n",
       "2   Python       2\n",
       "3        C       3\n",
       "4      C++       4"
      ]
     },
     "execution_count": 83,
     "metadata": {},
     "output_type": "execute_result"
    }
   ],
   "source": [
    "df.index = [1,2,3,4]\n",
    "df"
   ]
  },
  {
   "cell_type": "code",
   "execution_count": 84,
   "metadata": {},
   "outputs": [
    {
     "data": {
      "text/plain": [
       "Language    Java\n",
       "Rating         1\n",
       "Name: 1, dtype: object"
      ]
     },
     "execution_count": 84,
     "metadata": {},
     "output_type": "execute_result"
    }
   ],
   "source": [
    "# Data selection using row label\n",
    "df.loc[1]"
   ]
  },
  {
   "cell_type": "code",
   "execution_count": 85,
   "metadata": {},
   "outputs": [
    {
     "data": {
      "text/plain": [
       "Language    Python\n",
       "Rating           2\n",
       "Name: 2, dtype: object"
      ]
     },
     "execution_count": 85,
     "metadata": {},
     "output_type": "execute_result"
    }
   ],
   "source": [
    "# Data selection using position (Integer Index based)\n",
    "df.iloc[1]"
   ]
  },
  {
   "cell_type": "code",
   "execution_count": 86,
   "metadata": {},
   "outputs": [
    {
     "data": {
      "text/html": [
       "<div>\n",
       "<style scoped>\n",
       "    .dataframe tbody tr th:only-of-type {\n",
       "        vertical-align: middle;\n",
       "    }\n",
       "\n",
       "    .dataframe tbody tr th {\n",
       "        vertical-align: top;\n",
       "    }\n",
       "\n",
       "    .dataframe thead th {\n",
       "        text-align: right;\n",
       "    }\n",
       "</style>\n",
       "<table border=\"1\" class=\"dataframe\">\n",
       "  <thead>\n",
       "    <tr style=\"text-align: right;\">\n",
       "      <th></th>\n",
       "      <th>Language</th>\n",
       "      <th>Rating</th>\n",
       "    </tr>\n",
       "  </thead>\n",
       "  <tbody>\n",
       "    <tr>\n",
       "      <th>1</th>\n",
       "      <td>Java</td>\n",
       "      <td>1</td>\n",
       "    </tr>\n",
       "    <tr>\n",
       "      <th>2</th>\n",
       "      <td>Python</td>\n",
       "      <td>2</td>\n",
       "    </tr>\n",
       "  </tbody>\n",
       "</table>\n",
       "</div>"
      ],
      "text/plain": [
       "  Language  Rating\n",
       "1     Java       1\n",
       "2   Python       2"
      ]
     },
     "execution_count": 86,
     "metadata": {},
     "output_type": "execute_result"
    }
   ],
   "source": [
    "df.loc[1:2]"
   ]
  },
  {
   "cell_type": "code",
   "execution_count": 87,
   "metadata": {},
   "outputs": [
    {
     "data": {
      "text/html": [
       "<div>\n",
       "<style scoped>\n",
       "    .dataframe tbody tr th:only-of-type {\n",
       "        vertical-align: middle;\n",
       "    }\n",
       "\n",
       "    .dataframe tbody tr th {\n",
       "        vertical-align: top;\n",
       "    }\n",
       "\n",
       "    .dataframe thead th {\n",
       "        text-align: right;\n",
       "    }\n",
       "</style>\n",
       "<table border=\"1\" class=\"dataframe\">\n",
       "  <thead>\n",
       "    <tr style=\"text-align: right;\">\n",
       "      <th></th>\n",
       "      <th>Language</th>\n",
       "      <th>Rating</th>\n",
       "    </tr>\n",
       "  </thead>\n",
       "  <tbody>\n",
       "    <tr>\n",
       "      <th>2</th>\n",
       "      <td>Python</td>\n",
       "      <td>2</td>\n",
       "    </tr>\n",
       "  </tbody>\n",
       "</table>\n",
       "</div>"
      ],
      "text/plain": [
       "  Language  Rating\n",
       "2   Python       2"
      ]
     },
     "execution_count": 87,
     "metadata": {},
     "output_type": "execute_result"
    }
   ],
   "source": [
    "df.iloc[1:2]"
   ]
  },
  {
   "cell_type": "code",
   "execution_count": 88,
   "metadata": {},
   "outputs": [
    {
     "data": {
      "text/html": [
       "<div>\n",
       "<style scoped>\n",
       "    .dataframe tbody tr th:only-of-type {\n",
       "        vertical-align: middle;\n",
       "    }\n",
       "\n",
       "    .dataframe tbody tr th {\n",
       "        vertical-align: top;\n",
       "    }\n",
       "\n",
       "    .dataframe thead th {\n",
       "        text-align: right;\n",
       "    }\n",
       "</style>\n",
       "<table border=\"1\" class=\"dataframe\">\n",
       "  <thead>\n",
       "    <tr style=\"text-align: right;\">\n",
       "      <th></th>\n",
       "      <th>Language</th>\n",
       "      <th>Rating</th>\n",
       "    </tr>\n",
       "  </thead>\n",
       "  <tbody>\n",
       "    <tr>\n",
       "      <th>3</th>\n",
       "      <td>C</td>\n",
       "      <td>3</td>\n",
       "    </tr>\n",
       "    <tr>\n",
       "      <th>4</th>\n",
       "      <td>C++</td>\n",
       "      <td>4</td>\n",
       "    </tr>\n",
       "  </tbody>\n",
       "</table>\n",
       "</div>"
      ],
      "text/plain": [
       "  Language  Rating\n",
       "3        C       3\n",
       "4      C++       4"
      ]
     },
     "execution_count": 88,
     "metadata": {},
     "output_type": "execute_result"
    }
   ],
   "source": [
    "# Data selection based on Condition\n",
    "df.loc[df.Rating > 2]"
   ]
  },
  {
   "cell_type": "code",
   "execution_count": 89,
   "metadata": {},
   "outputs": [
    {
     "data": {
      "text/html": [
       "<div>\n",
       "<style scoped>\n",
       "    .dataframe tbody tr th:only-of-type {\n",
       "        vertical-align: middle;\n",
       "    }\n",
       "\n",
       "    .dataframe tbody tr th {\n",
       "        vertical-align: top;\n",
       "    }\n",
       "\n",
       "    .dataframe thead th {\n",
       "        text-align: right;\n",
       "    }\n",
       "</style>\n",
       "<table border=\"1\" class=\"dataframe\">\n",
       "  <thead>\n",
       "    <tr style=\"text-align: right;\">\n",
       "      <th></th>\n",
       "      <th>A</th>\n",
       "    </tr>\n",
       "  </thead>\n",
       "  <tbody>\n",
       "    <tr>\n",
       "      <th>a</th>\n",
       "      <td>1.0</td>\n",
       "    </tr>\n",
       "    <tr>\n",
       "      <th>b</th>\n",
       "      <td>2.0</td>\n",
       "    </tr>\n",
       "    <tr>\n",
       "      <th>c</th>\n",
       "      <td>3.0</td>\n",
       "    </tr>\n",
       "    <tr>\n",
       "      <th>d</th>\n",
       "      <td>NaN</td>\n",
       "    </tr>\n",
       "  </tbody>\n",
       "</table>\n",
       "</div>"
      ],
      "text/plain": [
       "     A\n",
       "a  1.0\n",
       "b  2.0\n",
       "c  3.0\n",
       "d  NaN"
      ]
     },
     "execution_count": 89,
     "metadata": {},
     "output_type": "execute_result"
    }
   ],
   "source": [
    "df1"
   ]
  },
  {
   "cell_type": "code",
   "execution_count": 90,
   "metadata": {},
   "outputs": [
    {
     "data": {
      "text/plain": [
       "A    1.0\n",
       "Name: a, dtype: float64"
      ]
     },
     "execution_count": 90,
     "metadata": {},
     "output_type": "execute_result"
    }
   ],
   "source": [
    "# Row & Column label based selection\n",
    "df1.loc['a']"
   ]
  },
  {
   "cell_type": "code",
   "execution_count": 91,
   "metadata": {},
   "outputs": [],
   "source": [
    "# df1.iloc['a'] # This will throw error because iloc will not work on labels"
   ]
  },
  {
   "cell_type": "code",
   "execution_count": 92,
   "metadata": {},
   "outputs": [
    {
     "data": {
      "text/html": [
       "<div>\n",
       "<style scoped>\n",
       "    .dataframe tbody tr th:only-of-type {\n",
       "        vertical-align: middle;\n",
       "    }\n",
       "\n",
       "    .dataframe tbody tr th {\n",
       "        vertical-align: top;\n",
       "    }\n",
       "\n",
       "    .dataframe thead th {\n",
       "        text-align: right;\n",
       "    }\n",
       "</style>\n",
       "<table border=\"1\" class=\"dataframe\">\n",
       "  <thead>\n",
       "    <tr style=\"text-align: right;\">\n",
       "      <th></th>\n",
       "      <th>C1</th>\n",
       "      <th>C2</th>\n",
       "      <th>C3</th>\n",
       "      <th>C4</th>\n",
       "      <th>C5</th>\n",
       "      <th>C6</th>\n",
       "      <th>C7</th>\n",
       "    </tr>\n",
       "  </thead>\n",
       "  <tbody>\n",
       "    <tr>\n",
       "      <th>2020-01-20</th>\n",
       "      <td>0.567756</td>\n",
       "      <td>0.440123</td>\n",
       "      <td>0.388563</td>\n",
       "      <td>0.688983</td>\n",
       "      <td>0.085398</td>\n",
       "      <td>0.505565</td>\n",
       "      <td>0.629223</td>\n",
       "    </tr>\n",
       "    <tr>\n",
       "      <th>2020-01-21</th>\n",
       "      <td>0.617727</td>\n",
       "      <td>0.963681</td>\n",
       "      <td>0.970745</td>\n",
       "      <td>0.761190</td>\n",
       "      <td>0.982761</td>\n",
       "      <td>0.321605</td>\n",
       "      <td>0.797254</td>\n",
       "    </tr>\n",
       "    <tr>\n",
       "      <th>2020-01-22</th>\n",
       "      <td>0.044783</td>\n",
       "      <td>0.110847</td>\n",
       "      <td>0.380046</td>\n",
       "      <td>0.784511</td>\n",
       "      <td>0.264441</td>\n",
       "      <td>0.364064</td>\n",
       "      <td>0.853483</td>\n",
       "    </tr>\n",
       "    <tr>\n",
       "      <th>2020-01-23</th>\n",
       "      <td>0.691123</td>\n",
       "      <td>0.505837</td>\n",
       "      <td>0.069931</td>\n",
       "      <td>0.811608</td>\n",
       "      <td>0.114771</td>\n",
       "      <td>0.548465</td>\n",
       "      <td>0.917618</td>\n",
       "    </tr>\n",
       "    <tr>\n",
       "      <th>2020-01-24</th>\n",
       "      <td>0.729955</td>\n",
       "      <td>0.976430</td>\n",
       "      <td>0.304796</td>\n",
       "      <td>0.777866</td>\n",
       "      <td>0.883230</td>\n",
       "      <td>0.125104</td>\n",
       "      <td>0.188538</td>\n",
       "    </tr>\n",
       "    <tr>\n",
       "      <th>2020-01-25</th>\n",
       "      <td>0.626274</td>\n",
       "      <td>0.308397</td>\n",
       "      <td>0.694194</td>\n",
       "      <td>0.617277</td>\n",
       "      <td>0.191166</td>\n",
       "      <td>0.717026</td>\n",
       "      <td>0.438065</td>\n",
       "    </tr>\n",
       "    <tr>\n",
       "      <th>2020-01-26</th>\n",
       "      <td>0.951904</td>\n",
       "      <td>0.834538</td>\n",
       "      <td>0.958364</td>\n",
       "      <td>0.968214</td>\n",
       "      <td>0.453918</td>\n",
       "      <td>0.319021</td>\n",
       "      <td>0.381720</td>\n",
       "    </tr>\n",
       "  </tbody>\n",
       "</table>\n",
       "</div>"
      ],
      "text/plain": [
       "                  C1        C2        C3        C4        C5        C6  \\\n",
       "2020-01-20  0.567756  0.440123  0.388563  0.688983  0.085398  0.505565   \n",
       "2020-01-21  0.617727  0.963681  0.970745  0.761190  0.982761  0.321605   \n",
       "2020-01-22  0.044783  0.110847  0.380046  0.784511  0.264441  0.364064   \n",
       "2020-01-23  0.691123  0.505837  0.069931  0.811608  0.114771  0.548465   \n",
       "2020-01-24  0.729955  0.976430  0.304796  0.777866  0.883230  0.125104   \n",
       "2020-01-25  0.626274  0.308397  0.694194  0.617277  0.191166  0.717026   \n",
       "2020-01-26  0.951904  0.834538  0.958364  0.968214  0.453918  0.319021   \n",
       "\n",
       "                  C7  \n",
       "2020-01-20  0.629223  \n",
       "2020-01-21  0.797254  \n",
       "2020-01-22  0.853483  \n",
       "2020-01-23  0.917618  \n",
       "2020-01-24  0.188538  \n",
       "2020-01-25  0.438065  \n",
       "2020-01-26  0.381720  "
      ]
     },
     "execution_count": 92,
     "metadata": {},
     "output_type": "execute_result"
    }
   ],
   "source": [
    "dframe"
   ]
  },
  {
   "cell_type": "code",
   "execution_count": 93,
   "metadata": {},
   "outputs": [
    {
     "data": {
      "text/html": [
       "<div>\n",
       "<style scoped>\n",
       "    .dataframe tbody tr th:only-of-type {\n",
       "        vertical-align: middle;\n",
       "    }\n",
       "\n",
       "    .dataframe tbody tr th {\n",
       "        vertical-align: top;\n",
       "    }\n",
       "\n",
       "    .dataframe thead th {\n",
       "        text-align: right;\n",
       "    }\n",
       "</style>\n",
       "<table border=\"1\" class=\"dataframe\">\n",
       "  <thead>\n",
       "    <tr style=\"text-align: right;\">\n",
       "      <th></th>\n",
       "      <th>C1</th>\n",
       "      <th>C2</th>\n",
       "      <th>C3</th>\n",
       "      <th>C4</th>\n",
       "      <th>C5</th>\n",
       "      <th>C6</th>\n",
       "      <th>C7</th>\n",
       "    </tr>\n",
       "  </thead>\n",
       "  <tbody>\n",
       "    <tr>\n",
       "      <th>2020-01-20</th>\n",
       "      <td>0.567756</td>\n",
       "      <td>0.440123</td>\n",
       "      <td>0.388563</td>\n",
       "      <td>0.688983</td>\n",
       "      <td>0.085398</td>\n",
       "      <td>0.505565</td>\n",
       "      <td>0.629223</td>\n",
       "    </tr>\n",
       "    <tr>\n",
       "      <th>2020-01-21</th>\n",
       "      <td>0.617727</td>\n",
       "      <td>0.963681</td>\n",
       "      <td>0.970745</td>\n",
       "      <td>0.761190</td>\n",
       "      <td>0.982761</td>\n",
       "      <td>0.321605</td>\n",
       "      <td>0.797254</td>\n",
       "    </tr>\n",
       "    <tr>\n",
       "      <th>2020-01-22</th>\n",
       "      <td>0.044783</td>\n",
       "      <td>0.110847</td>\n",
       "      <td>0.380046</td>\n",
       "      <td>0.784511</td>\n",
       "      <td>0.264441</td>\n",
       "      <td>0.364064</td>\n",
       "      <td>0.853483</td>\n",
       "    </tr>\n",
       "  </tbody>\n",
       "</table>\n",
       "</div>"
      ],
      "text/plain": [
       "                  C1        C2        C3        C4        C5        C6  \\\n",
       "2020-01-20  0.567756  0.440123  0.388563  0.688983  0.085398  0.505565   \n",
       "2020-01-21  0.617727  0.963681  0.970745  0.761190  0.982761  0.321605   \n",
       "2020-01-22  0.044783  0.110847  0.380046  0.784511  0.264441  0.364064   \n",
       "\n",
       "                  C7  \n",
       "2020-01-20  0.629223  \n",
       "2020-01-21  0.797254  \n",
       "2020-01-22  0.853483  "
      ]
     },
     "execution_count": 93,
     "metadata": {},
     "output_type": "execute_result"
    }
   ],
   "source": [
    "# Data selection using Row Label\n",
    "dframe['2020-01-20' : '2020-01-22' ]"
   ]
  },
  {
   "cell_type": "code",
   "execution_count": 94,
   "metadata": {},
   "outputs": [
    {
     "data": {
      "text/html": [
       "<div>\n",
       "<style scoped>\n",
       "    .dataframe tbody tr th:only-of-type {\n",
       "        vertical-align: middle;\n",
       "    }\n",
       "\n",
       "    .dataframe tbody tr th {\n",
       "        vertical-align: top;\n",
       "    }\n",
       "\n",
       "    .dataframe thead th {\n",
       "        text-align: right;\n",
       "    }\n",
       "</style>\n",
       "<table border=\"1\" class=\"dataframe\">\n",
       "  <thead>\n",
       "    <tr style=\"text-align: right;\">\n",
       "      <th></th>\n",
       "      <th>C1</th>\n",
       "      <th>C7</th>\n",
       "    </tr>\n",
       "  </thead>\n",
       "  <tbody>\n",
       "    <tr>\n",
       "      <th>2020-01-20</th>\n",
       "      <td>0.567756</td>\n",
       "      <td>0.629223</td>\n",
       "    </tr>\n",
       "    <tr>\n",
       "      <th>2020-01-21</th>\n",
       "      <td>0.617727</td>\n",
       "      <td>0.797254</td>\n",
       "    </tr>\n",
       "    <tr>\n",
       "      <th>2020-01-22</th>\n",
       "      <td>0.044783</td>\n",
       "      <td>0.853483</td>\n",
       "    </tr>\n",
       "    <tr>\n",
       "      <th>2020-01-23</th>\n",
       "      <td>0.691123</td>\n",
       "      <td>0.917618</td>\n",
       "    </tr>\n",
       "    <tr>\n",
       "      <th>2020-01-24</th>\n",
       "      <td>0.729955</td>\n",
       "      <td>0.188538</td>\n",
       "    </tr>\n",
       "    <tr>\n",
       "      <th>2020-01-25</th>\n",
       "      <td>0.626274</td>\n",
       "      <td>0.438065</td>\n",
       "    </tr>\n",
       "    <tr>\n",
       "      <th>2020-01-26</th>\n",
       "      <td>0.951904</td>\n",
       "      <td>0.381720</td>\n",
       "    </tr>\n",
       "  </tbody>\n",
       "</table>\n",
       "</div>"
      ],
      "text/plain": [
       "                  C1        C7\n",
       "2020-01-20  0.567756  0.629223\n",
       "2020-01-21  0.617727  0.797254\n",
       "2020-01-22  0.044783  0.853483\n",
       "2020-01-23  0.691123  0.917618\n",
       "2020-01-24  0.729955  0.188538\n",
       "2020-01-25  0.626274  0.438065\n",
       "2020-01-26  0.951904  0.381720"
      ]
     },
     "execution_count": 94,
     "metadata": {},
     "output_type": "execute_result"
    }
   ],
   "source": [
    "# Selecting all rows & selected columns\n",
    "dframe.loc[:,['C1' , 'C7']]"
   ]
  },
  {
   "cell_type": "code",
   "execution_count": 95,
   "metadata": {},
   "outputs": [
    {
     "data": {
      "text/html": [
       "<div>\n",
       "<style scoped>\n",
       "    .dataframe tbody tr th:only-of-type {\n",
       "        vertical-align: middle;\n",
       "    }\n",
       "\n",
       "    .dataframe tbody tr th {\n",
       "        vertical-align: top;\n",
       "    }\n",
       "\n",
       "    .dataframe thead th {\n",
       "        text-align: right;\n",
       "    }\n",
       "</style>\n",
       "<table border=\"1\" class=\"dataframe\">\n",
       "  <thead>\n",
       "    <tr style=\"text-align: right;\">\n",
       "      <th></th>\n",
       "      <th>C1</th>\n",
       "      <th>C7</th>\n",
       "    </tr>\n",
       "  </thead>\n",
       "  <tbody>\n",
       "    <tr>\n",
       "      <th>2020-01-20</th>\n",
       "      <td>0.567756</td>\n",
       "      <td>0.629223</td>\n",
       "    </tr>\n",
       "    <tr>\n",
       "      <th>2020-01-21</th>\n",
       "      <td>0.617727</td>\n",
       "      <td>0.797254</td>\n",
       "    </tr>\n",
       "    <tr>\n",
       "      <th>2020-01-22</th>\n",
       "      <td>0.044783</td>\n",
       "      <td>0.853483</td>\n",
       "    </tr>\n",
       "  </tbody>\n",
       "</table>\n",
       "</div>"
      ],
      "text/plain": [
       "                  C1        C7\n",
       "2020-01-20  0.567756  0.629223\n",
       "2020-01-21  0.617727  0.797254\n",
       "2020-01-22  0.044783  0.853483"
      ]
     },
     "execution_count": 95,
     "metadata": {},
     "output_type": "execute_result"
    }
   ],
   "source": [
    "#row & column label based selection\n",
    "dframe.loc['2020-01-20' : '2020-01-22',['C1' , 'C7']]"
   ]
  },
  {
   "cell_type": "code",
   "execution_count": 96,
   "metadata": {},
   "outputs": [
    {
     "data": {
      "text/html": [
       "<div>\n",
       "<style scoped>\n",
       "    .dataframe tbody tr th:only-of-type {\n",
       "        vertical-align: middle;\n",
       "    }\n",
       "\n",
       "    .dataframe tbody tr th {\n",
       "        vertical-align: top;\n",
       "    }\n",
       "\n",
       "    .dataframe thead th {\n",
       "        text-align: right;\n",
       "    }\n",
       "</style>\n",
       "<table border=\"1\" class=\"dataframe\">\n",
       "  <thead>\n",
       "    <tr style=\"text-align: right;\">\n",
       "      <th></th>\n",
       "      <th>C1</th>\n",
       "      <th>C2</th>\n",
       "      <th>C3</th>\n",
       "      <th>C4</th>\n",
       "      <th>C5</th>\n",
       "      <th>C6</th>\n",
       "      <th>C7</th>\n",
       "    </tr>\n",
       "  </thead>\n",
       "  <tbody>\n",
       "    <tr>\n",
       "      <th>2020-01-20</th>\n",
       "      <td>0.567756</td>\n",
       "      <td>0.440123</td>\n",
       "      <td>0.388563</td>\n",
       "      <td>0.688983</td>\n",
       "      <td>0.085398</td>\n",
       "      <td>0.505565</td>\n",
       "      <td>0.629223</td>\n",
       "    </tr>\n",
       "    <tr>\n",
       "      <th>2020-01-21</th>\n",
       "      <td>0.617727</td>\n",
       "      <td>0.963681</td>\n",
       "      <td>0.970745</td>\n",
       "      <td>0.761190</td>\n",
       "      <td>0.982761</td>\n",
       "      <td>0.321605</td>\n",
       "      <td>0.797254</td>\n",
       "    </tr>\n",
       "    <tr>\n",
       "      <th>2020-01-23</th>\n",
       "      <td>0.691123</td>\n",
       "      <td>0.505837</td>\n",
       "      <td>0.069931</td>\n",
       "      <td>0.811608</td>\n",
       "      <td>0.114771</td>\n",
       "      <td>0.548465</td>\n",
       "      <td>0.917618</td>\n",
       "    </tr>\n",
       "    <tr>\n",
       "      <th>2020-01-24</th>\n",
       "      <td>0.729955</td>\n",
       "      <td>0.976430</td>\n",
       "      <td>0.304796</td>\n",
       "      <td>0.777866</td>\n",
       "      <td>0.883230</td>\n",
       "      <td>0.125104</td>\n",
       "      <td>0.188538</td>\n",
       "    </tr>\n",
       "    <tr>\n",
       "      <th>2020-01-25</th>\n",
       "      <td>0.626274</td>\n",
       "      <td>0.308397</td>\n",
       "      <td>0.694194</td>\n",
       "      <td>0.617277</td>\n",
       "      <td>0.191166</td>\n",
       "      <td>0.717026</td>\n",
       "      <td>0.438065</td>\n",
       "    </tr>\n",
       "    <tr>\n",
       "      <th>2020-01-26</th>\n",
       "      <td>0.951904</td>\n",
       "      <td>0.834538</td>\n",
       "      <td>0.958364</td>\n",
       "      <td>0.968214</td>\n",
       "      <td>0.453918</td>\n",
       "      <td>0.319021</td>\n",
       "      <td>0.381720</td>\n",
       "    </tr>\n",
       "  </tbody>\n",
       "</table>\n",
       "</div>"
      ],
      "text/plain": [
       "                  C1        C2        C3        C4        C5        C6  \\\n",
       "2020-01-20  0.567756  0.440123  0.388563  0.688983  0.085398  0.505565   \n",
       "2020-01-21  0.617727  0.963681  0.970745  0.761190  0.982761  0.321605   \n",
       "2020-01-23  0.691123  0.505837  0.069931  0.811608  0.114771  0.548465   \n",
       "2020-01-24  0.729955  0.976430  0.304796  0.777866  0.883230  0.125104   \n",
       "2020-01-25  0.626274  0.308397  0.694194  0.617277  0.191166  0.717026   \n",
       "2020-01-26  0.951904  0.834538  0.958364  0.968214  0.453918  0.319021   \n",
       "\n",
       "                  C7  \n",
       "2020-01-20  0.629223  \n",
       "2020-01-21  0.797254  \n",
       "2020-01-23  0.917618  \n",
       "2020-01-24  0.188538  \n",
       "2020-01-25  0.438065  \n",
       "2020-01-26  0.381720  "
      ]
     },
     "execution_count": 96,
     "metadata": {},
     "output_type": "execute_result"
    }
   ],
   "source": [
    "# Data selection based on Condition\n",
    "dframe[dframe['C1'] > 0.5]"
   ]
  },
  {
   "cell_type": "code",
   "execution_count": 97,
   "metadata": {},
   "outputs": [
    {
     "data": {
      "text/html": [
       "<div>\n",
       "<style scoped>\n",
       "    .dataframe tbody tr th:only-of-type {\n",
       "        vertical-align: middle;\n",
       "    }\n",
       "\n",
       "    .dataframe tbody tr th {\n",
       "        vertical-align: top;\n",
       "    }\n",
       "\n",
       "    .dataframe thead th {\n",
       "        text-align: right;\n",
       "    }\n",
       "</style>\n",
       "<table border=\"1\" class=\"dataframe\">\n",
       "  <thead>\n",
       "    <tr style=\"text-align: right;\">\n",
       "      <th></th>\n",
       "      <th>C1</th>\n",
       "      <th>C2</th>\n",
       "      <th>C3</th>\n",
       "      <th>C4</th>\n",
       "      <th>C5</th>\n",
       "      <th>C6</th>\n",
       "      <th>C7</th>\n",
       "    </tr>\n",
       "  </thead>\n",
       "  <tbody>\n",
       "    <tr>\n",
       "      <th>2020-01-20</th>\n",
       "      <td>0.567756</td>\n",
       "      <td>0.440123</td>\n",
       "      <td>0.388563</td>\n",
       "      <td>0.688983</td>\n",
       "      <td>0.085398</td>\n",
       "      <td>0.505565</td>\n",
       "      <td>0.629223</td>\n",
       "    </tr>\n",
       "    <tr>\n",
       "      <th>2020-01-21</th>\n",
       "      <td>0.617727</td>\n",
       "      <td>0.963681</td>\n",
       "      <td>0.970745</td>\n",
       "      <td>0.761190</td>\n",
       "      <td>0.982761</td>\n",
       "      <td>0.321605</td>\n",
       "      <td>0.797254</td>\n",
       "    </tr>\n",
       "    <tr>\n",
       "      <th>2020-01-23</th>\n",
       "      <td>0.691123</td>\n",
       "      <td>0.505837</td>\n",
       "      <td>0.069931</td>\n",
       "      <td>0.811608</td>\n",
       "      <td>0.114771</td>\n",
       "      <td>0.548465</td>\n",
       "      <td>0.917618</td>\n",
       "    </tr>\n",
       "    <tr>\n",
       "      <th>2020-01-24</th>\n",
       "      <td>0.729955</td>\n",
       "      <td>0.976430</td>\n",
       "      <td>0.304796</td>\n",
       "      <td>0.777866</td>\n",
       "      <td>0.883230</td>\n",
       "      <td>0.125104</td>\n",
       "      <td>0.188538</td>\n",
       "    </tr>\n",
       "    <tr>\n",
       "      <th>2020-01-25</th>\n",
       "      <td>0.626274</td>\n",
       "      <td>0.308397</td>\n",
       "      <td>0.694194</td>\n",
       "      <td>0.617277</td>\n",
       "      <td>0.191166</td>\n",
       "      <td>0.717026</td>\n",
       "      <td>0.438065</td>\n",
       "    </tr>\n",
       "    <tr>\n",
       "      <th>2020-01-26</th>\n",
       "      <td>0.951904</td>\n",
       "      <td>0.834538</td>\n",
       "      <td>0.958364</td>\n",
       "      <td>0.968214</td>\n",
       "      <td>0.453918</td>\n",
       "      <td>0.319021</td>\n",
       "      <td>0.381720</td>\n",
       "    </tr>\n",
       "  </tbody>\n",
       "</table>\n",
       "</div>"
      ],
      "text/plain": [
       "                  C1        C2        C3        C4        C5        C6  \\\n",
       "2020-01-20  0.567756  0.440123  0.388563  0.688983  0.085398  0.505565   \n",
       "2020-01-21  0.617727  0.963681  0.970745  0.761190  0.982761  0.321605   \n",
       "2020-01-23  0.691123  0.505837  0.069931  0.811608  0.114771  0.548465   \n",
       "2020-01-24  0.729955  0.976430  0.304796  0.777866  0.883230  0.125104   \n",
       "2020-01-25  0.626274  0.308397  0.694194  0.617277  0.191166  0.717026   \n",
       "2020-01-26  0.951904  0.834538  0.958364  0.968214  0.453918  0.319021   \n",
       "\n",
       "                  C7  \n",
       "2020-01-20  0.629223  \n",
       "2020-01-21  0.797254  \n",
       "2020-01-23  0.917618  \n",
       "2020-01-24  0.188538  \n",
       "2020-01-25  0.438065  \n",
       "2020-01-26  0.381720  "
      ]
     },
     "execution_count": 97,
     "metadata": {},
     "output_type": "execute_result"
    }
   ],
   "source": [
    "# Data selection based on Condition\n",
    "dframe[(dframe['C1'] > 0.5) & (dframe['C4'] > 0.5)]"
   ]
  },
  {
   "cell_type": "code",
   "execution_count": 98,
   "metadata": {},
   "outputs": [
    {
     "data": {
      "text/plain": [
       "0.5677558640443788"
      ]
     },
     "execution_count": 98,
     "metadata": {},
     "output_type": "execute_result"
    }
   ],
   "source": [
    "# Data selection using position (Integer Index based)\n",
    "dframe.iloc[0][0]"
   ]
  },
  {
   "cell_type": "code",
   "execution_count": 99,
   "metadata": {},
   "outputs": [
    {
     "data": {
      "text/html": [
       "<div>\n",
       "<style scoped>\n",
       "    .dataframe tbody tr th:only-of-type {\n",
       "        vertical-align: middle;\n",
       "    }\n",
       "\n",
       "    .dataframe tbody tr th {\n",
       "        vertical-align: top;\n",
       "    }\n",
       "\n",
       "    .dataframe thead th {\n",
       "        text-align: right;\n",
       "    }\n",
       "</style>\n",
       "<table border=\"1\" class=\"dataframe\">\n",
       "  <thead>\n",
       "    <tr style=\"text-align: right;\">\n",
       "      <th></th>\n",
       "      <th>C1</th>\n",
       "      <th>C2</th>\n",
       "      <th>C3</th>\n",
       "    </tr>\n",
       "  </thead>\n",
       "  <tbody>\n",
       "    <tr>\n",
       "      <th>2020-01-20</th>\n",
       "      <td>0.567756</td>\n",
       "      <td>0.440123</td>\n",
       "      <td>0.388563</td>\n",
       "    </tr>\n",
       "    <tr>\n",
       "      <th>2020-01-21</th>\n",
       "      <td>0.617727</td>\n",
       "      <td>0.963681</td>\n",
       "      <td>0.970745</td>\n",
       "    </tr>\n",
       "    <tr>\n",
       "      <th>2020-01-22</th>\n",
       "      <td>0.044783</td>\n",
       "      <td>0.110847</td>\n",
       "      <td>0.380046</td>\n",
       "    </tr>\n",
       "    <tr>\n",
       "      <th>2020-01-23</th>\n",
       "      <td>0.691123</td>\n",
       "      <td>0.505837</td>\n",
       "      <td>0.069931</td>\n",
       "    </tr>\n",
       "    <tr>\n",
       "      <th>2020-01-24</th>\n",
       "      <td>0.729955</td>\n",
       "      <td>0.976430</td>\n",
       "      <td>0.304796</td>\n",
       "    </tr>\n",
       "    <tr>\n",
       "      <th>2020-01-25</th>\n",
       "      <td>0.626274</td>\n",
       "      <td>0.308397</td>\n",
       "      <td>0.694194</td>\n",
       "    </tr>\n",
       "    <tr>\n",
       "      <th>2020-01-26</th>\n",
       "      <td>0.951904</td>\n",
       "      <td>0.834538</td>\n",
       "      <td>0.958364</td>\n",
       "    </tr>\n",
       "  </tbody>\n",
       "</table>\n",
       "</div>"
      ],
      "text/plain": [
       "                  C1        C2        C3\n",
       "2020-01-20  0.567756  0.440123  0.388563\n",
       "2020-01-21  0.617727  0.963681  0.970745\n",
       "2020-01-22  0.044783  0.110847  0.380046\n",
       "2020-01-23  0.691123  0.505837  0.069931\n",
       "2020-01-24  0.729955  0.976430  0.304796\n",
       "2020-01-25  0.626274  0.308397  0.694194\n",
       "2020-01-26  0.951904  0.834538  0.958364"
      ]
     },
     "execution_count": 99,
     "metadata": {},
     "output_type": "execute_result"
    }
   ],
   "source": [
    "# Select all rows & first three columns\n",
    "dframe.iloc[:,0:3]"
   ]
  },
  {
   "cell_type": "code",
   "execution_count": 100,
   "metadata": {},
   "outputs": [],
   "source": [
    "dframe.iloc[0][0] = 10"
   ]
  },
  {
   "cell_type": "code",
   "execution_count": 101,
   "metadata": {},
   "outputs": [
    {
     "data": {
      "text/html": [
       "<div>\n",
       "<style scoped>\n",
       "    .dataframe tbody tr th:only-of-type {\n",
       "        vertical-align: middle;\n",
       "    }\n",
       "\n",
       "    .dataframe tbody tr th {\n",
       "        vertical-align: top;\n",
       "    }\n",
       "\n",
       "    .dataframe thead th {\n",
       "        text-align: right;\n",
       "    }\n",
       "</style>\n",
       "<table border=\"1\" class=\"dataframe\">\n",
       "  <thead>\n",
       "    <tr style=\"text-align: right;\">\n",
       "      <th></th>\n",
       "      <th>C1</th>\n",
       "      <th>C2</th>\n",
       "      <th>C3</th>\n",
       "      <th>C4</th>\n",
       "      <th>C5</th>\n",
       "      <th>C6</th>\n",
       "      <th>C7</th>\n",
       "    </tr>\n",
       "  </thead>\n",
       "  <tbody>\n",
       "    <tr>\n",
       "      <th>2020-01-20</th>\n",
       "      <td>10.0</td>\n",
       "      <td>0.440123</td>\n",
       "      <td>0.388563</td>\n",
       "      <td>0.688983</td>\n",
       "      <td>0.085398</td>\n",
       "      <td>0.505565</td>\n",
       "      <td>0.629223</td>\n",
       "    </tr>\n",
       "  </tbody>\n",
       "</table>\n",
       "</div>"
      ],
      "text/plain": [
       "              C1        C2        C3        C4        C5        C6        C7\n",
       "2020-01-20  10.0  0.440123  0.388563  0.688983  0.085398  0.505565  0.629223"
      ]
     },
     "execution_count": 101,
     "metadata": {},
     "output_type": "execute_result"
    }
   ],
   "source": [
    "# Display all rows where C1 has value of 10 or 20\n",
    "dframe[dframe['C1'].isin([10,20])]"
   ]
  },
  {
   "cell_type": "markdown",
   "metadata": {},
   "source": [
    "## Set Value"
   ]
  },
  {
   "cell_type": "code",
   "execution_count": 102,
   "metadata": {},
   "outputs": [
    {
     "data": {
      "text/html": [
       "<div>\n",
       "<style scoped>\n",
       "    .dataframe tbody tr th:only-of-type {\n",
       "        vertical-align: middle;\n",
       "    }\n",
       "\n",
       "    .dataframe tbody tr th {\n",
       "        vertical-align: top;\n",
       "    }\n",
       "\n",
       "    .dataframe thead th {\n",
       "        text-align: right;\n",
       "    }\n",
       "</style>\n",
       "<table border=\"1\" class=\"dataframe\">\n",
       "  <thead>\n",
       "    <tr style=\"text-align: right;\">\n",
       "      <th></th>\n",
       "      <th>C1</th>\n",
       "      <th>C2</th>\n",
       "      <th>C3</th>\n",
       "      <th>C4</th>\n",
       "      <th>C5</th>\n",
       "      <th>C6</th>\n",
       "      <th>C7</th>\n",
       "    </tr>\n",
       "  </thead>\n",
       "  <tbody>\n",
       "    <tr>\n",
       "      <th>2020-01-20</th>\n",
       "      <td>888</td>\n",
       "      <td>0.440123</td>\n",
       "      <td>0.388563</td>\n",
       "      <td>0.688983</td>\n",
       "      <td>0.085398</td>\n",
       "      <td>0.505565</td>\n",
       "      <td>0.629223</td>\n",
       "    </tr>\n",
       "    <tr>\n",
       "      <th>2020-01-21</th>\n",
       "      <td>888</td>\n",
       "      <td>0.963681</td>\n",
       "      <td>0.970745</td>\n",
       "      <td>0.761190</td>\n",
       "      <td>0.982761</td>\n",
       "      <td>0.321605</td>\n",
       "      <td>0.797254</td>\n",
       "    </tr>\n",
       "    <tr>\n",
       "      <th>2020-01-22</th>\n",
       "      <td>888</td>\n",
       "      <td>0.110847</td>\n",
       "      <td>0.380046</td>\n",
       "      <td>0.784511</td>\n",
       "      <td>0.264441</td>\n",
       "      <td>0.364064</td>\n",
       "      <td>0.853483</td>\n",
       "    </tr>\n",
       "    <tr>\n",
       "      <th>2020-01-23</th>\n",
       "      <td>888</td>\n",
       "      <td>0.505837</td>\n",
       "      <td>0.069931</td>\n",
       "      <td>0.811608</td>\n",
       "      <td>0.114771</td>\n",
       "      <td>0.548465</td>\n",
       "      <td>0.917618</td>\n",
       "    </tr>\n",
       "    <tr>\n",
       "      <th>2020-01-24</th>\n",
       "      <td>888</td>\n",
       "      <td>0.976430</td>\n",
       "      <td>0.304796</td>\n",
       "      <td>0.777866</td>\n",
       "      <td>0.883230</td>\n",
       "      <td>0.125104</td>\n",
       "      <td>0.188538</td>\n",
       "    </tr>\n",
       "    <tr>\n",
       "      <th>2020-01-25</th>\n",
       "      <td>888</td>\n",
       "      <td>0.308397</td>\n",
       "      <td>0.694194</td>\n",
       "      <td>0.617277</td>\n",
       "      <td>0.191166</td>\n",
       "      <td>0.717026</td>\n",
       "      <td>0.438065</td>\n",
       "    </tr>\n",
       "    <tr>\n",
       "      <th>2020-01-26</th>\n",
       "      <td>888</td>\n",
       "      <td>0.834538</td>\n",
       "      <td>0.958364</td>\n",
       "      <td>0.968214</td>\n",
       "      <td>0.453918</td>\n",
       "      <td>0.319021</td>\n",
       "      <td>0.381720</td>\n",
       "    </tr>\n",
       "  </tbody>\n",
       "</table>\n",
       "</div>"
      ],
      "text/plain": [
       "             C1        C2        C3        C4        C5        C6        C7\n",
       "2020-01-20  888  0.440123  0.388563  0.688983  0.085398  0.505565  0.629223\n",
       "2020-01-21  888  0.963681  0.970745  0.761190  0.982761  0.321605  0.797254\n",
       "2020-01-22  888  0.110847  0.380046  0.784511  0.264441  0.364064  0.853483\n",
       "2020-01-23  888  0.505837  0.069931  0.811608  0.114771  0.548465  0.917618\n",
       "2020-01-24  888  0.976430  0.304796  0.777866  0.883230  0.125104  0.188538\n",
       "2020-01-25  888  0.308397  0.694194  0.617277  0.191166  0.717026  0.438065\n",
       "2020-01-26  888  0.834538  0.958364  0.968214  0.453918  0.319021  0.381720"
      ]
     },
     "execution_count": 102,
     "metadata": {},
     "output_type": "execute_result"
    }
   ],
   "source": [
    "# Set value of 888 for all elements in column 'C1'\n",
    "dframe['C1'] = 888\n",
    "dframe"
   ]
  },
  {
   "cell_type": "code",
   "execution_count": 103,
   "metadata": {},
   "outputs": [],
   "source": [
    "# Set value of 777 for first three rows in Column 'C6'\n",
    "dframe.at[0:3,'C6'] = 777"
   ]
  },
  {
   "cell_type": "code",
   "execution_count": 104,
   "metadata": {},
   "outputs": [
    {
     "data": {
      "text/html": [
       "<div>\n",
       "<style scoped>\n",
       "    .dataframe tbody tr th:only-of-type {\n",
       "        vertical-align: middle;\n",
       "    }\n",
       "\n",
       "    .dataframe tbody tr th {\n",
       "        vertical-align: top;\n",
       "    }\n",
       "\n",
       "    .dataframe thead th {\n",
       "        text-align: right;\n",
       "    }\n",
       "</style>\n",
       "<table border=\"1\" class=\"dataframe\">\n",
       "  <thead>\n",
       "    <tr style=\"text-align: right;\">\n",
       "      <th></th>\n",
       "      <th>C1</th>\n",
       "      <th>C2</th>\n",
       "      <th>C3</th>\n",
       "      <th>C4</th>\n",
       "      <th>C5</th>\n",
       "      <th>C6</th>\n",
       "      <th>C7</th>\n",
       "    </tr>\n",
       "  </thead>\n",
       "  <tbody>\n",
       "    <tr>\n",
       "      <th>2020-01-20</th>\n",
       "      <td>888</td>\n",
       "      <td>0.440123</td>\n",
       "      <td>0.388563</td>\n",
       "      <td>0.688983</td>\n",
       "      <td>0.085398</td>\n",
       "      <td>777.000000</td>\n",
       "      <td>0.629223</td>\n",
       "    </tr>\n",
       "    <tr>\n",
       "      <th>2020-01-21</th>\n",
       "      <td>888</td>\n",
       "      <td>0.963681</td>\n",
       "      <td>0.970745</td>\n",
       "      <td>0.761190</td>\n",
       "      <td>0.982761</td>\n",
       "      <td>777.000000</td>\n",
       "      <td>0.797254</td>\n",
       "    </tr>\n",
       "    <tr>\n",
       "      <th>2020-01-22</th>\n",
       "      <td>888</td>\n",
       "      <td>0.110847</td>\n",
       "      <td>0.380046</td>\n",
       "      <td>0.784511</td>\n",
       "      <td>0.264441</td>\n",
       "      <td>777.000000</td>\n",
       "      <td>0.853483</td>\n",
       "    </tr>\n",
       "    <tr>\n",
       "      <th>2020-01-23</th>\n",
       "      <td>888</td>\n",
       "      <td>0.505837</td>\n",
       "      <td>0.069931</td>\n",
       "      <td>0.811608</td>\n",
       "      <td>0.114771</td>\n",
       "      <td>0.548465</td>\n",
       "      <td>0.917618</td>\n",
       "    </tr>\n",
       "    <tr>\n",
       "      <th>2020-01-24</th>\n",
       "      <td>888</td>\n",
       "      <td>0.976430</td>\n",
       "      <td>0.304796</td>\n",
       "      <td>0.777866</td>\n",
       "      <td>0.883230</td>\n",
       "      <td>0.125104</td>\n",
       "      <td>0.188538</td>\n",
       "    </tr>\n",
       "    <tr>\n",
       "      <th>2020-01-25</th>\n",
       "      <td>888</td>\n",
       "      <td>0.308397</td>\n",
       "      <td>0.694194</td>\n",
       "      <td>0.617277</td>\n",
       "      <td>0.191166</td>\n",
       "      <td>0.717026</td>\n",
       "      <td>0.438065</td>\n",
       "    </tr>\n",
       "    <tr>\n",
       "      <th>2020-01-26</th>\n",
       "      <td>888</td>\n",
       "      <td>0.834538</td>\n",
       "      <td>0.958364</td>\n",
       "      <td>0.968214</td>\n",
       "      <td>0.453918</td>\n",
       "      <td>0.319021</td>\n",
       "      <td>0.381720</td>\n",
       "    </tr>\n",
       "  </tbody>\n",
       "</table>\n",
       "</div>"
      ],
      "text/plain": [
       "             C1        C2        C3        C4        C5          C6        C7\n",
       "2020-01-20  888  0.440123  0.388563  0.688983  0.085398  777.000000  0.629223\n",
       "2020-01-21  888  0.963681  0.970745  0.761190  0.982761  777.000000  0.797254\n",
       "2020-01-22  888  0.110847  0.380046  0.784511  0.264441  777.000000  0.853483\n",
       "2020-01-23  888  0.505837  0.069931  0.811608  0.114771    0.548465  0.917618\n",
       "2020-01-24  888  0.976430  0.304796  0.777866  0.883230    0.125104  0.188538\n",
       "2020-01-25  888  0.308397  0.694194  0.617277  0.191166    0.717026  0.438065\n",
       "2020-01-26  888  0.834538  0.958364  0.968214  0.453918    0.319021  0.381720"
      ]
     },
     "execution_count": 104,
     "metadata": {},
     "output_type": "execute_result"
    }
   ],
   "source": [
    "dframe"
   ]
  },
  {
   "cell_type": "code",
   "execution_count": 105,
   "metadata": {},
   "outputs": [],
   "source": [
    "# Set value of 333 in first row and third column\n",
    "dframe.iat[0,2] = 333"
   ]
  },
  {
   "cell_type": "code",
   "execution_count": 106,
   "metadata": {},
   "outputs": [
    {
     "data": {
      "text/html": [
       "<div>\n",
       "<style scoped>\n",
       "    .dataframe tbody tr th:only-of-type {\n",
       "        vertical-align: middle;\n",
       "    }\n",
       "\n",
       "    .dataframe tbody tr th {\n",
       "        vertical-align: top;\n",
       "    }\n",
       "\n",
       "    .dataframe thead th {\n",
       "        text-align: right;\n",
       "    }\n",
       "</style>\n",
       "<table border=\"1\" class=\"dataframe\">\n",
       "  <thead>\n",
       "    <tr style=\"text-align: right;\">\n",
       "      <th></th>\n",
       "      <th>C1</th>\n",
       "      <th>C2</th>\n",
       "      <th>C3</th>\n",
       "      <th>C4</th>\n",
       "      <th>C5</th>\n",
       "      <th>C6</th>\n",
       "      <th>C7</th>\n",
       "    </tr>\n",
       "  </thead>\n",
       "  <tbody>\n",
       "    <tr>\n",
       "      <th>2020-01-20</th>\n",
       "      <td>888</td>\n",
       "      <td>0.440123</td>\n",
       "      <td>333.000000</td>\n",
       "      <td>0.688983</td>\n",
       "      <td>0.085398</td>\n",
       "      <td>777.000000</td>\n",
       "      <td>0.629223</td>\n",
       "    </tr>\n",
       "    <tr>\n",
       "      <th>2020-01-21</th>\n",
       "      <td>888</td>\n",
       "      <td>0.963681</td>\n",
       "      <td>0.970745</td>\n",
       "      <td>0.761190</td>\n",
       "      <td>0.982761</td>\n",
       "      <td>777.000000</td>\n",
       "      <td>0.797254</td>\n",
       "    </tr>\n",
       "    <tr>\n",
       "      <th>2020-01-22</th>\n",
       "      <td>888</td>\n",
       "      <td>0.110847</td>\n",
       "      <td>0.380046</td>\n",
       "      <td>0.784511</td>\n",
       "      <td>0.264441</td>\n",
       "      <td>777.000000</td>\n",
       "      <td>0.853483</td>\n",
       "    </tr>\n",
       "    <tr>\n",
       "      <th>2020-01-23</th>\n",
       "      <td>888</td>\n",
       "      <td>0.505837</td>\n",
       "      <td>0.069931</td>\n",
       "      <td>0.811608</td>\n",
       "      <td>0.114771</td>\n",
       "      <td>0.548465</td>\n",
       "      <td>0.917618</td>\n",
       "    </tr>\n",
       "    <tr>\n",
       "      <th>2020-01-24</th>\n",
       "      <td>888</td>\n",
       "      <td>0.976430</td>\n",
       "      <td>0.304796</td>\n",
       "      <td>0.777866</td>\n",
       "      <td>0.883230</td>\n",
       "      <td>0.125104</td>\n",
       "      <td>0.188538</td>\n",
       "    </tr>\n",
       "    <tr>\n",
       "      <th>2020-01-25</th>\n",
       "      <td>888</td>\n",
       "      <td>0.308397</td>\n",
       "      <td>0.694194</td>\n",
       "      <td>0.617277</td>\n",
       "      <td>0.191166</td>\n",
       "      <td>0.717026</td>\n",
       "      <td>0.438065</td>\n",
       "    </tr>\n",
       "    <tr>\n",
       "      <th>2020-01-26</th>\n",
       "      <td>888</td>\n",
       "      <td>0.834538</td>\n",
       "      <td>0.958364</td>\n",
       "      <td>0.968214</td>\n",
       "      <td>0.453918</td>\n",
       "      <td>0.319021</td>\n",
       "      <td>0.381720</td>\n",
       "    </tr>\n",
       "  </tbody>\n",
       "</table>\n",
       "</div>"
      ],
      "text/plain": [
       "             C1        C2          C3        C4        C5          C6  \\\n",
       "2020-01-20  888  0.440123  333.000000  0.688983  0.085398  777.000000   \n",
       "2020-01-21  888  0.963681    0.970745  0.761190  0.982761  777.000000   \n",
       "2020-01-22  888  0.110847    0.380046  0.784511  0.264441  777.000000   \n",
       "2020-01-23  888  0.505837    0.069931  0.811608  0.114771    0.548465   \n",
       "2020-01-24  888  0.976430    0.304796  0.777866  0.883230    0.125104   \n",
       "2020-01-25  888  0.308397    0.694194  0.617277  0.191166    0.717026   \n",
       "2020-01-26  888  0.834538    0.958364  0.968214  0.453918    0.319021   \n",
       "\n",
       "                  C7  \n",
       "2020-01-20  0.629223  \n",
       "2020-01-21  0.797254  \n",
       "2020-01-22  0.853483  \n",
       "2020-01-23  0.917618  \n",
       "2020-01-24  0.188538  \n",
       "2020-01-25  0.438065  \n",
       "2020-01-26  0.381720  "
      ]
     },
     "execution_count": 106,
     "metadata": {},
     "output_type": "execute_result"
    }
   ],
   "source": [
    "dframe"
   ]
  },
  {
   "cell_type": "code",
   "execution_count": 107,
   "metadata": {},
   "outputs": [
    {
     "data": {
      "text/html": [
       "<div>\n",
       "<style scoped>\n",
       "    .dataframe tbody tr th:only-of-type {\n",
       "        vertical-align: middle;\n",
       "    }\n",
       "\n",
       "    .dataframe tbody tr th {\n",
       "        vertical-align: top;\n",
       "    }\n",
       "\n",
       "    .dataframe thead th {\n",
       "        text-align: right;\n",
       "    }\n",
       "</style>\n",
       "<table border=\"1\" class=\"dataframe\">\n",
       "  <thead>\n",
       "    <tr style=\"text-align: right;\">\n",
       "      <th></th>\n",
       "      <th>C1</th>\n",
       "      <th>C2</th>\n",
       "      <th>C3</th>\n",
       "      <th>C4</th>\n",
       "      <th>C5</th>\n",
       "      <th>C6</th>\n",
       "      <th>C7</th>\n",
       "    </tr>\n",
       "  </thead>\n",
       "  <tbody>\n",
       "    <tr>\n",
       "      <th>2020-01-20</th>\n",
       "      <td>888</td>\n",
       "      <td>0.440123</td>\n",
       "      <td>555.000000</td>\n",
       "      <td>0.688983</td>\n",
       "      <td>0.085398</td>\n",
       "      <td>777.000000</td>\n",
       "      <td>0.629223</td>\n",
       "    </tr>\n",
       "    <tr>\n",
       "      <th>2020-01-21</th>\n",
       "      <td>888</td>\n",
       "      <td>0.963681</td>\n",
       "      <td>0.970745</td>\n",
       "      <td>0.761190</td>\n",
       "      <td>0.982761</td>\n",
       "      <td>777.000000</td>\n",
       "      <td>0.797254</td>\n",
       "    </tr>\n",
       "    <tr>\n",
       "      <th>2020-01-22</th>\n",
       "      <td>888</td>\n",
       "      <td>0.110847</td>\n",
       "      <td>0.380046</td>\n",
       "      <td>0.784511</td>\n",
       "      <td>0.264441</td>\n",
       "      <td>777.000000</td>\n",
       "      <td>0.853483</td>\n",
       "    </tr>\n",
       "    <tr>\n",
       "      <th>2020-01-23</th>\n",
       "      <td>888</td>\n",
       "      <td>0.505837</td>\n",
       "      <td>0.069931</td>\n",
       "      <td>0.811608</td>\n",
       "      <td>0.114771</td>\n",
       "      <td>0.548465</td>\n",
       "      <td>0.917618</td>\n",
       "    </tr>\n",
       "    <tr>\n",
       "      <th>2020-01-24</th>\n",
       "      <td>888</td>\n",
       "      <td>0.976430</td>\n",
       "      <td>0.304796</td>\n",
       "      <td>0.777866</td>\n",
       "      <td>0.883230</td>\n",
       "      <td>0.125104</td>\n",
       "      <td>0.188538</td>\n",
       "    </tr>\n",
       "    <tr>\n",
       "      <th>2020-01-25</th>\n",
       "      <td>888</td>\n",
       "      <td>0.308397</td>\n",
       "      <td>0.694194</td>\n",
       "      <td>0.617277</td>\n",
       "      <td>0.191166</td>\n",
       "      <td>0.717026</td>\n",
       "      <td>0.438065</td>\n",
       "    </tr>\n",
       "    <tr>\n",
       "      <th>2020-01-26</th>\n",
       "      <td>888</td>\n",
       "      <td>0.834538</td>\n",
       "      <td>0.958364</td>\n",
       "      <td>0.968214</td>\n",
       "      <td>0.453918</td>\n",
       "      <td>0.319021</td>\n",
       "      <td>0.381720</td>\n",
       "    </tr>\n",
       "  </tbody>\n",
       "</table>\n",
       "</div>"
      ],
      "text/plain": [
       "             C1        C2          C3        C4        C5          C6  \\\n",
       "2020-01-20  888  0.440123  555.000000  0.688983  0.085398  777.000000   \n",
       "2020-01-21  888  0.963681    0.970745  0.761190  0.982761  777.000000   \n",
       "2020-01-22  888  0.110847    0.380046  0.784511  0.264441  777.000000   \n",
       "2020-01-23  888  0.505837    0.069931  0.811608  0.114771    0.548465   \n",
       "2020-01-24  888  0.976430    0.304796  0.777866  0.883230    0.125104   \n",
       "2020-01-25  888  0.308397    0.694194  0.617277  0.191166    0.717026   \n",
       "2020-01-26  888  0.834538    0.958364  0.968214  0.453918    0.319021   \n",
       "\n",
       "                  C7  \n",
       "2020-01-20  0.629223  \n",
       "2020-01-21  0.797254  \n",
       "2020-01-22  0.853483  \n",
       "2020-01-23  0.917618  \n",
       "2020-01-24  0.188538  \n",
       "2020-01-25  0.438065  \n",
       "2020-01-26  0.381720  "
      ]
     },
     "execution_count": 107,
     "metadata": {},
     "output_type": "execute_result"
    }
   ],
   "source": [
    "dframe.iloc[0,2] = 555\n",
    "dframe"
   ]
  },
  {
   "cell_type": "code",
   "execution_count": 108,
   "metadata": {},
   "outputs": [],
   "source": [
    "# Create Copy of the calling objects data along with indices.\n",
    "# Modifications to the data or indices of the copy will not be reflected in the original object \n",
    "dframe1 = dframe.copy(deep=True)"
   ]
  },
  {
   "cell_type": "code",
   "execution_count": 109,
   "metadata": {},
   "outputs": [],
   "source": [
    "dframe1[(dframe1['C1'] > 0.5) & (dframe1['C4'] > 0.5)] = 0"
   ]
  },
  {
   "cell_type": "code",
   "execution_count": 110,
   "metadata": {},
   "outputs": [
    {
     "data": {
      "text/html": [
       "<div>\n",
       "<style scoped>\n",
       "    .dataframe tbody tr th:only-of-type {\n",
       "        vertical-align: middle;\n",
       "    }\n",
       "\n",
       "    .dataframe tbody tr th {\n",
       "        vertical-align: top;\n",
       "    }\n",
       "\n",
       "    .dataframe thead th {\n",
       "        text-align: right;\n",
       "    }\n",
       "</style>\n",
       "<table border=\"1\" class=\"dataframe\">\n",
       "  <thead>\n",
       "    <tr style=\"text-align: right;\">\n",
       "      <th></th>\n",
       "      <th>C1</th>\n",
       "      <th>C2</th>\n",
       "      <th>C3</th>\n",
       "      <th>C4</th>\n",
       "      <th>C5</th>\n",
       "      <th>C6</th>\n",
       "      <th>C7</th>\n",
       "    </tr>\n",
       "  </thead>\n",
       "  <tbody>\n",
       "    <tr>\n",
       "      <th>2020-01-20</th>\n",
       "      <td>0</td>\n",
       "      <td>0.0</td>\n",
       "      <td>0.0</td>\n",
       "      <td>0.0</td>\n",
       "      <td>0.0</td>\n",
       "      <td>0.0</td>\n",
       "      <td>0.0</td>\n",
       "    </tr>\n",
       "    <tr>\n",
       "      <th>2020-01-21</th>\n",
       "      <td>0</td>\n",
       "      <td>0.0</td>\n",
       "      <td>0.0</td>\n",
       "      <td>0.0</td>\n",
       "      <td>0.0</td>\n",
       "      <td>0.0</td>\n",
       "      <td>0.0</td>\n",
       "    </tr>\n",
       "    <tr>\n",
       "      <th>2020-01-22</th>\n",
       "      <td>0</td>\n",
       "      <td>0.0</td>\n",
       "      <td>0.0</td>\n",
       "      <td>0.0</td>\n",
       "      <td>0.0</td>\n",
       "      <td>0.0</td>\n",
       "      <td>0.0</td>\n",
       "    </tr>\n",
       "    <tr>\n",
       "      <th>2020-01-23</th>\n",
       "      <td>0</td>\n",
       "      <td>0.0</td>\n",
       "      <td>0.0</td>\n",
       "      <td>0.0</td>\n",
       "      <td>0.0</td>\n",
       "      <td>0.0</td>\n",
       "      <td>0.0</td>\n",
       "    </tr>\n",
       "    <tr>\n",
       "      <th>2020-01-24</th>\n",
       "      <td>0</td>\n",
       "      <td>0.0</td>\n",
       "      <td>0.0</td>\n",
       "      <td>0.0</td>\n",
       "      <td>0.0</td>\n",
       "      <td>0.0</td>\n",
       "      <td>0.0</td>\n",
       "    </tr>\n",
       "    <tr>\n",
       "      <th>2020-01-25</th>\n",
       "      <td>0</td>\n",
       "      <td>0.0</td>\n",
       "      <td>0.0</td>\n",
       "      <td>0.0</td>\n",
       "      <td>0.0</td>\n",
       "      <td>0.0</td>\n",
       "      <td>0.0</td>\n",
       "    </tr>\n",
       "    <tr>\n",
       "      <th>2020-01-26</th>\n",
       "      <td>0</td>\n",
       "      <td>0.0</td>\n",
       "      <td>0.0</td>\n",
       "      <td>0.0</td>\n",
       "      <td>0.0</td>\n",
       "      <td>0.0</td>\n",
       "      <td>0.0</td>\n",
       "    </tr>\n",
       "  </tbody>\n",
       "</table>\n",
       "</div>"
      ],
      "text/plain": [
       "            C1   C2   C3   C4   C5   C6   C7\n",
       "2020-01-20   0  0.0  0.0  0.0  0.0  0.0  0.0\n",
       "2020-01-21   0  0.0  0.0  0.0  0.0  0.0  0.0\n",
       "2020-01-22   0  0.0  0.0  0.0  0.0  0.0  0.0\n",
       "2020-01-23   0  0.0  0.0  0.0  0.0  0.0  0.0\n",
       "2020-01-24   0  0.0  0.0  0.0  0.0  0.0  0.0\n",
       "2020-01-25   0  0.0  0.0  0.0  0.0  0.0  0.0\n",
       "2020-01-26   0  0.0  0.0  0.0  0.0  0.0  0.0"
      ]
     },
     "execution_count": 110,
     "metadata": {},
     "output_type": "execute_result"
    }
   ],
   "source": [
    "dframe1[dframe1['C1'] == 0]"
   ]
  },
  {
   "cell_type": "code",
   "execution_count": 111,
   "metadata": {},
   "outputs": [
    {
     "data": {
      "text/html": [
       "<div>\n",
       "<style scoped>\n",
       "    .dataframe tbody tr th:only-of-type {\n",
       "        vertical-align: middle;\n",
       "    }\n",
       "\n",
       "    .dataframe tbody tr th {\n",
       "        vertical-align: top;\n",
       "    }\n",
       "\n",
       "    .dataframe thead th {\n",
       "        text-align: right;\n",
       "    }\n",
       "</style>\n",
       "<table border=\"1\" class=\"dataframe\">\n",
       "  <thead>\n",
       "    <tr style=\"text-align: right;\">\n",
       "      <th></th>\n",
       "      <th>C1</th>\n",
       "      <th>C2</th>\n",
       "      <th>C3</th>\n",
       "      <th>C4</th>\n",
       "      <th>C5</th>\n",
       "      <th>C6</th>\n",
       "      <th>C7</th>\n",
       "    </tr>\n",
       "  </thead>\n",
       "  <tbody>\n",
       "    <tr>\n",
       "      <th>2020-01-20</th>\n",
       "      <td>99</td>\n",
       "      <td>99.0</td>\n",
       "      <td>99.0</td>\n",
       "      <td>99.0</td>\n",
       "      <td>99.0</td>\n",
       "      <td>99.0</td>\n",
       "      <td>99.0</td>\n",
       "    </tr>\n",
       "    <tr>\n",
       "      <th>2020-01-21</th>\n",
       "      <td>99</td>\n",
       "      <td>99.0</td>\n",
       "      <td>99.0</td>\n",
       "      <td>99.0</td>\n",
       "      <td>99.0</td>\n",
       "      <td>99.0</td>\n",
       "      <td>99.0</td>\n",
       "    </tr>\n",
       "    <tr>\n",
       "      <th>2020-01-22</th>\n",
       "      <td>99</td>\n",
       "      <td>99.0</td>\n",
       "      <td>99.0</td>\n",
       "      <td>99.0</td>\n",
       "      <td>99.0</td>\n",
       "      <td>99.0</td>\n",
       "      <td>99.0</td>\n",
       "    </tr>\n",
       "    <tr>\n",
       "      <th>2020-01-23</th>\n",
       "      <td>99</td>\n",
       "      <td>99.0</td>\n",
       "      <td>99.0</td>\n",
       "      <td>99.0</td>\n",
       "      <td>99.0</td>\n",
       "      <td>99.0</td>\n",
       "      <td>99.0</td>\n",
       "    </tr>\n",
       "    <tr>\n",
       "      <th>2020-01-24</th>\n",
       "      <td>99</td>\n",
       "      <td>99.0</td>\n",
       "      <td>99.0</td>\n",
       "      <td>99.0</td>\n",
       "      <td>99.0</td>\n",
       "      <td>99.0</td>\n",
       "      <td>99.0</td>\n",
       "    </tr>\n",
       "    <tr>\n",
       "      <th>2020-01-25</th>\n",
       "      <td>99</td>\n",
       "      <td>99.0</td>\n",
       "      <td>99.0</td>\n",
       "      <td>99.0</td>\n",
       "      <td>99.0</td>\n",
       "      <td>99.0</td>\n",
       "      <td>99.0</td>\n",
       "    </tr>\n",
       "    <tr>\n",
       "      <th>2020-01-26</th>\n",
       "      <td>99</td>\n",
       "      <td>99.0</td>\n",
       "      <td>99.0</td>\n",
       "      <td>99.0</td>\n",
       "      <td>99.0</td>\n",
       "      <td>99.0</td>\n",
       "      <td>99.0</td>\n",
       "    </tr>\n",
       "  </tbody>\n",
       "</table>\n",
       "</div>"
      ],
      "text/plain": [
       "            C1    C2    C3    C4    C5    C6    C7\n",
       "2020-01-20  99  99.0  99.0  99.0  99.0  99.0  99.0\n",
       "2020-01-21  99  99.0  99.0  99.0  99.0  99.0  99.0\n",
       "2020-01-22  99  99.0  99.0  99.0  99.0  99.0  99.0\n",
       "2020-01-23  99  99.0  99.0  99.0  99.0  99.0  99.0\n",
       "2020-01-24  99  99.0  99.0  99.0  99.0  99.0  99.0\n",
       "2020-01-25  99  99.0  99.0  99.0  99.0  99.0  99.0\n",
       "2020-01-26  99  99.0  99.0  99.0  99.0  99.0  99.0"
      ]
     },
     "execution_count": 111,
     "metadata": {},
     "output_type": "execute_result"
    }
   ],
   "source": [
    "# Replace zeros in Column C1 with 99\n",
    "dframe1[dframe1['C1'].isin([0])] = 99\n",
    "dframe1"
   ]
  },
  {
   "cell_type": "code",
   "execution_count": 112,
   "metadata": {},
   "outputs": [
    {
     "data": {
      "text/html": [
       "<div>\n",
       "<style scoped>\n",
       "    .dataframe tbody tr th:only-of-type {\n",
       "        vertical-align: middle;\n",
       "    }\n",
       "\n",
       "    .dataframe tbody tr th {\n",
       "        vertical-align: top;\n",
       "    }\n",
       "\n",
       "    .dataframe thead th {\n",
       "        text-align: right;\n",
       "    }\n",
       "</style>\n",
       "<table border=\"1\" class=\"dataframe\">\n",
       "  <thead>\n",
       "    <tr style=\"text-align: right;\">\n",
       "      <th></th>\n",
       "      <th>C1</th>\n",
       "      <th>C2</th>\n",
       "      <th>C3</th>\n",
       "      <th>C4</th>\n",
       "      <th>C5</th>\n",
       "      <th>C6</th>\n",
       "      <th>C7</th>\n",
       "    </tr>\n",
       "  </thead>\n",
       "  <tbody>\n",
       "    <tr>\n",
       "      <th>2020-01-20</th>\n",
       "      <td>888</td>\n",
       "      <td>0.440123</td>\n",
       "      <td>555.000000</td>\n",
       "      <td>0.688983</td>\n",
       "      <td>0.085398</td>\n",
       "      <td>777.000000</td>\n",
       "      <td>0.629223</td>\n",
       "    </tr>\n",
       "    <tr>\n",
       "      <th>2020-01-21</th>\n",
       "      <td>888</td>\n",
       "      <td>0.963681</td>\n",
       "      <td>0.970745</td>\n",
       "      <td>0.761190</td>\n",
       "      <td>0.982761</td>\n",
       "      <td>777.000000</td>\n",
       "      <td>0.797254</td>\n",
       "    </tr>\n",
       "    <tr>\n",
       "      <th>2020-01-22</th>\n",
       "      <td>888</td>\n",
       "      <td>0.110847</td>\n",
       "      <td>0.380046</td>\n",
       "      <td>0.784511</td>\n",
       "      <td>0.264441</td>\n",
       "      <td>777.000000</td>\n",
       "      <td>0.853483</td>\n",
       "    </tr>\n",
       "    <tr>\n",
       "      <th>2020-01-23</th>\n",
       "      <td>888</td>\n",
       "      <td>0.505837</td>\n",
       "      <td>0.069931</td>\n",
       "      <td>0.811608</td>\n",
       "      <td>0.114771</td>\n",
       "      <td>0.548465</td>\n",
       "      <td>0.917618</td>\n",
       "    </tr>\n",
       "    <tr>\n",
       "      <th>2020-01-24</th>\n",
       "      <td>888</td>\n",
       "      <td>0.976430</td>\n",
       "      <td>0.304796</td>\n",
       "      <td>0.777866</td>\n",
       "      <td>0.883230</td>\n",
       "      <td>0.125104</td>\n",
       "      <td>0.188538</td>\n",
       "    </tr>\n",
       "    <tr>\n",
       "      <th>2020-01-25</th>\n",
       "      <td>888</td>\n",
       "      <td>0.308397</td>\n",
       "      <td>0.694194</td>\n",
       "      <td>0.617277</td>\n",
       "      <td>0.191166</td>\n",
       "      <td>0.717026</td>\n",
       "      <td>0.438065</td>\n",
       "    </tr>\n",
       "    <tr>\n",
       "      <th>2020-01-26</th>\n",
       "      <td>888</td>\n",
       "      <td>0.834538</td>\n",
       "      <td>0.958364</td>\n",
       "      <td>0.968214</td>\n",
       "      <td>0.453918</td>\n",
       "      <td>0.319021</td>\n",
       "      <td>0.381720</td>\n",
       "    </tr>\n",
       "  </tbody>\n",
       "</table>\n",
       "</div>"
      ],
      "text/plain": [
       "             C1        C2          C3        C4        C5          C6  \\\n",
       "2020-01-20  888  0.440123  555.000000  0.688983  0.085398  777.000000   \n",
       "2020-01-21  888  0.963681    0.970745  0.761190  0.982761  777.000000   \n",
       "2020-01-22  888  0.110847    0.380046  0.784511  0.264441  777.000000   \n",
       "2020-01-23  888  0.505837    0.069931  0.811608  0.114771    0.548465   \n",
       "2020-01-24  888  0.976430    0.304796  0.777866  0.883230    0.125104   \n",
       "2020-01-25  888  0.308397    0.694194  0.617277  0.191166    0.717026   \n",
       "2020-01-26  888  0.834538    0.958364  0.968214  0.453918    0.319021   \n",
       "\n",
       "                  C7  \n",
       "2020-01-20  0.629223  \n",
       "2020-01-21  0.797254  \n",
       "2020-01-22  0.853483  \n",
       "2020-01-23  0.917618  \n",
       "2020-01-24  0.188538  \n",
       "2020-01-25  0.438065  \n",
       "2020-01-26  0.381720  "
      ]
     },
     "execution_count": 112,
     "metadata": {},
     "output_type": "execute_result"
    }
   ],
   "source": [
    "dframe"
   ]
  },
  {
   "cell_type": "code",
   "execution_count": 113,
   "metadata": {},
   "outputs": [
    {
     "data": {
      "text/html": [
       "<div>\n",
       "<style scoped>\n",
       "    .dataframe tbody tr th:only-of-type {\n",
       "        vertical-align: middle;\n",
       "    }\n",
       "\n",
       "    .dataframe tbody tr th {\n",
       "        vertical-align: top;\n",
       "    }\n",
       "\n",
       "    .dataframe thead th {\n",
       "        text-align: right;\n",
       "    }\n",
       "</style>\n",
       "<table border=\"1\" class=\"dataframe\">\n",
       "  <thead>\n",
       "    <tr style=\"text-align: right;\">\n",
       "      <th></th>\n",
       "      <th>C1</th>\n",
       "      <th>C2</th>\n",
       "      <th>C3</th>\n",
       "      <th>C4</th>\n",
       "      <th>C5</th>\n",
       "      <th>C6</th>\n",
       "      <th>C7</th>\n",
       "    </tr>\n",
       "  </thead>\n",
       "  <tbody>\n",
       "    <tr>\n",
       "      <th>2020-01-20</th>\n",
       "      <td>99</td>\n",
       "      <td>99.0</td>\n",
       "      <td>99.0</td>\n",
       "      <td>99.0</td>\n",
       "      <td>99.0</td>\n",
       "      <td>99.0</td>\n",
       "      <td>99.0</td>\n",
       "    </tr>\n",
       "    <tr>\n",
       "      <th>2020-01-21</th>\n",
       "      <td>99</td>\n",
       "      <td>99.0</td>\n",
       "      <td>99.0</td>\n",
       "      <td>99.0</td>\n",
       "      <td>99.0</td>\n",
       "      <td>99.0</td>\n",
       "      <td>99.0</td>\n",
       "    </tr>\n",
       "    <tr>\n",
       "      <th>2020-01-22</th>\n",
       "      <td>99</td>\n",
       "      <td>99.0</td>\n",
       "      <td>99.0</td>\n",
       "      <td>99.0</td>\n",
       "      <td>99.0</td>\n",
       "      <td>99.0</td>\n",
       "      <td>99.0</td>\n",
       "    </tr>\n",
       "    <tr>\n",
       "      <th>2020-01-23</th>\n",
       "      <td>99</td>\n",
       "      <td>99.0</td>\n",
       "      <td>99.0</td>\n",
       "      <td>99.0</td>\n",
       "      <td>99.0</td>\n",
       "      <td>99.0</td>\n",
       "      <td>99.0</td>\n",
       "    </tr>\n",
       "    <tr>\n",
       "      <th>2020-01-24</th>\n",
       "      <td>99</td>\n",
       "      <td>99.0</td>\n",
       "      <td>99.0</td>\n",
       "      <td>99.0</td>\n",
       "      <td>99.0</td>\n",
       "      <td>99.0</td>\n",
       "      <td>99.0</td>\n",
       "    </tr>\n",
       "    <tr>\n",
       "      <th>2020-01-25</th>\n",
       "      <td>99</td>\n",
       "      <td>99.0</td>\n",
       "      <td>99.0</td>\n",
       "      <td>99.0</td>\n",
       "      <td>99.0</td>\n",
       "      <td>99.0</td>\n",
       "      <td>99.0</td>\n",
       "    </tr>\n",
       "    <tr>\n",
       "      <th>2020-01-26</th>\n",
       "      <td>99</td>\n",
       "      <td>99.0</td>\n",
       "      <td>99.0</td>\n",
       "      <td>99.0</td>\n",
       "      <td>99.0</td>\n",
       "      <td>99.0</td>\n",
       "      <td>99.0</td>\n",
       "    </tr>\n",
       "  </tbody>\n",
       "</table>\n",
       "</div>"
      ],
      "text/plain": [
       "            C1    C2    C3    C4    C5    C6    C7\n",
       "2020-01-20  99  99.0  99.0  99.0  99.0  99.0  99.0\n",
       "2020-01-21  99  99.0  99.0  99.0  99.0  99.0  99.0\n",
       "2020-01-22  99  99.0  99.0  99.0  99.0  99.0  99.0\n",
       "2020-01-23  99  99.0  99.0  99.0  99.0  99.0  99.0\n",
       "2020-01-24  99  99.0  99.0  99.0  99.0  99.0  99.0\n",
       "2020-01-25  99  99.0  99.0  99.0  99.0  99.0  99.0\n",
       "2020-01-26  99  99.0  99.0  99.0  99.0  99.0  99.0"
      ]
     },
     "execution_count": 113,
     "metadata": {},
     "output_type": "execute_result"
    }
   ],
   "source": [
    "# Display all rows where value of C1 is 99\n",
    "dframe1[dframe1['C1'] == 99]"
   ]
  },
  {
   "cell_type": "markdown",
   "metadata": {},
   "source": [
    "## Dealing with NULL Values"
   ]
  },
  {
   "cell_type": "code",
   "execution_count": 114,
   "metadata": {},
   "outputs": [
    {
     "data": {
      "text/html": [
       "<div>\n",
       "<style scoped>\n",
       "    .dataframe tbody tr th:only-of-type {\n",
       "        vertical-align: middle;\n",
       "    }\n",
       "\n",
       "    .dataframe tbody tr th {\n",
       "        vertical-align: top;\n",
       "    }\n",
       "\n",
       "    .dataframe thead th {\n",
       "        text-align: right;\n",
       "    }\n",
       "</style>\n",
       "<table border=\"1\" class=\"dataframe\">\n",
       "  <thead>\n",
       "    <tr style=\"text-align: right;\">\n",
       "      <th></th>\n",
       "      <th>C1</th>\n",
       "      <th>C2</th>\n",
       "      <th>C3</th>\n",
       "      <th>C4</th>\n",
       "      <th>C5</th>\n",
       "      <th>C6</th>\n",
       "      <th>C7</th>\n",
       "    </tr>\n",
       "  </thead>\n",
       "  <tbody>\n",
       "    <tr>\n",
       "      <th>2020-01-20</th>\n",
       "      <td>888</td>\n",
       "      <td>0.440123</td>\n",
       "      <td>555.000000</td>\n",
       "      <td>0.688983</td>\n",
       "      <td>0.085398</td>\n",
       "      <td>NaN</td>\n",
       "      <td>NaN</td>\n",
       "    </tr>\n",
       "    <tr>\n",
       "      <th>2020-01-21</th>\n",
       "      <td>888</td>\n",
       "      <td>0.963681</td>\n",
       "      <td>0.970745</td>\n",
       "      <td>0.761190</td>\n",
       "      <td>0.982761</td>\n",
       "      <td>NaN</td>\n",
       "      <td>NaN</td>\n",
       "    </tr>\n",
       "    <tr>\n",
       "      <th>2020-01-22</th>\n",
       "      <td>888</td>\n",
       "      <td>0.110847</td>\n",
       "      <td>0.380046</td>\n",
       "      <td>0.784511</td>\n",
       "      <td>0.264441</td>\n",
       "      <td>777.000000</td>\n",
       "      <td>NaN</td>\n",
       "    </tr>\n",
       "    <tr>\n",
       "      <th>2020-01-23</th>\n",
       "      <td>888</td>\n",
       "      <td>0.505837</td>\n",
       "      <td>0.069931</td>\n",
       "      <td>0.811608</td>\n",
       "      <td>0.114771</td>\n",
       "      <td>0.548465</td>\n",
       "      <td>NaN</td>\n",
       "    </tr>\n",
       "    <tr>\n",
       "      <th>2020-01-24</th>\n",
       "      <td>888</td>\n",
       "      <td>0.976430</td>\n",
       "      <td>0.304796</td>\n",
       "      <td>0.777866</td>\n",
       "      <td>0.883230</td>\n",
       "      <td>0.125104</td>\n",
       "      <td>NaN</td>\n",
       "    </tr>\n",
       "    <tr>\n",
       "      <th>2020-01-25</th>\n",
       "      <td>888</td>\n",
       "      <td>0.308397</td>\n",
       "      <td>0.694194</td>\n",
       "      <td>0.617277</td>\n",
       "      <td>NaN</td>\n",
       "      <td>0.717026</td>\n",
       "      <td>NaN</td>\n",
       "    </tr>\n",
       "    <tr>\n",
       "      <th>2020-01-26</th>\n",
       "      <td>888</td>\n",
       "      <td>0.834538</td>\n",
       "      <td>0.958364</td>\n",
       "      <td>0.968214</td>\n",
       "      <td>0.453918</td>\n",
       "      <td>0.319021</td>\n",
       "      <td>NaN</td>\n",
       "    </tr>\n",
       "  </tbody>\n",
       "</table>\n",
       "</div>"
      ],
      "text/plain": [
       "             C1        C2          C3        C4        C5          C6  C7\n",
       "2020-01-20  888  0.440123  555.000000  0.688983  0.085398         NaN NaN\n",
       "2020-01-21  888  0.963681    0.970745  0.761190  0.982761         NaN NaN\n",
       "2020-01-22  888  0.110847    0.380046  0.784511  0.264441  777.000000 NaN\n",
       "2020-01-23  888  0.505837    0.069931  0.811608  0.114771    0.548465 NaN\n",
       "2020-01-24  888  0.976430    0.304796  0.777866  0.883230    0.125104 NaN\n",
       "2020-01-25  888  0.308397    0.694194  0.617277       NaN    0.717026 NaN\n",
       "2020-01-26  888  0.834538    0.958364  0.968214  0.453918    0.319021 NaN"
      ]
     },
     "execution_count": 114,
     "metadata": {},
     "output_type": "execute_result"
    }
   ],
   "source": [
    "dframe.at[0:8 , 'C7'] = np.NaN\n",
    "dframe.at[0:2 , 'C6'] = np.NaN\n",
    "dframe.at[5:6 , 'C5'] = np.NaN\n",
    "dframe"
   ]
  },
  {
   "cell_type": "code",
   "execution_count": 115,
   "metadata": {},
   "outputs": [
    {
     "data": {
      "text/html": [
       "<div>\n",
       "<style scoped>\n",
       "    .dataframe tbody tr th:only-of-type {\n",
       "        vertical-align: middle;\n",
       "    }\n",
       "\n",
       "    .dataframe tbody tr th {\n",
       "        vertical-align: top;\n",
       "    }\n",
       "\n",
       "    .dataframe thead th {\n",
       "        text-align: right;\n",
       "    }\n",
       "</style>\n",
       "<table border=\"1\" class=\"dataframe\">\n",
       "  <thead>\n",
       "    <tr style=\"text-align: right;\">\n",
       "      <th></th>\n",
       "      <th>C1</th>\n",
       "      <th>C2</th>\n",
       "      <th>C3</th>\n",
       "      <th>C4</th>\n",
       "      <th>C5</th>\n",
       "      <th>C6</th>\n",
       "      <th>C7</th>\n",
       "    </tr>\n",
       "  </thead>\n",
       "  <tbody>\n",
       "    <tr>\n",
       "      <th>2020-01-20</th>\n",
       "      <td>True</td>\n",
       "      <td>True</td>\n",
       "      <td>True</td>\n",
       "      <td>True</td>\n",
       "      <td>True</td>\n",
       "      <td>False</td>\n",
       "      <td>False</td>\n",
       "    </tr>\n",
       "    <tr>\n",
       "      <th>2020-01-21</th>\n",
       "      <td>True</td>\n",
       "      <td>True</td>\n",
       "      <td>True</td>\n",
       "      <td>True</td>\n",
       "      <td>True</td>\n",
       "      <td>False</td>\n",
       "      <td>False</td>\n",
       "    </tr>\n",
       "    <tr>\n",
       "      <th>2020-01-22</th>\n",
       "      <td>True</td>\n",
       "      <td>True</td>\n",
       "      <td>True</td>\n",
       "      <td>True</td>\n",
       "      <td>True</td>\n",
       "      <td>True</td>\n",
       "      <td>False</td>\n",
       "    </tr>\n",
       "    <tr>\n",
       "      <th>2020-01-23</th>\n",
       "      <td>True</td>\n",
       "      <td>True</td>\n",
       "      <td>True</td>\n",
       "      <td>True</td>\n",
       "      <td>True</td>\n",
       "      <td>True</td>\n",
       "      <td>False</td>\n",
       "    </tr>\n",
       "    <tr>\n",
       "      <th>2020-01-24</th>\n",
       "      <td>True</td>\n",
       "      <td>True</td>\n",
       "      <td>True</td>\n",
       "      <td>True</td>\n",
       "      <td>True</td>\n",
       "      <td>True</td>\n",
       "      <td>False</td>\n",
       "    </tr>\n",
       "    <tr>\n",
       "      <th>2020-01-25</th>\n",
       "      <td>True</td>\n",
       "      <td>True</td>\n",
       "      <td>True</td>\n",
       "      <td>True</td>\n",
       "      <td>False</td>\n",
       "      <td>True</td>\n",
       "      <td>False</td>\n",
       "    </tr>\n",
       "    <tr>\n",
       "      <th>2020-01-26</th>\n",
       "      <td>True</td>\n",
       "      <td>True</td>\n",
       "      <td>True</td>\n",
       "      <td>True</td>\n",
       "      <td>True</td>\n",
       "      <td>True</td>\n",
       "      <td>False</td>\n",
       "    </tr>\n",
       "  </tbody>\n",
       "</table>\n",
       "</div>"
      ],
      "text/plain": [
       "              C1    C2    C3    C4     C5     C6     C7\n",
       "2020-01-20  True  True  True  True   True  False  False\n",
       "2020-01-21  True  True  True  True   True  False  False\n",
       "2020-01-22  True  True  True  True   True   True  False\n",
       "2020-01-23  True  True  True  True   True   True  False\n",
       "2020-01-24  True  True  True  True   True   True  False\n",
       "2020-01-25  True  True  True  True  False   True  False\n",
       "2020-01-26  True  True  True  True   True   True  False"
      ]
     },
     "execution_count": 115,
     "metadata": {},
     "output_type": "execute_result"
    }
   ],
   "source": [
    "# Detect Non-Missing Values\n",
    "# It will return True for NOT-NULL values and False for NULL values\n",
    "dframe.notna()"
   ]
  },
  {
   "cell_type": "code",
   "execution_count": 116,
   "metadata": {},
   "outputs": [
    {
     "data": {
      "text/html": [
       "<div>\n",
       "<style scoped>\n",
       "    .dataframe tbody tr th:only-of-type {\n",
       "        vertical-align: middle;\n",
       "    }\n",
       "\n",
       "    .dataframe tbody tr th {\n",
       "        vertical-align: top;\n",
       "    }\n",
       "\n",
       "    .dataframe thead th {\n",
       "        text-align: right;\n",
       "    }\n",
       "</style>\n",
       "<table border=\"1\" class=\"dataframe\">\n",
       "  <thead>\n",
       "    <tr style=\"text-align: right;\">\n",
       "      <th></th>\n",
       "      <th>C1</th>\n",
       "      <th>C2</th>\n",
       "      <th>C3</th>\n",
       "      <th>C4</th>\n",
       "      <th>C5</th>\n",
       "      <th>C6</th>\n",
       "      <th>C7</th>\n",
       "    </tr>\n",
       "  </thead>\n",
       "  <tbody>\n",
       "    <tr>\n",
       "      <th>2020-01-20</th>\n",
       "      <td>False</td>\n",
       "      <td>False</td>\n",
       "      <td>False</td>\n",
       "      <td>False</td>\n",
       "      <td>False</td>\n",
       "      <td>True</td>\n",
       "      <td>True</td>\n",
       "    </tr>\n",
       "    <tr>\n",
       "      <th>2020-01-21</th>\n",
       "      <td>False</td>\n",
       "      <td>False</td>\n",
       "      <td>False</td>\n",
       "      <td>False</td>\n",
       "      <td>False</td>\n",
       "      <td>True</td>\n",
       "      <td>True</td>\n",
       "    </tr>\n",
       "    <tr>\n",
       "      <th>2020-01-22</th>\n",
       "      <td>False</td>\n",
       "      <td>False</td>\n",
       "      <td>False</td>\n",
       "      <td>False</td>\n",
       "      <td>False</td>\n",
       "      <td>False</td>\n",
       "      <td>True</td>\n",
       "    </tr>\n",
       "    <tr>\n",
       "      <th>2020-01-23</th>\n",
       "      <td>False</td>\n",
       "      <td>False</td>\n",
       "      <td>False</td>\n",
       "      <td>False</td>\n",
       "      <td>False</td>\n",
       "      <td>False</td>\n",
       "      <td>True</td>\n",
       "    </tr>\n",
       "    <tr>\n",
       "      <th>2020-01-24</th>\n",
       "      <td>False</td>\n",
       "      <td>False</td>\n",
       "      <td>False</td>\n",
       "      <td>False</td>\n",
       "      <td>False</td>\n",
       "      <td>False</td>\n",
       "      <td>True</td>\n",
       "    </tr>\n",
       "    <tr>\n",
       "      <th>2020-01-25</th>\n",
       "      <td>False</td>\n",
       "      <td>False</td>\n",
       "      <td>False</td>\n",
       "      <td>False</td>\n",
       "      <td>True</td>\n",
       "      <td>False</td>\n",
       "      <td>True</td>\n",
       "    </tr>\n",
       "    <tr>\n",
       "      <th>2020-01-26</th>\n",
       "      <td>False</td>\n",
       "      <td>False</td>\n",
       "      <td>False</td>\n",
       "      <td>False</td>\n",
       "      <td>False</td>\n",
       "      <td>False</td>\n",
       "      <td>True</td>\n",
       "    </tr>\n",
       "  </tbody>\n",
       "</table>\n",
       "</div>"
      ],
      "text/plain": [
       "               C1     C2     C3     C4     C5     C6    C7\n",
       "2020-01-20  False  False  False  False  False   True  True\n",
       "2020-01-21  False  False  False  False  False   True  True\n",
       "2020-01-22  False  False  False  False  False  False  True\n",
       "2020-01-23  False  False  False  False  False  False  True\n",
       "2020-01-24  False  False  False  False  False  False  True\n",
       "2020-01-25  False  False  False  False   True  False  True\n",
       "2020-01-26  False  False  False  False  False  False  True"
      ]
     },
     "execution_count": 116,
     "metadata": {},
     "output_type": "execute_result"
    }
   ],
   "source": [
    "# Detect Missing or NULL Values\n",
    "# It will return True for NULL values and False for NOT-NULL values\n",
    "dframe.isna()"
   ]
  },
  {
   "cell_type": "code",
   "execution_count": 117,
   "metadata": {},
   "outputs": [
    {
     "data": {
      "text/html": [
       "<div>\n",
       "<style scoped>\n",
       "    .dataframe tbody tr th:only-of-type {\n",
       "        vertical-align: middle;\n",
       "    }\n",
       "\n",
       "    .dataframe tbody tr th {\n",
       "        vertical-align: top;\n",
       "    }\n",
       "\n",
       "    .dataframe thead th {\n",
       "        text-align: right;\n",
       "    }\n",
       "</style>\n",
       "<table border=\"1\" class=\"dataframe\">\n",
       "  <thead>\n",
       "    <tr style=\"text-align: right;\">\n",
       "      <th></th>\n",
       "      <th>C1</th>\n",
       "      <th>C2</th>\n",
       "      <th>C3</th>\n",
       "      <th>C4</th>\n",
       "      <th>C5</th>\n",
       "      <th>C6</th>\n",
       "      <th>C7</th>\n",
       "    </tr>\n",
       "  </thead>\n",
       "  <tbody>\n",
       "    <tr>\n",
       "      <th>2020-01-20</th>\n",
       "      <td>888</td>\n",
       "      <td>0.440123</td>\n",
       "      <td>555.000000</td>\n",
       "      <td>0.688983</td>\n",
       "      <td>0.085398</td>\n",
       "      <td>1020.000000</td>\n",
       "      <td>1020.0</td>\n",
       "    </tr>\n",
       "    <tr>\n",
       "      <th>2020-01-21</th>\n",
       "      <td>888</td>\n",
       "      <td>0.963681</td>\n",
       "      <td>0.970745</td>\n",
       "      <td>0.761190</td>\n",
       "      <td>0.982761</td>\n",
       "      <td>1020.000000</td>\n",
       "      <td>1020.0</td>\n",
       "    </tr>\n",
       "    <tr>\n",
       "      <th>2020-01-22</th>\n",
       "      <td>888</td>\n",
       "      <td>0.110847</td>\n",
       "      <td>0.380046</td>\n",
       "      <td>0.784511</td>\n",
       "      <td>0.264441</td>\n",
       "      <td>777.000000</td>\n",
       "      <td>1020.0</td>\n",
       "    </tr>\n",
       "    <tr>\n",
       "      <th>2020-01-23</th>\n",
       "      <td>888</td>\n",
       "      <td>0.505837</td>\n",
       "      <td>0.069931</td>\n",
       "      <td>0.811608</td>\n",
       "      <td>0.114771</td>\n",
       "      <td>0.548465</td>\n",
       "      <td>1020.0</td>\n",
       "    </tr>\n",
       "    <tr>\n",
       "      <th>2020-01-24</th>\n",
       "      <td>888</td>\n",
       "      <td>0.976430</td>\n",
       "      <td>0.304796</td>\n",
       "      <td>0.777866</td>\n",
       "      <td>0.883230</td>\n",
       "      <td>0.125104</td>\n",
       "      <td>1020.0</td>\n",
       "    </tr>\n",
       "    <tr>\n",
       "      <th>2020-01-25</th>\n",
       "      <td>888</td>\n",
       "      <td>0.308397</td>\n",
       "      <td>0.694194</td>\n",
       "      <td>0.617277</td>\n",
       "      <td>1020.000000</td>\n",
       "      <td>0.717026</td>\n",
       "      <td>1020.0</td>\n",
       "    </tr>\n",
       "    <tr>\n",
       "      <th>2020-01-26</th>\n",
       "      <td>888</td>\n",
       "      <td>0.834538</td>\n",
       "      <td>0.958364</td>\n",
       "      <td>0.968214</td>\n",
       "      <td>0.453918</td>\n",
       "      <td>0.319021</td>\n",
       "      <td>1020.0</td>\n",
       "    </tr>\n",
       "  </tbody>\n",
       "</table>\n",
       "</div>"
      ],
      "text/plain": [
       "             C1        C2          C3        C4           C5           C6  \\\n",
       "2020-01-20  888  0.440123  555.000000  0.688983     0.085398  1020.000000   \n",
       "2020-01-21  888  0.963681    0.970745  0.761190     0.982761  1020.000000   \n",
       "2020-01-22  888  0.110847    0.380046  0.784511     0.264441   777.000000   \n",
       "2020-01-23  888  0.505837    0.069931  0.811608     0.114771     0.548465   \n",
       "2020-01-24  888  0.976430    0.304796  0.777866     0.883230     0.125104   \n",
       "2020-01-25  888  0.308397    0.694194  0.617277  1020.000000     0.717026   \n",
       "2020-01-26  888  0.834538    0.958364  0.968214     0.453918     0.319021   \n",
       "\n",
       "                C7  \n",
       "2020-01-20  1020.0  \n",
       "2020-01-21  1020.0  \n",
       "2020-01-22  1020.0  \n",
       "2020-01-23  1020.0  \n",
       "2020-01-24  1020.0  \n",
       "2020-01-25  1020.0  \n",
       "2020-01-26  1020.0  "
      ]
     },
     "execution_count": 117,
     "metadata": {},
     "output_type": "execute_result"
    }
   ],
   "source": [
    "# Fill all NULL values with 1020\n",
    "dframe = dframe.fillna(1020)\n",
    "dframe"
   ]
  },
  {
   "cell_type": "code",
   "execution_count": 118,
   "metadata": {},
   "outputs": [
    {
     "data": {
      "text/html": [
       "<div>\n",
       "<style scoped>\n",
       "    .dataframe tbody tr th:only-of-type {\n",
       "        vertical-align: middle;\n",
       "    }\n",
       "\n",
       "    .dataframe tbody tr th {\n",
       "        vertical-align: top;\n",
       "    }\n",
       "\n",
       "    .dataframe thead th {\n",
       "        text-align: right;\n",
       "    }\n",
       "</style>\n",
       "<table border=\"1\" class=\"dataframe\">\n",
       "  <thead>\n",
       "    <tr style=\"text-align: right;\">\n",
       "      <th></th>\n",
       "      <th>C1</th>\n",
       "      <th>C2</th>\n",
       "      <th>C3</th>\n",
       "      <th>C4</th>\n",
       "      <th>C5</th>\n",
       "      <th>C6</th>\n",
       "      <th>C7</th>\n",
       "    </tr>\n",
       "  </thead>\n",
       "  <tbody>\n",
       "    <tr>\n",
       "      <th>2020-01-20</th>\n",
       "      <td>888</td>\n",
       "      <td>0.440123</td>\n",
       "      <td>555.000000</td>\n",
       "      <td>0.688983</td>\n",
       "      <td>0.085398</td>\n",
       "      <td>NaN</td>\n",
       "      <td>NaN</td>\n",
       "    </tr>\n",
       "    <tr>\n",
       "      <th>2020-01-21</th>\n",
       "      <td>888</td>\n",
       "      <td>0.963681</td>\n",
       "      <td>0.970745</td>\n",
       "      <td>0.761190</td>\n",
       "      <td>0.982761</td>\n",
       "      <td>NaN</td>\n",
       "      <td>NaN</td>\n",
       "    </tr>\n",
       "    <tr>\n",
       "      <th>2020-01-22</th>\n",
       "      <td>888</td>\n",
       "      <td>0.110847</td>\n",
       "      <td>0.380046</td>\n",
       "      <td>0.784511</td>\n",
       "      <td>0.264441</td>\n",
       "      <td>777.000000</td>\n",
       "      <td>NaN</td>\n",
       "    </tr>\n",
       "    <tr>\n",
       "      <th>2020-01-23</th>\n",
       "      <td>888</td>\n",
       "      <td>0.505837</td>\n",
       "      <td>0.069931</td>\n",
       "      <td>0.811608</td>\n",
       "      <td>0.114771</td>\n",
       "      <td>0.548465</td>\n",
       "      <td>NaN</td>\n",
       "    </tr>\n",
       "    <tr>\n",
       "      <th>2020-01-24</th>\n",
       "      <td>888</td>\n",
       "      <td>0.976430</td>\n",
       "      <td>0.304796</td>\n",
       "      <td>0.777866</td>\n",
       "      <td>0.883230</td>\n",
       "      <td>0.125104</td>\n",
       "      <td>NaN</td>\n",
       "    </tr>\n",
       "    <tr>\n",
       "      <th>2020-01-25</th>\n",
       "      <td>888</td>\n",
       "      <td>0.308397</td>\n",
       "      <td>0.694194</td>\n",
       "      <td>0.617277</td>\n",
       "      <td>NaN</td>\n",
       "      <td>0.717026</td>\n",
       "      <td>1020.0</td>\n",
       "    </tr>\n",
       "    <tr>\n",
       "      <th>2020-01-26</th>\n",
       "      <td>888</td>\n",
       "      <td>0.834538</td>\n",
       "      <td>0.958364</td>\n",
       "      <td>0.968214</td>\n",
       "      <td>0.453918</td>\n",
       "      <td>0.319021</td>\n",
       "      <td>1020.0</td>\n",
       "    </tr>\n",
       "  </tbody>\n",
       "</table>\n",
       "</div>"
      ],
      "text/plain": [
       "             C1        C2          C3        C4        C5          C6      C7\n",
       "2020-01-20  888  0.440123  555.000000  0.688983  0.085398         NaN     NaN\n",
       "2020-01-21  888  0.963681    0.970745  0.761190  0.982761         NaN     NaN\n",
       "2020-01-22  888  0.110847    0.380046  0.784511  0.264441  777.000000     NaN\n",
       "2020-01-23  888  0.505837    0.069931  0.811608  0.114771    0.548465     NaN\n",
       "2020-01-24  888  0.976430    0.304796  0.777866  0.883230    0.125104     NaN\n",
       "2020-01-25  888  0.308397    0.694194  0.617277       NaN    0.717026  1020.0\n",
       "2020-01-26  888  0.834538    0.958364  0.968214  0.453918    0.319021  1020.0"
      ]
     },
     "execution_count": 118,
     "metadata": {},
     "output_type": "execute_result"
    }
   ],
   "source": [
    "dframe.at[0:5 , 'C7'] = np.NaN\n",
    "dframe.at[0:2 , 'C6'] = np.NaN\n",
    "dframe.at[5:6 , 'C5'] = np.NaN\n",
    "dframe"
   ]
  },
  {
   "cell_type": "code",
   "execution_count": 119,
   "metadata": {},
   "outputs": [
    {
     "data": {
      "text/html": [
       "<div>\n",
       "<style scoped>\n",
       "    .dataframe tbody tr th:only-of-type {\n",
       "        vertical-align: middle;\n",
       "    }\n",
       "\n",
       "    .dataframe tbody tr th {\n",
       "        vertical-align: top;\n",
       "    }\n",
       "\n",
       "    .dataframe thead th {\n",
       "        text-align: right;\n",
       "    }\n",
       "</style>\n",
       "<table border=\"1\" class=\"dataframe\">\n",
       "  <thead>\n",
       "    <tr style=\"text-align: right;\">\n",
       "      <th></th>\n",
       "      <th>C1</th>\n",
       "      <th>C2</th>\n",
       "      <th>C3</th>\n",
       "      <th>C4</th>\n",
       "      <th>C5</th>\n",
       "      <th>C6</th>\n",
       "      <th>C7</th>\n",
       "    </tr>\n",
       "  </thead>\n",
       "  <tbody>\n",
       "    <tr>\n",
       "      <th>2020-01-20</th>\n",
       "      <td>888</td>\n",
       "      <td>0.440123</td>\n",
       "      <td>555.000000</td>\n",
       "      <td>0.688983</td>\n",
       "      <td>0.085398</td>\n",
       "      <td>789.000000</td>\n",
       "      <td>NaN</td>\n",
       "    </tr>\n",
       "    <tr>\n",
       "      <th>2020-01-21</th>\n",
       "      <td>888</td>\n",
       "      <td>0.963681</td>\n",
       "      <td>0.970745</td>\n",
       "      <td>0.761190</td>\n",
       "      <td>0.982761</td>\n",
       "      <td>789.000000</td>\n",
       "      <td>NaN</td>\n",
       "    </tr>\n",
       "    <tr>\n",
       "      <th>2020-01-22</th>\n",
       "      <td>888</td>\n",
       "      <td>0.110847</td>\n",
       "      <td>0.380046</td>\n",
       "      <td>0.784511</td>\n",
       "      <td>0.264441</td>\n",
       "      <td>777.000000</td>\n",
       "      <td>NaN</td>\n",
       "    </tr>\n",
       "    <tr>\n",
       "      <th>2020-01-23</th>\n",
       "      <td>888</td>\n",
       "      <td>0.505837</td>\n",
       "      <td>0.069931</td>\n",
       "      <td>0.811608</td>\n",
       "      <td>0.114771</td>\n",
       "      <td>0.548465</td>\n",
       "      <td>NaN</td>\n",
       "    </tr>\n",
       "    <tr>\n",
       "      <th>2020-01-24</th>\n",
       "      <td>888</td>\n",
       "      <td>0.976430</td>\n",
       "      <td>0.304796</td>\n",
       "      <td>0.777866</td>\n",
       "      <td>0.883230</td>\n",
       "      <td>0.125104</td>\n",
       "      <td>NaN</td>\n",
       "    </tr>\n",
       "    <tr>\n",
       "      <th>2020-01-25</th>\n",
       "      <td>888</td>\n",
       "      <td>0.308397</td>\n",
       "      <td>0.694194</td>\n",
       "      <td>0.617277</td>\n",
       "      <td>123.000000</td>\n",
       "      <td>0.717026</td>\n",
       "      <td>1020.0</td>\n",
       "    </tr>\n",
       "    <tr>\n",
       "      <th>2020-01-26</th>\n",
       "      <td>888</td>\n",
       "      <td>0.834538</td>\n",
       "      <td>0.958364</td>\n",
       "      <td>0.968214</td>\n",
       "      <td>0.453918</td>\n",
       "      <td>0.319021</td>\n",
       "      <td>1020.0</td>\n",
       "    </tr>\n",
       "  </tbody>\n",
       "</table>\n",
       "</div>"
      ],
      "text/plain": [
       "             C1        C2          C3        C4          C5          C6  \\\n",
       "2020-01-20  888  0.440123  555.000000  0.688983    0.085398  789.000000   \n",
       "2020-01-21  888  0.963681    0.970745  0.761190    0.982761  789.000000   \n",
       "2020-01-22  888  0.110847    0.380046  0.784511    0.264441  777.000000   \n",
       "2020-01-23  888  0.505837    0.069931  0.811608    0.114771    0.548465   \n",
       "2020-01-24  888  0.976430    0.304796  0.777866    0.883230    0.125104   \n",
       "2020-01-25  888  0.308397    0.694194  0.617277  123.000000    0.717026   \n",
       "2020-01-26  888  0.834538    0.958364  0.968214    0.453918    0.319021   \n",
       "\n",
       "                C7  \n",
       "2020-01-20     NaN  \n",
       "2020-01-21     NaN  \n",
       "2020-01-22     NaN  \n",
       "2020-01-23     NaN  \n",
       "2020-01-24     NaN  \n",
       "2020-01-25  1020.0  \n",
       "2020-01-26  1020.0  "
      ]
     },
     "execution_count": 119,
     "metadata": {},
     "output_type": "execute_result"
    }
   ],
   "source": [
    "# Replace Null values in Column 'C5' with number 123\n",
    "# Replace Null values in Column 'C6' with number 789\n",
    "dframe.fillna(value={'C5' : 123 , 'C6' : 789})"
   ]
  },
  {
   "cell_type": "code",
   "execution_count": 120,
   "metadata": {},
   "outputs": [
    {
     "data": {
      "text/html": [
       "<div>\n",
       "<style scoped>\n",
       "    .dataframe tbody tr th:only-of-type {\n",
       "        vertical-align: middle;\n",
       "    }\n",
       "\n",
       "    .dataframe tbody tr th {\n",
       "        vertical-align: top;\n",
       "    }\n",
       "\n",
       "    .dataframe thead th {\n",
       "        text-align: right;\n",
       "    }\n",
       "</style>\n",
       "<table border=\"1\" class=\"dataframe\">\n",
       "  <thead>\n",
       "    <tr style=\"text-align: right;\">\n",
       "      <th></th>\n",
       "      <th>C1</th>\n",
       "      <th>C2</th>\n",
       "      <th>C3</th>\n",
       "      <th>C4</th>\n",
       "      <th>C5</th>\n",
       "      <th>C6</th>\n",
       "      <th>C7</th>\n",
       "    </tr>\n",
       "  </thead>\n",
       "  <tbody>\n",
       "    <tr>\n",
       "      <th>2020-01-20</th>\n",
       "      <td>888</td>\n",
       "      <td>0.440123</td>\n",
       "      <td>555.000000</td>\n",
       "      <td>0.688983</td>\n",
       "      <td>0.085398</td>\n",
       "      <td>NaN</td>\n",
       "      <td>789.0</td>\n",
       "    </tr>\n",
       "    <tr>\n",
       "      <th>2020-01-21</th>\n",
       "      <td>888</td>\n",
       "      <td>0.963681</td>\n",
       "      <td>0.970745</td>\n",
       "      <td>0.761190</td>\n",
       "      <td>0.982761</td>\n",
       "      <td>NaN</td>\n",
       "      <td>NaN</td>\n",
       "    </tr>\n",
       "    <tr>\n",
       "      <th>2020-01-22</th>\n",
       "      <td>888</td>\n",
       "      <td>0.110847</td>\n",
       "      <td>0.380046</td>\n",
       "      <td>0.784511</td>\n",
       "      <td>0.264441</td>\n",
       "      <td>777.000000</td>\n",
       "      <td>NaN</td>\n",
       "    </tr>\n",
       "    <tr>\n",
       "      <th>2020-01-23</th>\n",
       "      <td>888</td>\n",
       "      <td>0.505837</td>\n",
       "      <td>0.069931</td>\n",
       "      <td>0.811608</td>\n",
       "      <td>0.114771</td>\n",
       "      <td>0.548465</td>\n",
       "      <td>NaN</td>\n",
       "    </tr>\n",
       "    <tr>\n",
       "      <th>2020-01-24</th>\n",
       "      <td>888</td>\n",
       "      <td>0.976430</td>\n",
       "      <td>0.304796</td>\n",
       "      <td>0.777866</td>\n",
       "      <td>0.883230</td>\n",
       "      <td>0.125104</td>\n",
       "      <td>NaN</td>\n",
       "    </tr>\n",
       "    <tr>\n",
       "      <th>2020-01-25</th>\n",
       "      <td>888</td>\n",
       "      <td>0.308397</td>\n",
       "      <td>0.694194</td>\n",
       "      <td>0.617277</td>\n",
       "      <td>NaN</td>\n",
       "      <td>0.717026</td>\n",
       "      <td>1020.0</td>\n",
       "    </tr>\n",
       "    <tr>\n",
       "      <th>2020-01-26</th>\n",
       "      <td>888</td>\n",
       "      <td>0.834538</td>\n",
       "      <td>0.958364</td>\n",
       "      <td>0.968214</td>\n",
       "      <td>0.453918</td>\n",
       "      <td>0.319021</td>\n",
       "      <td>1020.0</td>\n",
       "    </tr>\n",
       "  </tbody>\n",
       "</table>\n",
       "</div>"
      ],
      "text/plain": [
       "             C1        C2          C3        C4        C5          C6      C7\n",
       "2020-01-20  888  0.440123  555.000000  0.688983  0.085398         NaN   789.0\n",
       "2020-01-21  888  0.963681    0.970745  0.761190  0.982761         NaN     NaN\n",
       "2020-01-22  888  0.110847    0.380046  0.784511  0.264441  777.000000     NaN\n",
       "2020-01-23  888  0.505837    0.069931  0.811608  0.114771    0.548465     NaN\n",
       "2020-01-24  888  0.976430    0.304796  0.777866  0.883230    0.125104     NaN\n",
       "2020-01-25  888  0.308397    0.694194  0.617277       NaN    0.717026  1020.0\n",
       "2020-01-26  888  0.834538    0.958364  0.968214  0.453918    0.319021  1020.0"
      ]
     },
     "execution_count": 120,
     "metadata": {},
     "output_type": "execute_result"
    }
   ],
   "source": [
    "#Replace first NULL value in Column C7 with 789\n",
    "dframe.fillna(value={'C7' : 789} , limit=1)"
   ]
  },
  {
   "cell_type": "code",
   "execution_count": 121,
   "metadata": {},
   "outputs": [
    {
     "data": {
      "text/html": [
       "<div>\n",
       "<style scoped>\n",
       "    .dataframe tbody tr th:only-of-type {\n",
       "        vertical-align: middle;\n",
       "    }\n",
       "\n",
       "    .dataframe tbody tr th {\n",
       "        vertical-align: top;\n",
       "    }\n",
       "\n",
       "    .dataframe thead th {\n",
       "        text-align: right;\n",
       "    }\n",
       "</style>\n",
       "<table border=\"1\" class=\"dataframe\">\n",
       "  <thead>\n",
       "    <tr style=\"text-align: right;\">\n",
       "      <th></th>\n",
       "      <th>C1</th>\n",
       "      <th>C2</th>\n",
       "      <th>C3</th>\n",
       "      <th>C4</th>\n",
       "      <th>C5</th>\n",
       "      <th>C6</th>\n",
       "      <th>C7</th>\n",
       "    </tr>\n",
       "  </thead>\n",
       "  <tbody>\n",
       "    <tr>\n",
       "      <th>2020-01-26</th>\n",
       "      <td>888</td>\n",
       "      <td>0.834538</td>\n",
       "      <td>0.958364</td>\n",
       "      <td>0.968214</td>\n",
       "      <td>0.453918</td>\n",
       "      <td>0.319021</td>\n",
       "      <td>1020.0</td>\n",
       "    </tr>\n",
       "  </tbody>\n",
       "</table>\n",
       "</div>"
      ],
      "text/plain": [
       "             C1        C2        C3        C4        C5        C6      C7\n",
       "2020-01-26  888  0.834538  0.958364  0.968214  0.453918  0.319021  1020.0"
      ]
     },
     "execution_count": 121,
     "metadata": {},
     "output_type": "execute_result"
    }
   ],
   "source": [
    "# Drop Rows with NULL values\n",
    "dframe.dropna()"
   ]
  },
  {
   "cell_type": "code",
   "execution_count": 122,
   "metadata": {},
   "outputs": [
    {
     "data": {
      "text/html": [
       "<div>\n",
       "<style scoped>\n",
       "    .dataframe tbody tr th:only-of-type {\n",
       "        vertical-align: middle;\n",
       "    }\n",
       "\n",
       "    .dataframe tbody tr th {\n",
       "        vertical-align: top;\n",
       "    }\n",
       "\n",
       "    .dataframe thead th {\n",
       "        text-align: right;\n",
       "    }\n",
       "</style>\n",
       "<table border=\"1\" class=\"dataframe\">\n",
       "  <thead>\n",
       "    <tr style=\"text-align: right;\">\n",
       "      <th></th>\n",
       "      <th>C1</th>\n",
       "      <th>C2</th>\n",
       "      <th>C3</th>\n",
       "      <th>C4</th>\n",
       "    </tr>\n",
       "  </thead>\n",
       "  <tbody>\n",
       "    <tr>\n",
       "      <th>2020-01-20</th>\n",
       "      <td>888</td>\n",
       "      <td>0.440123</td>\n",
       "      <td>555.000000</td>\n",
       "      <td>0.688983</td>\n",
       "    </tr>\n",
       "    <tr>\n",
       "      <th>2020-01-21</th>\n",
       "      <td>888</td>\n",
       "      <td>0.963681</td>\n",
       "      <td>0.970745</td>\n",
       "      <td>0.761190</td>\n",
       "    </tr>\n",
       "    <tr>\n",
       "      <th>2020-01-22</th>\n",
       "      <td>888</td>\n",
       "      <td>0.110847</td>\n",
       "      <td>0.380046</td>\n",
       "      <td>0.784511</td>\n",
       "    </tr>\n",
       "    <tr>\n",
       "      <th>2020-01-23</th>\n",
       "      <td>888</td>\n",
       "      <td>0.505837</td>\n",
       "      <td>0.069931</td>\n",
       "      <td>0.811608</td>\n",
       "    </tr>\n",
       "    <tr>\n",
       "      <th>2020-01-24</th>\n",
       "      <td>888</td>\n",
       "      <td>0.976430</td>\n",
       "      <td>0.304796</td>\n",
       "      <td>0.777866</td>\n",
       "    </tr>\n",
       "    <tr>\n",
       "      <th>2020-01-25</th>\n",
       "      <td>888</td>\n",
       "      <td>0.308397</td>\n",
       "      <td>0.694194</td>\n",
       "      <td>0.617277</td>\n",
       "    </tr>\n",
       "    <tr>\n",
       "      <th>2020-01-26</th>\n",
       "      <td>888</td>\n",
       "      <td>0.834538</td>\n",
       "      <td>0.958364</td>\n",
       "      <td>0.968214</td>\n",
       "    </tr>\n",
       "  </tbody>\n",
       "</table>\n",
       "</div>"
      ],
      "text/plain": [
       "             C1        C2          C3        C4\n",
       "2020-01-20  888  0.440123  555.000000  0.688983\n",
       "2020-01-21  888  0.963681    0.970745  0.761190\n",
       "2020-01-22  888  0.110847    0.380046  0.784511\n",
       "2020-01-23  888  0.505837    0.069931  0.811608\n",
       "2020-01-24  888  0.976430    0.304796  0.777866\n",
       "2020-01-25  888  0.308397    0.694194  0.617277\n",
       "2020-01-26  888  0.834538    0.958364  0.968214"
      ]
     },
     "execution_count": 122,
     "metadata": {},
     "output_type": "execute_result"
    }
   ],
   "source": [
    "# Drop Columns with NULL values\n",
    "dframe.dropna(axis='columns')"
   ]
  },
  {
   "cell_type": "code",
   "execution_count": 123,
   "metadata": {},
   "outputs": [
    {
     "data": {
      "text/html": [
       "<div>\n",
       "<style scoped>\n",
       "    .dataframe tbody tr th:only-of-type {\n",
       "        vertical-align: middle;\n",
       "    }\n",
       "\n",
       "    .dataframe tbody tr th {\n",
       "        vertical-align: top;\n",
       "    }\n",
       "\n",
       "    .dataframe thead th {\n",
       "        text-align: right;\n",
       "    }\n",
       "</style>\n",
       "<table border=\"1\" class=\"dataframe\">\n",
       "  <thead>\n",
       "    <tr style=\"text-align: right;\">\n",
       "      <th></th>\n",
       "      <th>C1</th>\n",
       "      <th>C2</th>\n",
       "      <th>C3</th>\n",
       "      <th>C4</th>\n",
       "      <th>C5</th>\n",
       "      <th>C6</th>\n",
       "      <th>C7</th>\n",
       "    </tr>\n",
       "  </thead>\n",
       "  <tbody>\n",
       "    <tr>\n",
       "      <th>2020-01-20</th>\n",
       "      <td>888</td>\n",
       "      <td>0.440123</td>\n",
       "      <td>555.000000</td>\n",
       "      <td>0.688983</td>\n",
       "      <td>0.085398</td>\n",
       "      <td>NaN</td>\n",
       "      <td>NaN</td>\n",
       "    </tr>\n",
       "    <tr>\n",
       "      <th>2020-01-21</th>\n",
       "      <td>888</td>\n",
       "      <td>0.963681</td>\n",
       "      <td>0.970745</td>\n",
       "      <td>0.761190</td>\n",
       "      <td>0.982761</td>\n",
       "      <td>NaN</td>\n",
       "      <td>NaN</td>\n",
       "    </tr>\n",
       "    <tr>\n",
       "      <th>2020-01-22</th>\n",
       "      <td>888</td>\n",
       "      <td>0.110847</td>\n",
       "      <td>0.380046</td>\n",
       "      <td>0.784511</td>\n",
       "      <td>0.264441</td>\n",
       "      <td>777.000000</td>\n",
       "      <td>NaN</td>\n",
       "    </tr>\n",
       "    <tr>\n",
       "      <th>2020-01-23</th>\n",
       "      <td>888</td>\n",
       "      <td>0.505837</td>\n",
       "      <td>0.069931</td>\n",
       "      <td>0.811608</td>\n",
       "      <td>0.114771</td>\n",
       "      <td>0.548465</td>\n",
       "      <td>NaN</td>\n",
       "    </tr>\n",
       "    <tr>\n",
       "      <th>2020-01-24</th>\n",
       "      <td>888</td>\n",
       "      <td>0.976430</td>\n",
       "      <td>0.304796</td>\n",
       "      <td>0.777866</td>\n",
       "      <td>0.883230</td>\n",
       "      <td>0.125104</td>\n",
       "      <td>NaN</td>\n",
       "    </tr>\n",
       "    <tr>\n",
       "      <th>2020-01-25</th>\n",
       "      <td>888</td>\n",
       "      <td>0.308397</td>\n",
       "      <td>0.694194</td>\n",
       "      <td>0.617277</td>\n",
       "      <td>NaN</td>\n",
       "      <td>0.717026</td>\n",
       "      <td>1020.0</td>\n",
       "    </tr>\n",
       "    <tr>\n",
       "      <th>2020-01-26</th>\n",
       "      <td>888</td>\n",
       "      <td>0.834538</td>\n",
       "      <td>0.958364</td>\n",
       "      <td>0.968214</td>\n",
       "      <td>0.453918</td>\n",
       "      <td>0.319021</td>\n",
       "      <td>1020.0</td>\n",
       "    </tr>\n",
       "  </tbody>\n",
       "</table>\n",
       "</div>"
      ],
      "text/plain": [
       "             C1        C2          C3        C4        C5          C6      C7\n",
       "2020-01-20  888  0.440123  555.000000  0.688983  0.085398         NaN     NaN\n",
       "2020-01-21  888  0.963681    0.970745  0.761190  0.982761         NaN     NaN\n",
       "2020-01-22  888  0.110847    0.380046  0.784511  0.264441  777.000000     NaN\n",
       "2020-01-23  888  0.505837    0.069931  0.811608  0.114771    0.548465     NaN\n",
       "2020-01-24  888  0.976430    0.304796  0.777866  0.883230    0.125104     NaN\n",
       "2020-01-25  888  0.308397    0.694194  0.617277       NaN    0.717026  1020.0\n",
       "2020-01-26  888  0.834538    0.958364  0.968214  0.453918    0.319021  1020.0"
      ]
     },
     "execution_count": 123,
     "metadata": {},
     "output_type": "execute_result"
    }
   ],
   "source": [
    "dframe"
   ]
  },
  {
   "cell_type": "code",
   "execution_count": 124,
   "metadata": {},
   "outputs": [
    {
     "data": {
      "text/html": [
       "<div>\n",
       "<style scoped>\n",
       "    .dataframe tbody tr th:only-of-type {\n",
       "        vertical-align: middle;\n",
       "    }\n",
       "\n",
       "    .dataframe tbody tr th {\n",
       "        vertical-align: top;\n",
       "    }\n",
       "\n",
       "    .dataframe thead th {\n",
       "        text-align: right;\n",
       "    }\n",
       "</style>\n",
       "<table border=\"1\" class=\"dataframe\">\n",
       "  <thead>\n",
       "    <tr style=\"text-align: right;\">\n",
       "      <th></th>\n",
       "      <th>C1</th>\n",
       "      <th>C2</th>\n",
       "      <th>C3</th>\n",
       "      <th>C4</th>\n",
       "      <th>C5</th>\n",
       "      <th>C6</th>\n",
       "      <th>C7</th>\n",
       "    </tr>\n",
       "  </thead>\n",
       "  <tbody>\n",
       "    <tr>\n",
       "      <th>2020-01-22</th>\n",
       "      <td>888</td>\n",
       "      <td>0.110847</td>\n",
       "      <td>0.380046</td>\n",
       "      <td>0.784511</td>\n",
       "      <td>0.264441</td>\n",
       "      <td>777.000000</td>\n",
       "      <td>NaN</td>\n",
       "    </tr>\n",
       "    <tr>\n",
       "      <th>2020-01-23</th>\n",
       "      <td>888</td>\n",
       "      <td>0.505837</td>\n",
       "      <td>0.069931</td>\n",
       "      <td>0.811608</td>\n",
       "      <td>0.114771</td>\n",
       "      <td>0.548465</td>\n",
       "      <td>NaN</td>\n",
       "    </tr>\n",
       "    <tr>\n",
       "      <th>2020-01-24</th>\n",
       "      <td>888</td>\n",
       "      <td>0.976430</td>\n",
       "      <td>0.304796</td>\n",
       "      <td>0.777866</td>\n",
       "      <td>0.883230</td>\n",
       "      <td>0.125104</td>\n",
       "      <td>NaN</td>\n",
       "    </tr>\n",
       "    <tr>\n",
       "      <th>2020-01-26</th>\n",
       "      <td>888</td>\n",
       "      <td>0.834538</td>\n",
       "      <td>0.958364</td>\n",
       "      <td>0.968214</td>\n",
       "      <td>0.453918</td>\n",
       "      <td>0.319021</td>\n",
       "      <td>1020.0</td>\n",
       "    </tr>\n",
       "  </tbody>\n",
       "</table>\n",
       "</div>"
      ],
      "text/plain": [
       "             C1        C2        C3        C4        C5          C6      C7\n",
       "2020-01-22  888  0.110847  0.380046  0.784511  0.264441  777.000000     NaN\n",
       "2020-01-23  888  0.505837  0.069931  0.811608  0.114771    0.548465     NaN\n",
       "2020-01-24  888  0.976430  0.304796  0.777866  0.883230    0.125104     NaN\n",
       "2020-01-26  888  0.834538  0.958364  0.968214  0.453918    0.319021  1020.0"
      ]
     },
     "execution_count": 124,
     "metadata": {},
     "output_type": "execute_result"
    }
   ],
   "source": [
    "# Drop Rows with NULL values present in C5 or C6\n",
    "dframe.dropna(subset=['C5' ,'C6'])"
   ]
  },
  {
   "cell_type": "markdown",
   "metadata": {},
   "source": [
    "## Descriptive Statistics "
   ]
  },
  {
   "cell_type": "code",
   "execution_count": 125,
   "metadata": {},
   "outputs": [
    {
     "data": {
      "text/html": [
       "<div>\n",
       "<style scoped>\n",
       "    .dataframe tbody tr th:only-of-type {\n",
       "        vertical-align: middle;\n",
       "    }\n",
       "\n",
       "    .dataframe tbody tr th {\n",
       "        vertical-align: top;\n",
       "    }\n",
       "\n",
       "    .dataframe thead th {\n",
       "        text-align: right;\n",
       "    }\n",
       "</style>\n",
       "<table border=\"1\" class=\"dataframe\">\n",
       "  <thead>\n",
       "    <tr style=\"text-align: right;\">\n",
       "      <th></th>\n",
       "      <th>C1</th>\n",
       "      <th>C2</th>\n",
       "      <th>C3</th>\n",
       "      <th>C4</th>\n",
       "      <th>C5</th>\n",
       "      <th>C6</th>\n",
       "      <th>C7</th>\n",
       "    </tr>\n",
       "  </thead>\n",
       "  <tbody>\n",
       "    <tr>\n",
       "      <th>2020-01-20</th>\n",
       "      <td>888</td>\n",
       "      <td>0.440123</td>\n",
       "      <td>555.000000</td>\n",
       "      <td>0.688983</td>\n",
       "      <td>0.085398</td>\n",
       "      <td>55.000000</td>\n",
       "      <td>55.0</td>\n",
       "    </tr>\n",
       "    <tr>\n",
       "      <th>2020-01-21</th>\n",
       "      <td>888</td>\n",
       "      <td>0.963681</td>\n",
       "      <td>0.970745</td>\n",
       "      <td>0.761190</td>\n",
       "      <td>0.982761</td>\n",
       "      <td>55.000000</td>\n",
       "      <td>55.0</td>\n",
       "    </tr>\n",
       "    <tr>\n",
       "      <th>2020-01-22</th>\n",
       "      <td>888</td>\n",
       "      <td>0.110847</td>\n",
       "      <td>0.380046</td>\n",
       "      <td>0.784511</td>\n",
       "      <td>0.264441</td>\n",
       "      <td>777.000000</td>\n",
       "      <td>55.0</td>\n",
       "    </tr>\n",
       "    <tr>\n",
       "      <th>2020-01-23</th>\n",
       "      <td>888</td>\n",
       "      <td>0.505837</td>\n",
       "      <td>0.069931</td>\n",
       "      <td>0.811608</td>\n",
       "      <td>0.114771</td>\n",
       "      <td>0.548465</td>\n",
       "      <td>55.0</td>\n",
       "    </tr>\n",
       "    <tr>\n",
       "      <th>2020-01-24</th>\n",
       "      <td>888</td>\n",
       "      <td>0.976430</td>\n",
       "      <td>0.304796</td>\n",
       "      <td>0.777866</td>\n",
       "      <td>0.883230</td>\n",
       "      <td>0.125104</td>\n",
       "      <td>55.0</td>\n",
       "    </tr>\n",
       "    <tr>\n",
       "      <th>2020-01-25</th>\n",
       "      <td>888</td>\n",
       "      <td>0.308397</td>\n",
       "      <td>0.694194</td>\n",
       "      <td>0.617277</td>\n",
       "      <td>55.000000</td>\n",
       "      <td>0.717026</td>\n",
       "      <td>1020.0</td>\n",
       "    </tr>\n",
       "    <tr>\n",
       "      <th>2020-01-26</th>\n",
       "      <td>888</td>\n",
       "      <td>0.834538</td>\n",
       "      <td>0.958364</td>\n",
       "      <td>0.968214</td>\n",
       "      <td>0.453918</td>\n",
       "      <td>0.319021</td>\n",
       "      <td>1020.0</td>\n",
       "    </tr>\n",
       "  </tbody>\n",
       "</table>\n",
       "</div>"
      ],
      "text/plain": [
       "             C1        C2          C3        C4         C5          C6      C7\n",
       "2020-01-20  888  0.440123  555.000000  0.688983   0.085398   55.000000    55.0\n",
       "2020-01-21  888  0.963681    0.970745  0.761190   0.982761   55.000000    55.0\n",
       "2020-01-22  888  0.110847    0.380046  0.784511   0.264441  777.000000    55.0\n",
       "2020-01-23  888  0.505837    0.069931  0.811608   0.114771    0.548465    55.0\n",
       "2020-01-24  888  0.976430    0.304796  0.777866   0.883230    0.125104    55.0\n",
       "2020-01-25  888  0.308397    0.694194  0.617277  55.000000    0.717026  1020.0\n",
       "2020-01-26  888  0.834538    0.958364  0.968214   0.453918    0.319021  1020.0"
      ]
     },
     "execution_count": 125,
     "metadata": {},
     "output_type": "execute_result"
    }
   ],
   "source": [
    "# Fill NULL values with 55\n",
    "dframe.fillna(55 , inplace=True)\n",
    "dframe"
   ]
  },
  {
   "cell_type": "code",
   "execution_count": 126,
   "metadata": {},
   "outputs": [
    {
     "data": {
      "text/plain": [
       "C1    888.000000\n",
       "C2      0.591408\n",
       "C3     79.768296\n",
       "C4      0.772807\n",
       "C5      8.254931\n",
       "C6    126.958517\n",
       "C7    330.714286\n",
       "dtype: float64"
      ]
     },
     "execution_count": 126,
     "metadata": {},
     "output_type": "execute_result"
    }
   ],
   "source": [
    "# Mean of all Columns\n",
    "dframe.mean()"
   ]
  },
  {
   "cell_type": "code",
   "execution_count": 127,
   "metadata": {},
   "outputs": [
    {
     "data": {
      "text/plain": [
       "C1     888.000000\n",
       "C2       0.976430\n",
       "C3     555.000000\n",
       "C4       0.968214\n",
       "C5      55.000000\n",
       "C6     777.000000\n",
       "C7    1020.000000\n",
       "dtype: float64"
      ]
     },
     "execution_count": 127,
     "metadata": {},
     "output_type": "execute_result"
    }
   ],
   "source": [
    "# Max value per column\n",
    "dframe.max()"
   ]
  },
  {
   "cell_type": "code",
   "execution_count": 128,
   "metadata": {},
   "outputs": [
    {
     "data": {
      "text/plain": [
       "C1    888.000000\n",
       "C2      0.110847\n",
       "C3      0.069931\n",
       "C4      0.617277\n",
       "C5      0.085398\n",
       "C6      0.125104\n",
       "C7     55.000000\n",
       "dtype: float64"
      ]
     },
     "execution_count": 128,
     "metadata": {},
     "output_type": "execute_result"
    }
   ],
   "source": [
    "# Min value per column\n",
    "dframe.min()"
   ]
  },
  {
   "cell_type": "code",
   "execution_count": 129,
   "metadata": {},
   "outputs": [
    {
     "data": {
      "text/plain": [
       "C1    888.000000\n",
       "C2      0.505837\n",
       "C3      0.694194\n",
       "C4      0.777866\n",
       "C5      0.453918\n",
       "C6      0.717026\n",
       "C7     55.000000\n",
       "dtype: float64"
      ]
     },
     "execution_count": 129,
     "metadata": {},
     "output_type": "execute_result"
    }
   ],
   "source": [
    "# Median \n",
    "dframe.median()"
   ]
  },
  {
   "cell_type": "code",
   "execution_count": 130,
   "metadata": {},
   "outputs": [
    {
     "data": {
      "text/plain": [
       "C1      0.000000\n",
       "C2      0.338424\n",
       "C3    209.557755\n",
       "C4      0.108937\n",
       "C5     20.615670\n",
       "C6    287.793525\n",
       "C7    470.871785\n",
       "dtype: float64"
      ]
     },
     "execution_count": 130,
     "metadata": {},
     "output_type": "execute_result"
    }
   ],
   "source": [
    "dframe.std() #Standard Deviation"
   ]
  },
  {
   "cell_type": "code",
   "execution_count": 131,
   "metadata": {},
   "outputs": [
    {
     "data": {
      "text/plain": [
       "C1         0.000000\n",
       "C2         0.114531\n",
       "C3     43914.452853\n",
       "C4         0.011867\n",
       "C5       425.005851\n",
       "C6     82825.112978\n",
       "C7    221720.238095\n",
       "dtype: float64"
      ]
     },
     "execution_count": 131,
     "metadata": {},
     "output_type": "execute_result"
    }
   ],
   "source": [
    "dframe.var()  #Variance "
   ]
  },
  {
   "cell_type": "code",
   "execution_count": 132,
   "metadata": {},
   "outputs": [
    {
     "data": {
      "text/plain": [
       "C1    888.000000\n",
       "C2      0.374260\n",
       "C3      0.342421\n",
       "C4      0.725087\n",
       "C5      0.189606\n",
       "C6      0.433743\n",
       "C7     55.000000\n",
       "Name: 0.25, dtype: float64"
      ]
     },
     "execution_count": 132,
     "metadata": {},
     "output_type": "execute_result"
    }
   ],
   "source": [
    "#Lower Quartile / First Quartile\n",
    "dframe.quantile(0.25) "
   ]
  },
  {
   "cell_type": "code",
   "execution_count": 133,
   "metadata": {},
   "outputs": [
    {
     "data": {
      "text/plain": [
       "C1    888.000000\n",
       "C2      0.505837\n",
       "C3      0.694194\n",
       "C4      0.777866\n",
       "C5      0.453918\n",
       "C6      0.717026\n",
       "C7     55.000000\n",
       "Name: 0.5, dtype: float64"
      ]
     },
     "execution_count": 133,
     "metadata": {},
     "output_type": "execute_result"
    }
   ],
   "source": [
    "#Second Quartile / Median\n",
    "dframe.quantile(0.50)"
   ]
  },
  {
   "cell_type": "code",
   "execution_count": 134,
   "metadata": {},
   "outputs": [
    {
     "data": {
      "text/plain": [
       "C1    888.000000\n",
       "C2      0.899110\n",
       "C3      0.964554\n",
       "C4      0.798060\n",
       "C5      0.932995\n",
       "C6     55.000000\n",
       "C7    537.500000\n",
       "Name: 0.75, dtype: float64"
      ]
     },
     "execution_count": 134,
     "metadata": {},
     "output_type": "execute_result"
    }
   ],
   "source": [
    "# Upper Quartile\n",
    "dframe.quantile(0.75)"
   ]
  },
  {
   "cell_type": "code",
   "execution_count": 135,
   "metadata": {},
   "outputs": [
    {
     "data": {
      "text/plain": [
       "C1      0.000000\n",
       "C2      0.524850\n",
       "C3      0.622134\n",
       "C4      0.072973\n",
       "C5      0.743389\n",
       "C6     54.566257\n",
       "C7    482.500000\n",
       "dtype: float64"
      ]
     },
     "execution_count": 135,
     "metadata": {},
     "output_type": "execute_result"
    }
   ],
   "source": [
    " #IQR (Interquartile Range)\n",
    "dframe.quantile(0.75) - dframe.quantile(0.25)"
   ]
  },
  {
   "cell_type": "code",
   "execution_count": 136,
   "metadata": {},
   "outputs": [
    {
     "data": {
      "text/plain": [
       "C1    6216.000000\n",
       "C2       4.139853\n",
       "C3     558.378075\n",
       "C4       5.409649\n",
       "C5      57.784520\n",
       "C6     888.709616\n",
       "C7    2315.000000\n",
       "dtype: float64"
      ]
     },
     "execution_count": 136,
     "metadata": {},
     "output_type": "execute_result"
    }
   ],
   "source": [
    "# SUM of column values\n",
    "dframe.sum()"
   ]
  },
  {
   "cell_type": "code",
   "execution_count": 137,
   "metadata": {},
   "outputs": [
    {
     "data": {
      "text/html": [
       "<div>\n",
       "<style scoped>\n",
       "    .dataframe tbody tr th:only-of-type {\n",
       "        vertical-align: middle;\n",
       "    }\n",
       "\n",
       "    .dataframe tbody tr th {\n",
       "        vertical-align: top;\n",
       "    }\n",
       "\n",
       "    .dataframe thead th {\n",
       "        text-align: right;\n",
       "    }\n",
       "</style>\n",
       "<table border=\"1\" class=\"dataframe\">\n",
       "  <thead>\n",
       "    <tr style=\"text-align: right;\">\n",
       "      <th></th>\n",
       "      <th>C1</th>\n",
       "      <th>C2</th>\n",
       "      <th>C3</th>\n",
       "      <th>C4</th>\n",
       "      <th>C5</th>\n",
       "      <th>C6</th>\n",
       "      <th>C7</th>\n",
       "    </tr>\n",
       "  </thead>\n",
       "  <tbody>\n",
       "    <tr>\n",
       "      <th>count</th>\n",
       "      <td>7.0</td>\n",
       "      <td>7.000000</td>\n",
       "      <td>7.000000</td>\n",
       "      <td>7.000000</td>\n",
       "      <td>7.000000</td>\n",
       "      <td>7.000000</td>\n",
       "      <td>7.000000</td>\n",
       "    </tr>\n",
       "    <tr>\n",
       "      <th>mean</th>\n",
       "      <td>888.0</td>\n",
       "      <td>0.591408</td>\n",
       "      <td>79.768296</td>\n",
       "      <td>0.772807</td>\n",
       "      <td>8.254931</td>\n",
       "      <td>126.958517</td>\n",
       "      <td>330.714286</td>\n",
       "    </tr>\n",
       "    <tr>\n",
       "      <th>std</th>\n",
       "      <td>0.0</td>\n",
       "      <td>0.338424</td>\n",
       "      <td>209.557755</td>\n",
       "      <td>0.108937</td>\n",
       "      <td>20.615670</td>\n",
       "      <td>287.793525</td>\n",
       "      <td>470.871785</td>\n",
       "    </tr>\n",
       "    <tr>\n",
       "      <th>min</th>\n",
       "      <td>888.0</td>\n",
       "      <td>0.110847</td>\n",
       "      <td>0.069931</td>\n",
       "      <td>0.617277</td>\n",
       "      <td>0.085398</td>\n",
       "      <td>0.125104</td>\n",
       "      <td>55.000000</td>\n",
       "    </tr>\n",
       "    <tr>\n",
       "      <th>25%</th>\n",
       "      <td>888.0</td>\n",
       "      <td>0.374260</td>\n",
       "      <td>0.342421</td>\n",
       "      <td>0.725087</td>\n",
       "      <td>0.189606</td>\n",
       "      <td>0.433743</td>\n",
       "      <td>55.000000</td>\n",
       "    </tr>\n",
       "    <tr>\n",
       "      <th>50%</th>\n",
       "      <td>888.0</td>\n",
       "      <td>0.505837</td>\n",
       "      <td>0.694194</td>\n",
       "      <td>0.777866</td>\n",
       "      <td>0.453918</td>\n",
       "      <td>0.717026</td>\n",
       "      <td>55.000000</td>\n",
       "    </tr>\n",
       "    <tr>\n",
       "      <th>75%</th>\n",
       "      <td>888.0</td>\n",
       "      <td>0.899110</td>\n",
       "      <td>0.964554</td>\n",
       "      <td>0.798060</td>\n",
       "      <td>0.932995</td>\n",
       "      <td>55.000000</td>\n",
       "      <td>537.500000</td>\n",
       "    </tr>\n",
       "    <tr>\n",
       "      <th>max</th>\n",
       "      <td>888.0</td>\n",
       "      <td>0.976430</td>\n",
       "      <td>555.000000</td>\n",
       "      <td>0.968214</td>\n",
       "      <td>55.000000</td>\n",
       "      <td>777.000000</td>\n",
       "      <td>1020.000000</td>\n",
       "    </tr>\n",
       "  </tbody>\n",
       "</table>\n",
       "</div>"
      ],
      "text/plain": [
       "          C1        C2          C3        C4         C5          C6  \\\n",
       "count    7.0  7.000000    7.000000  7.000000   7.000000    7.000000   \n",
       "mean   888.0  0.591408   79.768296  0.772807   8.254931  126.958517   \n",
       "std      0.0  0.338424  209.557755  0.108937  20.615670  287.793525   \n",
       "min    888.0  0.110847    0.069931  0.617277   0.085398    0.125104   \n",
       "25%    888.0  0.374260    0.342421  0.725087   0.189606    0.433743   \n",
       "50%    888.0  0.505837    0.694194  0.777866   0.453918    0.717026   \n",
       "75%    888.0  0.899110    0.964554  0.798060   0.932995   55.000000   \n",
       "max    888.0  0.976430  555.000000  0.968214  55.000000  777.000000   \n",
       "\n",
       "                C7  \n",
       "count     7.000000  \n",
       "mean    330.714286  \n",
       "std     470.871785  \n",
       "min      55.000000  \n",
       "25%      55.000000  \n",
       "50%      55.000000  \n",
       "75%     537.500000  \n",
       "max    1020.000000  "
      ]
     },
     "execution_count": 137,
     "metadata": {},
     "output_type": "execute_result"
    }
   ],
   "source": [
    "# GENERATES DESCRIPTIVE STATS\n",
    "dframe.describe()"
   ]
  },
  {
   "cell_type": "code",
   "execution_count": 138,
   "metadata": {},
   "outputs": [
    {
     "data": {
      "text/plain": [
       "C1    0.000000\n",
       "C2   -0.088467\n",
       "C3    2.645737\n",
       "C4    0.571930\n",
       "C5    2.644120\n",
       "C6    2.602174\n",
       "C7    1.229634\n",
       "dtype: float64"
      ]
     },
     "execution_count": 138,
     "metadata": {},
     "output_type": "execute_result"
    }
   ],
   "source": [
    "#Return unbiased skew\n",
    "# https://www.youtube.com/watch?v=HnMGKsupF8Q\n",
    "dframe.skew()"
   ]
  },
  {
   "cell_type": "code",
   "execution_count": 139,
   "metadata": {},
   "outputs": [
    {
     "data": {
      "text/plain": [
       "C1    0.000000\n",
       "C2   -1.664414\n",
       "C3    6.999942\n",
       "C4    1.541586\n",
       "C5    6.993404\n",
       "C6    6.819781\n",
       "C7   -0.840000\n",
       "dtype: float64"
      ]
     },
     "execution_count": 139,
     "metadata": {},
     "output_type": "execute_result"
    }
   ],
   "source": [
    "# Return unbiased kurtosis using Fisher’s definition of kurtosis\n",
    "# https://www.youtube.com/watch?v=HnMGKsupF8Q\n",
    "dframe.kurt()"
   ]
  },
  {
   "cell_type": "code",
   "execution_count": 140,
   "metadata": {},
   "outputs": [
    {
     "data": {
      "text/html": [
       "<div>\n",
       "<style scoped>\n",
       "    .dataframe tbody tr th:only-of-type {\n",
       "        vertical-align: middle;\n",
       "    }\n",
       "\n",
       "    .dataframe tbody tr th {\n",
       "        vertical-align: top;\n",
       "    }\n",
       "\n",
       "    .dataframe thead th {\n",
       "        text-align: right;\n",
       "    }\n",
       "</style>\n",
       "<table border=\"1\" class=\"dataframe\">\n",
       "  <thead>\n",
       "    <tr style=\"text-align: right;\">\n",
       "      <th></th>\n",
       "      <th>C1</th>\n",
       "      <th>C2</th>\n",
       "      <th>C3</th>\n",
       "      <th>C4</th>\n",
       "      <th>C5</th>\n",
       "      <th>C6</th>\n",
       "      <th>C7</th>\n",
       "    </tr>\n",
       "  </thead>\n",
       "  <tbody>\n",
       "    <tr>\n",
       "      <th>C1</th>\n",
       "      <td>NaN</td>\n",
       "      <td>NaN</td>\n",
       "      <td>NaN</td>\n",
       "      <td>NaN</td>\n",
       "      <td>NaN</td>\n",
       "      <td>NaN</td>\n",
       "      <td>NaN</td>\n",
       "    </tr>\n",
       "    <tr>\n",
       "      <th>C2</th>\n",
       "      <td>NaN</td>\n",
       "      <td>1.000000</td>\n",
       "      <td>-0.196553</td>\n",
       "      <td>0.419917</td>\n",
       "      <td>-0.355918</td>\n",
       "      <td>-0.618377</td>\n",
       "      <td>-0.040250</td>\n",
       "    </tr>\n",
       "    <tr>\n",
       "      <th>C3</th>\n",
       "      <td>NaN</td>\n",
       "      <td>-0.196553</td>\n",
       "      <td>1.000000</td>\n",
       "      <td>-0.339092</td>\n",
       "      <td>-0.174454</td>\n",
       "      <td>-0.110586</td>\n",
       "      <td>-0.257340</td>\n",
       "    </tr>\n",
       "    <tr>\n",
       "      <th>C4</th>\n",
       "      <td>NaN</td>\n",
       "      <td>0.419917</td>\n",
       "      <td>-0.339092</td>\n",
       "      <td>1.000000</td>\n",
       "      <td>-0.628731</td>\n",
       "      <td>0.020293</td>\n",
       "      <td>0.125031</td>\n",
       "    </tr>\n",
       "    <tr>\n",
       "      <th>C5</th>\n",
       "      <td>NaN</td>\n",
       "      <td>-0.355918</td>\n",
       "      <td>-0.174454</td>\n",
       "      <td>-0.628731</td>\n",
       "      <td>1.000000</td>\n",
       "      <td>-0.197545</td>\n",
       "      <td>0.645234</td>\n",
       "    </tr>\n",
       "    <tr>\n",
       "      <th>C6</th>\n",
       "      <td>NaN</td>\n",
       "      <td>-0.618377</td>\n",
       "      <td>-0.110586</td>\n",
       "      <td>0.020293</td>\n",
       "      <td>-0.197545</td>\n",
       "      <td>1.000000</td>\n",
       "      <td>-0.300129</td>\n",
       "    </tr>\n",
       "    <tr>\n",
       "      <th>C7</th>\n",
       "      <td>NaN</td>\n",
       "      <td>-0.040250</td>\n",
       "      <td>-0.257340</td>\n",
       "      <td>0.125031</td>\n",
       "      <td>0.645234</td>\n",
       "      <td>-0.300129</td>\n",
       "      <td>1.000000</td>\n",
       "    </tr>\n",
       "  </tbody>\n",
       "</table>\n",
       "</div>"
      ],
      "text/plain": [
       "    C1        C2        C3        C4        C5        C6        C7\n",
       "C1 NaN       NaN       NaN       NaN       NaN       NaN       NaN\n",
       "C2 NaN  1.000000 -0.196553  0.419917 -0.355918 -0.618377 -0.040250\n",
       "C3 NaN -0.196553  1.000000 -0.339092 -0.174454 -0.110586 -0.257340\n",
       "C4 NaN  0.419917 -0.339092  1.000000 -0.628731  0.020293  0.125031\n",
       "C5 NaN -0.355918 -0.174454 -0.628731  1.000000 -0.197545  0.645234\n",
       "C6 NaN -0.618377 -0.110586  0.020293 -0.197545  1.000000 -0.300129\n",
       "C7 NaN -0.040250 -0.257340  0.125031  0.645234 -0.300129  1.000000"
      ]
     },
     "execution_count": 140,
     "metadata": {},
     "output_type": "execute_result"
    }
   ],
   "source": [
    "#Correlation\n",
    "# https://www.youtube.com/watch?v=qtaqvPAeEJY&list=PLblh5JKOoLUK0FLuzwntyYI10UQFUhsY9&index=10\n",
    "# https://www.youtube.com/watch?v=xZ_z8KWkhXE&list=PLblh5JKOoLUK0FLuzwntyYI10UQFUhsY9&index=11\n",
    "dframe.corr()"
   ]
  },
  {
   "cell_type": "code",
   "execution_count": null,
   "metadata": {},
   "outputs": [],
   "source": [
    "#Covariance\n",
    "# https://www.youtube.com/watch?v=qtaqvPAeEJY&list=PLblh5JKOoLUK0FLuzwntyYI10UQFUhsY9&index=10\n",
    "# https://www.youtube.com/watch?v=xZ_z8KWkhXE&list=PLblh5JKOoLUK0FLuzwntyYI10UQFUhsY9&index=11\n",
    "dframe.cov()"
   ]
  },
  {
   "cell_type": "code",
   "execution_count": null,
   "metadata": {},
   "outputs": [],
   "source": [
    "import statistics as st\n",
    "dframe.at[3:6,'C1'] = 22\n",
    "dframe"
   ]
  },
  {
   "cell_type": "code",
   "execution_count": null,
   "metadata": {},
   "outputs": [],
   "source": [
    "# Average \n",
    "st.mean(dframe['C1'])"
   ]
  },
  {
   "cell_type": "code",
   "execution_count": null,
   "metadata": {},
   "outputs": [],
   "source": [
    "# Hormonic Mean\n",
    "st.harmonic_mean(dframe['C1'])"
   ]
  },
  {
   "cell_type": "code",
   "execution_count": null,
   "metadata": {},
   "outputs": [],
   "source": [
    "#Returns average of the two middle numbers when length is EVEN\n",
    "arr = np.array([1,2,3,4,5,6,7,8])\n",
    "st.median(arr)"
   ]
  },
  {
   "cell_type": "code",
   "execution_count": null,
   "metadata": {},
   "outputs": [],
   "source": [
    "# low median of the data with EVEN length\n",
    "st.median_low(arr)"
   ]
  },
  {
   "cell_type": "code",
   "execution_count": null,
   "metadata": {},
   "outputs": [],
   "source": [
    "# High median of the data with EVEN length\n",
    "st.median_high(arr)"
   ]
  },
  {
   "cell_type": "code",
   "execution_count": null,
   "metadata": {},
   "outputs": [],
   "source": [
    "# Mode of Dataset\n",
    "st.mode(dframe['C7'])"
   ]
  },
  {
   "cell_type": "code",
   "execution_count": null,
   "metadata": {},
   "outputs": [],
   "source": [
    "# Sample Variance\n",
    "st.variance(dframe['C1'])"
   ]
  },
  {
   "cell_type": "code",
   "execution_count": null,
   "metadata": {},
   "outputs": [],
   "source": [
    "#Population Variance\n",
    "st.pvariance(dframe['C1'])"
   ]
  },
  {
   "cell_type": "code",
   "execution_count": null,
   "metadata": {},
   "outputs": [],
   "source": [
    "#Sample  Standard Deviation\n",
    "st.stdev(dframe['C1'])"
   ]
  },
  {
   "cell_type": "code",
   "execution_count": null,
   "metadata": {},
   "outputs": [],
   "source": [
    "#Population Standard Deviation\n",
    "st.pstdev(dframe['C1'])"
   ]
  },
  {
   "cell_type": "markdown",
   "metadata": {},
   "source": [
    "## Apply function on Dataframe"
   ]
  },
  {
   "cell_type": "code",
   "execution_count": null,
   "metadata": {},
   "outputs": [],
   "source": [
    "dframe"
   ]
  },
  {
   "cell_type": "code",
   "execution_count": null,
   "metadata": {},
   "outputs": [],
   "source": [
    "# Finding MAX value in Columns\n",
    "dframe.apply(max)"
   ]
  },
  {
   "cell_type": "code",
   "execution_count": null,
   "metadata": {},
   "outputs": [],
   "source": [
    "# Finding minimum value in Columns\n",
    "dframe.apply(min)"
   ]
  },
  {
   "cell_type": "code",
   "execution_count": null,
   "metadata": {},
   "outputs": [],
   "source": [
    "#Sum of Column Values\n",
    "dframe.apply(sum)"
   ]
  },
  {
   "cell_type": "code",
   "execution_count": null,
   "metadata": {},
   "outputs": [],
   "source": [
    "#Sum of Column Values\n",
    "dframe.apply(np.sum)"
   ]
  },
  {
   "cell_type": "code",
   "execution_count": null,
   "metadata": {},
   "outputs": [],
   "source": [
    "# Sum of rows\n",
    "dframe.apply(np.sum ,axis=1)"
   ]
  },
  {
   "cell_type": "code",
   "execution_count": null,
   "metadata": {},
   "outputs": [],
   "source": [
    "# Square root of all values in a DataFrame\n",
    "dframe.applymap(np.sqrt)"
   ]
  },
  {
   "cell_type": "code",
   "execution_count": null,
   "metadata": {},
   "outputs": [],
   "source": [
    "# Square root of all values in a DataFrame\n",
    "dframe.applymap(math.sqrt)"
   ]
  },
  {
   "cell_type": "code",
   "execution_count": null,
   "metadata": {},
   "outputs": [],
   "source": [
    "dframe.applymap(float)"
   ]
  },
  {
   "cell_type": "code",
   "execution_count": null,
   "metadata": {},
   "outputs": [],
   "source": [
    "# Using Lambda function in Dataframes\n",
    "dframe.apply(lambda x: min(x))"
   ]
  },
  {
   "cell_type": "code",
   "execution_count": null,
   "metadata": {},
   "outputs": [],
   "source": [
    "# Using Lambda function in Dataframes\n",
    "dframe.apply(lambda x: x*x)"
   ]
  },
  {
   "cell_type": "markdown",
   "metadata": {},
   "source": [
    "# Merge Dataframes"
   ]
  },
  {
   "cell_type": "code",
   "execution_count": null,
   "metadata": {},
   "outputs": [],
   "source": [
    "daf1 =  pd.DataFrame ({'id': ['1', '2', '3', '4', '5'], 'Name': ['Asif', 'Basit', 'Bran', 'John', 'David']})\n",
    "daf1"
   ]
  },
  {
   "cell_type": "code",
   "execution_count": null,
   "metadata": {},
   "outputs": [],
   "source": [
    "daf2 =  pd.DataFrame ({'id': ['1', '2', '6', '7', '8'], 'Score': [40 , 60 , 80 , 90 , 70]})\n",
    "daf2"
   ]
  },
  {
   "cell_type": "code",
   "execution_count": null,
   "metadata": {},
   "outputs": [],
   "source": [
    "# Inner Join\n",
    "pd.merge(daf1, daf2, on='id', how='inner')"
   ]
  },
  {
   "cell_type": "code",
   "execution_count": null,
   "metadata": {},
   "outputs": [],
   "source": [
    "# Full Outer Join\n",
    "pd.merge(daf1, daf2, on='id', how='outer')"
   ]
  },
  {
   "cell_type": "code",
   "execution_count": null,
   "metadata": {},
   "outputs": [],
   "source": [
    "# Left Outer Join\n",
    "pd.merge(daf1, daf2, on='id', how='left')"
   ]
  },
  {
   "cell_type": "code",
   "execution_count": null,
   "metadata": {},
   "outputs": [],
   "source": [
    "#Right Outer Join\n",
    "pd.merge(daf1, daf2, on='id', how='right')"
   ]
  },
  {
   "cell_type": "markdown",
   "metadata": {},
   "source": [
    "# Importing multiple CSV files in DataFrame\n",
    "> https://github.com/CSSEGISandData/COVID-19/tree/master/csse_covid_19_data/csse_covid_19_daily_reports"
   ]
  },
  {
   "cell_type": "code",
   "execution_count": null,
   "metadata": {},
   "outputs": [],
   "source": [
    "# Append all CSV files \n",
    "path =r'C:\\Users\\DELL\\Documents\\GitHub\\Public\\COVID-19\\csse_covid_19_data\\`'\n",
    "filenames = glob.glob(path + \"/*.csv\")\n",
    "covid = pd.DataFrame()\n",
    "for f in filenames:\n",
    "    df = pd.read_csv(f)\n",
    "    covid = covid.append(df,ignore_index=True,sort=True)"
   ]
  },
  {
   "cell_type": "code",
   "execution_count": null,
   "metadata": {},
   "outputs": [],
   "source": [
    "# Top 10 rows of the Dataframe\n",
    "covid.head(10)"
   ]
  },
  {
   "cell_type": "code",
   "execution_count": null,
   "metadata": {},
   "outputs": [],
   "source": [
    "# Bottom 10 rows of the Dataframe\n",
    "covid.tail(10)"
   ]
  },
  {
   "cell_type": "code",
   "execution_count": null,
   "metadata": {},
   "outputs": [],
   "source": [
    "# Reading columns\n",
    "covid['Country/Region'].head(10)"
   ]
  },
  {
   "cell_type": "code",
   "execution_count": null,
   "metadata": {},
   "outputs": [],
   "source": [
    "# Reading columns\n",
    "df1 = covid[['Country/Region' ,'Province/State','Confirmed' , 'Last Update']]\n",
    "df1.head(10)"
   ]
  },
  {
   "cell_type": "code",
   "execution_count": null,
   "metadata": {},
   "outputs": [],
   "source": [
    "#Read specific rows \n",
    "df1.iloc[1:4]"
   ]
  },
  {
   "cell_type": "code",
   "execution_count": null,
   "metadata": {},
   "outputs": [],
   "source": [
    "#Filter data \n",
    "df1.loc[df1['Country/Region']== 'India']"
   ]
  },
  {
   "cell_type": "code",
   "execution_count": null,
   "metadata": {},
   "outputs": [],
   "source": [
    "#Sort Data Frame\n",
    "display('Sorted Data Frame', df1.sort_values(['Country/Region'], ascending=True).head(5))"
   ]
  },
  {
   "cell_type": "code",
   "execution_count": null,
   "metadata": {},
   "outputs": [],
   "source": [
    "#Sort Data Frame\n",
    "display('Sorted Data Frame', df1.sort_values(['Country/Region'], ascending=False).head(5))"
   ]
  },
  {
   "cell_type": "code",
   "execution_count": null,
   "metadata": {},
   "outputs": [],
   "source": [
    "#Sort Data Frame - Ascending on \"Country\" & descending on \"Last update\"\n",
    "display('Sorted Data Frame', df1.sort_values(['Country/Region', 'Last Update'], ascending=[1,0]).head(5))"
   ]
  },
  {
   "cell_type": "code",
   "execution_count": null,
   "metadata": {},
   "outputs": [],
   "source": [
    "#Iterating through the dataset\n",
    "for index , row in df1.iterrows():\n",
    "    if (row['Country/Region'] == 'Indonesia' ):\n",
    "        display(row[['Country/Region' ,'Confirmed']])"
   ]
  },
  {
   "cell_type": "code",
   "execution_count": null,
   "metadata": {},
   "outputs": [],
   "source": [
    "#Unique Values\n",
    "covid['Country/Region'].drop_duplicates(keep='first').head(10)"
   ]
  },
  {
   "cell_type": "code",
   "execution_count": null,
   "metadata": {},
   "outputs": [],
   "source": [
    "# Countries impacted with Coronavirus\n",
    "countries = covid['Country/Region'].unique()\n",
    "type(countries) , countries"
   ]
  },
  {
   "cell_type": "code",
   "execution_count": null,
   "metadata": {},
   "outputs": [],
   "source": [
    "df2 = pd.read_csv('Pokemon.csv')\n",
    "df2.head(5)"
   ]
  },
  {
   "cell_type": "code",
   "execution_count": null,
   "metadata": {},
   "outputs": [],
   "source": [
    "# Sum of Columns \n",
    "df2['Total'] = df2['HP'] + df2['Attack']\n",
    "df2.head(5)"
   ]
  },
  {
   "cell_type": "code",
   "execution_count": null,
   "metadata": {},
   "outputs": [],
   "source": [
    "# Sum of Columns \n",
    "df2['Total'] = df2.iloc[:,4:10].sum(axis=1)\n",
    "df2.head(5)"
   ]
  },
  {
   "cell_type": "code",
   "execution_count": null,
   "metadata": {},
   "outputs": [],
   "source": [
    "#Shifting \"Total\" column\n",
    "\n",
    "cols = list(df2.columns)\n",
    "\n",
    "df2 = df2[cols[0:10] + [cols[-1]] + cols[10:12]]\n",
    "df2.head(5)"
   ]
  },
  {
   "cell_type": "code",
   "execution_count": null,
   "metadata": {},
   "outputs": [],
   "source": [
    "#Shifting \"Legendary\" column -  Index location -1 or 12\n",
    "\n",
    "cols = list(df2.columns)\n",
    "\n",
    "df2 = df2[cols[0:10] + [cols[-1]] + cols[10:12]]\n",
    "df2.head(5)"
   ]
  },
  {
   "cell_type": "code",
   "execution_count": null,
   "metadata": {},
   "outputs": [],
   "source": [
    "#Shifting \"Generation\" column - Index location -1 or 12\n",
    "\n",
    "cols = list(df2.columns)\n",
    "\n",
    "df2 = df2[cols[0:10] + [cols[12]] + cols[10:12]]\n",
    "df2.head(5)"
   ]
  },
  {
   "cell_type": "code",
   "execution_count": null,
   "metadata": {},
   "outputs": [],
   "source": [
    "#Save to CSV file\n",
    "\n",
    "df2.to_csv('poke_updated.csv')"
   ]
  },
  {
   "cell_type": "code",
   "execution_count": null,
   "metadata": {},
   "outputs": [],
   "source": [
    "#Save to CSV file without index column\n",
    "\n",
    "df2.to_csv('poke_updated1.csv', index=False)"
   ]
  },
  {
   "cell_type": "code",
   "execution_count": null,
   "metadata": {},
   "outputs": [],
   "source": [
    "df2.head(10)"
   ]
  },
  {
   "cell_type": "code",
   "execution_count": null,
   "metadata": {},
   "outputs": [],
   "source": [
    "# Save Dataframe as text file\n",
    "df2.to_csv('poke.txt' , sep='\\t' , index=False)"
   ]
  },
  {
   "cell_type": "code",
   "execution_count": null,
   "metadata": {},
   "outputs": [],
   "source": [
    "# Save Dataframe as xlsx file\n",
    "df2.to_excel('poke.xlsx')"
   ]
  },
  {
   "cell_type": "code",
   "execution_count": null,
   "metadata": {},
   "outputs": [],
   "source": [
    "# Save Dataframe as xlsx file without row names\n",
    "df2.to_excel('poke.xlsx', index=0)"
   ]
  },
  {
   "cell_type": "code",
   "execution_count": null,
   "metadata": {},
   "outputs": [],
   "source": [
    "#Filtering using loc\n",
    "\n",
    "df2.loc[df2['Type 2'] == 'Dragon']"
   ]
  },
  {
   "cell_type": "code",
   "execution_count": null,
   "metadata": {},
   "outputs": [],
   "source": [
    "#Filtering using loc\n",
    "df3 = df2.loc[(df2['Type 2'] == 'Dragon') & (df2['Type 1'] == 'Dark')]\n",
    "df3"
   ]
  },
  {
   "cell_type": "code",
   "execution_count": null,
   "metadata": {},
   "outputs": [],
   "source": [
    "#Reset index for Dataframe df3 keeping old index column\n",
    "\n",
    "df4 = df3.reset_index()\n",
    "df4"
   ]
  },
  {
   "cell_type": "code",
   "execution_count": null,
   "metadata": {},
   "outputs": [],
   "source": [
    "#Reset index for Dataframe df3 removing old index column\n",
    "\n",
    "df3.reset_index(drop=True , inplace=True)\n",
    "df3"
   ]
  },
  {
   "cell_type": "code",
   "execution_count": null,
   "metadata": {},
   "outputs": [],
   "source": [
    "df2.head(10)"
   ]
  },
  {
   "cell_type": "markdown",
   "metadata": {},
   "source": [
    "# LIKE OPERATION IN PANDAS"
   ]
  },
  {
   "cell_type": "code",
   "execution_count": null,
   "metadata": {},
   "outputs": [],
   "source": [
    "df2.Name.str.contains(\"rill\").head(10)"
   ]
  },
  {
   "cell_type": "code",
   "execution_count": null,
   "metadata": {},
   "outputs": [],
   "source": [
    "# Display all rows containing Name \"rill\"\n",
    "df2.loc[df2.Name.str.contains(\"rill\")]"
   ]
  },
  {
   "cell_type": "code",
   "execution_count": null,
   "metadata": {},
   "outputs": [],
   "source": [
    "# Exclude all rows containing \"rill\"\n",
    "df2.loc[~df2.Name.str.contains(\"rill\")].head(10)"
   ]
  },
  {
   "cell_type": "code",
   "execution_count": null,
   "metadata": {},
   "outputs": [],
   "source": [
    "#Display all rows with Type-1 as \"Grass\" and Type-2 as \"Poison\"\n",
    "\n",
    "df2.loc[df2['Type 1'].str.contains(\"Grass\") & df2['Type 2'].str.contains(\"Poison\")]"
   ]
  },
  {
   "cell_type": "code",
   "execution_count": null,
   "metadata": {},
   "outputs": [],
   "source": [
    "df2.loc[df2['Type 1'].str.contains('Grass|Water',regex = True)].head(10)"
   ]
  },
  {
   "cell_type": "code",
   "execution_count": null,
   "metadata": {},
   "outputs": [],
   "source": [
    "# Due to Case-sensitive it will not return any data\n",
    "\n",
    "df2.loc[df2['Type 1'].str.contains('grass|water',regex = True)].head(10)"
   ]
  },
  {
   "cell_type": "code",
   "execution_count": null,
   "metadata": {},
   "outputs": [],
   "source": [
    "# To ignore case we can use \"case = False\"\n",
    "\n",
    "df2.loc[df2['Type 1'].str.contains('grass|water', case = False ,regex = True)].head(10)"
   ]
  },
  {
   "cell_type": "code",
   "execution_count": null,
   "metadata": {},
   "outputs": [],
   "source": [
    "# To ignore case we can use \"Flags = re.I\"\n",
    "\n",
    "df2.loc[df2['Type 1'].str.contains('grass|water',flags = re.I ,regex = True)].head(10)"
   ]
  },
  {
   "cell_type": "markdown",
   "metadata": {},
   "source": [
    "# Regex in Pandas dataframe"
   ]
  },
  {
   "cell_type": "code",
   "execution_count": null,
   "metadata": {},
   "outputs": [],
   "source": [
    "#Get all rows with name starting with \"wa\"\n",
    "\n",
    "df2.loc[df2.Name.str.contains('^Wa',flags = re.I ,regex = True)].head(10)"
   ]
  },
  {
   "cell_type": "code",
   "execution_count": null,
   "metadata": {},
   "outputs": [],
   "source": [
    "#Get all rows with name starting with \"wa\" followed by any letter between a-l\n",
    "\n",
    "df2.loc[df2.Name.str.contains('^Wa[a-l]+',flags = re.I ,regex = True)].head(10)"
   ]
  },
  {
   "cell_type": "code",
   "execution_count": null,
   "metadata": {},
   "outputs": [],
   "source": [
    "#Get all rows with name starting with x , y, z\n",
    "\n",
    "df2.loc[df2.Name.str.contains('^[x-z]',flags = re.I ,regex = True)]"
   ]
  },
  {
   "cell_type": "code",
   "execution_count": null,
   "metadata": {},
   "outputs": [],
   "source": [
    "# Extracting first 3 characters from \"Name\" column\n",
    "df2['Name2'] = df2.Name.str.extract(r'(^\\w{3})')"
   ]
  },
  {
   "cell_type": "code",
   "execution_count": null,
   "metadata": {},
   "outputs": [],
   "source": [
    "df2.head(5)"
   ]
  },
  {
   "cell_type": "code",
   "execution_count": null,
   "metadata": {},
   "outputs": [],
   "source": [
    "# Return all rows with \"Name\" starting with character 'B or b' \n",
    "df2.loc[df2.Name.str.match(r'(^[B|b].*)')].head(5)"
   ]
  },
  {
   "cell_type": "markdown",
   "metadata": {},
   "source": [
    "# Replace values in dataframe"
   ]
  },
  {
   "cell_type": "code",
   "execution_count": null,
   "metadata": {},
   "outputs": [],
   "source": [
    "df2.head(10)"
   ]
  },
  {
   "cell_type": "code",
   "execution_count": null,
   "metadata": {},
   "outputs": [],
   "source": [
    "df2['Type 1'] = df2['Type 1'].replace({\"Grass\" : \"Meadow\" , \"Fire\" :\"Blaze\"})"
   ]
  },
  {
   "cell_type": "code",
   "execution_count": null,
   "metadata": {},
   "outputs": [],
   "source": [
    "df2.head(10)"
   ]
  },
  {
   "cell_type": "code",
   "execution_count": null,
   "metadata": {},
   "outputs": [],
   "source": [
    "df2['Type 2'] = df2['Type 2'].replace({\"Poison\" : \"Venom\"})"
   ]
  },
  {
   "cell_type": "code",
   "execution_count": null,
   "metadata": {},
   "outputs": [],
   "source": [
    "df2.head(5)"
   ]
  },
  {
   "cell_type": "code",
   "execution_count": null,
   "metadata": {},
   "outputs": [],
   "source": [
    "df2['Type 2'] = df2['Type 2'].replace(['Venom' , 'Dragon'] , 'DANGER')"
   ]
  },
  {
   "cell_type": "code",
   "execution_count": null,
   "metadata": {},
   "outputs": [],
   "source": [
    "df2.head(10)"
   ]
  },
  {
   "cell_type": "code",
   "execution_count": null,
   "metadata": {},
   "outputs": [],
   "source": [
    "df2.loc[df2['Type 2'] == 'DANGER' , 'Name2'] = np.NaN"
   ]
  },
  {
   "cell_type": "code",
   "execution_count": null,
   "metadata": {},
   "outputs": [],
   "source": [
    "df2.head(10)"
   ]
  },
  {
   "cell_type": "code",
   "execution_count": null,
   "metadata": {},
   "outputs": [],
   "source": [
    "df2.loc[df2['Total'] > 400 , ['Name2' , 'Legendary']] = 'ALERT'\n",
    "df2.head(10)"
   ]
  },
  {
   "cell_type": "code",
   "execution_count": null,
   "metadata": {},
   "outputs": [],
   "source": [
    "df2.loc[df2['Total'] > 400 , ['Legendary' , 'Name2']] = ['ALERT-1' , 'ALERT-2'] \n",
    "df2.head(10)"
   ]
  },
  {
   "cell_type": "markdown",
   "metadata": {},
   "source": [
    "# Group By"
   ]
  },
  {
   "cell_type": "code",
   "execution_count": null,
   "metadata": {},
   "outputs": [],
   "source": [
    "df = pd.read_csv('poke_updated1.csv')\n",
    "df.head(5)"
   ]
  },
  {
   "cell_type": "code",
   "execution_count": null,
   "metadata": {},
   "outputs": [],
   "source": [
    "df.groupby(['Type 1']).mean().head(10)"
   ]
  },
  {
   "cell_type": "code",
   "execution_count": null,
   "metadata": {},
   "outputs": [],
   "source": [
    "df.groupby(['Type 1']).mean().sort_values('Attack' , ascending = False).head(10)"
   ]
  },
  {
   "cell_type": "code",
   "execution_count": null,
   "metadata": {},
   "outputs": [],
   "source": [
    "df.groupby(['Type 1']).mean().sort_values('Defense' , ascending = False).head(10)"
   ]
  },
  {
   "cell_type": "code",
   "execution_count": null,
   "metadata": {},
   "outputs": [],
   "source": [
    "df.groupby(['Type 1']).mean().sort_values('Speed' , ascending = False).head(10)"
   ]
  },
  {
   "cell_type": "code",
   "execution_count": null,
   "metadata": {},
   "outputs": [],
   "source": [
    "df.sum()"
   ]
  },
  {
   "cell_type": "code",
   "execution_count": null,
   "metadata": {},
   "outputs": [],
   "source": [
    "df.groupby(['Type 2']).sum().head(5)"
   ]
  },
  {
   "cell_type": "code",
   "execution_count": null,
   "metadata": {},
   "outputs": [],
   "source": [
    "df.count()"
   ]
  },
  {
   "cell_type": "code",
   "execution_count": null,
   "metadata": {},
   "outputs": [],
   "source": [
    "df['count1'] = 0\n",
    "df.groupby(['Type 2']).count()['count1']"
   ]
  },
  {
   "cell_type": "code",
   "execution_count": null,
   "metadata": {},
   "outputs": [],
   "source": [
    "df['count1'] = 0\n",
    "df.groupby(['Type 1']).count()['count1']"
   ]
  },
  {
   "cell_type": "code",
   "execution_count": null,
   "metadata": {},
   "outputs": [],
   "source": [
    "df['count1'] = 0\n",
    "df.groupby(['Type 1' , 'Type 2' , 'Legendary']).count()['count1']"
   ]
  },
  {
   "cell_type": "markdown",
   "metadata": {},
   "source": [
    "# Loading Data in Chunks"
   ]
  },
  {
   "cell_type": "code",
   "execution_count": null,
   "metadata": {},
   "outputs": [],
   "source": [
    "for df in pd.read_csv('poke_updated1.csv', chunksize=10):\n",
    "    print(df)"
   ]
  },
  {
   "cell_type": "code",
   "execution_count": null,
   "metadata": {},
   "outputs": [],
   "source": [
    "df"
   ]
  },
  {
   "cell_type": "code",
   "execution_count": null,
   "metadata": {},
   "outputs": [],
   "source": [
    "df1 = pd.DataFrame()\n",
    "for df in pd.read_csv('poke_updated1.csv', chunksize=10):\n",
    "    df1 = pd.concat([df1 ,df])\n",
    "df1.head(15)"
   ]
  },
  {
   "cell_type": "markdown",
   "metadata": {},
   "source": [
    "# Stack & unstack in Pandas"
   ]
  },
  {
   "cell_type": "code",
   "execution_count": null,
   "metadata": {},
   "outputs": [],
   "source": [
    "col = pd.MultiIndex.from_product([['2010','2015'],['Literacy' , 'GDP']])\n",
    "\n",
    "data =([[80,7,88,6],[90,8,92,7],[89,7,91,8],[87,6,93,8]])\n",
    "\n",
    "df6 = pd.DataFrame(data, index=['India','USA' , 'Russia' , 'China'], columns=col)\n",
    "df6"
   ]
  },
  {
   "cell_type": "code",
   "execution_count": null,
   "metadata": {},
   "outputs": [],
   "source": [
    "# Stack() Function stacks the columns to rows.\n",
    "st_df = df6.stack()\n",
    "st_df"
   ]
  },
  {
   "cell_type": "code",
   "execution_count": null,
   "metadata": {},
   "outputs": [],
   "source": [
    "#Unstacks the row to columns\n",
    "unst_df = st_df.unstack()\n",
    "unst_df"
   ]
  },
  {
   "cell_type": "code",
   "execution_count": null,
   "metadata": {},
   "outputs": [],
   "source": [
    "unst_df = unst_df.unstack()\n",
    "unst_df"
   ]
  },
  {
   "cell_type": "code",
   "execution_count": null,
   "metadata": {},
   "outputs": [],
   "source": [
    "unst_df = unst_df.unstack()\n",
    "unst_df"
   ]
  },
  {
   "cell_type": "markdown",
   "metadata": {},
   "source": [
    "# PIVOT Tables"
   ]
  },
  {
   "cell_type": "code",
   "execution_count": null,
   "metadata": {},
   "outputs": [],
   "source": [
    "data = {\n",
    "    'Country':['India','USA' , 'Russia' , 'China','India','USA' , 'Russia' , 'China','India','USA' , 'Russia' , 'China','India','USA' , 'Russia' , 'China'],\n",
    "    'Year':['2010','2010','2010','2010' , '2010','2010','2010','2010','2015','2015','2015','2015','2015','2015','2015','2015'],\n",
    "     \n",
    "    'Literacy/GDP':['GDP' , 'GDP' , 'GDP' , 'GDP','Literacy' , 'Literacy', 'Literacy' , 'Literacy','GDP' , 'GDP','GDP' , 'GDP','Literacy' , 'Literacy','Literacy' , 'Literacy'],\n",
    "   'Value':[7,8,7,6,80,90,89,87,6,7,8, 8, 88 , 92 , 91 ,93]}\n",
    " \n",
    "df7 = pd.DataFrame(data,columns=['Country','Year','Literacy/GDP','Value'])\n",
    "df7"
   ]
  },
  {
   "cell_type": "code",
   "execution_count": null,
   "metadata": {},
   "outputs": [],
   "source": [
    "# Pivot table with SUM aggregation\n",
    "pd.pivot_table(df7 , index= ['Year' , 'Literacy/GDP'] , aggfunc='sum')"
   ]
  },
  {
   "cell_type": "code",
   "execution_count": null,
   "metadata": {},
   "outputs": [],
   "source": [
    "# Pivot table with MEAN aggregation\n",
    "pd.pivot_table(df7 , index= ['Year' , 'Literacy/GDP'] , aggfunc='mean')"
   ]
  },
  {
   "cell_type": "markdown",
   "metadata": {},
   "source": [
    "# Hierarchical indexing"
   ]
  },
  {
   "cell_type": "code",
   "execution_count": null,
   "metadata": {},
   "outputs": [],
   "source": [
    "df7"
   ]
  },
  {
   "cell_type": "code",
   "execution_count": null,
   "metadata": {},
   "outputs": [],
   "source": [
    "df8=df7.set_index(['Year', 'Literacy/GDP'])\n",
    "df8"
   ]
  },
  {
   "cell_type": "code",
   "execution_count": null,
   "metadata": {},
   "outputs": [],
   "source": [
    "df8.index"
   ]
  },
  {
   "cell_type": "code",
   "execution_count": null,
   "metadata": {},
   "outputs": [],
   "source": [
    "df8.loc['2010']"
   ]
  },
  {
   "cell_type": "code",
   "execution_count": null,
   "metadata": {},
   "outputs": [],
   "source": [
    "df8.loc[['2010']]"
   ]
  },
  {
   "cell_type": "code",
   "execution_count": null,
   "metadata": {},
   "outputs": [],
   "source": [
    "df8.loc['2015','Literacy']"
   ]
  },
  {
   "cell_type": "code",
   "execution_count": null,
   "metadata": {},
   "outputs": [],
   "source": [
    "df8.loc['2015','Literacy']"
   ]
  },
  {
   "cell_type": "code",
   "execution_count": null,
   "metadata": {},
   "outputs": [],
   "source": [
    "df8=df7.set_index(['Year', 'Literacy/GDP' , 'Country'])\n",
    "df8"
   ]
  },
  {
   "cell_type": "markdown",
   "metadata": {},
   "source": [
    "### SWAP Columns in Hierarchical indexing"
   ]
  },
  {
   "cell_type": "code",
   "execution_count": null,
   "metadata": {},
   "outputs": [],
   "source": [
    "df7"
   ]
  },
  {
   "cell_type": "code",
   "execution_count": null,
   "metadata": {},
   "outputs": [],
   "source": [
    "df8=df7.set_index(['Year', 'Literacy/GDP'])\n",
    "df8"
   ]
  },
  {
   "cell_type": "code",
   "execution_count": null,
   "metadata": {},
   "outputs": [],
   "source": [
    "# Swaping the columns in Hierarchical index\n",
    "df9 = df8.swaplevel('Year', 'Literacy/GDP')\n",
    "df9"
   ]
  },
  {
   "cell_type": "code",
   "execution_count": null,
   "metadata": {},
   "outputs": [],
   "source": [
    "# Swaping the columns in Hierarchical index\n",
    "df9 = df9.swaplevel('Year', 'Literacy/GDP')\n",
    "df9"
   ]
  },
  {
   "cell_type": "markdown",
   "metadata": {},
   "source": [
    "# Crosstab in Pandas"
   ]
  },
  {
   "cell_type": "code",
   "execution_count": null,
   "metadata": {},
   "outputs": [],
   "source": [
    "df7"
   ]
  },
  {
   "cell_type": "code",
   "execution_count": null,
   "metadata": {},
   "outputs": [],
   "source": [
    "pd.crosstab(df7['Literacy/GDP'] , df7.Value , margins=True)"
   ]
  },
  {
   "cell_type": "code",
   "execution_count": null,
   "metadata": {},
   "outputs": [],
   "source": [
    "# 2 way cross table\n",
    "pd.crosstab(df7.Year , df7['Literacy/GDP'] , margins=True)"
   ]
  },
  {
   "cell_type": "code",
   "execution_count": null,
   "metadata": {},
   "outputs": [],
   "source": [
    "# 3 way cross table\n",
    "pd.crosstab([df7.Year , df7['Literacy/GDP']] , df7.Country, margins=True)"
   ]
  },
  {
   "cell_type": "markdown",
   "metadata": {},
   "source": [
    "# Row & Column Bind"
   ]
  },
  {
   "cell_type": "markdown",
   "metadata": {},
   "source": [
    "### Row Bind"
   ]
  },
  {
   "cell_type": "code",
   "execution_count": null,
   "metadata": {},
   "outputs": [],
   "source": [
    "df8 = pd.DataFrame({'ID' :[1,2,3,4] ,  'Name' :['Asif' , 'Basit' , 'Ross' , 'John'] , 'Score' :[99 , 66 , 44 , 33]})\n",
    "df8"
   ]
  },
  {
   "cell_type": "code",
   "execution_count": null,
   "metadata": {},
   "outputs": [],
   "source": [
    "df9 = pd.DataFrame({'ID' :[5,6,7,8] ,  'Name' :['Michelle' , 'Ramiro' , 'Vignesh' , 'Damon'] , 'Score' :[78 , 54 , 77 , 87]})\n",
    "df9"
   ]
  },
  {
   "cell_type": "code",
   "execution_count": null,
   "metadata": {},
   "outputs": [],
   "source": [
    "# Row Bind with concat() function\n",
    "pd.concat([df8 , df9])"
   ]
  },
  {
   "cell_type": "code",
   "execution_count": null,
   "metadata": {},
   "outputs": [],
   "source": [
    "# Row Bind with append() function\n",
    "df8.append(df9)"
   ]
  },
  {
   "cell_type": "markdown",
   "metadata": {},
   "source": [
    "### Column Bind"
   ]
  },
  {
   "cell_type": "code",
   "execution_count": null,
   "metadata": {},
   "outputs": [],
   "source": [
    "df10 = pd.DataFrame({'ID' :[1,2,3,4] , 'Name' :['Asif' , 'Basit' , 'Ross' , 'John']})\n",
    "df10"
   ]
  },
  {
   "cell_type": "code",
   "execution_count": null,
   "metadata": {},
   "outputs": [],
   "source": [
    "df11 = pd.DataFrame({'Age' :[20,30,35,40] , 'Score' :[99 , 66 , 44 , 33]})\n",
    "df11"
   ]
  },
  {
   "cell_type": "code",
   "execution_count": null,
   "metadata": {},
   "outputs": [],
   "source": [
    "pd.concat([df10,df11] , axis = 1)"
   ]
  }
 ],
 "metadata": {
  "kernelspec": {
   "display_name": "Python 3",
   "language": "python",
   "name": "python3"
  },
  "language_info": {
   "codemirror_mode": {
    "name": "ipython",
    "version": 3
   },
   "file_extension": ".py",
   "mimetype": "text/x-python",
   "name": "python",
   "nbconvert_exporter": "python",
   "pygments_lexer": "ipython3",
   "version": "3.7.7"
  }
 },
 "nbformat": 4,
 "nbformat_minor": 4
}
