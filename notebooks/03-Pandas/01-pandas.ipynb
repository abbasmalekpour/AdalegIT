{
 "cells": [
  {
   "cell_type": "markdown",
   "metadata": {},
   "source": [
    "<!DOCTYPE html>\n",
    "<html>\n",
    "<body>\n",
    "<div align=\"center\">\n",
    "<h3>Prepared by Asif Bhat</h3>\n",
    "    \n",
    "<h1>Pandas - Series & Dataframes</h1>\n",
    "\n",
    "<h3>Follow Me on - <a href=\"https://www.linkedin.com/in/asif-bhat/\">LinkedIn</a>&nbsp; <a href=\"https://mobile.twitter.com/_asifbhat_\">Twitter</a>&nbsp; <a href=\"https://www.instagram.com/datasciencescoop/?hl=en\">Instagram</a>&nbsp; <a href=\"https://www.facebook.com/datasciencescoop/\">Facebook</a></h3>\n",
    "</div>\n",
    "</body>\n",
    "</html>"
   ]
  },
  {
   "cell_type": "code",
   "execution_count": 1,
   "metadata": {},
   "outputs": [],
   "source": [
    "import numpy as np\n",
    "import pandas as pd\n",
    "import matplotlib.pyplot as plt\n",
    "import glob\n",
    "import re\n",
    "import math"
   ]
  },
  {
   "cell_type": "code",
   "execution_count": 2,
   "metadata": {},
   "outputs": [
    {
     "name": "stdout",
     "output_type": "stream",
     "text": [
      "Requirement already satisfied: numpy in /Users/Optimus/opt/anaconda3/envs/env1/lib/python3.7/site-packages (1.18.2)\n"
     ]
    }
   ],
   "source": [
    "!pip install numpy"
   ]
  },
  {
   "cell_type": "markdown",
   "metadata": {},
   "source": [
    "# Series"
   ]
  },
  {
   "cell_type": "markdown",
   "metadata": {},
   "source": [
    "## Create Series"
   ]
  },
  {
   "cell_type": "code",
   "execution_count": 3,
   "metadata": {},
   "outputs": [
    {
     "name": "stdout",
     "output_type": "stream",
     "text": [
      "[1 2 3 4 5 6 7]\n"
     ]
    },
    {
     "data": {
      "text/plain": [
       "0    1\n",
       "1    2\n",
       "2    3\n",
       "3    4\n",
       "4    5\n",
       "5    6\n",
       "6    7\n",
       "dtype: int64"
      ]
     },
     "execution_count": 3,
     "metadata": {},
     "output_type": "execute_result"
    }
   ],
   "source": [
    "# Create series from Nump Array\n",
    "v = np.array([1,2,3,4,5,6,7])\n",
    "print(v)\n",
    "s1 = pd.Series(v)\n",
    "s1"
   ]
  },
  {
   "cell_type": "code",
   "execution_count": 4,
   "metadata": {},
   "outputs": [
    {
     "data": {
      "text/plain": [
       "dtype('O')"
      ]
     },
     "execution_count": 4,
     "metadata": {},
     "output_type": "execute_result"
    }
   ],
   "source": [
    "#Datatype of Series\n",
    "sr = pd.Series(['1/1/2018', '2/1/2018', '3/1/2018', '4/1/2018'])\n",
    "sr.dtype"
   ]
  },
  {
   "cell_type": "code",
   "execution_count": 5,
   "metadata": {},
   "outputs": [
    {
     "data": {
      "text/plain": [
       "56"
      ]
     },
     "execution_count": 5,
     "metadata": {},
     "output_type": "execute_result"
    }
   ],
   "source": [
    "# Number of bytes consumed by Series\n",
    "s1.nbytes"
   ]
  },
  {
   "cell_type": "code",
   "execution_count": 6,
   "metadata": {},
   "outputs": [
    {
     "data": {
      "text/plain": [
       "(7,)"
      ]
     },
     "execution_count": 6,
     "metadata": {},
     "output_type": "execute_result"
    }
   ],
   "source": [
    "# Shape of the Series\n",
    "s1.shape"
   ]
  },
  {
   "cell_type": "code",
   "execution_count": 7,
   "metadata": {},
   "outputs": [
    {
     "data": {
      "text/plain": [
       "1"
      ]
     },
     "execution_count": 7,
     "metadata": {},
     "output_type": "execute_result"
    }
   ],
   "source": [
    "# number of dimensions\n",
    "s1.ndim"
   ]
  },
  {
   "cell_type": "code",
   "execution_count": 8,
   "metadata": {},
   "outputs": [
    {
     "data": {
      "text/plain": [
       "7"
      ]
     },
     "execution_count": 8,
     "metadata": {},
     "output_type": "execute_result"
    }
   ],
   "source": [
    "# Length of Series\n",
    "len(s1)"
   ]
  },
  {
   "cell_type": "code",
   "execution_count": 9,
   "metadata": {},
   "outputs": [
    {
     "data": {
      "text/plain": [
       "7"
      ]
     },
     "execution_count": 9,
     "metadata": {},
     "output_type": "execute_result"
    }
   ],
   "source": [
    "s1.count()"
   ]
  },
  {
   "cell_type": "code",
   "execution_count": 10,
   "metadata": {},
   "outputs": [
    {
     "data": {
      "text/plain": [
       "7"
      ]
     },
     "execution_count": 10,
     "metadata": {},
     "output_type": "execute_result"
    }
   ],
   "source": [
    "s1.size"
   ]
  },
  {
   "cell_type": "code",
   "execution_count": 11,
   "metadata": {},
   "outputs": [
    {
     "data": {
      "text/plain": [
       "a    1\n",
       "b    2\n",
       "c    3\n",
       "dtype: int64"
      ]
     },
     "execution_count": 11,
     "metadata": {},
     "output_type": "execute_result"
    }
   ],
   "source": [
    "# Create series from List \n",
    "s0 = pd.Series([1,2,3], index = ['a','b','c'])\n",
    "s0"
   ]
  },
  {
   "cell_type": "code",
   "execution_count": 12,
   "metadata": {},
   "outputs": [
    {
     "data": {
      "text/plain": [
       "a       1\n",
       "b       2\n",
       "c       3\n",
       "d       4\n",
       "e       5\n",
       "f       6\n",
       "good    7\n",
       "dtype: int64"
      ]
     },
     "execution_count": 12,
     "metadata": {},
     "output_type": "execute_result"
    }
   ],
   "source": [
    "# Modifying index in Series\n",
    "s1.index = ['a' , 'b' , 'c' , 'd' , 'e' , 'f' , 'good']\n",
    "s1"
   ]
  },
  {
   "cell_type": "code",
   "execution_count": 13,
   "metadata": {},
   "outputs": [
    {
     "data": {
      "text/plain": [
       "(array([0.56253061, 0.27479273, 0.4738658 , 0.95608777, 0.91449901,\n",
       "        0.74825497, 0.15200999, 0.54716652, 0.29102112, 0.22954612]),\n",
       " array([0, 1, 2, 3, 4, 5, 6, 7, 8, 9]),\n",
       " 0    0.562531\n",
       " 1    0.274793\n",
       " 2    0.473866\n",
       " 3    0.956088\n",
       " 4    0.914499\n",
       " 5    0.748255\n",
       " 6    0.152010\n",
       " 7    0.547167\n",
       " 8    0.291021\n",
       " 9    0.229546\n",
       " dtype: float64)"
      ]
     },
     "execution_count": 13,
     "metadata": {},
     "output_type": "execute_result"
    }
   ],
   "source": [
    "# Create Series using Random and Range function\n",
    "v2 = np.random.random(10)\n",
    "ind2 = np.arange(0,10)\n",
    "s = pd.Series(v2,ind2)\n",
    "v2 , ind2 , s"
   ]
  },
  {
   "cell_type": "code",
   "execution_count": 14,
   "metadata": {},
   "outputs": [
    {
     "data": {
      "text/plain": [
       "(a1    10\n",
       " a2    20\n",
       " a3    30\n",
       " a4    40\n",
       " dtype: int64,\n",
       " {'a1': 10, 'a2': 20, 'a3': 30, 'a4': 40})"
      ]
     },
     "execution_count": 14,
     "metadata": {},
     "output_type": "execute_result"
    }
   ],
   "source": [
    "# Creating Series from Dictionary\n",
    "dict1 = {'a1' :10 , 'a2' :20 , 'a3':30 , 'a4':40}\n",
    "s3 = pd.Series(dict1)\n",
    "s3, dict1"
   ]
  },
  {
   "cell_type": "code",
   "execution_count": 15,
   "metadata": {},
   "outputs": [
    {
     "data": {
      "text/plain": [
       "2    10\n",
       "5    10\n",
       "7    10\n",
       "dtype: int64"
      ]
     },
     "execution_count": 15,
     "metadata": {},
     "output_type": "execute_result"
    }
   ],
   "source": [
    "pd.Series(10, index=[2,5,7])"
   ]
  },
  {
   "cell_type": "code",
   "execution_count": 16,
   "metadata": {},
   "outputs": [
    {
     "data": {
      "text/plain": [
       "0    99\n",
       "1    99\n",
       "2    99\n",
       "3    99\n",
       "4    99\n",
       "5    99\n",
       "dtype: int64"
      ]
     },
     "execution_count": 16,
     "metadata": {},
     "output_type": "execute_result"
    }
   ],
   "source": [
    "pd.Series(99, index=[0, 1, 2, 3, 4, 5]) "
   ]
  },
  {
   "cell_type": "markdown",
   "metadata": {},
   "source": [
    "## Slicing Series"
   ]
  },
  {
   "cell_type": "code",
   "execution_count": 17,
   "metadata": {},
   "outputs": [
    {
     "data": {
      "text/plain": [
       "0    0.562531\n",
       "1    0.274793\n",
       "2    0.473866\n",
       "3    0.956088\n",
       "4    0.914499\n",
       "5    0.748255\n",
       "6    0.152010\n",
       "7    0.547167\n",
       "8    0.291021\n",
       "9    0.229546\n",
       "dtype: float64"
      ]
     },
     "execution_count": 17,
     "metadata": {},
     "output_type": "execute_result"
    }
   ],
   "source": [
    "s"
   ]
  },
  {
   "cell_type": "code",
   "execution_count": 18,
   "metadata": {},
   "outputs": [
    {
     "data": {
      "text/plain": [
       "0    0.562531\n",
       "1    0.274793\n",
       "2    0.473866\n",
       "3    0.956088\n",
       "4    0.914499\n",
       "5    0.748255\n",
       "6    0.152010\n",
       "7    0.547167\n",
       "8    0.291021\n",
       "9    0.229546\n",
       "dtype: float64"
      ]
     },
     "execution_count": 18,
     "metadata": {},
     "output_type": "execute_result"
    }
   ],
   "source": [
    "# Return all elements of the series\n",
    "s[:]"
   ]
  },
  {
   "cell_type": "code",
   "execution_count": 19,
   "metadata": {},
   "outputs": [
    {
     "data": {
      "text/plain": [
       "0    0.562531\n",
       "1    0.274793\n",
       "2    0.473866\n",
       "dtype: float64"
      ]
     },
     "execution_count": 19,
     "metadata": {},
     "output_type": "execute_result"
    }
   ],
   "source": [
    "# First three element of the Series\n",
    "s[0:3]"
   ]
  },
  {
   "cell_type": "code",
   "execution_count": 20,
   "metadata": {},
   "outputs": [
    {
     "data": {
      "text/plain": [
       "9    0.229546\n",
       "dtype: float64"
      ]
     },
     "execution_count": 20,
     "metadata": {},
     "output_type": "execute_result"
    }
   ],
   "source": [
    "# Last element of the Series\n",
    "s[-1:]"
   ]
  },
  {
   "cell_type": "code",
   "execution_count": 21,
   "metadata": {},
   "outputs": [
    {
     "data": {
      "text/plain": [
       "0    0.562531\n",
       "1    0.274793\n",
       "2    0.473866\n",
       "3    0.956088\n",
       "dtype: float64"
      ]
     },
     "execution_count": 21,
     "metadata": {},
     "output_type": "execute_result"
    }
   ],
   "source": [
    "# Fetch first 4 elements in a series\n",
    "s[:4]"
   ]
  },
  {
   "cell_type": "code",
   "execution_count": 22,
   "metadata": {},
   "outputs": [
    {
     "data": {
      "text/plain": [
       "0    0.562531\n",
       "1    0.274793\n",
       "2    0.473866\n",
       "3    0.956088\n",
       "4    0.914499\n",
       "5    0.748255\n",
       "6    0.152010\n",
       "7    0.547167\n",
       "dtype: float64"
      ]
     },
     "execution_count": 22,
     "metadata": {},
     "output_type": "execute_result"
    }
   ],
   "source": [
    "# Return all elements of the series except last two elements.\n",
    "s[:-2]"
   ]
  },
  {
   "cell_type": "code",
   "execution_count": 23,
   "metadata": {},
   "outputs": [
    {
     "data": {
      "text/plain": [
       "0    0.562531\n",
       "1    0.274793\n",
       "2    0.473866\n",
       "3    0.956088\n",
       "4    0.914499\n",
       "5    0.748255\n",
       "6    0.152010\n",
       "7    0.547167\n",
       "8    0.291021\n",
       "dtype: float64"
      ]
     },
     "execution_count": 23,
     "metadata": {},
     "output_type": "execute_result"
    }
   ],
   "source": [
    "# Return all elements of the series except last element.\n",
    "s[:-1]"
   ]
  },
  {
   "cell_type": "code",
   "execution_count": 24,
   "metadata": {},
   "outputs": [
    {
     "data": {
      "text/plain": [
       "8    0.291021\n",
       "9    0.229546\n",
       "dtype: float64"
      ]
     },
     "execution_count": 24,
     "metadata": {},
     "output_type": "execute_result"
    }
   ],
   "source": [
    "# Return last two elements of the series\n",
    "s[-2:]"
   ]
  },
  {
   "cell_type": "code",
   "execution_count": 25,
   "metadata": {},
   "outputs": [
    {
     "data": {
      "text/plain": [
       "9    0.229546\n",
       "dtype: float64"
      ]
     },
     "execution_count": 25,
     "metadata": {},
     "output_type": "execute_result"
    }
   ],
   "source": [
    "# # Return last element of the series\n",
    "s[-1:]"
   ]
  },
  {
   "cell_type": "code",
   "execution_count": 26,
   "metadata": {},
   "outputs": [
    {
     "data": {
      "text/plain": [
       "7    0.547167\n",
       "8    0.291021\n",
       "dtype: float64"
      ]
     },
     "execution_count": 26,
     "metadata": {},
     "output_type": "execute_result"
    }
   ],
   "source": [
    "s[-3:-1]"
   ]
  },
  {
   "cell_type": "markdown",
   "metadata": {},
   "source": [
    "## Append Series"
   ]
  },
  {
   "cell_type": "code",
   "execution_count": 27,
   "metadata": {},
   "outputs": [
    {
     "data": {
      "text/plain": [
       "a       1\n",
       "b       2\n",
       "c       3\n",
       "d       4\n",
       "e       5\n",
       "f       6\n",
       "good    7\n",
       "dtype: int64"
      ]
     },
     "execution_count": 27,
     "metadata": {},
     "output_type": "execute_result"
    }
   ],
   "source": [
    "s2 = s1.copy()\n",
    "s2"
   ]
  },
  {
   "cell_type": "code",
   "execution_count": 28,
   "metadata": {},
   "outputs": [
    {
     "data": {
      "text/plain": [
       "a1    10\n",
       "a2    20\n",
       "a3    30\n",
       "a4    40\n",
       "dtype: int64"
      ]
     },
     "execution_count": 28,
     "metadata": {},
     "output_type": "execute_result"
    }
   ],
   "source": [
    "s3"
   ]
  },
  {
   "cell_type": "code",
   "execution_count": 29,
   "metadata": {},
   "outputs": [
    {
     "data": {
      "text/plain": [
       "a        1\n",
       "b        2\n",
       "c        3\n",
       "d        4\n",
       "e        5\n",
       "f        6\n",
       "good     7\n",
       "a1      10\n",
       "a2      20\n",
       "a3      30\n",
       "a4      40\n",
       "dtype: int64"
      ]
     },
     "execution_count": 29,
     "metadata": {},
     "output_type": "execute_result"
    }
   ],
   "source": [
    "# Append S2 & S3 Series\n",
    "s4 = s2.append(s3)\n",
    "s4"
   ]
  },
  {
   "cell_type": "code",
   "execution_count": 30,
   "metadata": {},
   "outputs": [
    {
     "data": {
      "text/plain": [
       "a        1\n",
       "b        2\n",
       "c        3\n",
       "d        4\n",
       "e        5\n",
       "f        6\n",
       "good     7\n",
       "a1      10\n",
       "a2      20\n",
       "a4      40\n",
       "dtype: int64"
      ]
     },
     "execution_count": 30,
     "metadata": {},
     "output_type": "execute_result"
    }
   ],
   "source": [
    "# When \"inplace=False\" it will return a new copy of data with the operation performed\n",
    "s4.drop('a3', inplace=True)\n",
    "s4"
   ]
  },
  {
   "cell_type": "code",
   "execution_count": 31,
   "metadata": {},
   "outputs": [
    {
     "data": {
      "text/plain": [
       "a        1\n",
       "b        2\n",
       "c        3\n",
       "d        4\n",
       "e        5\n",
       "f        6\n",
       "good     7\n",
       "a1      10\n",
       "a2      20\n",
       "a4      40\n",
       "dtype: int64"
      ]
     },
     "execution_count": 31,
     "metadata": {},
     "output_type": "execute_result"
    }
   ],
   "source": [
    "s4"
   ]
  },
  {
   "cell_type": "code",
   "execution_count": 32,
   "metadata": {},
   "outputs": [
    {
     "data": {
      "text/plain": [
       "a        1\n",
       "b        2\n",
       "c        3\n",
       "d        4\n",
       "e        5\n",
       "f        6\n",
       "good     7\n",
       "a1      10\n",
       "a2      20\n",
       "dtype: int64"
      ]
     },
     "execution_count": 32,
     "metadata": {},
     "output_type": "execute_result"
    }
   ],
   "source": [
    "# When we use \"inplace=True\" it will affect the dataframe\n",
    "s4.drop('a4', inplace=True)\n",
    "s4"
   ]
  },
  {
   "cell_type": "code",
   "execution_count": 33,
   "metadata": {},
   "outputs": [
    {
     "data": {
      "text/plain": [
       "(a        1\n",
       " b        2\n",
       " c        3\n",
       " d        4\n",
       " e        5\n",
       " f        6\n",
       " good     7\n",
       " a1      10\n",
       " a2      20\n",
       " a4       7\n",
       " dtype: int64,\n",
       " a4    7\n",
       " dtype: int64,\n",
       " a4    7\n",
       " dtype: int64)"
      ]
     },
     "execution_count": 33,
     "metadata": {},
     "output_type": "execute_result"
    }
   ],
   "source": [
    "s5 = pd.Series({'a4': 7}) \n",
    "s6 = pd.Series(data=[7], index=['a4'])\n",
    "s4 = s4.append(s5)\n",
    "s4,s5, s6"
   ]
  },
  {
   "cell_type": "code",
   "execution_count": 34,
   "metadata": {},
   "outputs": [
    {
     "data": {
      "text/plain": [
       "a        1\n",
       "b        2\n",
       "c        3\n",
       "d        4\n",
       "e        5\n",
       "f        6\n",
       "good     7\n",
       "a1      10\n",
       "a2      20\n",
       "a4       7\n",
       "a4       7\n",
       "dtype: int64"
      ]
     },
     "execution_count": 34,
     "metadata": {},
     "output_type": "execute_result"
    }
   ],
   "source": [
    "s4 = s4.append(pd.Series({'a4': 7}))\n",
    "s4"
   ]
  },
  {
   "cell_type": "markdown",
   "metadata": {},
   "source": [
    "## Operation on Series"
   ]
  },
  {
   "cell_type": "code",
   "execution_count": 35,
   "metadata": {},
   "outputs": [
    {
     "data": {
      "text/plain": [
       "(0    10\n",
       " 1    20\n",
       " 2    30\n",
       " dtype: int64,\n",
       " 0    1\n",
       " 1    2\n",
       " 2    3\n",
       " dtype: int64)"
      ]
     },
     "execution_count": 35,
     "metadata": {},
     "output_type": "execute_result"
    }
   ],
   "source": [
    "v1 = np.array([10,20,30])\n",
    "v2 = np.array([1,2,3])\n",
    "s1 = pd.Series(v1) \n",
    "s2 = pd.Series(v2)\n",
    "s1 , s2"
   ]
  },
  {
   "cell_type": "code",
   "execution_count": 36,
   "metadata": {},
   "outputs": [
    {
     "data": {
      "text/plain": [
       "0    10\n",
       "1    20\n",
       "2    30\n",
       "0     1\n",
       "1     2\n",
       "2     3\n",
       "dtype: int64"
      ]
     },
     "execution_count": 36,
     "metadata": {},
     "output_type": "execute_result"
    }
   ],
   "source": [
    "s1.append(s2)"
   ]
  },
  {
   "cell_type": "code",
   "execution_count": 37,
   "metadata": {},
   "outputs": [
    {
     "data": {
      "text/plain": [
       "0    11\n",
       "1    22\n",
       "2    33\n",
       "dtype: int64"
      ]
     },
     "execution_count": 37,
     "metadata": {},
     "output_type": "execute_result"
    }
   ],
   "source": [
    "# Addition of two series\n",
    "s1.add(s2)"
   ]
  },
  {
   "cell_type": "code",
   "execution_count": 38,
   "metadata": {},
   "outputs": [
    {
     "data": {
      "text/plain": [
       "0     9\n",
       "1    18\n",
       "2    27\n",
       "dtype: int64"
      ]
     },
     "execution_count": 38,
     "metadata": {},
     "output_type": "execute_result"
    }
   ],
   "source": [
    "# Subtraction of two series\n",
    "s1.sub(s2)"
   ]
  },
  {
   "cell_type": "code",
   "execution_count": 39,
   "metadata": {},
   "outputs": [
    {
     "data": {
      "text/plain": [
       "0     9\n",
       "1    18\n",
       "2    27\n",
       "dtype: int64"
      ]
     },
     "execution_count": 39,
     "metadata": {},
     "output_type": "execute_result"
    }
   ],
   "source": [
    "# Subtraction of two series\n",
    "s1.subtract(s2)"
   ]
  },
  {
   "cell_type": "code",
   "execution_count": 40,
   "metadata": {},
   "outputs": [],
   "source": [
    "# Increment all numbers in a series by 9\n",
    "s1 = s1.add(9)\n"
   ]
  },
  {
   "cell_type": "code",
   "execution_count": 41,
   "metadata": {},
   "outputs": [
    {
     "data": {
      "text/plain": [
       "0     19\n",
       "1     58\n",
       "2    117\n",
       "dtype: int64"
      ]
     },
     "execution_count": 41,
     "metadata": {},
     "output_type": "execute_result"
    }
   ],
   "source": [
    "# Multiplication of two series\n",
    "s1.mul(s2)"
   ]
  },
  {
   "cell_type": "code",
   "execution_count": 42,
   "metadata": {},
   "outputs": [
    {
     "data": {
      "text/plain": [
       "0     19\n",
       "1     58\n",
       "2    117\n",
       "dtype: int64"
      ]
     },
     "execution_count": 42,
     "metadata": {},
     "output_type": "execute_result"
    }
   ],
   "source": [
    "# Multiplication of two series\n",
    "s1.multiply(s2)"
   ]
  },
  {
   "cell_type": "code",
   "execution_count": 43,
   "metadata": {},
   "outputs": [
    {
     "data": {
      "text/plain": [
       "0    19000\n",
       "1    29000\n",
       "2    39000\n",
       "dtype: int64"
      ]
     },
     "execution_count": 43,
     "metadata": {},
     "output_type": "execute_result"
    }
   ],
   "source": [
    "# Multiply each element by 1000\n",
    "s1.multiply(1000)"
   ]
  },
  {
   "cell_type": "code",
   "execution_count": 44,
   "metadata": {},
   "outputs": [
    {
     "data": {
      "text/plain": [
       "0    19.0\n",
       "1    14.5\n",
       "2    13.0\n",
       "dtype: float64"
      ]
     },
     "execution_count": 44,
     "metadata": {},
     "output_type": "execute_result"
    }
   ],
   "source": [
    "# Division\n",
    "s1.divide(s2)"
   ]
  },
  {
   "cell_type": "code",
   "execution_count": 45,
   "metadata": {},
   "outputs": [
    {
     "data": {
      "text/plain": [
       "0    19.0\n",
       "1    14.5\n",
       "2    13.0\n",
       "dtype: float64"
      ]
     },
     "execution_count": 45,
     "metadata": {},
     "output_type": "execute_result"
    }
   ],
   "source": [
    "# Division\n",
    "s1.div(s2)"
   ]
  },
  {
   "cell_type": "code",
   "execution_count": 46,
   "metadata": {},
   "outputs": [
    {
     "data": {
      "text/plain": [
       "39"
      ]
     },
     "execution_count": 46,
     "metadata": {},
     "output_type": "execute_result"
    }
   ],
   "source": [
    "# MAX number in a series\n",
    "s1.max()"
   ]
  },
  {
   "cell_type": "code",
   "execution_count": 47,
   "metadata": {},
   "outputs": [
    {
     "data": {
      "text/plain": [
       "19"
      ]
     },
     "execution_count": 47,
     "metadata": {},
     "output_type": "execute_result"
    }
   ],
   "source": [
    "# Min number in a series\n",
    "s1.min()"
   ]
  },
  {
   "cell_type": "code",
   "execution_count": 48,
   "metadata": {},
   "outputs": [
    {
     "data": {
      "text/plain": [
       "29.0"
      ]
     },
     "execution_count": 48,
     "metadata": {},
     "output_type": "execute_result"
    }
   ],
   "source": [
    "# Average\n",
    "s1.mean()"
   ]
  },
  {
   "cell_type": "code",
   "execution_count": 49,
   "metadata": {},
   "outputs": [
    {
     "data": {
      "text/plain": [
       "29.0"
      ]
     },
     "execution_count": 49,
     "metadata": {},
     "output_type": "execute_result"
    }
   ],
   "source": [
    "# Median\n",
    "s1.median()"
   ]
  },
  {
   "cell_type": "code",
   "execution_count": 50,
   "metadata": {},
   "outputs": [
    {
     "data": {
      "text/plain": [
       "10.0"
      ]
     },
     "execution_count": 50,
     "metadata": {},
     "output_type": "execute_result"
    }
   ],
   "source": [
    "# Standard Deviation\n",
    "s1.std()"
   ]
  },
  {
   "cell_type": "code",
   "execution_count": 51,
   "metadata": {},
   "outputs": [
    {
     "data": {
      "text/plain": [
       "False"
      ]
     },
     "execution_count": 51,
     "metadata": {},
     "output_type": "execute_result"
    }
   ],
   "source": [
    "# Series comparison\n",
    "s1.equals(s2)"
   ]
  },
  {
   "cell_type": "code",
   "execution_count": 52,
   "metadata": {},
   "outputs": [],
   "source": [
    "s4 =s1"
   ]
  },
  {
   "cell_type": "code",
   "execution_count": 53,
   "metadata": {},
   "outputs": [
    {
     "data": {
      "text/plain": [
       "True"
      ]
     },
     "execution_count": 53,
     "metadata": {},
     "output_type": "execute_result"
    }
   ],
   "source": [
    "# Series comparison\n",
    "s1.equals(s4)"
   ]
  },
  {
   "cell_type": "code",
   "execution_count": 54,
   "metadata": {},
   "outputs": [
    {
     "data": {
      "text/plain": [
       "0    1\n",
       "1    1\n",
       "2    1\n",
       "3    2\n",
       "4    3\n",
       "5    3\n",
       "dtype: int64"
      ]
     },
     "execution_count": 54,
     "metadata": {},
     "output_type": "execute_result"
    }
   ],
   "source": [
    "s5 = pd.Series([1,1,1,2,3,3], index=[0, 1, 2, 3, 4, 5])\n",
    "s5"
   ]
  },
  {
   "cell_type": "code",
   "execution_count": 55,
   "metadata": {},
   "outputs": [
    {
     "data": {
      "text/plain": [
       "1    3\n",
       "3    2\n",
       "2    1\n",
       "dtype: int64"
      ]
     },
     "execution_count": 55,
     "metadata": {},
     "output_type": "execute_result"
    }
   ],
   "source": [
    "s5.value_counts()"
   ]
  },
  {
   "cell_type": "markdown",
   "metadata": {},
   "source": [
    "# DataFrame"
   ]
  },
  {
   "cell_type": "markdown",
   "metadata": {},
   "source": [
    "## Create DataFrame"
   ]
  },
  {
   "cell_type": "code",
   "execution_count": 56,
   "metadata": {},
   "outputs": [
    {
     "data": {
      "text/html": [
       "<div>\n",
       "<style scoped>\n",
       "    .dataframe tbody tr th:only-of-type {\n",
       "        vertical-align: middle;\n",
       "    }\n",
       "\n",
       "    .dataframe tbody tr th {\n",
       "        vertical-align: top;\n",
       "    }\n",
       "\n",
       "    .dataframe thead th {\n",
       "        text-align: right;\n",
       "    }\n",
       "</style>\n",
       "<table border=\"1\" class=\"dataframe\">\n",
       "  <thead>\n",
       "    <tr style=\"text-align: right;\">\n",
       "      <th></th>\n",
       "    </tr>\n",
       "  </thead>\n",
       "  <tbody>\n",
       "  </tbody>\n",
       "</table>\n",
       "</div>"
      ],
      "text/plain": [
       "Empty DataFrame\n",
       "Columns: []\n",
       "Index: []"
      ]
     },
     "execution_count": 56,
     "metadata": {},
     "output_type": "execute_result"
    }
   ],
   "source": [
    "import pandas as pd\n",
    "df = pd.DataFrame()\n",
    "df"
   ]
  },
  {
   "cell_type": "code",
   "execution_count": 57,
   "metadata": {},
   "outputs": [
    {
     "name": "stdout",
     "output_type": "stream",
     "text": [
      "0      Java\n",
      "1    Python\n",
      "2         C\n",
      "3       C++\n",
      "dtype: object\n"
     ]
    },
    {
     "data": {
      "text/html": [
       "<div>\n",
       "<style scoped>\n",
       "    .dataframe tbody tr th:only-of-type {\n",
       "        vertical-align: middle;\n",
       "    }\n",
       "\n",
       "    .dataframe tbody tr th {\n",
       "        vertical-align: top;\n",
       "    }\n",
       "\n",
       "    .dataframe thead th {\n",
       "        text-align: right;\n",
       "    }\n",
       "</style>\n",
       "<table border=\"1\" class=\"dataframe\">\n",
       "  <thead>\n",
       "    <tr style=\"text-align: right;\">\n",
       "      <th></th>\n",
       "      <th>0</th>\n",
       "    </tr>\n",
       "  </thead>\n",
       "  <tbody>\n",
       "    <tr>\n",
       "      <th>0</th>\n",
       "      <td>Java</td>\n",
       "    </tr>\n",
       "    <tr>\n",
       "      <th>1</th>\n",
       "      <td>Python</td>\n",
       "    </tr>\n",
       "    <tr>\n",
       "      <th>2</th>\n",
       "      <td>C</td>\n",
       "    </tr>\n",
       "    <tr>\n",
       "      <th>3</th>\n",
       "      <td>C++</td>\n",
       "    </tr>\n",
       "  </tbody>\n",
       "</table>\n",
       "</div>"
      ],
      "text/plain": [
       "        0\n",
       "0    Java\n",
       "1  Python\n",
       "2       C\n",
       "3     C++"
      ]
     },
     "execution_count": 57,
     "metadata": {},
     "output_type": "execute_result"
    }
   ],
   "source": [
    "# Create Dataframe using List\n",
    "lang = ['Java' , 'Python' , 'C' , 'C++']\n",
    "df = pd.DataFrame(lang)\n",
    "s = pd.Series(lang)\n",
    "print(s)\n",
    "df"
   ]
  },
  {
   "cell_type": "code",
   "execution_count": 58,
   "metadata": {},
   "outputs": [
    {
     "data": {
      "text/html": [
       "<div>\n",
       "<style scoped>\n",
       "    .dataframe tbody tr th:only-of-type {\n",
       "        vertical-align: middle;\n",
       "    }\n",
       "\n",
       "    .dataframe tbody tr th {\n",
       "        vertical-align: top;\n",
       "    }\n",
       "\n",
       "    .dataframe thead th {\n",
       "        text-align: right;\n",
       "    }\n",
       "</style>\n",
       "<table border=\"1\" class=\"dataframe\">\n",
       "  <thead>\n",
       "    <tr style=\"text-align: right;\">\n",
       "      <th></th>\n",
       "      <th>0</th>\n",
       "      <th>abbas2</th>\n",
       "      <th>Jacob</th>\n",
       "    </tr>\n",
       "  </thead>\n",
       "  <tbody>\n",
       "    <tr>\n",
       "      <th>0</th>\n",
       "      <td>Java</td>\n",
       "      <td>Java</td>\n",
       "      <td>2</td>\n",
       "    </tr>\n",
       "    <tr>\n",
       "      <th>1</th>\n",
       "      <td>Python</td>\n",
       "      <td>Python</td>\n",
       "      <td>3</td>\n",
       "    </tr>\n",
       "    <tr>\n",
       "      <th>2</th>\n",
       "      <td>C</td>\n",
       "      <td>C</td>\n",
       "      <td>4</td>\n",
       "    </tr>\n",
       "    <tr>\n",
       "      <th>3</th>\n",
       "      <td>C++</td>\n",
       "      <td>C++</td>\n",
       "      <td>5</td>\n",
       "    </tr>\n",
       "  </tbody>\n",
       "</table>\n",
       "</div>"
      ],
      "text/plain": [
       "        0  abbas2  Jacob\n",
       "0    Java    Java      2\n",
       "1  Python  Python      3\n",
       "2       C       C      4\n",
       "3     C++     C++      5"
      ]
     },
     "execution_count": 58,
     "metadata": {},
     "output_type": "execute_result"
    }
   ],
   "source": [
    "# Add column in the Dataframe\n",
    "rating = [1,2,3,4]\n",
    "df['abbas2'] = lang\n",
    "df['Jacob'] = [2,3,4,5]\n",
    "df"
   ]
  },
  {
   "cell_type": "code",
   "execution_count": 59,
   "metadata": {},
   "outputs": [],
   "source": [
    "df.columns = ['Majid', 'Chaim', 'matis']"
   ]
  },
  {
   "cell_type": "code",
   "execution_count": 60,
   "metadata": {},
   "outputs": [
    {
     "data": {
      "text/html": [
       "<div>\n",
       "<style scoped>\n",
       "    .dataframe tbody tr th:only-of-type {\n",
       "        vertical-align: middle;\n",
       "    }\n",
       "\n",
       "    .dataframe tbody tr th {\n",
       "        vertical-align: top;\n",
       "    }\n",
       "\n",
       "    .dataframe thead th {\n",
       "        text-align: right;\n",
       "    }\n",
       "</style>\n",
       "<table border=\"1\" class=\"dataframe\">\n",
       "  <thead>\n",
       "    <tr style=\"text-align: right;\">\n",
       "      <th></th>\n",
       "      <th>Majid</th>\n",
       "      <th>Chaim</th>\n",
       "      <th>matis</th>\n",
       "    </tr>\n",
       "  </thead>\n",
       "  <tbody>\n",
       "    <tr>\n",
       "      <th>0</th>\n",
       "      <td>Java</td>\n",
       "      <td>Java</td>\n",
       "      <td>2</td>\n",
       "    </tr>\n",
       "    <tr>\n",
       "      <th>1</th>\n",
       "      <td>Python</td>\n",
       "      <td>Python</td>\n",
       "      <td>3</td>\n",
       "    </tr>\n",
       "    <tr>\n",
       "      <th>2</th>\n",
       "      <td>C</td>\n",
       "      <td>C</td>\n",
       "      <td>4</td>\n",
       "    </tr>\n",
       "    <tr>\n",
       "      <th>3</th>\n",
       "      <td>C++</td>\n",
       "      <td>C++</td>\n",
       "      <td>5</td>\n",
       "    </tr>\n",
       "  </tbody>\n",
       "</table>\n",
       "</div>"
      ],
      "text/plain": [
       "    Majid   Chaim  matis\n",
       "0    Java    Java      2\n",
       "1  Python  Python      3\n",
       "2       C       C      4\n",
       "3     C++     C++      5"
      ]
     },
     "execution_count": 60,
     "metadata": {},
     "output_type": "execute_result"
    }
   ],
   "source": [
    "df"
   ]
  },
  {
   "cell_type": "code",
   "execution_count": 61,
   "metadata": {},
   "outputs": [],
   "source": [
    "# Create Dataframe from Dictionary\n",
    "\n",
    "data = [{'a': 1, 'b': 2},{'a': 5, 'b': 10, 'c': 'abc'}]\n",
    "\n",
    "df2 = pd.DataFrame(data)\n",
    "# df3 = pd.DataFrame(data, index=['row1', 'row2'], columns=['a', 'b'])\n",
    "# df4 = pd.DataFrame(data, index=['row1', 'row2'], columns=['a', 'b' ,'c'])\n",
    "# df5 = pd.DataFrame(data, index=['row1', 'row2'], columns=['a', 'b' ,'c' , 'd','e'])"
   ]
  },
  {
   "cell_type": "code",
   "execution_count": 62,
   "metadata": {},
   "outputs": [
    {
     "data": {
      "text/html": [
       "<div>\n",
       "<style scoped>\n",
       "    .dataframe tbody tr th:only-of-type {\n",
       "        vertical-align: middle;\n",
       "    }\n",
       "\n",
       "    .dataframe tbody tr th {\n",
       "        vertical-align: top;\n",
       "    }\n",
       "\n",
       "    .dataframe thead th {\n",
       "        text-align: right;\n",
       "    }\n",
       "</style>\n",
       "<table border=\"1\" class=\"dataframe\">\n",
       "  <thead>\n",
       "    <tr style=\"text-align: right;\">\n",
       "      <th></th>\n",
       "      <th>a</th>\n",
       "      <th>b</th>\n",
       "      <th>c</th>\n",
       "    </tr>\n",
       "  </thead>\n",
       "  <tbody>\n",
       "    <tr>\n",
       "      <th>0</th>\n",
       "      <td>1</td>\n",
       "      <td>2</td>\n",
       "      <td>NaN</td>\n",
       "    </tr>\n",
       "    <tr>\n",
       "      <th>1</th>\n",
       "      <td>5</td>\n",
       "      <td>10</td>\n",
       "      <td>abc</td>\n",
       "    </tr>\n",
       "  </tbody>\n",
       "</table>\n",
       "</div>"
      ],
      "text/plain": [
       "   a   b    c\n",
       "0  1   2  NaN\n",
       "1  5  10  abc"
      ]
     },
     "execution_count": 62,
     "metadata": {},
     "output_type": "execute_result"
    }
   ],
   "source": [
    "df2"
   ]
  },
  {
   "cell_type": "code",
   "execution_count": 63,
   "metadata": {},
   "outputs": [
    {
     "data": {
      "text/html": [
       "<div>\n",
       "<style scoped>\n",
       "    .dataframe tbody tr th:only-of-type {\n",
       "        vertical-align: middle;\n",
       "    }\n",
       "\n",
       "    .dataframe tbody tr th {\n",
       "        vertical-align: top;\n",
       "    }\n",
       "\n",
       "    .dataframe thead th {\n",
       "        text-align: right;\n",
       "    }\n",
       "</style>\n",
       "<table border=\"1\" class=\"dataframe\">\n",
       "  <thead>\n",
       "    <tr style=\"text-align: right;\">\n",
       "      <th></th>\n",
       "      <th>a</th>\n",
       "      <th>b</th>\n",
       "      <th>c</th>\n",
       "    </tr>\n",
       "  </thead>\n",
       "  <tbody>\n",
       "    <tr>\n",
       "      <th>row1</th>\n",
       "      <td>1</td>\n",
       "      <td>2</td>\n",
       "      <td>NaN</td>\n",
       "    </tr>\n",
       "    <tr>\n",
       "      <th>row2</th>\n",
       "      <td>5</td>\n",
       "      <td>10</td>\n",
       "      <td>abc</td>\n",
       "    </tr>\n",
       "  </tbody>\n",
       "</table>\n",
       "</div>"
      ],
      "text/plain": [
       "      a   b    c\n",
       "row1  1   2  NaN\n",
       "row2  5  10  abc"
      ]
     },
     "execution_count": 63,
     "metadata": {},
     "output_type": "execute_result"
    }
   ],
   "source": [
    "df3 = pd.DataFrame(data, index=['row1', 'row2'])\n",
    "df3"
   ]
  },
  {
   "cell_type": "code",
   "execution_count": 64,
   "metadata": {},
   "outputs": [
    {
     "data": {
      "text/html": [
       "<div>\n",
       "<style scoped>\n",
       "    .dataframe tbody tr th:only-of-type {\n",
       "        vertical-align: middle;\n",
       "    }\n",
       "\n",
       "    .dataframe tbody tr th {\n",
       "        vertical-align: top;\n",
       "    }\n",
       "\n",
       "    .dataframe thead th {\n",
       "        text-align: right;\n",
       "    }\n",
       "</style>\n",
       "<table border=\"1\" class=\"dataframe\">\n",
       "  <thead>\n",
       "    <tr style=\"text-align: right;\">\n",
       "      <th></th>\n",
       "      <th>a</th>\n",
       "      <th>b</th>\n",
       "      <th>newc</th>\n",
       "    </tr>\n",
       "  </thead>\n",
       "  <tbody>\n",
       "    <tr>\n",
       "      <th>row1</th>\n",
       "      <td>1</td>\n",
       "      <td>2</td>\n",
       "      <td>NaN</td>\n",
       "    </tr>\n",
       "    <tr>\n",
       "      <th>row2</th>\n",
       "      <td>5</td>\n",
       "      <td>10</td>\n",
       "      <td>NaN</td>\n",
       "    </tr>\n",
       "  </tbody>\n",
       "</table>\n",
       "</div>"
      ],
      "text/plain": [
       "      a   b  newc\n",
       "row1  1   2   NaN\n",
       "row2  5  10   NaN"
      ]
     },
     "execution_count": 64,
     "metadata": {},
     "output_type": "execute_result"
    }
   ],
   "source": [
    "df4 = pd.DataFrame(data, index=['row1', 'row2'], columns=['a', 'b' ,'newc'])\n",
    "df4"
   ]
  },
  {
   "cell_type": "code",
   "execution_count": 65,
   "metadata": {},
   "outputs": [
    {
     "ename": "NameError",
     "evalue": "name 'df5' is not defined",
     "output_type": "error",
     "traceback": [
      "\u001b[0;31m---------------------------------------------------------------------------\u001b[0m",
      "\u001b[0;31mNameError\u001b[0m                                 Traceback (most recent call last)",
      "\u001b[0;32m<ipython-input-65-6986fd1f5b9d>\u001b[0m in \u001b[0;36m<module>\u001b[0;34m\u001b[0m\n\u001b[0;32m----> 1\u001b[0;31m \u001b[0mdf5\u001b[0m\u001b[0;34m\u001b[0m\u001b[0;34m\u001b[0m\u001b[0m\n\u001b[0m",
      "\u001b[0;31mNameError\u001b[0m: name 'df5' is not defined"
     ]
    }
   ],
   "source": [
    "df5"
   ]
  },
  {
   "cell_type": "code",
   "execution_count": 66,
   "metadata": {},
   "outputs": [
    {
     "data": {
      "text/html": [
       "<div>\n",
       "<style scoped>\n",
       "    .dataframe tbody tr th:only-of-type {\n",
       "        vertical-align: middle;\n",
       "    }\n",
       "\n",
       "    .dataframe tbody tr th {\n",
       "        vertical-align: top;\n",
       "    }\n",
       "\n",
       "    .dataframe thead th {\n",
       "        text-align: right;\n",
       "    }\n",
       "</style>\n",
       "<table border=\"1\" class=\"dataframe\">\n",
       "  <thead>\n",
       "    <tr style=\"text-align: right;\">\n",
       "      <th></th>\n",
       "      <th>ID</th>\n",
       "      <th>Name</th>\n",
       "    </tr>\n",
       "  </thead>\n",
       "  <tbody>\n",
       "    <tr>\n",
       "      <th>row1</th>\n",
       "      <td>1</td>\n",
       "      <td>Asif</td>\n",
       "    </tr>\n",
       "    <tr>\n",
       "      <th>row2</th>\n",
       "      <td>2</td>\n",
       "      <td>Basit</td>\n",
       "    </tr>\n",
       "    <tr>\n",
       "      <th>row3</th>\n",
       "      <td>3</td>\n",
       "      <td>Ross</td>\n",
       "    </tr>\n",
       "    <tr>\n",
       "      <th>row4</th>\n",
       "      <td>4</td>\n",
       "      <td>John</td>\n",
       "    </tr>\n",
       "  </tbody>\n",
       "</table>\n",
       "</div>"
      ],
      "text/plain": [
       "      ID   Name\n",
       "row1   1   Asif\n",
       "row2   2  Basit\n",
       "row3   3   Ross\n",
       "row4   4   John"
      ]
     },
     "execution_count": 66,
     "metadata": {},
     "output_type": "execute_result"
    }
   ],
   "source": [
    "# Create Dataframe from Dictionary\n",
    "df0 = pd.DataFrame({'ID' :[1,2,3,4] , 'Name' :['Asif' , 'Basit' , 'Ross' , 'John']}, index=['row1', 'row2','row3','row4'])\n",
    "df0"
   ]
  },
  {
   "cell_type": "code",
   "execution_count": 67,
   "metadata": {},
   "outputs": [
    {
     "data": {
      "text/html": [
       "<div>\n",
       "<style scoped>\n",
       "    .dataframe tbody tr th:only-of-type {\n",
       "        vertical-align: middle;\n",
       "    }\n",
       "\n",
       "    .dataframe tbody tr th {\n",
       "        vertical-align: top;\n",
       "    }\n",
       "\n",
       "    .dataframe thead th {\n",
       "        text-align: right;\n",
       "    }\n",
       "</style>\n",
       "<table border=\"1\" class=\"dataframe\">\n",
       "  <thead>\n",
       "    <tr style=\"text-align: right;\">\n",
       "      <th></th>\n",
       "      <th>A</th>\n",
       "      <th>B</th>\n",
       "    </tr>\n",
       "  </thead>\n",
       "  <tbody>\n",
       "    <tr>\n",
       "      <th>a</th>\n",
       "      <td>1.0</td>\n",
       "      <td>1</td>\n",
       "    </tr>\n",
       "    <tr>\n",
       "      <th>b</th>\n",
       "      <td>2.0</td>\n",
       "      <td>2</td>\n",
       "    </tr>\n",
       "    <tr>\n",
       "      <th>c</th>\n",
       "      <td>3.0</td>\n",
       "      <td>3</td>\n",
       "    </tr>\n",
       "    <tr>\n",
       "      <th>d</th>\n",
       "      <td>NaN</td>\n",
       "      <td>4</td>\n",
       "    </tr>\n",
       "  </tbody>\n",
       "</table>\n",
       "</div>"
      ],
      "text/plain": [
       "     A  B\n",
       "a  1.0  1\n",
       "b  2.0  2\n",
       "c  3.0  3\n",
       "d  NaN  4"
      ]
     },
     "execution_count": 67,
     "metadata": {},
     "output_type": "execute_result"
    }
   ],
   "source": [
    "# Create a DataFrame from Dictionary of Series\n",
    "dict = {'A' : pd.Series([1, 2, 3],    index=['a', 'b', 'c']),\n",
    "        'B' : pd.Series([1, 2, 3, 4], index=['a', 'b', 'c', 'd'])}\n",
    "\n",
    "df1 = pd.DataFrame(dict)\n",
    "df1"
   ]
  },
  {
   "cell_type": "markdown",
   "metadata": {},
   "source": [
    "#### Dataframe of Random Numbers with Date Indices"
   ]
  },
  {
   "cell_type": "code",
   "execution_count": 68,
   "metadata": {},
   "outputs": [
    {
     "data": {
      "text/plain": [
       "array([ 0,  1,  2,  3,  4,  5,  6,  7,  8,  9, 10, 11, 12, 13, 14, 15, 16,\n",
       "       17, 18, 19, 20, 21, 22, 23, 24])"
      ]
     },
     "execution_count": 68,
     "metadata": {},
     "output_type": "execute_result"
    }
   ],
   "source": [
    "np.arange(0,25)"
   ]
  },
  {
   "cell_type": "code",
   "execution_count": 159,
   "metadata": {},
   "outputs": [
    {
     "data": {
      "text/plain": [
       "DatetimeIndex(['2020-01-20', '2020-01-21', '2020-01-22', '2020-01-23',\n",
       "               '2020-01-24', '2020-01-25', '2020-01-26'],\n",
       "              dtype='datetime64[ns]', freq='D')"
      ]
     },
     "execution_count": 159,
     "metadata": {},
     "output_type": "execute_result"
    }
   ],
   "source": [
    "dates = pd.date_range(start='2020-01-20', end='2020-01-26')\n",
    "dates"
   ]
  },
  {
   "cell_type": "code",
   "execution_count": 160,
   "metadata": {},
   "outputs": [
    {
     "data": {
      "text/plain": [
       "DatetimeIndex(['2020-05-17 17:05:13.927472', '2020-05-18 17:05:13.927472',\n",
       "               '2020-05-19 17:05:13.927472', '2020-05-20 17:05:13.927472',\n",
       "               '2020-05-21 17:05:13.927472', '2020-05-22 17:05:13.927472',\n",
       "               '2020-05-23 17:05:13.927472', '2020-05-24 17:05:13.927472',\n",
       "               '2020-05-25 17:05:13.927472', '2020-05-26 17:05:13.927472',\n",
       "               '2020-05-27 17:05:13.927472', '2020-05-28 17:05:13.927472',\n",
       "               '2020-05-29 17:05:13.927472', '2020-05-30 17:05:13.927472',\n",
       "               '2020-05-31 17:05:13.927472', '2020-06-01 17:05:13.927472'],\n",
       "              dtype='datetime64[ns]', freq='D')"
      ]
     },
     "execution_count": 160,
     "metadata": {},
     "output_type": "execute_result"
    }
   ],
   "source": [
    "dates = pd.date_range('today',periods= 16)\n",
    "dates"
   ]
  },
  {
   "cell_type": "code",
   "execution_count": 161,
   "metadata": {},
   "outputs": [
    {
     "data": {
      "text/plain": [
       "DatetimeIndex(['2020-01-20', '2020-01-21', '2020-01-22', '2020-01-23',\n",
       "               '2020-01-24', '2020-01-25', '2020-01-26'],\n",
       "              dtype='datetime64[ns]', freq='D')"
      ]
     },
     "execution_count": 161,
     "metadata": {},
     "output_type": "execute_result"
    }
   ],
   "source": [
    "dates = pd.date_range(start='2020-01-20', periods=7)\n",
    "dates"
   ]
  },
  {
   "cell_type": "code",
   "execution_count": 162,
   "metadata": {},
   "outputs": [],
   "source": [
    "# 9.73777804e-02 = .0973...  this is a exponential representation of a number"
   ]
  },
  {
   "cell_type": "code",
   "execution_count": 165,
   "metadata": {},
   "outputs": [
    {
     "data": {
      "text/plain": [
       "array([[0.52628354, 0.99358263, 0.35012592, 0.03933965, 0.44963745,\n",
       "        0.18659346, 0.29062622],\n",
       "       [0.52523557, 0.81013828, 0.72161905, 0.68444548, 0.70110718,\n",
       "        0.4190733 , 0.47488877],\n",
       "       [0.65454223, 0.6351331 , 0.18410903, 0.05631166, 0.76544288,\n",
       "        0.78880129, 0.72309459],\n",
       "       [0.30774676, 0.51029585, 0.52789096, 0.78106803, 0.90536985,\n",
       "        0.19278906, 0.7085721 ],\n",
       "       [0.1369859 , 0.90092553, 0.98843567, 0.41165005, 0.45505189,\n",
       "        0.31777011, 0.64976067],\n",
       "       [0.75491833, 0.7114549 , 0.60629522, 0.15695531, 0.07254299,\n",
       "        0.97058848, 0.99567148],\n",
       "       [0.4515198 , 0.49894725, 0.04610802, 0.93717835, 0.03707988,\n",
       "        0.27383094, 0.9257266 ]])"
      ]
     },
     "execution_count": 165,
     "metadata": {},
     "output_type": "execute_result"
    }
   ],
   "source": [
    "M = np.random.random((7,7))\n",
    "M"
   ]
  },
  {
   "cell_type": "code",
   "execution_count": 166,
   "metadata": {},
   "outputs": [
    {
     "data": {
      "text/html": [
       "<div>\n",
       "<style scoped>\n",
       "    .dataframe tbody tr th:only-of-type {\n",
       "        vertical-align: middle;\n",
       "    }\n",
       "\n",
       "    .dataframe tbody tr th {\n",
       "        vertical-align: top;\n",
       "    }\n",
       "\n",
       "    .dataframe thead th {\n",
       "        text-align: right;\n",
       "    }\n",
       "</style>\n",
       "<table border=\"1\" class=\"dataframe\">\n",
       "  <thead>\n",
       "    <tr style=\"text-align: right;\">\n",
       "      <th></th>\n",
       "      <th>0</th>\n",
       "      <th>1</th>\n",
       "      <th>2</th>\n",
       "      <th>3</th>\n",
       "      <th>4</th>\n",
       "      <th>5</th>\n",
       "      <th>6</th>\n",
       "    </tr>\n",
       "  </thead>\n",
       "  <tbody>\n",
       "    <tr>\n",
       "      <th>2020-01-20</th>\n",
       "      <td>0.526284</td>\n",
       "      <td>0.993583</td>\n",
       "      <td>0.350126</td>\n",
       "      <td>0.039340</td>\n",
       "      <td>0.449637</td>\n",
       "      <td>0.186593</td>\n",
       "      <td>0.290626</td>\n",
       "    </tr>\n",
       "    <tr>\n",
       "      <th>2020-01-21</th>\n",
       "      <td>0.525236</td>\n",
       "      <td>0.810138</td>\n",
       "      <td>0.721619</td>\n",
       "      <td>0.684445</td>\n",
       "      <td>0.701107</td>\n",
       "      <td>0.419073</td>\n",
       "      <td>0.474889</td>\n",
       "    </tr>\n",
       "    <tr>\n",
       "      <th>2020-01-22</th>\n",
       "      <td>0.654542</td>\n",
       "      <td>0.635133</td>\n",
       "      <td>0.184109</td>\n",
       "      <td>0.056312</td>\n",
       "      <td>0.765443</td>\n",
       "      <td>0.788801</td>\n",
       "      <td>0.723095</td>\n",
       "    </tr>\n",
       "    <tr>\n",
       "      <th>2020-01-23</th>\n",
       "      <td>0.307747</td>\n",
       "      <td>0.510296</td>\n",
       "      <td>0.527891</td>\n",
       "      <td>0.781068</td>\n",
       "      <td>0.905370</td>\n",
       "      <td>0.192789</td>\n",
       "      <td>0.708572</td>\n",
       "    </tr>\n",
       "    <tr>\n",
       "      <th>2020-01-24</th>\n",
       "      <td>0.136986</td>\n",
       "      <td>0.900926</td>\n",
       "      <td>0.988436</td>\n",
       "      <td>0.411650</td>\n",
       "      <td>0.455052</td>\n",
       "      <td>0.317770</td>\n",
       "      <td>0.649761</td>\n",
       "    </tr>\n",
       "    <tr>\n",
       "      <th>2020-01-25</th>\n",
       "      <td>0.754918</td>\n",
       "      <td>0.711455</td>\n",
       "      <td>0.606295</td>\n",
       "      <td>0.156955</td>\n",
       "      <td>0.072543</td>\n",
       "      <td>0.970588</td>\n",
       "      <td>0.995671</td>\n",
       "    </tr>\n",
       "    <tr>\n",
       "      <th>2020-01-26</th>\n",
       "      <td>0.451520</td>\n",
       "      <td>0.498947</td>\n",
       "      <td>0.046108</td>\n",
       "      <td>0.937178</td>\n",
       "      <td>0.037080</td>\n",
       "      <td>0.273831</td>\n",
       "      <td>0.925727</td>\n",
       "    </tr>\n",
       "  </tbody>\n",
       "</table>\n",
       "</div>"
      ],
      "text/plain": [
       "                   0         1         2         3         4         5  \\\n",
       "2020-01-20  0.526284  0.993583  0.350126  0.039340  0.449637  0.186593   \n",
       "2020-01-21  0.525236  0.810138  0.721619  0.684445  0.701107  0.419073   \n",
       "2020-01-22  0.654542  0.635133  0.184109  0.056312  0.765443  0.788801   \n",
       "2020-01-23  0.307747  0.510296  0.527891  0.781068  0.905370  0.192789   \n",
       "2020-01-24  0.136986  0.900926  0.988436  0.411650  0.455052  0.317770   \n",
       "2020-01-25  0.754918  0.711455  0.606295  0.156955  0.072543  0.970588   \n",
       "2020-01-26  0.451520  0.498947  0.046108  0.937178  0.037080  0.273831   \n",
       "\n",
       "                   6  \n",
       "2020-01-20  0.290626  \n",
       "2020-01-21  0.474889  \n",
       "2020-01-22  0.723095  \n",
       "2020-01-23  0.708572  \n",
       "2020-01-24  0.649761  \n",
       "2020-01-25  0.995671  \n",
       "2020-01-26  0.925727  "
      ]
     },
     "execution_count": 166,
     "metadata": {},
     "output_type": "execute_result"
    }
   ],
   "source": [
    "dframe = pd.DataFrame(M , index=dates)\n",
    "dframe"
   ]
  },
  {
   "cell_type": "code",
   "execution_count": 167,
   "metadata": {},
   "outputs": [
    {
     "data": {
      "text/html": [
       "<div>\n",
       "<style scoped>\n",
       "    .dataframe tbody tr th:only-of-type {\n",
       "        vertical-align: middle;\n",
       "    }\n",
       "\n",
       "    .dataframe tbody tr th {\n",
       "        vertical-align: top;\n",
       "    }\n",
       "\n",
       "    .dataframe thead th {\n",
       "        text-align: right;\n",
       "    }\n",
       "</style>\n",
       "<table border=\"1\" class=\"dataframe\">\n",
       "  <thead>\n",
       "    <tr style=\"text-align: right;\">\n",
       "      <th></th>\n",
       "      <th>C1</th>\n",
       "      <th>C2</th>\n",
       "      <th>C3</th>\n",
       "      <th>C4</th>\n",
       "      <th>C5</th>\n",
       "      <th>C6</th>\n",
       "      <th>C7</th>\n",
       "    </tr>\n",
       "  </thead>\n",
       "  <tbody>\n",
       "    <tr>\n",
       "      <th>2020-01-20</th>\n",
       "      <td>0.526284</td>\n",
       "      <td>0.993583</td>\n",
       "      <td>0.350126</td>\n",
       "      <td>0.039340</td>\n",
       "      <td>0.449637</td>\n",
       "      <td>0.186593</td>\n",
       "      <td>0.290626</td>\n",
       "    </tr>\n",
       "    <tr>\n",
       "      <th>2020-01-21</th>\n",
       "      <td>0.525236</td>\n",
       "      <td>0.810138</td>\n",
       "      <td>0.721619</td>\n",
       "      <td>0.684445</td>\n",
       "      <td>0.701107</td>\n",
       "      <td>0.419073</td>\n",
       "      <td>0.474889</td>\n",
       "    </tr>\n",
       "    <tr>\n",
       "      <th>2020-01-22</th>\n",
       "      <td>0.654542</td>\n",
       "      <td>0.635133</td>\n",
       "      <td>0.184109</td>\n",
       "      <td>0.056312</td>\n",
       "      <td>0.765443</td>\n",
       "      <td>0.788801</td>\n",
       "      <td>0.723095</td>\n",
       "    </tr>\n",
       "    <tr>\n",
       "      <th>2020-01-23</th>\n",
       "      <td>0.307747</td>\n",
       "      <td>0.510296</td>\n",
       "      <td>0.527891</td>\n",
       "      <td>0.781068</td>\n",
       "      <td>0.905370</td>\n",
       "      <td>0.192789</td>\n",
       "      <td>0.708572</td>\n",
       "    </tr>\n",
       "    <tr>\n",
       "      <th>2020-01-24</th>\n",
       "      <td>0.136986</td>\n",
       "      <td>0.900926</td>\n",
       "      <td>0.988436</td>\n",
       "      <td>0.411650</td>\n",
       "      <td>0.455052</td>\n",
       "      <td>0.317770</td>\n",
       "      <td>0.649761</td>\n",
       "    </tr>\n",
       "    <tr>\n",
       "      <th>2020-01-25</th>\n",
       "      <td>0.754918</td>\n",
       "      <td>0.711455</td>\n",
       "      <td>0.606295</td>\n",
       "      <td>0.156955</td>\n",
       "      <td>0.072543</td>\n",
       "      <td>0.970588</td>\n",
       "      <td>0.995671</td>\n",
       "    </tr>\n",
       "    <tr>\n",
       "      <th>2020-01-26</th>\n",
       "      <td>0.451520</td>\n",
       "      <td>0.498947</td>\n",
       "      <td>0.046108</td>\n",
       "      <td>0.937178</td>\n",
       "      <td>0.037080</td>\n",
       "      <td>0.273831</td>\n",
       "      <td>0.925727</td>\n",
       "    </tr>\n",
       "  </tbody>\n",
       "</table>\n",
       "</div>"
      ],
      "text/plain": [
       "                  C1        C2        C3        C4        C5        C6  \\\n",
       "2020-01-20  0.526284  0.993583  0.350126  0.039340  0.449637  0.186593   \n",
       "2020-01-21  0.525236  0.810138  0.721619  0.684445  0.701107  0.419073   \n",
       "2020-01-22  0.654542  0.635133  0.184109  0.056312  0.765443  0.788801   \n",
       "2020-01-23  0.307747  0.510296  0.527891  0.781068  0.905370  0.192789   \n",
       "2020-01-24  0.136986  0.900926  0.988436  0.411650  0.455052  0.317770   \n",
       "2020-01-25  0.754918  0.711455  0.606295  0.156955  0.072543  0.970588   \n",
       "2020-01-26  0.451520  0.498947  0.046108  0.937178  0.037080  0.273831   \n",
       "\n",
       "                  C7  \n",
       "2020-01-20  0.290626  \n",
       "2020-01-21  0.474889  \n",
       "2020-01-22  0.723095  \n",
       "2020-01-23  0.708572  \n",
       "2020-01-24  0.649761  \n",
       "2020-01-25  0.995671  \n",
       "2020-01-26  0.925727  "
      ]
     },
     "execution_count": 167,
     "metadata": {},
     "output_type": "execute_result"
    }
   ],
   "source": [
    "#Changing Column Names\n",
    "dframe.columns = ['C1' , 'C2' , 'C3', 'C4', 'C5', 'C6', 'C7']\n",
    "dframe"
   ]
  },
  {
   "cell_type": "code",
   "execution_count": 168,
   "metadata": {},
   "outputs": [
    {
     "data": {
      "text/plain": [
       "DatetimeIndex(['2020-01-20', '2020-01-21', '2020-01-22', '2020-01-23',\n",
       "               '2020-01-24', '2020-01-25', '2020-01-26'],\n",
       "              dtype='datetime64[ns]', freq='D')"
      ]
     },
     "execution_count": 168,
     "metadata": {},
     "output_type": "execute_result"
    }
   ],
   "source": [
    "# List Index\n",
    "dframe.index"
   ]
  },
  {
   "cell_type": "code",
   "execution_count": 169,
   "metadata": {},
   "outputs": [
    {
     "data": {
      "text/plain": [
       "Index(['C1', 'C2', 'C3', 'C4', 'C5', 'C6', 'C7'], dtype='object')"
      ]
     },
     "execution_count": 169,
     "metadata": {},
     "output_type": "execute_result"
    }
   ],
   "source": [
    "# List Column Names\n",
    "dframe.columns"
   ]
  },
  {
   "cell_type": "code",
   "execution_count": 170,
   "metadata": {},
   "outputs": [
    {
     "data": {
      "text/plain": [
       "C1    float64\n",
       "C2    float64\n",
       "C3    float64\n",
       "C4    float64\n",
       "C5    float64\n",
       "C6    float64\n",
       "C7    float64\n",
       "dtype: object"
      ]
     },
     "execution_count": 170,
     "metadata": {},
     "output_type": "execute_result"
    }
   ],
   "source": [
    "# Datatype of each column\n",
    "dframe.dtypes"
   ]
  },
  {
   "cell_type": "code",
   "execution_count": 171,
   "metadata": {},
   "outputs": [
    {
     "data": {
      "text/html": [
       "<div>\n",
       "<style scoped>\n",
       "    .dataframe tbody tr th:only-of-type {\n",
       "        vertical-align: middle;\n",
       "    }\n",
       "\n",
       "    .dataframe tbody tr th {\n",
       "        vertical-align: top;\n",
       "    }\n",
       "\n",
       "    .dataframe thead th {\n",
       "        text-align: right;\n",
       "    }\n",
       "</style>\n",
       "<table border=\"1\" class=\"dataframe\">\n",
       "  <thead>\n",
       "    <tr style=\"text-align: right;\">\n",
       "      <th></th>\n",
       "      <th>C1</th>\n",
       "      <th>C2</th>\n",
       "      <th>C3</th>\n",
       "      <th>C4</th>\n",
       "      <th>C5</th>\n",
       "      <th>C6</th>\n",
       "      <th>C7</th>\n",
       "    </tr>\n",
       "  </thead>\n",
       "  <tbody>\n",
       "    <tr>\n",
       "      <th>2020-01-24</th>\n",
       "      <td>0.136986</td>\n",
       "      <td>0.900926</td>\n",
       "      <td>0.988436</td>\n",
       "      <td>0.411650</td>\n",
       "      <td>0.455052</td>\n",
       "      <td>0.317770</td>\n",
       "      <td>0.649761</td>\n",
       "    </tr>\n",
       "    <tr>\n",
       "      <th>2020-01-23</th>\n",
       "      <td>0.307747</td>\n",
       "      <td>0.510296</td>\n",
       "      <td>0.527891</td>\n",
       "      <td>0.781068</td>\n",
       "      <td>0.905370</td>\n",
       "      <td>0.192789</td>\n",
       "      <td>0.708572</td>\n",
       "    </tr>\n",
       "    <tr>\n",
       "      <th>2020-01-26</th>\n",
       "      <td>0.451520</td>\n",
       "      <td>0.498947</td>\n",
       "      <td>0.046108</td>\n",
       "      <td>0.937178</td>\n",
       "      <td>0.037080</td>\n",
       "      <td>0.273831</td>\n",
       "      <td>0.925727</td>\n",
       "    </tr>\n",
       "    <tr>\n",
       "      <th>2020-01-21</th>\n",
       "      <td>0.525236</td>\n",
       "      <td>0.810138</td>\n",
       "      <td>0.721619</td>\n",
       "      <td>0.684445</td>\n",
       "      <td>0.701107</td>\n",
       "      <td>0.419073</td>\n",
       "      <td>0.474889</td>\n",
       "    </tr>\n",
       "    <tr>\n",
       "      <th>2020-01-20</th>\n",
       "      <td>0.526284</td>\n",
       "      <td>0.993583</td>\n",
       "      <td>0.350126</td>\n",
       "      <td>0.039340</td>\n",
       "      <td>0.449637</td>\n",
       "      <td>0.186593</td>\n",
       "      <td>0.290626</td>\n",
       "    </tr>\n",
       "    <tr>\n",
       "      <th>2020-01-22</th>\n",
       "      <td>0.654542</td>\n",
       "      <td>0.635133</td>\n",
       "      <td>0.184109</td>\n",
       "      <td>0.056312</td>\n",
       "      <td>0.765443</td>\n",
       "      <td>0.788801</td>\n",
       "      <td>0.723095</td>\n",
       "    </tr>\n",
       "    <tr>\n",
       "      <th>2020-01-25</th>\n",
       "      <td>0.754918</td>\n",
       "      <td>0.711455</td>\n",
       "      <td>0.606295</td>\n",
       "      <td>0.156955</td>\n",
       "      <td>0.072543</td>\n",
       "      <td>0.970588</td>\n",
       "      <td>0.995671</td>\n",
       "    </tr>\n",
       "  </tbody>\n",
       "</table>\n",
       "</div>"
      ],
      "text/plain": [
       "                  C1        C2        C3        C4        C5        C6  \\\n",
       "2020-01-24  0.136986  0.900926  0.988436  0.411650  0.455052  0.317770   \n",
       "2020-01-23  0.307747  0.510296  0.527891  0.781068  0.905370  0.192789   \n",
       "2020-01-26  0.451520  0.498947  0.046108  0.937178  0.037080  0.273831   \n",
       "2020-01-21  0.525236  0.810138  0.721619  0.684445  0.701107  0.419073   \n",
       "2020-01-20  0.526284  0.993583  0.350126  0.039340  0.449637  0.186593   \n",
       "2020-01-22  0.654542  0.635133  0.184109  0.056312  0.765443  0.788801   \n",
       "2020-01-25  0.754918  0.711455  0.606295  0.156955  0.072543  0.970588   \n",
       "\n",
       "                  C7  \n",
       "2020-01-24  0.649761  \n",
       "2020-01-23  0.708572  \n",
       "2020-01-26  0.925727  \n",
       "2020-01-21  0.474889  \n",
       "2020-01-20  0.290626  \n",
       "2020-01-22  0.723095  \n",
       "2020-01-25  0.995671  "
      ]
     },
     "execution_count": 171,
     "metadata": {},
     "output_type": "execute_result"
    }
   ],
   "source": [
    "# Sort Dataframe by Column 'C1' in Ascending Order\n",
    "dframe.sort_values(by='C1')"
   ]
  },
  {
   "cell_type": "code",
   "execution_count": 172,
   "metadata": {},
   "outputs": [
    {
     "data": {
      "text/html": [
       "<div>\n",
       "<style scoped>\n",
       "    .dataframe tbody tr th:only-of-type {\n",
       "        vertical-align: middle;\n",
       "    }\n",
       "\n",
       "    .dataframe tbody tr th {\n",
       "        vertical-align: top;\n",
       "    }\n",
       "\n",
       "    .dataframe thead th {\n",
       "        text-align: right;\n",
       "    }\n",
       "</style>\n",
       "<table border=\"1\" class=\"dataframe\">\n",
       "  <thead>\n",
       "    <tr style=\"text-align: right;\">\n",
       "      <th></th>\n",
       "      <th>C1</th>\n",
       "      <th>C2</th>\n",
       "      <th>C3</th>\n",
       "      <th>C4</th>\n",
       "      <th>C5</th>\n",
       "      <th>C6</th>\n",
       "      <th>C7</th>\n",
       "    </tr>\n",
       "  </thead>\n",
       "  <tbody>\n",
       "    <tr>\n",
       "      <th>2020-01-25</th>\n",
       "      <td>0.754918</td>\n",
       "      <td>0.711455</td>\n",
       "      <td>0.606295</td>\n",
       "      <td>0.156955</td>\n",
       "      <td>0.072543</td>\n",
       "      <td>0.970588</td>\n",
       "      <td>0.995671</td>\n",
       "    </tr>\n",
       "    <tr>\n",
       "      <th>2020-01-22</th>\n",
       "      <td>0.654542</td>\n",
       "      <td>0.635133</td>\n",
       "      <td>0.184109</td>\n",
       "      <td>0.056312</td>\n",
       "      <td>0.765443</td>\n",
       "      <td>0.788801</td>\n",
       "      <td>0.723095</td>\n",
       "    </tr>\n",
       "    <tr>\n",
       "      <th>2020-01-20</th>\n",
       "      <td>0.526284</td>\n",
       "      <td>0.993583</td>\n",
       "      <td>0.350126</td>\n",
       "      <td>0.039340</td>\n",
       "      <td>0.449637</td>\n",
       "      <td>0.186593</td>\n",
       "      <td>0.290626</td>\n",
       "    </tr>\n",
       "    <tr>\n",
       "      <th>2020-01-21</th>\n",
       "      <td>0.525236</td>\n",
       "      <td>0.810138</td>\n",
       "      <td>0.721619</td>\n",
       "      <td>0.684445</td>\n",
       "      <td>0.701107</td>\n",
       "      <td>0.419073</td>\n",
       "      <td>0.474889</td>\n",
       "    </tr>\n",
       "    <tr>\n",
       "      <th>2020-01-26</th>\n",
       "      <td>0.451520</td>\n",
       "      <td>0.498947</td>\n",
       "      <td>0.046108</td>\n",
       "      <td>0.937178</td>\n",
       "      <td>0.037080</td>\n",
       "      <td>0.273831</td>\n",
       "      <td>0.925727</td>\n",
       "    </tr>\n",
       "    <tr>\n",
       "      <th>2020-01-23</th>\n",
       "      <td>0.307747</td>\n",
       "      <td>0.510296</td>\n",
       "      <td>0.527891</td>\n",
       "      <td>0.781068</td>\n",
       "      <td>0.905370</td>\n",
       "      <td>0.192789</td>\n",
       "      <td>0.708572</td>\n",
       "    </tr>\n",
       "    <tr>\n",
       "      <th>2020-01-24</th>\n",
       "      <td>0.136986</td>\n",
       "      <td>0.900926</td>\n",
       "      <td>0.988436</td>\n",
       "      <td>0.411650</td>\n",
       "      <td>0.455052</td>\n",
       "      <td>0.317770</td>\n",
       "      <td>0.649761</td>\n",
       "    </tr>\n",
       "  </tbody>\n",
       "</table>\n",
       "</div>"
      ],
      "text/plain": [
       "                  C1        C2        C3        C4        C5        C6  \\\n",
       "2020-01-25  0.754918  0.711455  0.606295  0.156955  0.072543  0.970588   \n",
       "2020-01-22  0.654542  0.635133  0.184109  0.056312  0.765443  0.788801   \n",
       "2020-01-20  0.526284  0.993583  0.350126  0.039340  0.449637  0.186593   \n",
       "2020-01-21  0.525236  0.810138  0.721619  0.684445  0.701107  0.419073   \n",
       "2020-01-26  0.451520  0.498947  0.046108  0.937178  0.037080  0.273831   \n",
       "2020-01-23  0.307747  0.510296  0.527891  0.781068  0.905370  0.192789   \n",
       "2020-01-24  0.136986  0.900926  0.988436  0.411650  0.455052  0.317770   \n",
       "\n",
       "                  C7  \n",
       "2020-01-25  0.995671  \n",
       "2020-01-22  0.723095  \n",
       "2020-01-20  0.290626  \n",
       "2020-01-21  0.474889  \n",
       "2020-01-26  0.925727  \n",
       "2020-01-23  0.708572  \n",
       "2020-01-24  0.649761  "
      ]
     },
     "execution_count": 172,
     "metadata": {},
     "output_type": "execute_result"
    }
   ],
   "source": [
    "# Sort Dataframe by Column 'C1' in Descending Order\n",
    "dframe.sort_values(by='C1' , ascending=False)"
   ]
  },
  {
   "cell_type": "markdown",
   "metadata": {},
   "source": [
    "## Delete Column in DataFrame"
   ]
  },
  {
   "cell_type": "code",
   "execution_count": 173,
   "metadata": {},
   "outputs": [
    {
     "data": {
      "text/html": [
       "<div>\n",
       "<style scoped>\n",
       "    .dataframe tbody tr th:only-of-type {\n",
       "        vertical-align: middle;\n",
       "    }\n",
       "\n",
       "    .dataframe tbody tr th {\n",
       "        vertical-align: top;\n",
       "    }\n",
       "\n",
       "    .dataframe thead th {\n",
       "        text-align: right;\n",
       "    }\n",
       "</style>\n",
       "<table border=\"1\" class=\"dataframe\">\n",
       "  <thead>\n",
       "    <tr style=\"text-align: right;\">\n",
       "      <th></th>\n",
       "      <th>A</th>\n",
       "    </tr>\n",
       "  </thead>\n",
       "  <tbody>\n",
       "    <tr>\n",
       "      <th>a</th>\n",
       "      <td>1.0</td>\n",
       "    </tr>\n",
       "    <tr>\n",
       "      <th>b</th>\n",
       "      <td>2.0</td>\n",
       "    </tr>\n",
       "    <tr>\n",
       "      <th>c</th>\n",
       "      <td>3.0</td>\n",
       "    </tr>\n",
       "    <tr>\n",
       "      <th>d</th>\n",
       "      <td>NaN</td>\n",
       "    </tr>\n",
       "  </tbody>\n",
       "</table>\n",
       "</div>"
      ],
      "text/plain": [
       "     A\n",
       "a  1.0\n",
       "b  2.0\n",
       "c  3.0\n",
       "d  NaN"
      ]
     },
     "execution_count": 173,
     "metadata": {},
     "output_type": "execute_result"
    }
   ],
   "source": [
    "df1"
   ]
  },
  {
   "cell_type": "code",
   "execution_count": 174,
   "metadata": {},
   "outputs": [
    {
     "ename": "KeyError",
     "evalue": "'B'",
     "output_type": "error",
     "traceback": [
      "\u001b[0;31m---------------------------------------------------------------------------\u001b[0m",
      "\u001b[0;31mKeyError\u001b[0m                                  Traceback (most recent call last)",
      "\u001b[0;32m~/opt/anaconda3/envs/env1/lib/python3.7/site-packages/pandas/core/indexes/base.py\u001b[0m in \u001b[0;36mget_loc\u001b[0;34m(self, key, method, tolerance)\u001b[0m\n\u001b[1;32m   2645\u001b[0m             \u001b[0;32mtry\u001b[0m\u001b[0;34m:\u001b[0m\u001b[0;34m\u001b[0m\u001b[0;34m\u001b[0m\u001b[0m\n\u001b[0;32m-> 2646\u001b[0;31m                 \u001b[0;32mreturn\u001b[0m \u001b[0mself\u001b[0m\u001b[0;34m.\u001b[0m\u001b[0m_engine\u001b[0m\u001b[0;34m.\u001b[0m\u001b[0mget_loc\u001b[0m\u001b[0;34m(\u001b[0m\u001b[0mkey\u001b[0m\u001b[0;34m)\u001b[0m\u001b[0;34m\u001b[0m\u001b[0;34m\u001b[0m\u001b[0m\n\u001b[0m\u001b[1;32m   2647\u001b[0m             \u001b[0;32mexcept\u001b[0m \u001b[0mKeyError\u001b[0m\u001b[0;34m:\u001b[0m\u001b[0;34m\u001b[0m\u001b[0;34m\u001b[0m\u001b[0m\n",
      "\u001b[0;32mpandas/_libs/index.pyx\u001b[0m in \u001b[0;36mpandas._libs.index.IndexEngine.get_loc\u001b[0;34m()\u001b[0m\n",
      "\u001b[0;32mpandas/_libs/index.pyx\u001b[0m in \u001b[0;36mpandas._libs.index.IndexEngine.get_loc\u001b[0;34m()\u001b[0m\n",
      "\u001b[0;32mpandas/_libs/hashtable_class_helper.pxi\u001b[0m in \u001b[0;36mpandas._libs.hashtable.PyObjectHashTable.get_item\u001b[0;34m()\u001b[0m\n",
      "\u001b[0;32mpandas/_libs/hashtable_class_helper.pxi\u001b[0m in \u001b[0;36mpandas._libs.hashtable.PyObjectHashTable.get_item\u001b[0;34m()\u001b[0m\n",
      "\u001b[0;31mKeyError\u001b[0m: 'B'",
      "\nDuring handling of the above exception, another exception occurred:\n",
      "\u001b[0;31mKeyError\u001b[0m                                  Traceback (most recent call last)",
      "\u001b[0;32m<ipython-input-174-aa1197ff40d4>\u001b[0m in \u001b[0;36m<module>\u001b[0;34m\u001b[0m\n\u001b[1;32m      1\u001b[0m \u001b[0;31m# Delete Column using \"del\" function\u001b[0m\u001b[0;34m\u001b[0m\u001b[0;34m\u001b[0m\u001b[0;34m\u001b[0m\u001b[0m\n\u001b[0;32m----> 2\u001b[0;31m \u001b[0;32mdel\u001b[0m \u001b[0mdf1\u001b[0m\u001b[0;34m[\u001b[0m\u001b[0;34m'B'\u001b[0m\u001b[0;34m]\u001b[0m\u001b[0;34m\u001b[0m\u001b[0;34m\u001b[0m\u001b[0m\n\u001b[0m",
      "\u001b[0;32m~/opt/anaconda3/envs/env1/lib/python3.7/site-packages/pandas/core/generic.py\u001b[0m in \u001b[0;36m__delitem__\u001b[0;34m(self, key)\u001b[0m\n\u001b[1;32m   3757\u001b[0m             \u001b[0;31m# there was no match, this call should raise the appropriate\u001b[0m\u001b[0;34m\u001b[0m\u001b[0;34m\u001b[0m\u001b[0;34m\u001b[0m\u001b[0m\n\u001b[1;32m   3758\u001b[0m             \u001b[0;31m# exception:\u001b[0m\u001b[0;34m\u001b[0m\u001b[0;34m\u001b[0m\u001b[0;34m\u001b[0m\u001b[0m\n\u001b[0;32m-> 3759\u001b[0;31m             \u001b[0mself\u001b[0m\u001b[0;34m.\u001b[0m\u001b[0m_data\u001b[0m\u001b[0;34m.\u001b[0m\u001b[0mdelete\u001b[0m\u001b[0;34m(\u001b[0m\u001b[0mkey\u001b[0m\u001b[0;34m)\u001b[0m\u001b[0;34m\u001b[0m\u001b[0;34m\u001b[0m\u001b[0m\n\u001b[0m\u001b[1;32m   3760\u001b[0m \u001b[0;34m\u001b[0m\u001b[0m\n\u001b[1;32m   3761\u001b[0m         \u001b[0;31m# delete from the caches\u001b[0m\u001b[0;34m\u001b[0m\u001b[0;34m\u001b[0m\u001b[0;34m\u001b[0m\u001b[0m\n",
      "\u001b[0;32m~/opt/anaconda3/envs/env1/lib/python3.7/site-packages/pandas/core/internals/managers.py\u001b[0m in \u001b[0;36mdelete\u001b[0;34m(self, item)\u001b[0m\n\u001b[1;32m   1000\u001b[0m         \u001b[0mDelete\u001b[0m \u001b[0mselected\u001b[0m \u001b[0mitem\u001b[0m \u001b[0;34m(\u001b[0m\u001b[0mitems\u001b[0m \u001b[0;32mif\u001b[0m \u001b[0mnon\u001b[0m\u001b[0;34m-\u001b[0m\u001b[0munique\u001b[0m\u001b[0;34m)\u001b[0m \u001b[0;32min\u001b[0m\u001b[0;34m-\u001b[0m\u001b[0mplace\u001b[0m\u001b[0;34m.\u001b[0m\u001b[0;34m\u001b[0m\u001b[0;34m\u001b[0m\u001b[0m\n\u001b[1;32m   1001\u001b[0m         \"\"\"\n\u001b[0;32m-> 1002\u001b[0;31m         \u001b[0mindexer\u001b[0m \u001b[0;34m=\u001b[0m \u001b[0mself\u001b[0m\u001b[0;34m.\u001b[0m\u001b[0mitems\u001b[0m\u001b[0;34m.\u001b[0m\u001b[0mget_loc\u001b[0m\u001b[0;34m(\u001b[0m\u001b[0mitem\u001b[0m\u001b[0;34m)\u001b[0m\u001b[0;34m\u001b[0m\u001b[0;34m\u001b[0m\u001b[0m\n\u001b[0m\u001b[1;32m   1003\u001b[0m \u001b[0;34m\u001b[0m\u001b[0m\n\u001b[1;32m   1004\u001b[0m         \u001b[0mis_deleted\u001b[0m \u001b[0;34m=\u001b[0m \u001b[0mnp\u001b[0m\u001b[0;34m.\u001b[0m\u001b[0mzeros\u001b[0m\u001b[0;34m(\u001b[0m\u001b[0mself\u001b[0m\u001b[0;34m.\u001b[0m\u001b[0mshape\u001b[0m\u001b[0;34m[\u001b[0m\u001b[0;36m0\u001b[0m\u001b[0;34m]\u001b[0m\u001b[0;34m,\u001b[0m \u001b[0mdtype\u001b[0m\u001b[0;34m=\u001b[0m\u001b[0mnp\u001b[0m\u001b[0;34m.\u001b[0m\u001b[0mbool_\u001b[0m\u001b[0;34m)\u001b[0m\u001b[0;34m\u001b[0m\u001b[0;34m\u001b[0m\u001b[0m\n",
      "\u001b[0;32m~/opt/anaconda3/envs/env1/lib/python3.7/site-packages/pandas/core/indexes/base.py\u001b[0m in \u001b[0;36mget_loc\u001b[0;34m(self, key, method, tolerance)\u001b[0m\n\u001b[1;32m   2646\u001b[0m                 \u001b[0;32mreturn\u001b[0m \u001b[0mself\u001b[0m\u001b[0;34m.\u001b[0m\u001b[0m_engine\u001b[0m\u001b[0;34m.\u001b[0m\u001b[0mget_loc\u001b[0m\u001b[0;34m(\u001b[0m\u001b[0mkey\u001b[0m\u001b[0;34m)\u001b[0m\u001b[0;34m\u001b[0m\u001b[0;34m\u001b[0m\u001b[0m\n\u001b[1;32m   2647\u001b[0m             \u001b[0;32mexcept\u001b[0m \u001b[0mKeyError\u001b[0m\u001b[0;34m:\u001b[0m\u001b[0;34m\u001b[0m\u001b[0;34m\u001b[0m\u001b[0m\n\u001b[0;32m-> 2648\u001b[0;31m                 \u001b[0;32mreturn\u001b[0m \u001b[0mself\u001b[0m\u001b[0;34m.\u001b[0m\u001b[0m_engine\u001b[0m\u001b[0;34m.\u001b[0m\u001b[0mget_loc\u001b[0m\u001b[0;34m(\u001b[0m\u001b[0mself\u001b[0m\u001b[0;34m.\u001b[0m\u001b[0m_maybe_cast_indexer\u001b[0m\u001b[0;34m(\u001b[0m\u001b[0mkey\u001b[0m\u001b[0;34m)\u001b[0m\u001b[0;34m)\u001b[0m\u001b[0;34m\u001b[0m\u001b[0;34m\u001b[0m\u001b[0m\n\u001b[0m\u001b[1;32m   2649\u001b[0m         \u001b[0mindexer\u001b[0m \u001b[0;34m=\u001b[0m \u001b[0mself\u001b[0m\u001b[0;34m.\u001b[0m\u001b[0mget_indexer\u001b[0m\u001b[0;34m(\u001b[0m\u001b[0;34m[\u001b[0m\u001b[0mkey\u001b[0m\u001b[0;34m]\u001b[0m\u001b[0;34m,\u001b[0m \u001b[0mmethod\u001b[0m\u001b[0;34m=\u001b[0m\u001b[0mmethod\u001b[0m\u001b[0;34m,\u001b[0m \u001b[0mtolerance\u001b[0m\u001b[0;34m=\u001b[0m\u001b[0mtolerance\u001b[0m\u001b[0;34m)\u001b[0m\u001b[0;34m\u001b[0m\u001b[0;34m\u001b[0m\u001b[0m\n\u001b[1;32m   2650\u001b[0m         \u001b[0;32mif\u001b[0m \u001b[0mindexer\u001b[0m\u001b[0;34m.\u001b[0m\u001b[0mndim\u001b[0m \u001b[0;34m>\u001b[0m \u001b[0;36m1\u001b[0m \u001b[0;32mor\u001b[0m \u001b[0mindexer\u001b[0m\u001b[0;34m.\u001b[0m\u001b[0msize\u001b[0m \u001b[0;34m>\u001b[0m \u001b[0;36m1\u001b[0m\u001b[0;34m:\u001b[0m\u001b[0;34m\u001b[0m\u001b[0;34m\u001b[0m\u001b[0m\n",
      "\u001b[0;32mpandas/_libs/index.pyx\u001b[0m in \u001b[0;36mpandas._libs.index.IndexEngine.get_loc\u001b[0;34m()\u001b[0m\n",
      "\u001b[0;32mpandas/_libs/index.pyx\u001b[0m in \u001b[0;36mpandas._libs.index.IndexEngine.get_loc\u001b[0;34m()\u001b[0m\n",
      "\u001b[0;32mpandas/_libs/hashtable_class_helper.pxi\u001b[0m in \u001b[0;36mpandas._libs.hashtable.PyObjectHashTable.get_item\u001b[0;34m()\u001b[0m\n",
      "\u001b[0;32mpandas/_libs/hashtable_class_helper.pxi\u001b[0m in \u001b[0;36mpandas._libs.hashtable.PyObjectHashTable.get_item\u001b[0;34m()\u001b[0m\n",
      "\u001b[0;31mKeyError\u001b[0m: 'B'"
     ]
    }
   ],
   "source": [
    "# Delete Column using \"del\" function\n",
    "del df1['B']"
   ]
  },
  {
   "cell_type": "code",
   "execution_count": 175,
   "metadata": {},
   "outputs": [
    {
     "data": {
      "text/html": [
       "<div>\n",
       "<style scoped>\n",
       "    .dataframe tbody tr th:only-of-type {\n",
       "        vertical-align: middle;\n",
       "    }\n",
       "\n",
       "    .dataframe tbody tr th {\n",
       "        vertical-align: top;\n",
       "    }\n",
       "\n",
       "    .dataframe thead th {\n",
       "        text-align: right;\n",
       "    }\n",
       "</style>\n",
       "<table border=\"1\" class=\"dataframe\">\n",
       "  <thead>\n",
       "    <tr style=\"text-align: right;\">\n",
       "      <th></th>\n",
       "      <th>A</th>\n",
       "    </tr>\n",
       "  </thead>\n",
       "  <tbody>\n",
       "    <tr>\n",
       "      <th>a</th>\n",
       "      <td>1.0</td>\n",
       "    </tr>\n",
       "    <tr>\n",
       "      <th>b</th>\n",
       "      <td>2.0</td>\n",
       "    </tr>\n",
       "    <tr>\n",
       "      <th>c</th>\n",
       "      <td>3.0</td>\n",
       "    </tr>\n",
       "    <tr>\n",
       "      <th>d</th>\n",
       "      <td>NaN</td>\n",
       "    </tr>\n",
       "  </tbody>\n",
       "</table>\n",
       "</div>"
      ],
      "text/plain": [
       "     A\n",
       "a  1.0\n",
       "b  2.0\n",
       "c  3.0\n",
       "d  NaN"
      ]
     },
     "execution_count": 175,
     "metadata": {},
     "output_type": "execute_result"
    }
   ],
   "source": [
    "df1"
   ]
  },
  {
   "cell_type": "code",
   "execution_count": 84,
   "metadata": {},
   "outputs": [
    {
     "ename": "NameError",
     "evalue": "name 'df5' is not defined",
     "output_type": "error",
     "traceback": [
      "\u001b[0;31m---------------------------------------------------------------------------\u001b[0m",
      "\u001b[0;31mNameError\u001b[0m                                 Traceback (most recent call last)",
      "\u001b[0;32m<ipython-input-84-6986fd1f5b9d>\u001b[0m in \u001b[0;36m<module>\u001b[0;34m\u001b[0m\n\u001b[0;32m----> 1\u001b[0;31m \u001b[0mdf5\u001b[0m\u001b[0;34m\u001b[0m\u001b[0;34m\u001b[0m\u001b[0m\n\u001b[0m",
      "\u001b[0;31mNameError\u001b[0m: name 'df5' is not defined"
     ]
    }
   ],
   "source": [
    "df5"
   ]
  },
  {
   "cell_type": "code",
   "execution_count": 85,
   "metadata": {},
   "outputs": [
    {
     "ename": "NameError",
     "evalue": "name 'c_col' is not defined",
     "output_type": "error",
     "traceback": [
      "\u001b[0;31m---------------------------------------------------------------------------\u001b[0m",
      "\u001b[0;31mNameError\u001b[0m                                 Traceback (most recent call last)",
      "\u001b[0;32m<ipython-input-85-61f838ae660d>\u001b[0m in \u001b[0;36m<module>\u001b[0;34m\u001b[0m\n\u001b[1;32m      1\u001b[0m \u001b[0;31m# Delete Column using pop()\u001b[0m\u001b[0;34m\u001b[0m\u001b[0;34m\u001b[0m\u001b[0;34m\u001b[0m\u001b[0m\n\u001b[1;32m      2\u001b[0m \u001b[0;31m# c_col = df5.pop('c')\u001b[0m\u001b[0;34m\u001b[0m\u001b[0;34m\u001b[0m\u001b[0;34m\u001b[0m\u001b[0m\n\u001b[0;32m----> 3\u001b[0;31m \u001b[0mc_col\u001b[0m\u001b[0;34m\u001b[0m\u001b[0;34m\u001b[0m\u001b[0m\n\u001b[0m",
      "\u001b[0;31mNameError\u001b[0m: name 'c_col' is not defined"
     ]
    }
   ],
   "source": [
    "# Delete Column using pop()\n",
    "# c_col = df5.pop('c')\n",
    "c_col"
   ]
  },
  {
   "cell_type": "code",
   "execution_count": 86,
   "metadata": {},
   "outputs": [
    {
     "ename": "NameError",
     "evalue": "name 'df5' is not defined",
     "output_type": "error",
     "traceback": [
      "\u001b[0;31m---------------------------------------------------------------------------\u001b[0m",
      "\u001b[0;31mNameError\u001b[0m                                 Traceback (most recent call last)",
      "\u001b[0;32m<ipython-input-86-6986fd1f5b9d>\u001b[0m in \u001b[0;36m<module>\u001b[0;34m\u001b[0m\n\u001b[0;32m----> 1\u001b[0;31m \u001b[0mdf5\u001b[0m\u001b[0;34m\u001b[0m\u001b[0;34m\u001b[0m\u001b[0m\n\u001b[0m",
      "\u001b[0;31mNameError\u001b[0m: name 'df5' is not defined"
     ]
    }
   ],
   "source": [
    "df5"
   ]
  },
  {
   "cell_type": "markdown",
   "metadata": {},
   "source": [
    "## Data Selection in Dataframe"
   ]
  },
  {
   "cell_type": "code",
   "execution_count": 176,
   "metadata": {},
   "outputs": [
    {
     "data": {
      "text/html": [
       "<div>\n",
       "<style scoped>\n",
       "    .dataframe tbody tr th:only-of-type {\n",
       "        vertical-align: middle;\n",
       "    }\n",
       "\n",
       "    .dataframe tbody tr th {\n",
       "        vertical-align: top;\n",
       "    }\n",
       "\n",
       "    .dataframe thead th {\n",
       "        text-align: right;\n",
       "    }\n",
       "</style>\n",
       "<table border=\"1\" class=\"dataframe\">\n",
       "  <thead>\n",
       "    <tr style=\"text-align: right;\">\n",
       "      <th></th>\n",
       "      <th>0</th>\n",
       "      <th>1</th>\n",
       "      <th>Rating</th>\n",
       "    </tr>\n",
       "  </thead>\n",
       "  <tbody>\n",
       "    <tr>\n",
       "      <th>1</th>\n",
       "      <td>Java</td>\n",
       "      <td>Java</td>\n",
       "      <td>2</td>\n",
       "    </tr>\n",
       "    <tr>\n",
       "      <th>2</th>\n",
       "      <td>Python</td>\n",
       "      <td>Python</td>\n",
       "      <td>3</td>\n",
       "    </tr>\n",
       "    <tr>\n",
       "      <th>3</th>\n",
       "      <td>C</td>\n",
       "      <td>C</td>\n",
       "      <td>4</td>\n",
       "    </tr>\n",
       "    <tr>\n",
       "      <th>4</th>\n",
       "      <td>C++</td>\n",
       "      <td>C++</td>\n",
       "      <td>5</td>\n",
       "    </tr>\n",
       "  </tbody>\n",
       "</table>\n",
       "</div>"
      ],
      "text/plain": [
       "        0       1  Rating\n",
       "1    Java    Java       2\n",
       "2  Python  Python       3\n",
       "3       C       C       4\n",
       "4     C++     C++       5"
      ]
     },
     "execution_count": 176,
     "metadata": {},
     "output_type": "execute_result"
    }
   ],
   "source": [
    "df"
   ]
  },
  {
   "cell_type": "code",
   "execution_count": 177,
   "metadata": {},
   "outputs": [
    {
     "data": {
      "text/html": [
       "<div>\n",
       "<style scoped>\n",
       "    .dataframe tbody tr th:only-of-type {\n",
       "        vertical-align: middle;\n",
       "    }\n",
       "\n",
       "    .dataframe tbody tr th {\n",
       "        vertical-align: top;\n",
       "    }\n",
       "\n",
       "    .dataframe thead th {\n",
       "        text-align: right;\n",
       "    }\n",
       "</style>\n",
       "<table border=\"1\" class=\"dataframe\">\n",
       "  <thead>\n",
       "    <tr style=\"text-align: right;\">\n",
       "      <th></th>\n",
       "      <th>0</th>\n",
       "      <th>1</th>\n",
       "      <th>Rating</th>\n",
       "    </tr>\n",
       "  </thead>\n",
       "  <tbody>\n",
       "    <tr>\n",
       "      <th>1</th>\n",
       "      <td>Java</td>\n",
       "      <td>Java</td>\n",
       "      <td>2</td>\n",
       "    </tr>\n",
       "    <tr>\n",
       "      <th>2</th>\n",
       "      <td>Python</td>\n",
       "      <td>Python</td>\n",
       "      <td>3</td>\n",
       "    </tr>\n",
       "    <tr>\n",
       "      <th>3</th>\n",
       "      <td>C</td>\n",
       "      <td>C</td>\n",
       "      <td>4</td>\n",
       "    </tr>\n",
       "    <tr>\n",
       "      <th>4</th>\n",
       "      <td>C++</td>\n",
       "      <td>C++</td>\n",
       "      <td>5</td>\n",
       "    </tr>\n",
       "  </tbody>\n",
       "</table>\n",
       "</div>"
      ],
      "text/plain": [
       "        0       1  Rating\n",
       "1    Java    Java       2\n",
       "2  Python  Python       3\n",
       "3       C       C       4\n",
       "4     C++     C++       5"
      ]
     },
     "execution_count": 177,
     "metadata": {},
     "output_type": "execute_result"
    }
   ],
   "source": [
    "df.index = [1,2,3,4]\n",
    "df"
   ]
  },
  {
   "cell_type": "code",
   "execution_count": 178,
   "metadata": {},
   "outputs": [
    {
     "data": {
      "text/plain": [
       "0         C\n",
       "1         C\n",
       "Rating    4\n",
       "Name: 3, dtype: object"
      ]
     },
     "execution_count": 178,
     "metadata": {},
     "output_type": "execute_result"
    }
   ],
   "source": [
    "# Data selection using row label\n",
    "df.loc[3]"
   ]
  },
  {
   "cell_type": "code",
   "execution_count": 179,
   "metadata": {},
   "outputs": [
    {
     "data": {
      "text/plain": [
       "0         C++\n",
       "1         C++\n",
       "Rating      5\n",
       "Name: 4, dtype: object"
      ]
     },
     "execution_count": 179,
     "metadata": {},
     "output_type": "execute_result"
    }
   ],
   "source": [
    "# Data selection using position (Integer Index based)\n",
    "df.iloc[3]"
   ]
  },
  {
   "cell_type": "code",
   "execution_count": 180,
   "metadata": {},
   "outputs": [
    {
     "data": {
      "text/html": [
       "<div>\n",
       "<style scoped>\n",
       "    .dataframe tbody tr th:only-of-type {\n",
       "        vertical-align: middle;\n",
       "    }\n",
       "\n",
       "    .dataframe tbody tr th {\n",
       "        vertical-align: top;\n",
       "    }\n",
       "\n",
       "    .dataframe thead th {\n",
       "        text-align: right;\n",
       "    }\n",
       "</style>\n",
       "<table border=\"1\" class=\"dataframe\">\n",
       "  <thead>\n",
       "    <tr style=\"text-align: right;\">\n",
       "      <th></th>\n",
       "      <th>0</th>\n",
       "      <th>1</th>\n",
       "      <th>Rating</th>\n",
       "    </tr>\n",
       "  </thead>\n",
       "  <tbody>\n",
       "    <tr>\n",
       "      <th>1</th>\n",
       "      <td>Java</td>\n",
       "      <td>Java</td>\n",
       "      <td>2</td>\n",
       "    </tr>\n",
       "    <tr>\n",
       "      <th>2</th>\n",
       "      <td>Python</td>\n",
       "      <td>Python</td>\n",
       "      <td>3</td>\n",
       "    </tr>\n",
       "  </tbody>\n",
       "</table>\n",
       "</div>"
      ],
      "text/plain": [
       "        0       1  Rating\n",
       "1    Java    Java       2\n",
       "2  Python  Python       3"
      ]
     },
     "execution_count": 180,
     "metadata": {},
     "output_type": "execute_result"
    }
   ],
   "source": [
    "df.loc[1:2]"
   ]
  },
  {
   "cell_type": "code",
   "execution_count": 181,
   "metadata": {},
   "outputs": [
    {
     "data": {
      "text/html": [
       "<div>\n",
       "<style scoped>\n",
       "    .dataframe tbody tr th:only-of-type {\n",
       "        vertical-align: middle;\n",
       "    }\n",
       "\n",
       "    .dataframe tbody tr th {\n",
       "        vertical-align: top;\n",
       "    }\n",
       "\n",
       "    .dataframe thead th {\n",
       "        text-align: right;\n",
       "    }\n",
       "</style>\n",
       "<table border=\"1\" class=\"dataframe\">\n",
       "  <thead>\n",
       "    <tr style=\"text-align: right;\">\n",
       "      <th></th>\n",
       "      <th>0</th>\n",
       "      <th>1</th>\n",
       "      <th>Rating</th>\n",
       "    </tr>\n",
       "  </thead>\n",
       "  <tbody>\n",
       "    <tr>\n",
       "      <th>2</th>\n",
       "      <td>Python</td>\n",
       "      <td>Python</td>\n",
       "      <td>3</td>\n",
       "    </tr>\n",
       "  </tbody>\n",
       "</table>\n",
       "</div>"
      ],
      "text/plain": [
       "        0       1  Rating\n",
       "2  Python  Python       3"
      ]
     },
     "execution_count": 181,
     "metadata": {},
     "output_type": "execute_result"
    }
   ],
   "source": [
    "df.iloc[1:2]"
   ]
  },
  {
   "cell_type": "code",
   "execution_count": 182,
   "metadata": {},
   "outputs": [
    {
     "data": {
      "text/html": [
       "<div>\n",
       "<style scoped>\n",
       "    .dataframe tbody tr th:only-of-type {\n",
       "        vertical-align: middle;\n",
       "    }\n",
       "\n",
       "    .dataframe tbody tr th {\n",
       "        vertical-align: top;\n",
       "    }\n",
       "\n",
       "    .dataframe thead th {\n",
       "        text-align: right;\n",
       "    }\n",
       "</style>\n",
       "<table border=\"1\" class=\"dataframe\">\n",
       "  <thead>\n",
       "    <tr style=\"text-align: right;\">\n",
       "      <th></th>\n",
       "      <th>0</th>\n",
       "      <th>1</th>\n",
       "      <th>Rating</th>\n",
       "    </tr>\n",
       "  </thead>\n",
       "  <tbody>\n",
       "    <tr>\n",
       "      <th>1</th>\n",
       "      <td>Java</td>\n",
       "      <td>Java</td>\n",
       "      <td>2</td>\n",
       "    </tr>\n",
       "    <tr>\n",
       "      <th>2</th>\n",
       "      <td>Python</td>\n",
       "      <td>Python</td>\n",
       "      <td>3</td>\n",
       "    </tr>\n",
       "    <tr>\n",
       "      <th>3</th>\n",
       "      <td>C</td>\n",
       "      <td>C</td>\n",
       "      <td>4</td>\n",
       "    </tr>\n",
       "    <tr>\n",
       "      <th>4</th>\n",
       "      <td>C++</td>\n",
       "      <td>C++</td>\n",
       "      <td>5</td>\n",
       "    </tr>\n",
       "  </tbody>\n",
       "</table>\n",
       "</div>"
      ],
      "text/plain": [
       "        0       1  Rating\n",
       "1    Java    Java       2\n",
       "2  Python  Python       3\n",
       "3       C       C       4\n",
       "4     C++     C++       5"
      ]
     },
     "execution_count": 182,
     "metadata": {},
     "output_type": "execute_result"
    }
   ],
   "source": [
    "df.columns = [0, 1, 'Rating']\n",
    "df"
   ]
  },
  {
   "cell_type": "code",
   "execution_count": 183,
   "metadata": {},
   "outputs": [
    {
     "data": {
      "text/html": [
       "<div>\n",
       "<style scoped>\n",
       "    .dataframe tbody tr th:only-of-type {\n",
       "        vertical-align: middle;\n",
       "    }\n",
       "\n",
       "    .dataframe tbody tr th {\n",
       "        vertical-align: top;\n",
       "    }\n",
       "\n",
       "    .dataframe thead th {\n",
       "        text-align: right;\n",
       "    }\n",
       "</style>\n",
       "<table border=\"1\" class=\"dataframe\">\n",
       "  <thead>\n",
       "    <tr style=\"text-align: right;\">\n",
       "      <th></th>\n",
       "      <th>0</th>\n",
       "      <th>1</th>\n",
       "      <th>Rating</th>\n",
       "    </tr>\n",
       "  </thead>\n",
       "  <tbody>\n",
       "    <tr>\n",
       "      <th>2</th>\n",
       "      <td>Python</td>\n",
       "      <td>Python</td>\n",
       "      <td>3</td>\n",
       "    </tr>\n",
       "  </tbody>\n",
       "</table>\n",
       "</div>"
      ],
      "text/plain": [
       "        0       1  Rating\n",
       "2  Python  Python       3"
      ]
     },
     "execution_count": 183,
     "metadata": {},
     "output_type": "execute_result"
    }
   ],
   "source": [
    "df[df[1] == 'Python']\n",
    "# df[df['Country']=='USA']"
   ]
  },
  {
   "cell_type": "code",
   "execution_count": 184,
   "metadata": {},
   "outputs": [
    {
     "data": {
      "text/html": [
       "<div>\n",
       "<style scoped>\n",
       "    .dataframe tbody tr th:only-of-type {\n",
       "        vertical-align: middle;\n",
       "    }\n",
       "\n",
       "    .dataframe tbody tr th {\n",
       "        vertical-align: top;\n",
       "    }\n",
       "\n",
       "    .dataframe thead th {\n",
       "        text-align: right;\n",
       "    }\n",
       "</style>\n",
       "<table border=\"1\" class=\"dataframe\">\n",
       "  <thead>\n",
       "    <tr style=\"text-align: right;\">\n",
       "      <th></th>\n",
       "      <th>0</th>\n",
       "      <th>1</th>\n",
       "      <th>Rating</th>\n",
       "    </tr>\n",
       "  </thead>\n",
       "  <tbody>\n",
       "    <tr>\n",
       "      <th>2</th>\n",
       "      <td>Python</td>\n",
       "      <td>Python</td>\n",
       "      <td>3</td>\n",
       "    </tr>\n",
       "  </tbody>\n",
       "</table>\n",
       "</div>"
      ],
      "text/plain": [
       "        0       1  Rating\n",
       "2  Python  Python       3"
      ]
     },
     "execution_count": 184,
     "metadata": {},
     "output_type": "execute_result"
    }
   ],
   "source": [
    "# Data selection based on Condition\n",
    "df.loc[df[1] == 'Python']"
   ]
  },
  {
   "cell_type": "code",
   "execution_count": 185,
   "metadata": {},
   "outputs": [
    {
     "data": {
      "text/html": [
       "<div>\n",
       "<style scoped>\n",
       "    .dataframe tbody tr th:only-of-type {\n",
       "        vertical-align: middle;\n",
       "    }\n",
       "\n",
       "    .dataframe tbody tr th {\n",
       "        vertical-align: top;\n",
       "    }\n",
       "\n",
       "    .dataframe thead th {\n",
       "        text-align: right;\n",
       "    }\n",
       "</style>\n",
       "<table border=\"1\" class=\"dataframe\">\n",
       "  <thead>\n",
       "    <tr style=\"text-align: right;\">\n",
       "      <th></th>\n",
       "      <th>A</th>\n",
       "    </tr>\n",
       "  </thead>\n",
       "  <tbody>\n",
       "    <tr>\n",
       "      <th>a</th>\n",
       "      <td>1.0</td>\n",
       "    </tr>\n",
       "    <tr>\n",
       "      <th>b</th>\n",
       "      <td>2.0</td>\n",
       "    </tr>\n",
       "    <tr>\n",
       "      <th>c</th>\n",
       "      <td>3.0</td>\n",
       "    </tr>\n",
       "    <tr>\n",
       "      <th>d</th>\n",
       "      <td>NaN</td>\n",
       "    </tr>\n",
       "  </tbody>\n",
       "</table>\n",
       "</div>"
      ],
      "text/plain": [
       "     A\n",
       "a  1.0\n",
       "b  2.0\n",
       "c  3.0\n",
       "d  NaN"
      ]
     },
     "execution_count": 185,
     "metadata": {},
     "output_type": "execute_result"
    }
   ],
   "source": [
    "df1"
   ]
  },
  {
   "cell_type": "code",
   "execution_count": 186,
   "metadata": {},
   "outputs": [
    {
     "data": {
      "text/plain": [
       "A    1.0\n",
       "Name: a, dtype: float64"
      ]
     },
     "execution_count": 186,
     "metadata": {},
     "output_type": "execute_result"
    }
   ],
   "source": [
    "# Row & Column label based selection\n",
    "df1.loc['a']"
   ]
  },
  {
   "cell_type": "code",
   "execution_count": 187,
   "metadata": {},
   "outputs": [
    {
     "ename": "TypeError",
     "evalue": "Cannot index by location index with a non-integer key",
     "output_type": "error",
     "traceback": [
      "\u001b[0;31m---------------------------------------------------------------------------\u001b[0m",
      "\u001b[0;31mTypeError\u001b[0m                                 Traceback (most recent call last)",
      "\u001b[0;32m<ipython-input-187-808cc54286b0>\u001b[0m in \u001b[0;36m<module>\u001b[0;34m\u001b[0m\n\u001b[0;32m----> 1\u001b[0;31m \u001b[0mdf1\u001b[0m\u001b[0;34m.\u001b[0m\u001b[0miloc\u001b[0m\u001b[0;34m[\u001b[0m\u001b[0;34m'a'\u001b[0m\u001b[0;34m]\u001b[0m \u001b[0;31m# This will throw error because iloc will not work on labels\u001b[0m\u001b[0;34m\u001b[0m\u001b[0;34m\u001b[0m\u001b[0m\n\u001b[0m",
      "\u001b[0;32m~/opt/anaconda3/envs/env1/lib/python3.7/site-packages/pandas/core/indexing.py\u001b[0m in \u001b[0;36m__getitem__\u001b[0;34m(self, key)\u001b[0m\n\u001b[1;32m   1766\u001b[0m \u001b[0;34m\u001b[0m\u001b[0m\n\u001b[1;32m   1767\u001b[0m             \u001b[0mmaybe_callable\u001b[0m \u001b[0;34m=\u001b[0m \u001b[0mcom\u001b[0m\u001b[0;34m.\u001b[0m\u001b[0mapply_if_callable\u001b[0m\u001b[0;34m(\u001b[0m\u001b[0mkey\u001b[0m\u001b[0;34m,\u001b[0m \u001b[0mself\u001b[0m\u001b[0;34m.\u001b[0m\u001b[0mobj\u001b[0m\u001b[0;34m)\u001b[0m\u001b[0;34m\u001b[0m\u001b[0;34m\u001b[0m\u001b[0m\n\u001b[0;32m-> 1768\u001b[0;31m             \u001b[0;32mreturn\u001b[0m \u001b[0mself\u001b[0m\u001b[0;34m.\u001b[0m\u001b[0m_getitem_axis\u001b[0m\u001b[0;34m(\u001b[0m\u001b[0mmaybe_callable\u001b[0m\u001b[0;34m,\u001b[0m \u001b[0maxis\u001b[0m\u001b[0;34m=\u001b[0m\u001b[0maxis\u001b[0m\u001b[0;34m)\u001b[0m\u001b[0;34m\u001b[0m\u001b[0;34m\u001b[0m\u001b[0m\n\u001b[0m\u001b[1;32m   1769\u001b[0m \u001b[0;34m\u001b[0m\u001b[0m\n\u001b[1;32m   1770\u001b[0m     \u001b[0;32mdef\u001b[0m \u001b[0m_is_scalar_access\u001b[0m\u001b[0;34m(\u001b[0m\u001b[0mself\u001b[0m\u001b[0;34m,\u001b[0m \u001b[0mkey\u001b[0m\u001b[0;34m:\u001b[0m \u001b[0mTuple\u001b[0m\u001b[0;34m)\u001b[0m\u001b[0;34m:\u001b[0m\u001b[0;34m\u001b[0m\u001b[0;34m\u001b[0m\u001b[0m\n",
      "\u001b[0;32m~/opt/anaconda3/envs/env1/lib/python3.7/site-packages/pandas/core/indexing.py\u001b[0m in \u001b[0;36m_getitem_axis\u001b[0;34m(self, key, axis)\u001b[0m\n\u001b[1;32m   2133\u001b[0m             \u001b[0mkey\u001b[0m \u001b[0;34m=\u001b[0m \u001b[0mitem_from_zerodim\u001b[0m\u001b[0;34m(\u001b[0m\u001b[0mkey\u001b[0m\u001b[0;34m)\u001b[0m\u001b[0;34m\u001b[0m\u001b[0;34m\u001b[0m\u001b[0m\n\u001b[1;32m   2134\u001b[0m             \u001b[0;32mif\u001b[0m \u001b[0;32mnot\u001b[0m \u001b[0mis_integer\u001b[0m\u001b[0;34m(\u001b[0m\u001b[0mkey\u001b[0m\u001b[0;34m)\u001b[0m\u001b[0;34m:\u001b[0m\u001b[0;34m\u001b[0m\u001b[0;34m\u001b[0m\u001b[0m\n\u001b[0;32m-> 2135\u001b[0;31m                 \u001b[0;32mraise\u001b[0m \u001b[0mTypeError\u001b[0m\u001b[0;34m(\u001b[0m\u001b[0;34m\"Cannot index by location index with a non-integer key\"\u001b[0m\u001b[0;34m)\u001b[0m\u001b[0;34m\u001b[0m\u001b[0;34m\u001b[0m\u001b[0m\n\u001b[0m\u001b[1;32m   2136\u001b[0m \u001b[0;34m\u001b[0m\u001b[0m\n\u001b[1;32m   2137\u001b[0m             \u001b[0;31m# validate the location\u001b[0m\u001b[0;34m\u001b[0m\u001b[0;34m\u001b[0m\u001b[0;34m\u001b[0m\u001b[0m\n",
      "\u001b[0;31mTypeError\u001b[0m: Cannot index by location index with a non-integer key"
     ]
    }
   ],
   "source": [
    "df1.iloc['a'] # This will throw error because iloc will not work on labels"
   ]
  },
  {
   "cell_type": "code",
   "execution_count": 192,
   "metadata": {},
   "outputs": [
    {
     "data": {
      "text/html": [
       "<div>\n",
       "<style scoped>\n",
       "    .dataframe tbody tr th:only-of-type {\n",
       "        vertical-align: middle;\n",
       "    }\n",
       "\n",
       "    .dataframe tbody tr th {\n",
       "        vertical-align: top;\n",
       "    }\n",
       "\n",
       "    .dataframe thead th {\n",
       "        text-align: right;\n",
       "    }\n",
       "</style>\n",
       "<table border=\"1\" class=\"dataframe\">\n",
       "  <thead>\n",
       "    <tr style=\"text-align: right;\">\n",
       "      <th></th>\n",
       "      <th>C1</th>\n",
       "      <th>C2</th>\n",
       "      <th>C3</th>\n",
       "      <th>C4</th>\n",
       "      <th>C5</th>\n",
       "      <th>C6</th>\n",
       "      <th>C7</th>\n",
       "    </tr>\n",
       "  </thead>\n",
       "  <tbody>\n",
       "    <tr>\n",
       "      <th>2020-01-20</th>\n",
       "      <td>0.526284</td>\n",
       "      <td>0.993583</td>\n",
       "      <td>0.350126</td>\n",
       "      <td>0.039340</td>\n",
       "      <td>0.449637</td>\n",
       "      <td>0.186593</td>\n",
       "      <td>0.290626</td>\n",
       "    </tr>\n",
       "    <tr>\n",
       "      <th>2020-01-21</th>\n",
       "      <td>0.525236</td>\n",
       "      <td>0.810138</td>\n",
       "      <td>0.721619</td>\n",
       "      <td>0.684445</td>\n",
       "      <td>0.701107</td>\n",
       "      <td>0.419073</td>\n",
       "      <td>0.474889</td>\n",
       "    </tr>\n",
       "    <tr>\n",
       "      <th>2020-01-22</th>\n",
       "      <td>0.654542</td>\n",
       "      <td>0.635133</td>\n",
       "      <td>0.184109</td>\n",
       "      <td>0.056312</td>\n",
       "      <td>0.765443</td>\n",
       "      <td>0.788801</td>\n",
       "      <td>0.723095</td>\n",
       "    </tr>\n",
       "    <tr>\n",
       "      <th>2020-01-25</th>\n",
       "      <td>0.754918</td>\n",
       "      <td>0.711455</td>\n",
       "      <td>0.606295</td>\n",
       "      <td>0.156955</td>\n",
       "      <td>0.072543</td>\n",
       "      <td>0.970588</td>\n",
       "      <td>0.995671</td>\n",
       "    </tr>\n",
       "  </tbody>\n",
       "</table>\n",
       "</div>"
      ],
      "text/plain": [
       "                  C1        C2        C3        C4        C5        C6  \\\n",
       "2020-01-20  0.526284  0.993583  0.350126  0.039340  0.449637  0.186593   \n",
       "2020-01-21  0.525236  0.810138  0.721619  0.684445  0.701107  0.419073   \n",
       "2020-01-22  0.654542  0.635133  0.184109  0.056312  0.765443  0.788801   \n",
       "2020-01-25  0.754918  0.711455  0.606295  0.156955  0.072543  0.970588   \n",
       "\n",
       "                  C7  \n",
       "2020-01-20  0.290626  \n",
       "2020-01-21  0.474889  \n",
       "2020-01-22  0.723095  \n",
       "2020-01-25  0.995671  "
      ]
     },
     "execution_count": 192,
     "metadata": {},
     "output_type": "execute_result"
    }
   ],
   "source": [
    "dframe[(dframe['C1']>.5) & (dframe['C1']<.8)]"
   ]
  },
  {
   "cell_type": "code",
   "execution_count": 193,
   "metadata": {},
   "outputs": [],
   "source": [
    "temp = dframe.copy()\n",
    "temp = temp.reset_index()"
   ]
  },
  {
   "cell_type": "code",
   "execution_count": 194,
   "metadata": {},
   "outputs": [
    {
     "data": {
      "text/html": [
       "<div>\n",
       "<style scoped>\n",
       "    .dataframe tbody tr th:only-of-type {\n",
       "        vertical-align: middle;\n",
       "    }\n",
       "\n",
       "    .dataframe tbody tr th {\n",
       "        vertical-align: top;\n",
       "    }\n",
       "\n",
       "    .dataframe thead th {\n",
       "        text-align: right;\n",
       "    }\n",
       "</style>\n",
       "<table border=\"1\" class=\"dataframe\">\n",
       "  <thead>\n",
       "    <tr style=\"text-align: right;\">\n",
       "      <th></th>\n",
       "      <th>C1</th>\n",
       "      <th>C2</th>\n",
       "      <th>C3</th>\n",
       "      <th>C4</th>\n",
       "      <th>C5</th>\n",
       "      <th>C6</th>\n",
       "      <th>C7</th>\n",
       "    </tr>\n",
       "  </thead>\n",
       "  <tbody>\n",
       "    <tr>\n",
       "      <th>2020-01-20</th>\n",
       "      <td>0.526284</td>\n",
       "      <td>0.993583</td>\n",
       "      <td>0.350126</td>\n",
       "      <td>0.039340</td>\n",
       "      <td>0.449637</td>\n",
       "      <td>0.186593</td>\n",
       "      <td>0.290626</td>\n",
       "    </tr>\n",
       "    <tr>\n",
       "      <th>2020-01-21</th>\n",
       "      <td>0.525236</td>\n",
       "      <td>0.810138</td>\n",
       "      <td>0.721619</td>\n",
       "      <td>0.684445</td>\n",
       "      <td>0.701107</td>\n",
       "      <td>0.419073</td>\n",
       "      <td>0.474889</td>\n",
       "    </tr>\n",
       "    <tr>\n",
       "      <th>2020-01-22</th>\n",
       "      <td>0.654542</td>\n",
       "      <td>0.635133</td>\n",
       "      <td>0.184109</td>\n",
       "      <td>0.056312</td>\n",
       "      <td>0.765443</td>\n",
       "      <td>0.788801</td>\n",
       "      <td>0.723095</td>\n",
       "    </tr>\n",
       "  </tbody>\n",
       "</table>\n",
       "</div>"
      ],
      "text/plain": [
       "                  C1        C2        C3        C4        C5        C6  \\\n",
       "2020-01-20  0.526284  0.993583  0.350126  0.039340  0.449637  0.186593   \n",
       "2020-01-21  0.525236  0.810138  0.721619  0.684445  0.701107  0.419073   \n",
       "2020-01-22  0.654542  0.635133  0.184109  0.056312  0.765443  0.788801   \n",
       "\n",
       "                  C7  \n",
       "2020-01-20  0.290626  \n",
       "2020-01-21  0.474889  \n",
       "2020-01-22  0.723095  "
      ]
     },
     "execution_count": 194,
     "metadata": {},
     "output_type": "execute_result"
    }
   ],
   "source": [
    "# Data selection using Row Label\n",
    "dframe['2020-01-20' : '2020-01-22' ]"
   ]
  },
  {
   "cell_type": "code",
   "execution_count": 195,
   "metadata": {},
   "outputs": [
    {
     "data": {
      "text/html": [
       "<div>\n",
       "<style scoped>\n",
       "    .dataframe tbody tr th:only-of-type {\n",
       "        vertical-align: middle;\n",
       "    }\n",
       "\n",
       "    .dataframe tbody tr th {\n",
       "        vertical-align: top;\n",
       "    }\n",
       "\n",
       "    .dataframe thead th {\n",
       "        text-align: right;\n",
       "    }\n",
       "</style>\n",
       "<table border=\"1\" class=\"dataframe\">\n",
       "  <thead>\n",
       "    <tr style=\"text-align: right;\">\n",
       "      <th></th>\n",
       "      <th>C1</th>\n",
       "      <th>C7</th>\n",
       "    </tr>\n",
       "  </thead>\n",
       "  <tbody>\n",
       "    <tr>\n",
       "      <th>2020-01-20</th>\n",
       "      <td>0.526284</td>\n",
       "      <td>0.290626</td>\n",
       "    </tr>\n",
       "    <tr>\n",
       "      <th>2020-01-21</th>\n",
       "      <td>0.525236</td>\n",
       "      <td>0.474889</td>\n",
       "    </tr>\n",
       "    <tr>\n",
       "      <th>2020-01-22</th>\n",
       "      <td>0.654542</td>\n",
       "      <td>0.723095</td>\n",
       "    </tr>\n",
       "    <tr>\n",
       "      <th>2020-01-23</th>\n",
       "      <td>0.307747</td>\n",
       "      <td>0.708572</td>\n",
       "    </tr>\n",
       "    <tr>\n",
       "      <th>2020-01-24</th>\n",
       "      <td>0.136986</td>\n",
       "      <td>0.649761</td>\n",
       "    </tr>\n",
       "    <tr>\n",
       "      <th>2020-01-25</th>\n",
       "      <td>0.754918</td>\n",
       "      <td>0.995671</td>\n",
       "    </tr>\n",
       "    <tr>\n",
       "      <th>2020-01-26</th>\n",
       "      <td>0.451520</td>\n",
       "      <td>0.925727</td>\n",
       "    </tr>\n",
       "  </tbody>\n",
       "</table>\n",
       "</div>"
      ],
      "text/plain": [
       "                  C1        C7\n",
       "2020-01-20  0.526284  0.290626\n",
       "2020-01-21  0.525236  0.474889\n",
       "2020-01-22  0.654542  0.723095\n",
       "2020-01-23  0.307747  0.708572\n",
       "2020-01-24  0.136986  0.649761\n",
       "2020-01-25  0.754918  0.995671\n",
       "2020-01-26  0.451520  0.925727"
      ]
     },
     "execution_count": 195,
     "metadata": {},
     "output_type": "execute_result"
    }
   ],
   "source": [
    "# Selecting all rows & selected columns\n",
    "dframe.loc[:,['C1' , 'C7']]"
   ]
  },
  {
   "cell_type": "code",
   "execution_count": 196,
   "metadata": {},
   "outputs": [
    {
     "data": {
      "text/html": [
       "<div>\n",
       "<style scoped>\n",
       "    .dataframe tbody tr th:only-of-type {\n",
       "        vertical-align: middle;\n",
       "    }\n",
       "\n",
       "    .dataframe tbody tr th {\n",
       "        vertical-align: top;\n",
       "    }\n",
       "\n",
       "    .dataframe thead th {\n",
       "        text-align: right;\n",
       "    }\n",
       "</style>\n",
       "<table border=\"1\" class=\"dataframe\">\n",
       "  <thead>\n",
       "    <tr style=\"text-align: right;\">\n",
       "      <th></th>\n",
       "      <th>C1</th>\n",
       "      <th>C7</th>\n",
       "    </tr>\n",
       "  </thead>\n",
       "  <tbody>\n",
       "    <tr>\n",
       "      <th>2020-01-20</th>\n",
       "      <td>0.526284</td>\n",
       "      <td>0.290626</td>\n",
       "    </tr>\n",
       "    <tr>\n",
       "      <th>2020-01-21</th>\n",
       "      <td>0.525236</td>\n",
       "      <td>0.474889</td>\n",
       "    </tr>\n",
       "    <tr>\n",
       "      <th>2020-01-22</th>\n",
       "      <td>0.654542</td>\n",
       "      <td>0.723095</td>\n",
       "    </tr>\n",
       "  </tbody>\n",
       "</table>\n",
       "</div>"
      ],
      "text/plain": [
       "                  C1        C7\n",
       "2020-01-20  0.526284  0.290626\n",
       "2020-01-21  0.525236  0.474889\n",
       "2020-01-22  0.654542  0.723095"
      ]
     },
     "execution_count": 196,
     "metadata": {},
     "output_type": "execute_result"
    }
   ],
   "source": [
    "#row & column label based selection\n",
    "dframe.loc['2020-01-20' : '2020-01-22',['C1' , 'C7']]"
   ]
  },
  {
   "cell_type": "code",
   "execution_count": 197,
   "metadata": {},
   "outputs": [
    {
     "data": {
      "text/html": [
       "<div>\n",
       "<style scoped>\n",
       "    .dataframe tbody tr th:only-of-type {\n",
       "        vertical-align: middle;\n",
       "    }\n",
       "\n",
       "    .dataframe tbody tr th {\n",
       "        vertical-align: top;\n",
       "    }\n",
       "\n",
       "    .dataframe thead th {\n",
       "        text-align: right;\n",
       "    }\n",
       "</style>\n",
       "<table border=\"1\" class=\"dataframe\">\n",
       "  <thead>\n",
       "    <tr style=\"text-align: right;\">\n",
       "      <th></th>\n",
       "      <th>C1</th>\n",
       "      <th>C2</th>\n",
       "      <th>C3</th>\n",
       "      <th>C4</th>\n",
       "      <th>C5</th>\n",
       "      <th>C6</th>\n",
       "      <th>C7</th>\n",
       "    </tr>\n",
       "  </thead>\n",
       "  <tbody>\n",
       "    <tr>\n",
       "      <th>2020-01-20</th>\n",
       "      <td>0.526284</td>\n",
       "      <td>0.993583</td>\n",
       "      <td>0.350126</td>\n",
       "      <td>0.039340</td>\n",
       "      <td>0.449637</td>\n",
       "      <td>0.186593</td>\n",
       "      <td>0.290626</td>\n",
       "    </tr>\n",
       "    <tr>\n",
       "      <th>2020-01-21</th>\n",
       "      <td>0.525236</td>\n",
       "      <td>0.810138</td>\n",
       "      <td>0.721619</td>\n",
       "      <td>0.684445</td>\n",
       "      <td>0.701107</td>\n",
       "      <td>0.419073</td>\n",
       "      <td>0.474889</td>\n",
       "    </tr>\n",
       "    <tr>\n",
       "      <th>2020-01-22</th>\n",
       "      <td>0.654542</td>\n",
       "      <td>0.635133</td>\n",
       "      <td>0.184109</td>\n",
       "      <td>0.056312</td>\n",
       "      <td>0.765443</td>\n",
       "      <td>0.788801</td>\n",
       "      <td>0.723095</td>\n",
       "    </tr>\n",
       "    <tr>\n",
       "      <th>2020-01-25</th>\n",
       "      <td>0.754918</td>\n",
       "      <td>0.711455</td>\n",
       "      <td>0.606295</td>\n",
       "      <td>0.156955</td>\n",
       "      <td>0.072543</td>\n",
       "      <td>0.970588</td>\n",
       "      <td>0.995671</td>\n",
       "    </tr>\n",
       "  </tbody>\n",
       "</table>\n",
       "</div>"
      ],
      "text/plain": [
       "                  C1        C2        C3        C4        C5        C6  \\\n",
       "2020-01-20  0.526284  0.993583  0.350126  0.039340  0.449637  0.186593   \n",
       "2020-01-21  0.525236  0.810138  0.721619  0.684445  0.701107  0.419073   \n",
       "2020-01-22  0.654542  0.635133  0.184109  0.056312  0.765443  0.788801   \n",
       "2020-01-25  0.754918  0.711455  0.606295  0.156955  0.072543  0.970588   \n",
       "\n",
       "                  C7  \n",
       "2020-01-20  0.290626  \n",
       "2020-01-21  0.474889  \n",
       "2020-01-22  0.723095  \n",
       "2020-01-25  0.995671  "
      ]
     },
     "execution_count": 197,
     "metadata": {},
     "output_type": "execute_result"
    }
   ],
   "source": [
    "# Data selection based on Condition\n",
    "dframe[dframe['C1'] > 0.5]"
   ]
  },
  {
   "cell_type": "code",
   "execution_count": 198,
   "metadata": {},
   "outputs": [
    {
     "data": {
      "text/html": [
       "<div>\n",
       "<style scoped>\n",
       "    .dataframe tbody tr th:only-of-type {\n",
       "        vertical-align: middle;\n",
       "    }\n",
       "\n",
       "    .dataframe tbody tr th {\n",
       "        vertical-align: top;\n",
       "    }\n",
       "\n",
       "    .dataframe thead th {\n",
       "        text-align: right;\n",
       "    }\n",
       "</style>\n",
       "<table border=\"1\" class=\"dataframe\">\n",
       "  <thead>\n",
       "    <tr style=\"text-align: right;\">\n",
       "      <th></th>\n",
       "      <th>C1</th>\n",
       "      <th>C2</th>\n",
       "      <th>C3</th>\n",
       "      <th>C4</th>\n",
       "      <th>C5</th>\n",
       "      <th>C6</th>\n",
       "      <th>C7</th>\n",
       "    </tr>\n",
       "  </thead>\n",
       "  <tbody>\n",
       "    <tr>\n",
       "      <th>2020-01-21</th>\n",
       "      <td>0.525236</td>\n",
       "      <td>0.810138</td>\n",
       "      <td>0.721619</td>\n",
       "      <td>0.684445</td>\n",
       "      <td>0.701107</td>\n",
       "      <td>0.419073</td>\n",
       "      <td>0.474889</td>\n",
       "    </tr>\n",
       "  </tbody>\n",
       "</table>\n",
       "</div>"
      ],
      "text/plain": [
       "                  C1        C2        C3        C4        C5        C6  \\\n",
       "2020-01-21  0.525236  0.810138  0.721619  0.684445  0.701107  0.419073   \n",
       "\n",
       "                  C7  \n",
       "2020-01-21  0.474889  "
      ]
     },
     "execution_count": 198,
     "metadata": {},
     "output_type": "execute_result"
    }
   ],
   "source": [
    "# Data selection based on Condition\n",
    "dframe[(dframe['C1'] > 0.5) & (dframe['C4'] > 0.5)]"
   ]
  },
  {
   "cell_type": "code",
   "execution_count": 199,
   "metadata": {},
   "outputs": [
    {
     "data": {
      "text/html": [
       "<div>\n",
       "<style scoped>\n",
       "    .dataframe tbody tr th:only-of-type {\n",
       "        vertical-align: middle;\n",
       "    }\n",
       "\n",
       "    .dataframe tbody tr th {\n",
       "        vertical-align: top;\n",
       "    }\n",
       "\n",
       "    .dataframe thead th {\n",
       "        text-align: right;\n",
       "    }\n",
       "</style>\n",
       "<table border=\"1\" class=\"dataframe\">\n",
       "  <thead>\n",
       "    <tr style=\"text-align: right;\">\n",
       "      <th></th>\n",
       "      <th>C1</th>\n",
       "      <th>C2</th>\n",
       "      <th>C3</th>\n",
       "      <th>C4</th>\n",
       "      <th>C5</th>\n",
       "      <th>C6</th>\n",
       "      <th>C7</th>\n",
       "    </tr>\n",
       "  </thead>\n",
       "  <tbody>\n",
       "    <tr>\n",
       "      <th>2020-01-20</th>\n",
       "      <td>0.526284</td>\n",
       "      <td>0.993583</td>\n",
       "      <td>0.350126</td>\n",
       "      <td>0.039340</td>\n",
       "      <td>0.449637</td>\n",
       "      <td>0.186593</td>\n",
       "      <td>0.290626</td>\n",
       "    </tr>\n",
       "    <tr>\n",
       "      <th>2020-01-21</th>\n",
       "      <td>0.525236</td>\n",
       "      <td>0.810138</td>\n",
       "      <td>0.721619</td>\n",
       "      <td>0.684445</td>\n",
       "      <td>0.701107</td>\n",
       "      <td>0.419073</td>\n",
       "      <td>0.474889</td>\n",
       "    </tr>\n",
       "    <tr>\n",
       "      <th>2020-01-22</th>\n",
       "      <td>0.654542</td>\n",
       "      <td>0.635133</td>\n",
       "      <td>0.184109</td>\n",
       "      <td>0.056312</td>\n",
       "      <td>0.765443</td>\n",
       "      <td>0.788801</td>\n",
       "      <td>0.723095</td>\n",
       "    </tr>\n",
       "    <tr>\n",
       "      <th>2020-01-23</th>\n",
       "      <td>0.307747</td>\n",
       "      <td>0.510296</td>\n",
       "      <td>0.527891</td>\n",
       "      <td>0.781068</td>\n",
       "      <td>0.905370</td>\n",
       "      <td>0.192789</td>\n",
       "      <td>0.708572</td>\n",
       "    </tr>\n",
       "    <tr>\n",
       "      <th>2020-01-24</th>\n",
       "      <td>0.136986</td>\n",
       "      <td>0.900926</td>\n",
       "      <td>0.988436</td>\n",
       "      <td>0.411650</td>\n",
       "      <td>0.455052</td>\n",
       "      <td>0.317770</td>\n",
       "      <td>0.649761</td>\n",
       "    </tr>\n",
       "    <tr>\n",
       "      <th>2020-01-25</th>\n",
       "      <td>0.754918</td>\n",
       "      <td>0.711455</td>\n",
       "      <td>0.606295</td>\n",
       "      <td>0.156955</td>\n",
       "      <td>0.072543</td>\n",
       "      <td>0.970588</td>\n",
       "      <td>0.995671</td>\n",
       "    </tr>\n",
       "    <tr>\n",
       "      <th>2020-01-26</th>\n",
       "      <td>0.451520</td>\n",
       "      <td>0.498947</td>\n",
       "      <td>0.046108</td>\n",
       "      <td>0.937178</td>\n",
       "      <td>0.037080</td>\n",
       "      <td>0.273831</td>\n",
       "      <td>0.925727</td>\n",
       "    </tr>\n",
       "  </tbody>\n",
       "</table>\n",
       "</div>"
      ],
      "text/plain": [
       "                  C1        C2        C3        C4        C5        C6  \\\n",
       "2020-01-20  0.526284  0.993583  0.350126  0.039340  0.449637  0.186593   \n",
       "2020-01-21  0.525236  0.810138  0.721619  0.684445  0.701107  0.419073   \n",
       "2020-01-22  0.654542  0.635133  0.184109  0.056312  0.765443  0.788801   \n",
       "2020-01-23  0.307747  0.510296  0.527891  0.781068  0.905370  0.192789   \n",
       "2020-01-24  0.136986  0.900926  0.988436  0.411650  0.455052  0.317770   \n",
       "2020-01-25  0.754918  0.711455  0.606295  0.156955  0.072543  0.970588   \n",
       "2020-01-26  0.451520  0.498947  0.046108  0.937178  0.037080  0.273831   \n",
       "\n",
       "                  C7  \n",
       "2020-01-20  0.290626  \n",
       "2020-01-21  0.474889  \n",
       "2020-01-22  0.723095  \n",
       "2020-01-23  0.708572  \n",
       "2020-01-24  0.649761  \n",
       "2020-01-25  0.995671  \n",
       "2020-01-26  0.925727  "
      ]
     },
     "execution_count": 199,
     "metadata": {},
     "output_type": "execute_result"
    }
   ],
   "source": [
    "dframe"
   ]
  },
  {
   "cell_type": "code",
   "execution_count": 200,
   "metadata": {},
   "outputs": [
    {
     "data": {
      "text/plain": [
       "0.7216190483426549"
      ]
     },
     "execution_count": 200,
     "metadata": {},
     "output_type": "execute_result"
    }
   ],
   "source": [
    "# Data selection using position (Integer Index based)\n",
    "dframe.iloc[1][2]"
   ]
  },
  {
   "cell_type": "code",
   "execution_count": 201,
   "metadata": {},
   "outputs": [
    {
     "data": {
      "text/html": [
       "<div>\n",
       "<style scoped>\n",
       "    .dataframe tbody tr th:only-of-type {\n",
       "        vertical-align: middle;\n",
       "    }\n",
       "\n",
       "    .dataframe tbody tr th {\n",
       "        vertical-align: top;\n",
       "    }\n",
       "\n",
       "    .dataframe thead th {\n",
       "        text-align: right;\n",
       "    }\n",
       "</style>\n",
       "<table border=\"1\" class=\"dataframe\">\n",
       "  <thead>\n",
       "    <tr style=\"text-align: right;\">\n",
       "      <th></th>\n",
       "      <th>C1</th>\n",
       "      <th>C2</th>\n",
       "      <th>C3</th>\n",
       "    </tr>\n",
       "  </thead>\n",
       "  <tbody>\n",
       "    <tr>\n",
       "      <th>2020-01-20</th>\n",
       "      <td>0.526284</td>\n",
       "      <td>0.993583</td>\n",
       "      <td>0.350126</td>\n",
       "    </tr>\n",
       "    <tr>\n",
       "      <th>2020-01-21</th>\n",
       "      <td>0.525236</td>\n",
       "      <td>0.810138</td>\n",
       "      <td>0.721619</td>\n",
       "    </tr>\n",
       "    <tr>\n",
       "      <th>2020-01-22</th>\n",
       "      <td>0.654542</td>\n",
       "      <td>0.635133</td>\n",
       "      <td>0.184109</td>\n",
       "    </tr>\n",
       "    <tr>\n",
       "      <th>2020-01-23</th>\n",
       "      <td>0.307747</td>\n",
       "      <td>0.510296</td>\n",
       "      <td>0.527891</td>\n",
       "    </tr>\n",
       "    <tr>\n",
       "      <th>2020-01-24</th>\n",
       "      <td>0.136986</td>\n",
       "      <td>0.900926</td>\n",
       "      <td>0.988436</td>\n",
       "    </tr>\n",
       "    <tr>\n",
       "      <th>2020-01-25</th>\n",
       "      <td>0.754918</td>\n",
       "      <td>0.711455</td>\n",
       "      <td>0.606295</td>\n",
       "    </tr>\n",
       "    <tr>\n",
       "      <th>2020-01-26</th>\n",
       "      <td>0.451520</td>\n",
       "      <td>0.498947</td>\n",
       "      <td>0.046108</td>\n",
       "    </tr>\n",
       "  </tbody>\n",
       "</table>\n",
       "</div>"
      ],
      "text/plain": [
       "                  C1        C2        C3\n",
       "2020-01-20  0.526284  0.993583  0.350126\n",
       "2020-01-21  0.525236  0.810138  0.721619\n",
       "2020-01-22  0.654542  0.635133  0.184109\n",
       "2020-01-23  0.307747  0.510296  0.527891\n",
       "2020-01-24  0.136986  0.900926  0.988436\n",
       "2020-01-25  0.754918  0.711455  0.606295\n",
       "2020-01-26  0.451520  0.498947  0.046108"
      ]
     },
     "execution_count": 201,
     "metadata": {},
     "output_type": "execute_result"
    }
   ],
   "source": [
    "# Select all rows & first three columns\n",
    "dframe.iloc[:,0:3]\n",
    "# dframe.iloc[2:4,-3:-1]"
   ]
  },
  {
   "cell_type": "code",
   "execution_count": 202,
   "metadata": {},
   "outputs": [
    {
     "data": {
      "text/html": [
       "<div>\n",
       "<style scoped>\n",
       "    .dataframe tbody tr th:only-of-type {\n",
       "        vertical-align: middle;\n",
       "    }\n",
       "\n",
       "    .dataframe tbody tr th {\n",
       "        vertical-align: top;\n",
       "    }\n",
       "\n",
       "    .dataframe thead th {\n",
       "        text-align: right;\n",
       "    }\n",
       "</style>\n",
       "<table border=\"1\" class=\"dataframe\">\n",
       "  <thead>\n",
       "    <tr style=\"text-align: right;\">\n",
       "      <th></th>\n",
       "      <th>C1</th>\n",
       "      <th>C2</th>\n",
       "      <th>C3</th>\n",
       "      <th>C4</th>\n",
       "      <th>C5</th>\n",
       "      <th>C6</th>\n",
       "      <th>C7</th>\n",
       "    </tr>\n",
       "  </thead>\n",
       "  <tbody>\n",
       "    <tr>\n",
       "      <th>2020-01-20</th>\n",
       "      <td>10.000000</td>\n",
       "      <td>0.993583</td>\n",
       "      <td>0.350126</td>\n",
       "      <td>0.039340</td>\n",
       "      <td>0.449637</td>\n",
       "      <td>0.186593</td>\n",
       "      <td>0.290626</td>\n",
       "    </tr>\n",
       "    <tr>\n",
       "      <th>2020-01-21</th>\n",
       "      <td>0.525236</td>\n",
       "      <td>0.810138</td>\n",
       "      <td>0.721619</td>\n",
       "      <td>0.684445</td>\n",
       "      <td>0.701107</td>\n",
       "      <td>0.419073</td>\n",
       "      <td>0.474889</td>\n",
       "    </tr>\n",
       "    <tr>\n",
       "      <th>2020-01-22</th>\n",
       "      <td>0.654542</td>\n",
       "      <td>0.635133</td>\n",
       "      <td>0.184109</td>\n",
       "      <td>0.056312</td>\n",
       "      <td>0.765443</td>\n",
       "      <td>0.788801</td>\n",
       "      <td>0.723095</td>\n",
       "    </tr>\n",
       "    <tr>\n",
       "      <th>2020-01-23</th>\n",
       "      <td>0.307747</td>\n",
       "      <td>0.510296</td>\n",
       "      <td>0.527891</td>\n",
       "      <td>0.781068</td>\n",
       "      <td>0.905370</td>\n",
       "      <td>0.192789</td>\n",
       "      <td>0.708572</td>\n",
       "    </tr>\n",
       "    <tr>\n",
       "      <th>2020-01-24</th>\n",
       "      <td>0.136986</td>\n",
       "      <td>0.900926</td>\n",
       "      <td>0.988436</td>\n",
       "      <td>0.411650</td>\n",
       "      <td>0.455052</td>\n",
       "      <td>0.317770</td>\n",
       "      <td>0.649761</td>\n",
       "    </tr>\n",
       "    <tr>\n",
       "      <th>2020-01-25</th>\n",
       "      <td>0.754918</td>\n",
       "      <td>0.711455</td>\n",
       "      <td>0.606295</td>\n",
       "      <td>0.156955</td>\n",
       "      <td>0.072543</td>\n",
       "      <td>0.970588</td>\n",
       "      <td>0.995671</td>\n",
       "    </tr>\n",
       "    <tr>\n",
       "      <th>2020-01-26</th>\n",
       "      <td>0.451520</td>\n",
       "      <td>0.498947</td>\n",
       "      <td>0.046108</td>\n",
       "      <td>0.937178</td>\n",
       "      <td>0.037080</td>\n",
       "      <td>0.273831</td>\n",
       "      <td>0.925727</td>\n",
       "    </tr>\n",
       "  </tbody>\n",
       "</table>\n",
       "</div>"
      ],
      "text/plain": [
       "                   C1        C2        C3        C4        C5        C6  \\\n",
       "2020-01-20  10.000000  0.993583  0.350126  0.039340  0.449637  0.186593   \n",
       "2020-01-21   0.525236  0.810138  0.721619  0.684445  0.701107  0.419073   \n",
       "2020-01-22   0.654542  0.635133  0.184109  0.056312  0.765443  0.788801   \n",
       "2020-01-23   0.307747  0.510296  0.527891  0.781068  0.905370  0.192789   \n",
       "2020-01-24   0.136986  0.900926  0.988436  0.411650  0.455052  0.317770   \n",
       "2020-01-25   0.754918  0.711455  0.606295  0.156955  0.072543  0.970588   \n",
       "2020-01-26   0.451520  0.498947  0.046108  0.937178  0.037080  0.273831   \n",
       "\n",
       "                  C7  \n",
       "2020-01-20  0.290626  \n",
       "2020-01-21  0.474889  \n",
       "2020-01-22  0.723095  \n",
       "2020-01-23  0.708572  \n",
       "2020-01-24  0.649761  \n",
       "2020-01-25  0.995671  \n",
       "2020-01-26  0.925727  "
      ]
     },
     "execution_count": 202,
     "metadata": {},
     "output_type": "execute_result"
    }
   ],
   "source": [
    "dframe.iloc[0,0] = 10\n",
    "dframe"
   ]
  },
  {
   "cell_type": "code",
   "execution_count": 110,
   "metadata": {},
   "outputs": [
    {
     "data": {
      "text/plain": [
       "2020-01-20     True\n",
       "2020-01-21    False\n",
       "2020-01-22    False\n",
       "2020-01-23    False\n",
       "2020-01-24    False\n",
       "2020-01-25    False\n",
       "2020-01-26    False\n",
       "Freq: D, Name: C1, dtype: bool"
      ]
     },
     "execution_count": 110,
     "metadata": {},
     "output_type": "execute_result"
    }
   ],
   "source": [
    "# Display all rows where C1 has value of 10 or 20\n",
    "dframe['C1'].isin([10,0.3522387288648713])"
   ]
  },
  {
   "cell_type": "markdown",
   "metadata": {},
   "source": [
    "## Set Value"
   ]
  },
  {
   "cell_type": "code",
   "execution_count": 203,
   "metadata": {},
   "outputs": [
    {
     "data": {
      "text/html": [
       "<div>\n",
       "<style scoped>\n",
       "    .dataframe tbody tr th:only-of-type {\n",
       "        vertical-align: middle;\n",
       "    }\n",
       "\n",
       "    .dataframe tbody tr th {\n",
       "        vertical-align: top;\n",
       "    }\n",
       "\n",
       "    .dataframe thead th {\n",
       "        text-align: right;\n",
       "    }\n",
       "</style>\n",
       "<table border=\"1\" class=\"dataframe\">\n",
       "  <thead>\n",
       "    <tr style=\"text-align: right;\">\n",
       "      <th></th>\n",
       "      <th>C1</th>\n",
       "      <th>C2</th>\n",
       "      <th>C3</th>\n",
       "      <th>C4</th>\n",
       "      <th>C5</th>\n",
       "      <th>C6</th>\n",
       "      <th>C7</th>\n",
       "    </tr>\n",
       "  </thead>\n",
       "  <tbody>\n",
       "    <tr>\n",
       "      <th>2020-01-20</th>\n",
       "      <td>888</td>\n",
       "      <td>0.993583</td>\n",
       "      <td>0.350126</td>\n",
       "      <td>0.039340</td>\n",
       "      <td>0.449637</td>\n",
       "      <td>0.186593</td>\n",
       "      <td>0.290626</td>\n",
       "    </tr>\n",
       "    <tr>\n",
       "      <th>2020-01-21</th>\n",
       "      <td>888</td>\n",
       "      <td>0.810138</td>\n",
       "      <td>0.721619</td>\n",
       "      <td>0.684445</td>\n",
       "      <td>0.701107</td>\n",
       "      <td>0.419073</td>\n",
       "      <td>0.474889</td>\n",
       "    </tr>\n",
       "    <tr>\n",
       "      <th>2020-01-22</th>\n",
       "      <td>888</td>\n",
       "      <td>0.635133</td>\n",
       "      <td>0.184109</td>\n",
       "      <td>0.056312</td>\n",
       "      <td>0.765443</td>\n",
       "      <td>0.788801</td>\n",
       "      <td>0.723095</td>\n",
       "    </tr>\n",
       "    <tr>\n",
       "      <th>2020-01-23</th>\n",
       "      <td>888</td>\n",
       "      <td>0.510296</td>\n",
       "      <td>0.527891</td>\n",
       "      <td>0.781068</td>\n",
       "      <td>0.905370</td>\n",
       "      <td>0.192789</td>\n",
       "      <td>0.708572</td>\n",
       "    </tr>\n",
       "    <tr>\n",
       "      <th>2020-01-24</th>\n",
       "      <td>888</td>\n",
       "      <td>0.900926</td>\n",
       "      <td>0.988436</td>\n",
       "      <td>0.411650</td>\n",
       "      <td>0.455052</td>\n",
       "      <td>0.317770</td>\n",
       "      <td>0.649761</td>\n",
       "    </tr>\n",
       "    <tr>\n",
       "      <th>2020-01-25</th>\n",
       "      <td>888</td>\n",
       "      <td>0.711455</td>\n",
       "      <td>0.606295</td>\n",
       "      <td>0.156955</td>\n",
       "      <td>0.072543</td>\n",
       "      <td>0.970588</td>\n",
       "      <td>0.995671</td>\n",
       "    </tr>\n",
       "    <tr>\n",
       "      <th>2020-01-26</th>\n",
       "      <td>888</td>\n",
       "      <td>0.498947</td>\n",
       "      <td>0.046108</td>\n",
       "      <td>0.937178</td>\n",
       "      <td>0.037080</td>\n",
       "      <td>0.273831</td>\n",
       "      <td>0.925727</td>\n",
       "    </tr>\n",
       "  </tbody>\n",
       "</table>\n",
       "</div>"
      ],
      "text/plain": [
       "             C1        C2        C3        C4        C5        C6        C7\n",
       "2020-01-20  888  0.993583  0.350126  0.039340  0.449637  0.186593  0.290626\n",
       "2020-01-21  888  0.810138  0.721619  0.684445  0.701107  0.419073  0.474889\n",
       "2020-01-22  888  0.635133  0.184109  0.056312  0.765443  0.788801  0.723095\n",
       "2020-01-23  888  0.510296  0.527891  0.781068  0.905370  0.192789  0.708572\n",
       "2020-01-24  888  0.900926  0.988436  0.411650  0.455052  0.317770  0.649761\n",
       "2020-01-25  888  0.711455  0.606295  0.156955  0.072543  0.970588  0.995671\n",
       "2020-01-26  888  0.498947  0.046108  0.937178  0.037080  0.273831  0.925727"
      ]
     },
     "execution_count": 203,
     "metadata": {},
     "output_type": "execute_result"
    }
   ],
   "source": [
    "# Set value of 888 for all elements in column 'C1'\n",
    "dframe['C1'] = 888\n",
    "dframe"
   ]
  },
  {
   "cell_type": "code",
   "execution_count": 204,
   "metadata": {},
   "outputs": [],
   "source": [
    "# Set value of 777 for first three rows in Column 'C6'\n",
    "dframe.at[0:3,'C6'] = 777"
   ]
  },
  {
   "cell_type": "code",
   "execution_count": 205,
   "metadata": {},
   "outputs": [
    {
     "data": {
      "text/html": [
       "<div>\n",
       "<style scoped>\n",
       "    .dataframe tbody tr th:only-of-type {\n",
       "        vertical-align: middle;\n",
       "    }\n",
       "\n",
       "    .dataframe tbody tr th {\n",
       "        vertical-align: top;\n",
       "    }\n",
       "\n",
       "    .dataframe thead th {\n",
       "        text-align: right;\n",
       "    }\n",
       "</style>\n",
       "<table border=\"1\" class=\"dataframe\">\n",
       "  <thead>\n",
       "    <tr style=\"text-align: right;\">\n",
       "      <th></th>\n",
       "      <th>C1</th>\n",
       "      <th>C2</th>\n",
       "      <th>C3</th>\n",
       "      <th>C4</th>\n",
       "      <th>C5</th>\n",
       "      <th>C6</th>\n",
       "      <th>C7</th>\n",
       "    </tr>\n",
       "  </thead>\n",
       "  <tbody>\n",
       "    <tr>\n",
       "      <th>2020-01-20</th>\n",
       "      <td>888</td>\n",
       "      <td>0.993583</td>\n",
       "      <td>0.350126</td>\n",
       "      <td>0.039340</td>\n",
       "      <td>0.449637</td>\n",
       "      <td>777.000000</td>\n",
       "      <td>0.290626</td>\n",
       "    </tr>\n",
       "    <tr>\n",
       "      <th>2020-01-21</th>\n",
       "      <td>888</td>\n",
       "      <td>0.810138</td>\n",
       "      <td>0.721619</td>\n",
       "      <td>0.684445</td>\n",
       "      <td>0.701107</td>\n",
       "      <td>777.000000</td>\n",
       "      <td>0.474889</td>\n",
       "    </tr>\n",
       "    <tr>\n",
       "      <th>2020-01-22</th>\n",
       "      <td>888</td>\n",
       "      <td>0.635133</td>\n",
       "      <td>0.184109</td>\n",
       "      <td>0.056312</td>\n",
       "      <td>0.765443</td>\n",
       "      <td>777.000000</td>\n",
       "      <td>0.723095</td>\n",
       "    </tr>\n",
       "    <tr>\n",
       "      <th>2020-01-23</th>\n",
       "      <td>888</td>\n",
       "      <td>0.510296</td>\n",
       "      <td>0.527891</td>\n",
       "      <td>0.781068</td>\n",
       "      <td>0.905370</td>\n",
       "      <td>0.192789</td>\n",
       "      <td>0.708572</td>\n",
       "    </tr>\n",
       "    <tr>\n",
       "      <th>2020-01-24</th>\n",
       "      <td>888</td>\n",
       "      <td>0.900926</td>\n",
       "      <td>0.988436</td>\n",
       "      <td>0.411650</td>\n",
       "      <td>0.455052</td>\n",
       "      <td>0.317770</td>\n",
       "      <td>0.649761</td>\n",
       "    </tr>\n",
       "    <tr>\n",
       "      <th>2020-01-25</th>\n",
       "      <td>888</td>\n",
       "      <td>0.711455</td>\n",
       "      <td>0.606295</td>\n",
       "      <td>0.156955</td>\n",
       "      <td>0.072543</td>\n",
       "      <td>0.970588</td>\n",
       "      <td>0.995671</td>\n",
       "    </tr>\n",
       "    <tr>\n",
       "      <th>2020-01-26</th>\n",
       "      <td>888</td>\n",
       "      <td>0.498947</td>\n",
       "      <td>0.046108</td>\n",
       "      <td>0.937178</td>\n",
       "      <td>0.037080</td>\n",
       "      <td>0.273831</td>\n",
       "      <td>0.925727</td>\n",
       "    </tr>\n",
       "  </tbody>\n",
       "</table>\n",
       "</div>"
      ],
      "text/plain": [
       "             C1        C2        C3        C4        C5          C6        C7\n",
       "2020-01-20  888  0.993583  0.350126  0.039340  0.449637  777.000000  0.290626\n",
       "2020-01-21  888  0.810138  0.721619  0.684445  0.701107  777.000000  0.474889\n",
       "2020-01-22  888  0.635133  0.184109  0.056312  0.765443  777.000000  0.723095\n",
       "2020-01-23  888  0.510296  0.527891  0.781068  0.905370    0.192789  0.708572\n",
       "2020-01-24  888  0.900926  0.988436  0.411650  0.455052    0.317770  0.649761\n",
       "2020-01-25  888  0.711455  0.606295  0.156955  0.072543    0.970588  0.995671\n",
       "2020-01-26  888  0.498947  0.046108  0.937178  0.037080    0.273831  0.925727"
      ]
     },
     "execution_count": 205,
     "metadata": {},
     "output_type": "execute_result"
    }
   ],
   "source": [
    "dframe"
   ]
  },
  {
   "cell_type": "code",
   "execution_count": 206,
   "metadata": {},
   "outputs": [],
   "source": [
    "# Set value of 333 in first row and third column\n",
    "dframe.iat[3,3] = 333"
   ]
  },
  {
   "cell_type": "code",
   "execution_count": 207,
   "metadata": {},
   "outputs": [
    {
     "data": {
      "text/html": [
       "<div>\n",
       "<style scoped>\n",
       "    .dataframe tbody tr th:only-of-type {\n",
       "        vertical-align: middle;\n",
       "    }\n",
       "\n",
       "    .dataframe tbody tr th {\n",
       "        vertical-align: top;\n",
       "    }\n",
       "\n",
       "    .dataframe thead th {\n",
       "        text-align: right;\n",
       "    }\n",
       "</style>\n",
       "<table border=\"1\" class=\"dataframe\">\n",
       "  <thead>\n",
       "    <tr style=\"text-align: right;\">\n",
       "      <th></th>\n",
       "      <th>C1</th>\n",
       "      <th>C2</th>\n",
       "      <th>C3</th>\n",
       "      <th>C4</th>\n",
       "      <th>C5</th>\n",
       "      <th>C6</th>\n",
       "      <th>C7</th>\n",
       "    </tr>\n",
       "  </thead>\n",
       "  <tbody>\n",
       "    <tr>\n",
       "      <th>2020-01-20</th>\n",
       "      <td>888</td>\n",
       "      <td>0.993583</td>\n",
       "      <td>0.350126</td>\n",
       "      <td>0.039340</td>\n",
       "      <td>0.449637</td>\n",
       "      <td>777.000000</td>\n",
       "      <td>0.290626</td>\n",
       "    </tr>\n",
       "    <tr>\n",
       "      <th>2020-01-21</th>\n",
       "      <td>888</td>\n",
       "      <td>0.810138</td>\n",
       "      <td>0.721619</td>\n",
       "      <td>0.684445</td>\n",
       "      <td>0.701107</td>\n",
       "      <td>777.000000</td>\n",
       "      <td>0.474889</td>\n",
       "    </tr>\n",
       "    <tr>\n",
       "      <th>2020-01-22</th>\n",
       "      <td>888</td>\n",
       "      <td>0.635133</td>\n",
       "      <td>0.184109</td>\n",
       "      <td>0.056312</td>\n",
       "      <td>0.765443</td>\n",
       "      <td>777.000000</td>\n",
       "      <td>0.723095</td>\n",
       "    </tr>\n",
       "    <tr>\n",
       "      <th>2020-01-23</th>\n",
       "      <td>888</td>\n",
       "      <td>0.510296</td>\n",
       "      <td>0.527891</td>\n",
       "      <td>333.000000</td>\n",
       "      <td>0.905370</td>\n",
       "      <td>0.192789</td>\n",
       "      <td>0.708572</td>\n",
       "    </tr>\n",
       "    <tr>\n",
       "      <th>2020-01-24</th>\n",
       "      <td>888</td>\n",
       "      <td>0.900926</td>\n",
       "      <td>0.988436</td>\n",
       "      <td>0.411650</td>\n",
       "      <td>0.455052</td>\n",
       "      <td>0.317770</td>\n",
       "      <td>0.649761</td>\n",
       "    </tr>\n",
       "    <tr>\n",
       "      <th>2020-01-25</th>\n",
       "      <td>888</td>\n",
       "      <td>0.711455</td>\n",
       "      <td>0.606295</td>\n",
       "      <td>0.156955</td>\n",
       "      <td>0.072543</td>\n",
       "      <td>0.970588</td>\n",
       "      <td>0.995671</td>\n",
       "    </tr>\n",
       "    <tr>\n",
       "      <th>2020-01-26</th>\n",
       "      <td>888</td>\n",
       "      <td>0.498947</td>\n",
       "      <td>0.046108</td>\n",
       "      <td>0.937178</td>\n",
       "      <td>0.037080</td>\n",
       "      <td>0.273831</td>\n",
       "      <td>0.925727</td>\n",
       "    </tr>\n",
       "  </tbody>\n",
       "</table>\n",
       "</div>"
      ],
      "text/plain": [
       "             C1        C2        C3          C4        C5          C6  \\\n",
       "2020-01-20  888  0.993583  0.350126    0.039340  0.449637  777.000000   \n",
       "2020-01-21  888  0.810138  0.721619    0.684445  0.701107  777.000000   \n",
       "2020-01-22  888  0.635133  0.184109    0.056312  0.765443  777.000000   \n",
       "2020-01-23  888  0.510296  0.527891  333.000000  0.905370    0.192789   \n",
       "2020-01-24  888  0.900926  0.988436    0.411650  0.455052    0.317770   \n",
       "2020-01-25  888  0.711455  0.606295    0.156955  0.072543    0.970588   \n",
       "2020-01-26  888  0.498947  0.046108    0.937178  0.037080    0.273831   \n",
       "\n",
       "                  C7  \n",
       "2020-01-20  0.290626  \n",
       "2020-01-21  0.474889  \n",
       "2020-01-22  0.723095  \n",
       "2020-01-23  0.708572  \n",
       "2020-01-24  0.649761  \n",
       "2020-01-25  0.995671  \n",
       "2020-01-26  0.925727  "
      ]
     },
     "execution_count": 207,
     "metadata": {},
     "output_type": "execute_result"
    }
   ],
   "source": [
    "dframe"
   ]
  },
  {
   "cell_type": "code",
   "execution_count": 208,
   "metadata": {},
   "outputs": [
    {
     "data": {
      "text/html": [
       "<div>\n",
       "<style scoped>\n",
       "    .dataframe tbody tr th:only-of-type {\n",
       "        vertical-align: middle;\n",
       "    }\n",
       "\n",
       "    .dataframe tbody tr th {\n",
       "        vertical-align: top;\n",
       "    }\n",
       "\n",
       "    .dataframe thead th {\n",
       "        text-align: right;\n",
       "    }\n",
       "</style>\n",
       "<table border=\"1\" class=\"dataframe\">\n",
       "  <thead>\n",
       "    <tr style=\"text-align: right;\">\n",
       "      <th></th>\n",
       "      <th>C1</th>\n",
       "      <th>C2</th>\n",
       "      <th>C3</th>\n",
       "      <th>C4</th>\n",
       "      <th>C5</th>\n",
       "      <th>C6</th>\n",
       "      <th>C7</th>\n",
       "    </tr>\n",
       "  </thead>\n",
       "  <tbody>\n",
       "    <tr>\n",
       "      <th>2020-01-20</th>\n",
       "      <td>888</td>\n",
       "      <td>0.993583</td>\n",
       "      <td>0.350126</td>\n",
       "      <td>0.039340</td>\n",
       "      <td>0.449637</td>\n",
       "      <td>777.000000</td>\n",
       "      <td>0.290626</td>\n",
       "    </tr>\n",
       "    <tr>\n",
       "      <th>2020-01-21</th>\n",
       "      <td>888</td>\n",
       "      <td>0.810138</td>\n",
       "      <td>0.721619</td>\n",
       "      <td>0.684445</td>\n",
       "      <td>0.701107</td>\n",
       "      <td>777.000000</td>\n",
       "      <td>0.474889</td>\n",
       "    </tr>\n",
       "    <tr>\n",
       "      <th>2020-01-22</th>\n",
       "      <td>888</td>\n",
       "      <td>0.635133</td>\n",
       "      <td>0.184109</td>\n",
       "      <td>0.056312</td>\n",
       "      <td>0.765443</td>\n",
       "      <td>777.000000</td>\n",
       "      <td>0.723095</td>\n",
       "    </tr>\n",
       "    <tr>\n",
       "      <th>2020-01-23</th>\n",
       "      <td>888</td>\n",
       "      <td>0.510296</td>\n",
       "      <td>0.527891</td>\n",
       "      <td>333.000000</td>\n",
       "      <td>555.000000</td>\n",
       "      <td>0.192789</td>\n",
       "      <td>0.708572</td>\n",
       "    </tr>\n",
       "    <tr>\n",
       "      <th>2020-01-24</th>\n",
       "      <td>888</td>\n",
       "      <td>0.900926</td>\n",
       "      <td>0.988436</td>\n",
       "      <td>0.411650</td>\n",
       "      <td>0.455052</td>\n",
       "      <td>0.317770</td>\n",
       "      <td>0.649761</td>\n",
       "    </tr>\n",
       "    <tr>\n",
       "      <th>2020-01-25</th>\n",
       "      <td>888</td>\n",
       "      <td>0.711455</td>\n",
       "      <td>0.606295</td>\n",
       "      <td>0.156955</td>\n",
       "      <td>0.072543</td>\n",
       "      <td>0.970588</td>\n",
       "      <td>0.995671</td>\n",
       "    </tr>\n",
       "    <tr>\n",
       "      <th>2020-01-26</th>\n",
       "      <td>888</td>\n",
       "      <td>0.498947</td>\n",
       "      <td>0.046108</td>\n",
       "      <td>0.937178</td>\n",
       "      <td>0.037080</td>\n",
       "      <td>0.273831</td>\n",
       "      <td>0.925727</td>\n",
       "    </tr>\n",
       "  </tbody>\n",
       "</table>\n",
       "</div>"
      ],
      "text/plain": [
       "             C1        C2        C3          C4          C5          C6  \\\n",
       "2020-01-20  888  0.993583  0.350126    0.039340    0.449637  777.000000   \n",
       "2020-01-21  888  0.810138  0.721619    0.684445    0.701107  777.000000   \n",
       "2020-01-22  888  0.635133  0.184109    0.056312    0.765443  777.000000   \n",
       "2020-01-23  888  0.510296  0.527891  333.000000  555.000000    0.192789   \n",
       "2020-01-24  888  0.900926  0.988436    0.411650    0.455052    0.317770   \n",
       "2020-01-25  888  0.711455  0.606295    0.156955    0.072543    0.970588   \n",
       "2020-01-26  888  0.498947  0.046108    0.937178    0.037080    0.273831   \n",
       "\n",
       "                  C7  \n",
       "2020-01-20  0.290626  \n",
       "2020-01-21  0.474889  \n",
       "2020-01-22  0.723095  \n",
       "2020-01-23  0.708572  \n",
       "2020-01-24  0.649761  \n",
       "2020-01-25  0.995671  \n",
       "2020-01-26  0.925727  "
      ]
     },
     "execution_count": 208,
     "metadata": {},
     "output_type": "execute_result"
    }
   ],
   "source": [
    "dframe.iloc[3,4] = 555\n",
    "dframe"
   ]
  },
  {
   "cell_type": "code",
   "execution_count": 209,
   "metadata": {},
   "outputs": [
    {
     "data": {
      "text/html": [
       "<div>\n",
       "<style scoped>\n",
       "    .dataframe tbody tr th:only-of-type {\n",
       "        vertical-align: middle;\n",
       "    }\n",
       "\n",
       "    .dataframe tbody tr th {\n",
       "        vertical-align: top;\n",
       "    }\n",
       "\n",
       "    .dataframe thead th {\n",
       "        text-align: right;\n",
       "    }\n",
       "</style>\n",
       "<table border=\"1\" class=\"dataframe\">\n",
       "  <thead>\n",
       "    <tr style=\"text-align: right;\">\n",
       "      <th></th>\n",
       "      <th>C1</th>\n",
       "      <th>C2</th>\n",
       "      <th>C3</th>\n",
       "      <th>C4</th>\n",
       "      <th>C5</th>\n",
       "      <th>C6</th>\n",
       "      <th>C7</th>\n",
       "    </tr>\n",
       "  </thead>\n",
       "  <tbody>\n",
       "    <tr>\n",
       "      <th>2020-01-20</th>\n",
       "      <td>888</td>\n",
       "      <td>0.993583</td>\n",
       "      <td>0.350126</td>\n",
       "      <td>0.039340</td>\n",
       "      <td>0.449637</td>\n",
       "      <td>777.000000</td>\n",
       "      <td>0.290626</td>\n",
       "    </tr>\n",
       "    <tr>\n",
       "      <th>2020-01-21</th>\n",
       "      <td>888</td>\n",
       "      <td>0.810138</td>\n",
       "      <td>0.721619</td>\n",
       "      <td>0.684445</td>\n",
       "      <td>0.701107</td>\n",
       "      <td>777.000000</td>\n",
       "      <td>0.474889</td>\n",
       "    </tr>\n",
       "    <tr>\n",
       "      <th>2020-01-22</th>\n",
       "      <td>888</td>\n",
       "      <td>0.635133</td>\n",
       "      <td>0.184109</td>\n",
       "      <td>0.056312</td>\n",
       "      <td>0.765443</td>\n",
       "      <td>777.000000</td>\n",
       "      <td>0.723095</td>\n",
       "    </tr>\n",
       "    <tr>\n",
       "      <th>2020-01-23</th>\n",
       "      <td>888</td>\n",
       "      <td>0.510296</td>\n",
       "      <td>0.527891</td>\n",
       "      <td>333.000000</td>\n",
       "      <td>555.000000</td>\n",
       "      <td>0.192789</td>\n",
       "      <td>0.708572</td>\n",
       "    </tr>\n",
       "    <tr>\n",
       "      <th>2020-01-24</th>\n",
       "      <td>888</td>\n",
       "      <td>0.900926</td>\n",
       "      <td>0.988436</td>\n",
       "      <td>0.411650</td>\n",
       "      <td>0.455052</td>\n",
       "      <td>0.317770</td>\n",
       "      <td>0.649761</td>\n",
       "    </tr>\n",
       "    <tr>\n",
       "      <th>2020-01-25</th>\n",
       "      <td>888</td>\n",
       "      <td>0.711455</td>\n",
       "      <td>0.606295</td>\n",
       "      <td>0.156955</td>\n",
       "      <td>0.072543</td>\n",
       "      <td>0.970588</td>\n",
       "      <td>0.995671</td>\n",
       "    </tr>\n",
       "    <tr>\n",
       "      <th>2020-01-26</th>\n",
       "      <td>888</td>\n",
       "      <td>0.498947</td>\n",
       "      <td>0.046108</td>\n",
       "      <td>0.937178</td>\n",
       "      <td>0.037080</td>\n",
       "      <td>0.273831</td>\n",
       "      <td>0.925727</td>\n",
       "    </tr>\n",
       "  </tbody>\n",
       "</table>\n",
       "</div>"
      ],
      "text/plain": [
       "             C1        C2        C3          C4          C5          C6  \\\n",
       "2020-01-20  888  0.993583  0.350126    0.039340    0.449637  777.000000   \n",
       "2020-01-21  888  0.810138  0.721619    0.684445    0.701107  777.000000   \n",
       "2020-01-22  888  0.635133  0.184109    0.056312    0.765443  777.000000   \n",
       "2020-01-23  888  0.510296  0.527891  333.000000  555.000000    0.192789   \n",
       "2020-01-24  888  0.900926  0.988436    0.411650    0.455052    0.317770   \n",
       "2020-01-25  888  0.711455  0.606295    0.156955    0.072543    0.970588   \n",
       "2020-01-26  888  0.498947  0.046108    0.937178    0.037080    0.273831   \n",
       "\n",
       "                  C7  \n",
       "2020-01-20  0.290626  \n",
       "2020-01-21  0.474889  \n",
       "2020-01-22  0.723095  \n",
       "2020-01-23  0.708572  \n",
       "2020-01-24  0.649761  \n",
       "2020-01-25  0.995671  \n",
       "2020-01-26  0.925727  "
      ]
     },
     "execution_count": 209,
     "metadata": {},
     "output_type": "execute_result"
    }
   ],
   "source": [
    "dframe1 = dframe.copy(deep=False)\n",
    "dframe1"
   ]
  },
  {
   "cell_type": "code",
   "execution_count": 210,
   "metadata": {},
   "outputs": [
    {
     "data": {
      "text/html": [
       "<div>\n",
       "<style scoped>\n",
       "    .dataframe tbody tr th:only-of-type {\n",
       "        vertical-align: middle;\n",
       "    }\n",
       "\n",
       "    .dataframe tbody tr th {\n",
       "        vertical-align: top;\n",
       "    }\n",
       "\n",
       "    .dataframe thead th {\n",
       "        text-align: right;\n",
       "    }\n",
       "</style>\n",
       "<table border=\"1\" class=\"dataframe\">\n",
       "  <thead>\n",
       "    <tr style=\"text-align: right;\">\n",
       "      <th></th>\n",
       "      <th>C1</th>\n",
       "      <th>C2</th>\n",
       "      <th>C3</th>\n",
       "      <th>C4</th>\n",
       "      <th>C5</th>\n",
       "      <th>C6</th>\n",
       "      <th>C7</th>\n",
       "    </tr>\n",
       "  </thead>\n",
       "  <tbody>\n",
       "    <tr>\n",
       "      <th>2020-01-20</th>\n",
       "      <td>888</td>\n",
       "      <td>0.993583</td>\n",
       "      <td>0.350126</td>\n",
       "      <td>0.039340</td>\n",
       "      <td>0.449637</td>\n",
       "      <td>777.000000</td>\n",
       "      <td>0.290626</td>\n",
       "    </tr>\n",
       "    <tr>\n",
       "      <th>2020-01-21</th>\n",
       "      <td>888</td>\n",
       "      <td>0.810138</td>\n",
       "      <td>0.721619</td>\n",
       "      <td>0.684445</td>\n",
       "      <td>0.701107</td>\n",
       "      <td>777.000000</td>\n",
       "      <td>0.474889</td>\n",
       "    </tr>\n",
       "    <tr>\n",
       "      <th>2020-01-22</th>\n",
       "      <td>888</td>\n",
       "      <td>0.635133</td>\n",
       "      <td>0.184109</td>\n",
       "      <td>0.056312</td>\n",
       "      <td>0.765443</td>\n",
       "      <td>777.000000</td>\n",
       "      <td>0.723095</td>\n",
       "    </tr>\n",
       "    <tr>\n",
       "      <th>2020-01-23</th>\n",
       "      <td>888</td>\n",
       "      <td>0.510296</td>\n",
       "      <td>0.527891</td>\n",
       "      <td>333.000000</td>\n",
       "      <td>555.000000</td>\n",
       "      <td>0.192789</td>\n",
       "      <td>0.708572</td>\n",
       "    </tr>\n",
       "    <tr>\n",
       "      <th>2020-01-24</th>\n",
       "      <td>888</td>\n",
       "      <td>0.900926</td>\n",
       "      <td>0.988436</td>\n",
       "      <td>0.411650</td>\n",
       "      <td>0.455052</td>\n",
       "      <td>0.317770</td>\n",
       "      <td>0.649761</td>\n",
       "    </tr>\n",
       "    <tr>\n",
       "      <th>2020-01-25</th>\n",
       "      <td>888</td>\n",
       "      <td>0.711455</td>\n",
       "      <td>0.606295</td>\n",
       "      <td>0.156955</td>\n",
       "      <td>0.072543</td>\n",
       "      <td>0.970588</td>\n",
       "      <td>0.995671</td>\n",
       "    </tr>\n",
       "    <tr>\n",
       "      <th>2020-01-26</th>\n",
       "      <td>888</td>\n",
       "      <td>0.498947</td>\n",
       "      <td>0.046108</td>\n",
       "      <td>0.937178</td>\n",
       "      <td>0.037080</td>\n",
       "      <td>0.273831</td>\n",
       "      <td>0.925727</td>\n",
       "    </tr>\n",
       "  </tbody>\n",
       "</table>\n",
       "</div>"
      ],
      "text/plain": [
       "             C1        C2        C3          C4          C5          C6  \\\n",
       "2020-01-20  888  0.993583  0.350126    0.039340    0.449637  777.000000   \n",
       "2020-01-21  888  0.810138  0.721619    0.684445    0.701107  777.000000   \n",
       "2020-01-22  888  0.635133  0.184109    0.056312    0.765443  777.000000   \n",
       "2020-01-23  888  0.510296  0.527891  333.000000  555.000000    0.192789   \n",
       "2020-01-24  888  0.900926  0.988436    0.411650    0.455052    0.317770   \n",
       "2020-01-25  888  0.711455  0.606295    0.156955    0.072543    0.970588   \n",
       "2020-01-26  888  0.498947  0.046108    0.937178    0.037080    0.273831   \n",
       "\n",
       "                  C7  \n",
       "2020-01-20  0.290626  \n",
       "2020-01-21  0.474889  \n",
       "2020-01-22  0.723095  \n",
       "2020-01-23  0.708572  \n",
       "2020-01-24  0.649761  \n",
       "2020-01-25  0.995671  \n",
       "2020-01-26  0.925727  "
      ]
     },
     "execution_count": 210,
     "metadata": {},
     "output_type": "execute_result"
    }
   ],
   "source": [
    "# Create Copy of the calling objects data along with indices.\n",
    "# Modifications to the data or indices of the copy will not be reflected in the original object \n",
    "dframe1 = dframe.copy(deep=True)\n",
    "dframe1"
   ]
  },
  {
   "cell_type": "code",
   "execution_count": 211,
   "metadata": {},
   "outputs": [
    {
     "data": {
      "text/html": [
       "<div>\n",
       "<style scoped>\n",
       "    .dataframe tbody tr th:only-of-type {\n",
       "        vertical-align: middle;\n",
       "    }\n",
       "\n",
       "    .dataframe tbody tr th {\n",
       "        vertical-align: top;\n",
       "    }\n",
       "\n",
       "    .dataframe thead th {\n",
       "        text-align: right;\n",
       "    }\n",
       "</style>\n",
       "<table border=\"1\" class=\"dataframe\">\n",
       "  <thead>\n",
       "    <tr style=\"text-align: right;\">\n",
       "      <th></th>\n",
       "      <th>C1</th>\n",
       "      <th>C2</th>\n",
       "      <th>C3</th>\n",
       "      <th>C4</th>\n",
       "      <th>C5</th>\n",
       "      <th>C6</th>\n",
       "      <th>C7</th>\n",
       "    </tr>\n",
       "  </thead>\n",
       "  <tbody>\n",
       "    <tr>\n",
       "      <th>2020-01-20</th>\n",
       "      <td>888</td>\n",
       "      <td>0.993583</td>\n",
       "      <td>0.350126</td>\n",
       "      <td>0.039340</td>\n",
       "      <td>0.449637</td>\n",
       "      <td>777.000000</td>\n",
       "      <td>0.290626</td>\n",
       "    </tr>\n",
       "    <tr>\n",
       "      <th>2020-01-21</th>\n",
       "      <td>13</td>\n",
       "      <td>13.000000</td>\n",
       "      <td>13.000000</td>\n",
       "      <td>13.000000</td>\n",
       "      <td>13.000000</td>\n",
       "      <td>13.000000</td>\n",
       "      <td>13.000000</td>\n",
       "    </tr>\n",
       "    <tr>\n",
       "      <th>2020-01-22</th>\n",
       "      <td>888</td>\n",
       "      <td>0.635133</td>\n",
       "      <td>0.184109</td>\n",
       "      <td>0.056312</td>\n",
       "      <td>0.765443</td>\n",
       "      <td>777.000000</td>\n",
       "      <td>0.723095</td>\n",
       "    </tr>\n",
       "    <tr>\n",
       "      <th>2020-01-23</th>\n",
       "      <td>13</td>\n",
       "      <td>13.000000</td>\n",
       "      <td>13.000000</td>\n",
       "      <td>13.000000</td>\n",
       "      <td>13.000000</td>\n",
       "      <td>13.000000</td>\n",
       "      <td>13.000000</td>\n",
       "    </tr>\n",
       "    <tr>\n",
       "      <th>2020-01-24</th>\n",
       "      <td>888</td>\n",
       "      <td>0.900926</td>\n",
       "      <td>0.988436</td>\n",
       "      <td>0.411650</td>\n",
       "      <td>0.455052</td>\n",
       "      <td>0.317770</td>\n",
       "      <td>0.649761</td>\n",
       "    </tr>\n",
       "    <tr>\n",
       "      <th>2020-01-25</th>\n",
       "      <td>888</td>\n",
       "      <td>0.711455</td>\n",
       "      <td>0.606295</td>\n",
       "      <td>0.156955</td>\n",
       "      <td>0.072543</td>\n",
       "      <td>0.970588</td>\n",
       "      <td>0.995671</td>\n",
       "    </tr>\n",
       "    <tr>\n",
       "      <th>2020-01-26</th>\n",
       "      <td>13</td>\n",
       "      <td>13.000000</td>\n",
       "      <td>13.000000</td>\n",
       "      <td>13.000000</td>\n",
       "      <td>13.000000</td>\n",
       "      <td>13.000000</td>\n",
       "      <td>13.000000</td>\n",
       "    </tr>\n",
       "  </tbody>\n",
       "</table>\n",
       "</div>"
      ],
      "text/plain": [
       "             C1         C2         C3         C4         C5          C6  \\\n",
       "2020-01-20  888   0.993583   0.350126   0.039340   0.449637  777.000000   \n",
       "2020-01-21   13  13.000000  13.000000  13.000000  13.000000   13.000000   \n",
       "2020-01-22  888   0.635133   0.184109   0.056312   0.765443  777.000000   \n",
       "2020-01-23   13  13.000000  13.000000  13.000000  13.000000   13.000000   \n",
       "2020-01-24  888   0.900926   0.988436   0.411650   0.455052    0.317770   \n",
       "2020-01-25  888   0.711455   0.606295   0.156955   0.072543    0.970588   \n",
       "2020-01-26   13  13.000000  13.000000  13.000000  13.000000   13.000000   \n",
       "\n",
       "                   C7  \n",
       "2020-01-20   0.290626  \n",
       "2020-01-21  13.000000  \n",
       "2020-01-22   0.723095  \n",
       "2020-01-23  13.000000  \n",
       "2020-01-24   0.649761  \n",
       "2020-01-25   0.995671  \n",
       "2020-01-26  13.000000  "
      ]
     },
     "execution_count": 211,
     "metadata": {},
     "output_type": "execute_result"
    }
   ],
   "source": [
    "dframe1[(dframe1['C1'] > 0.5) & (dframe1['C4'] > 0.5)]=13\n",
    "dframe1"
   ]
  },
  {
   "cell_type": "code",
   "execution_count": 212,
   "metadata": {},
   "outputs": [
    {
     "data": {
      "text/html": [
       "<div>\n",
       "<style scoped>\n",
       "    .dataframe tbody tr th:only-of-type {\n",
       "        vertical-align: middle;\n",
       "    }\n",
       "\n",
       "    .dataframe tbody tr th {\n",
       "        vertical-align: top;\n",
       "    }\n",
       "\n",
       "    .dataframe thead th {\n",
       "        text-align: right;\n",
       "    }\n",
       "</style>\n",
       "<table border=\"1\" class=\"dataframe\">\n",
       "  <thead>\n",
       "    <tr style=\"text-align: right;\">\n",
       "      <th></th>\n",
       "      <th>C1</th>\n",
       "      <th>C2</th>\n",
       "      <th>C3</th>\n",
       "      <th>C4</th>\n",
       "      <th>C5</th>\n",
       "      <th>C6</th>\n",
       "      <th>C7</th>\n",
       "    </tr>\n",
       "  </thead>\n",
       "  <tbody>\n",
       "  </tbody>\n",
       "</table>\n",
       "</div>"
      ],
      "text/plain": [
       "Empty DataFrame\n",
       "Columns: [C1, C2, C3, C4, C5, C6, C7]\n",
       "Index: []"
      ]
     },
     "execution_count": 212,
     "metadata": {},
     "output_type": "execute_result"
    }
   ],
   "source": [
    "dframe1[dframe1['C1'] == 0]"
   ]
  },
  {
   "cell_type": "code",
   "execution_count": 213,
   "metadata": {},
   "outputs": [
    {
     "data": {
      "text/html": [
       "<div>\n",
       "<style scoped>\n",
       "    .dataframe tbody tr th:only-of-type {\n",
       "        vertical-align: middle;\n",
       "    }\n",
       "\n",
       "    .dataframe tbody tr th {\n",
       "        vertical-align: top;\n",
       "    }\n",
       "\n",
       "    .dataframe thead th {\n",
       "        text-align: right;\n",
       "    }\n",
       "</style>\n",
       "<table border=\"1\" class=\"dataframe\">\n",
       "  <thead>\n",
       "    <tr style=\"text-align: right;\">\n",
       "      <th></th>\n",
       "      <th>C1</th>\n",
       "      <th>C2</th>\n",
       "      <th>C3</th>\n",
       "      <th>C4</th>\n",
       "      <th>C5</th>\n",
       "      <th>C6</th>\n",
       "      <th>C7</th>\n",
       "    </tr>\n",
       "  </thead>\n",
       "  <tbody>\n",
       "    <tr>\n",
       "      <th>2020-01-20</th>\n",
       "      <td>888</td>\n",
       "      <td>0.993583</td>\n",
       "      <td>0.350126</td>\n",
       "      <td>0.039340</td>\n",
       "      <td>0.449637</td>\n",
       "      <td>777.000000</td>\n",
       "      <td>0.290626</td>\n",
       "    </tr>\n",
       "    <tr>\n",
       "      <th>2020-01-21</th>\n",
       "      <td>13</td>\n",
       "      <td>13.000000</td>\n",
       "      <td>13.000000</td>\n",
       "      <td>13.000000</td>\n",
       "      <td>13.000000</td>\n",
       "      <td>13.000000</td>\n",
       "      <td>13.000000</td>\n",
       "    </tr>\n",
       "    <tr>\n",
       "      <th>2020-01-22</th>\n",
       "      <td>888</td>\n",
       "      <td>0.635133</td>\n",
       "      <td>0.184109</td>\n",
       "      <td>0.056312</td>\n",
       "      <td>0.765443</td>\n",
       "      <td>777.000000</td>\n",
       "      <td>0.723095</td>\n",
       "    </tr>\n",
       "    <tr>\n",
       "      <th>2020-01-23</th>\n",
       "      <td>13</td>\n",
       "      <td>13.000000</td>\n",
       "      <td>13.000000</td>\n",
       "      <td>13.000000</td>\n",
       "      <td>13.000000</td>\n",
       "      <td>13.000000</td>\n",
       "      <td>13.000000</td>\n",
       "    </tr>\n",
       "    <tr>\n",
       "      <th>2020-01-24</th>\n",
       "      <td>888</td>\n",
       "      <td>0.900926</td>\n",
       "      <td>0.988436</td>\n",
       "      <td>0.411650</td>\n",
       "      <td>0.455052</td>\n",
       "      <td>0.317770</td>\n",
       "      <td>0.649761</td>\n",
       "    </tr>\n",
       "    <tr>\n",
       "      <th>2020-01-25</th>\n",
       "      <td>888</td>\n",
       "      <td>0.711455</td>\n",
       "      <td>0.606295</td>\n",
       "      <td>0.156955</td>\n",
       "      <td>0.072543</td>\n",
       "      <td>0.970588</td>\n",
       "      <td>0.995671</td>\n",
       "    </tr>\n",
       "    <tr>\n",
       "      <th>2020-01-26</th>\n",
       "      <td>13</td>\n",
       "      <td>13.000000</td>\n",
       "      <td>13.000000</td>\n",
       "      <td>13.000000</td>\n",
       "      <td>13.000000</td>\n",
       "      <td>13.000000</td>\n",
       "      <td>13.000000</td>\n",
       "    </tr>\n",
       "  </tbody>\n",
       "</table>\n",
       "</div>"
      ],
      "text/plain": [
       "             C1         C2         C3         C4         C5          C6  \\\n",
       "2020-01-20  888   0.993583   0.350126   0.039340   0.449637  777.000000   \n",
       "2020-01-21   13  13.000000  13.000000  13.000000  13.000000   13.000000   \n",
       "2020-01-22  888   0.635133   0.184109   0.056312   0.765443  777.000000   \n",
       "2020-01-23   13  13.000000  13.000000  13.000000  13.000000   13.000000   \n",
       "2020-01-24  888   0.900926   0.988436   0.411650   0.455052    0.317770   \n",
       "2020-01-25  888   0.711455   0.606295   0.156955   0.072543    0.970588   \n",
       "2020-01-26   13  13.000000  13.000000  13.000000  13.000000   13.000000   \n",
       "\n",
       "                   C7  \n",
       "2020-01-20   0.290626  \n",
       "2020-01-21  13.000000  \n",
       "2020-01-22   0.723095  \n",
       "2020-01-23  13.000000  \n",
       "2020-01-24   0.649761  \n",
       "2020-01-25   0.995671  \n",
       "2020-01-26  13.000000  "
      ]
     },
     "execution_count": 213,
     "metadata": {},
     "output_type": "execute_result"
    }
   ],
   "source": [
    "# Replace zeros in Column C1 with 99\n",
    "dframe1[dframe1['C1'].isin([0])] = 99\n",
    "dframe1"
   ]
  },
  {
   "cell_type": "code",
   "execution_count": 214,
   "metadata": {},
   "outputs": [
    {
     "data": {
      "text/html": [
       "<div>\n",
       "<style scoped>\n",
       "    .dataframe tbody tr th:only-of-type {\n",
       "        vertical-align: middle;\n",
       "    }\n",
       "\n",
       "    .dataframe tbody tr th {\n",
       "        vertical-align: top;\n",
       "    }\n",
       "\n",
       "    .dataframe thead th {\n",
       "        text-align: right;\n",
       "    }\n",
       "</style>\n",
       "<table border=\"1\" class=\"dataframe\">\n",
       "  <thead>\n",
       "    <tr style=\"text-align: right;\">\n",
       "      <th></th>\n",
       "      <th>C1</th>\n",
       "      <th>C2</th>\n",
       "      <th>C3</th>\n",
       "      <th>C4</th>\n",
       "      <th>C5</th>\n",
       "      <th>C6</th>\n",
       "      <th>C7</th>\n",
       "    </tr>\n",
       "  </thead>\n",
       "  <tbody>\n",
       "    <tr>\n",
       "      <th>2020-01-20</th>\n",
       "      <td>888</td>\n",
       "      <td>0.993583</td>\n",
       "      <td>0.350126</td>\n",
       "      <td>0.039340</td>\n",
       "      <td>0.449637</td>\n",
       "      <td>777.000000</td>\n",
       "      <td>0.290626</td>\n",
       "    </tr>\n",
       "    <tr>\n",
       "      <th>2020-01-21</th>\n",
       "      <td>888</td>\n",
       "      <td>0.810138</td>\n",
       "      <td>0.721619</td>\n",
       "      <td>0.684445</td>\n",
       "      <td>0.701107</td>\n",
       "      <td>777.000000</td>\n",
       "      <td>0.474889</td>\n",
       "    </tr>\n",
       "    <tr>\n",
       "      <th>2020-01-22</th>\n",
       "      <td>888</td>\n",
       "      <td>0.635133</td>\n",
       "      <td>0.184109</td>\n",
       "      <td>0.056312</td>\n",
       "      <td>0.765443</td>\n",
       "      <td>777.000000</td>\n",
       "      <td>0.723095</td>\n",
       "    </tr>\n",
       "    <tr>\n",
       "      <th>2020-01-23</th>\n",
       "      <td>888</td>\n",
       "      <td>0.510296</td>\n",
       "      <td>0.527891</td>\n",
       "      <td>333.000000</td>\n",
       "      <td>555.000000</td>\n",
       "      <td>0.192789</td>\n",
       "      <td>0.708572</td>\n",
       "    </tr>\n",
       "    <tr>\n",
       "      <th>2020-01-24</th>\n",
       "      <td>888</td>\n",
       "      <td>0.900926</td>\n",
       "      <td>0.988436</td>\n",
       "      <td>0.411650</td>\n",
       "      <td>0.455052</td>\n",
       "      <td>0.317770</td>\n",
       "      <td>0.649761</td>\n",
       "    </tr>\n",
       "    <tr>\n",
       "      <th>2020-01-25</th>\n",
       "      <td>888</td>\n",
       "      <td>0.711455</td>\n",
       "      <td>0.606295</td>\n",
       "      <td>0.156955</td>\n",
       "      <td>0.072543</td>\n",
       "      <td>0.970588</td>\n",
       "      <td>0.995671</td>\n",
       "    </tr>\n",
       "    <tr>\n",
       "      <th>2020-01-26</th>\n",
       "      <td>888</td>\n",
       "      <td>0.498947</td>\n",
       "      <td>0.046108</td>\n",
       "      <td>0.937178</td>\n",
       "      <td>0.037080</td>\n",
       "      <td>0.273831</td>\n",
       "      <td>0.925727</td>\n",
       "    </tr>\n",
       "  </tbody>\n",
       "</table>\n",
       "</div>"
      ],
      "text/plain": [
       "             C1        C2        C3          C4          C5          C6  \\\n",
       "2020-01-20  888  0.993583  0.350126    0.039340    0.449637  777.000000   \n",
       "2020-01-21  888  0.810138  0.721619    0.684445    0.701107  777.000000   \n",
       "2020-01-22  888  0.635133  0.184109    0.056312    0.765443  777.000000   \n",
       "2020-01-23  888  0.510296  0.527891  333.000000  555.000000    0.192789   \n",
       "2020-01-24  888  0.900926  0.988436    0.411650    0.455052    0.317770   \n",
       "2020-01-25  888  0.711455  0.606295    0.156955    0.072543    0.970588   \n",
       "2020-01-26  888  0.498947  0.046108    0.937178    0.037080    0.273831   \n",
       "\n",
       "                  C7  \n",
       "2020-01-20  0.290626  \n",
       "2020-01-21  0.474889  \n",
       "2020-01-22  0.723095  \n",
       "2020-01-23  0.708572  \n",
       "2020-01-24  0.649761  \n",
       "2020-01-25  0.995671  \n",
       "2020-01-26  0.925727  "
      ]
     },
     "execution_count": 214,
     "metadata": {},
     "output_type": "execute_result"
    }
   ],
   "source": [
    "dframe"
   ]
  },
  {
   "cell_type": "code",
   "execution_count": 215,
   "metadata": {},
   "outputs": [
    {
     "data": {
      "text/html": [
       "<div>\n",
       "<style scoped>\n",
       "    .dataframe tbody tr th:only-of-type {\n",
       "        vertical-align: middle;\n",
       "    }\n",
       "\n",
       "    .dataframe tbody tr th {\n",
       "        vertical-align: top;\n",
       "    }\n",
       "\n",
       "    .dataframe thead th {\n",
       "        text-align: right;\n",
       "    }\n",
       "</style>\n",
       "<table border=\"1\" class=\"dataframe\">\n",
       "  <thead>\n",
       "    <tr style=\"text-align: right;\">\n",
       "      <th></th>\n",
       "      <th>C1</th>\n",
       "      <th>C2</th>\n",
       "      <th>C3</th>\n",
       "      <th>C4</th>\n",
       "      <th>C5</th>\n",
       "      <th>C6</th>\n",
       "      <th>C7</th>\n",
       "    </tr>\n",
       "  </thead>\n",
       "  <tbody>\n",
       "  </tbody>\n",
       "</table>\n",
       "</div>"
      ],
      "text/plain": [
       "Empty DataFrame\n",
       "Columns: [C1, C2, C3, C4, C5, C6, C7]\n",
       "Index: []"
      ]
     },
     "execution_count": 215,
     "metadata": {},
     "output_type": "execute_result"
    }
   ],
   "source": [
    "# Display all rows where value of C1 is 99\n",
    "dframe1[dframe1['C1'] == 99]"
   ]
  },
  {
   "cell_type": "code",
   "execution_count": 216,
   "metadata": {},
   "outputs": [
    {
     "data": {
      "text/plain": [
       "2020-01-20    888\n",
       "2020-01-21    888\n",
       "2020-01-22    888\n",
       "2020-01-23    888\n",
       "2020-01-24    888\n",
       "2020-01-25    888\n",
       "2020-01-26    888\n",
       "Freq: D, Name: C1, dtype: int64"
      ]
     },
     "execution_count": 216,
     "metadata": {},
     "output_type": "execute_result"
    }
   ],
   "source": [
    "dframe.C1 # dframe['C1']"
   ]
  },
  {
   "cell_type": "markdown",
   "metadata": {},
   "source": [
    "## Dealing with NULL Values"
   ]
  },
  {
   "cell_type": "code",
   "execution_count": 217,
   "metadata": {},
   "outputs": [
    {
     "data": {
      "text/html": [
       "<div>\n",
       "<style scoped>\n",
       "    .dataframe tbody tr th:only-of-type {\n",
       "        vertical-align: middle;\n",
       "    }\n",
       "\n",
       "    .dataframe tbody tr th {\n",
       "        vertical-align: top;\n",
       "    }\n",
       "\n",
       "    .dataframe thead th {\n",
       "        text-align: right;\n",
       "    }\n",
       "</style>\n",
       "<table border=\"1\" class=\"dataframe\">\n",
       "  <thead>\n",
       "    <tr style=\"text-align: right;\">\n",
       "      <th></th>\n",
       "      <th>C1</th>\n",
       "      <th>C2</th>\n",
       "      <th>C3</th>\n",
       "      <th>C4</th>\n",
       "      <th>C5</th>\n",
       "      <th>C6</th>\n",
       "      <th>C7</th>\n",
       "    </tr>\n",
       "  </thead>\n",
       "  <tbody>\n",
       "    <tr>\n",
       "      <th>2020-01-20</th>\n",
       "      <td>888</td>\n",
       "      <td>0.993583</td>\n",
       "      <td>0.350126</td>\n",
       "      <td>0.039340</td>\n",
       "      <td>0.449637</td>\n",
       "      <td>NaN</td>\n",
       "      <td>NaN</td>\n",
       "    </tr>\n",
       "    <tr>\n",
       "      <th>2020-01-21</th>\n",
       "      <td>888</td>\n",
       "      <td>0.810138</td>\n",
       "      <td>0.721619</td>\n",
       "      <td>0.684445</td>\n",
       "      <td>0.701107</td>\n",
       "      <td>NaN</td>\n",
       "      <td>NaN</td>\n",
       "    </tr>\n",
       "    <tr>\n",
       "      <th>2020-01-22</th>\n",
       "      <td>888</td>\n",
       "      <td>0.635133</td>\n",
       "      <td>0.184109</td>\n",
       "      <td>0.056312</td>\n",
       "      <td>0.765443</td>\n",
       "      <td>777.000000</td>\n",
       "      <td>NaN</td>\n",
       "    </tr>\n",
       "    <tr>\n",
       "      <th>2020-01-23</th>\n",
       "      <td>888</td>\n",
       "      <td>0.510296</td>\n",
       "      <td>0.527891</td>\n",
       "      <td>333.000000</td>\n",
       "      <td>555.000000</td>\n",
       "      <td>0.192789</td>\n",
       "      <td>NaN</td>\n",
       "    </tr>\n",
       "    <tr>\n",
       "      <th>2020-01-24</th>\n",
       "      <td>888</td>\n",
       "      <td>0.900926</td>\n",
       "      <td>0.988436</td>\n",
       "      <td>0.411650</td>\n",
       "      <td>0.455052</td>\n",
       "      <td>0.317770</td>\n",
       "      <td>NaN</td>\n",
       "    </tr>\n",
       "    <tr>\n",
       "      <th>2020-01-25</th>\n",
       "      <td>888</td>\n",
       "      <td>0.711455</td>\n",
       "      <td>0.606295</td>\n",
       "      <td>0.156955</td>\n",
       "      <td>NaN</td>\n",
       "      <td>0.970588</td>\n",
       "      <td>NaN</td>\n",
       "    </tr>\n",
       "    <tr>\n",
       "      <th>2020-01-26</th>\n",
       "      <td>888</td>\n",
       "      <td>0.498947</td>\n",
       "      <td>0.046108</td>\n",
       "      <td>0.937178</td>\n",
       "      <td>0.037080</td>\n",
       "      <td>0.273831</td>\n",
       "      <td>NaN</td>\n",
       "    </tr>\n",
       "  </tbody>\n",
       "</table>\n",
       "</div>"
      ],
      "text/plain": [
       "             C1        C2        C3          C4          C5          C6  C7\n",
       "2020-01-20  888  0.993583  0.350126    0.039340    0.449637         NaN NaN\n",
       "2020-01-21  888  0.810138  0.721619    0.684445    0.701107         NaN NaN\n",
       "2020-01-22  888  0.635133  0.184109    0.056312    0.765443  777.000000 NaN\n",
       "2020-01-23  888  0.510296  0.527891  333.000000  555.000000    0.192789 NaN\n",
       "2020-01-24  888  0.900926  0.988436    0.411650    0.455052    0.317770 NaN\n",
       "2020-01-25  888  0.711455  0.606295    0.156955         NaN    0.970588 NaN\n",
       "2020-01-26  888  0.498947  0.046108    0.937178    0.037080    0.273831 NaN"
      ]
     },
     "execution_count": 217,
     "metadata": {},
     "output_type": "execute_result"
    }
   ],
   "source": [
    "dframe.at[0:8 , 'C7'] = np.NaN\n",
    "dframe.at[0:2 , 'C6'] = np.NaN\n",
    "dframe.at[5:6 , 'C5'] = np.NaN\n",
    "dframe"
   ]
  },
  {
   "cell_type": "code",
   "execution_count": 221,
   "metadata": {},
   "outputs": [
    {
     "data": {
      "text/html": [
       "<div>\n",
       "<style scoped>\n",
       "    .dataframe tbody tr th:only-of-type {\n",
       "        vertical-align: middle;\n",
       "    }\n",
       "\n",
       "    .dataframe tbody tr th {\n",
       "        vertical-align: top;\n",
       "    }\n",
       "\n",
       "    .dataframe thead th {\n",
       "        text-align: right;\n",
       "    }\n",
       "</style>\n",
       "<table border=\"1\" class=\"dataframe\">\n",
       "  <thead>\n",
       "    <tr style=\"text-align: right;\">\n",
       "      <th></th>\n",
       "      <th>C1</th>\n",
       "      <th>C2</th>\n",
       "      <th>C3</th>\n",
       "      <th>C4</th>\n",
       "      <th>C5</th>\n",
       "      <th>C6</th>\n",
       "      <th>C7</th>\n",
       "    </tr>\n",
       "  </thead>\n",
       "  <tbody>\n",
       "    <tr>\n",
       "      <th>2020-01-20</th>\n",
       "      <td>True</td>\n",
       "      <td>True</td>\n",
       "      <td>True</td>\n",
       "      <td>True</td>\n",
       "      <td>True</td>\n",
       "      <td>True</td>\n",
       "      <td>True</td>\n",
       "    </tr>\n",
       "    <tr>\n",
       "      <th>2020-01-21</th>\n",
       "      <td>True</td>\n",
       "      <td>True</td>\n",
       "      <td>True</td>\n",
       "      <td>True</td>\n",
       "      <td>True</td>\n",
       "      <td>True</td>\n",
       "      <td>True</td>\n",
       "    </tr>\n",
       "    <tr>\n",
       "      <th>2020-01-22</th>\n",
       "      <td>True</td>\n",
       "      <td>True</td>\n",
       "      <td>True</td>\n",
       "      <td>True</td>\n",
       "      <td>True</td>\n",
       "      <td>True</td>\n",
       "      <td>True</td>\n",
       "    </tr>\n",
       "    <tr>\n",
       "      <th>2020-01-23</th>\n",
       "      <td>True</td>\n",
       "      <td>True</td>\n",
       "      <td>True</td>\n",
       "      <td>True</td>\n",
       "      <td>True</td>\n",
       "      <td>True</td>\n",
       "      <td>True</td>\n",
       "    </tr>\n",
       "    <tr>\n",
       "      <th>2020-01-24</th>\n",
       "      <td>True</td>\n",
       "      <td>True</td>\n",
       "      <td>True</td>\n",
       "      <td>True</td>\n",
       "      <td>True</td>\n",
       "      <td>True</td>\n",
       "      <td>True</td>\n",
       "    </tr>\n",
       "    <tr>\n",
       "      <th>2020-01-25</th>\n",
       "      <td>True</td>\n",
       "      <td>True</td>\n",
       "      <td>True</td>\n",
       "      <td>True</td>\n",
       "      <td>True</td>\n",
       "      <td>True</td>\n",
       "      <td>True</td>\n",
       "    </tr>\n",
       "    <tr>\n",
       "      <th>2020-01-26</th>\n",
       "      <td>True</td>\n",
       "      <td>True</td>\n",
       "      <td>True</td>\n",
       "      <td>True</td>\n",
       "      <td>True</td>\n",
       "      <td>True</td>\n",
       "      <td>True</td>\n",
       "    </tr>\n",
       "  </tbody>\n",
       "</table>\n",
       "</div>"
      ],
      "text/plain": [
       "              C1    C2    C3    C4    C5    C6    C7\n",
       "2020-01-20  True  True  True  True  True  True  True\n",
       "2020-01-21  True  True  True  True  True  True  True\n",
       "2020-01-22  True  True  True  True  True  True  True\n",
       "2020-01-23  True  True  True  True  True  True  True\n",
       "2020-01-24  True  True  True  True  True  True  True\n",
       "2020-01-25  True  True  True  True  True  True  True\n",
       "2020-01-26  True  True  True  True  True  True  True"
      ]
     },
     "execution_count": 221,
     "metadata": {},
     "output_type": "execute_result"
    }
   ],
   "source": [
    "# Detect Non-Missing Values\n",
    "# It will return True for NOT-NULL values and False for NULL values\n",
    "dframe.notna()"
   ]
  },
  {
   "cell_type": "code",
   "execution_count": 222,
   "metadata": {},
   "outputs": [
    {
     "data": {
      "text/html": [
       "<div>\n",
       "<style scoped>\n",
       "    .dataframe tbody tr th:only-of-type {\n",
       "        vertical-align: middle;\n",
       "    }\n",
       "\n",
       "    .dataframe tbody tr th {\n",
       "        vertical-align: top;\n",
       "    }\n",
       "\n",
       "    .dataframe thead th {\n",
       "        text-align: right;\n",
       "    }\n",
       "</style>\n",
       "<table border=\"1\" class=\"dataframe\">\n",
       "  <thead>\n",
       "    <tr style=\"text-align: right;\">\n",
       "      <th></th>\n",
       "      <th>C1</th>\n",
       "      <th>C2</th>\n",
       "      <th>C3</th>\n",
       "      <th>C4</th>\n",
       "      <th>C5</th>\n",
       "      <th>C6</th>\n",
       "      <th>C7</th>\n",
       "    </tr>\n",
       "  </thead>\n",
       "  <tbody>\n",
       "    <tr>\n",
       "      <th>2020-01-20</th>\n",
       "      <td>False</td>\n",
       "      <td>False</td>\n",
       "      <td>False</td>\n",
       "      <td>False</td>\n",
       "      <td>False</td>\n",
       "      <td>False</td>\n",
       "      <td>False</td>\n",
       "    </tr>\n",
       "    <tr>\n",
       "      <th>2020-01-21</th>\n",
       "      <td>False</td>\n",
       "      <td>False</td>\n",
       "      <td>False</td>\n",
       "      <td>False</td>\n",
       "      <td>False</td>\n",
       "      <td>False</td>\n",
       "      <td>False</td>\n",
       "    </tr>\n",
       "    <tr>\n",
       "      <th>2020-01-22</th>\n",
       "      <td>False</td>\n",
       "      <td>False</td>\n",
       "      <td>False</td>\n",
       "      <td>False</td>\n",
       "      <td>False</td>\n",
       "      <td>False</td>\n",
       "      <td>False</td>\n",
       "    </tr>\n",
       "    <tr>\n",
       "      <th>2020-01-23</th>\n",
       "      <td>False</td>\n",
       "      <td>False</td>\n",
       "      <td>False</td>\n",
       "      <td>False</td>\n",
       "      <td>False</td>\n",
       "      <td>False</td>\n",
       "      <td>False</td>\n",
       "    </tr>\n",
       "    <tr>\n",
       "      <th>2020-01-24</th>\n",
       "      <td>False</td>\n",
       "      <td>False</td>\n",
       "      <td>False</td>\n",
       "      <td>False</td>\n",
       "      <td>False</td>\n",
       "      <td>False</td>\n",
       "      <td>False</td>\n",
       "    </tr>\n",
       "    <tr>\n",
       "      <th>2020-01-25</th>\n",
       "      <td>False</td>\n",
       "      <td>False</td>\n",
       "      <td>False</td>\n",
       "      <td>False</td>\n",
       "      <td>False</td>\n",
       "      <td>False</td>\n",
       "      <td>False</td>\n",
       "    </tr>\n",
       "    <tr>\n",
       "      <th>2020-01-26</th>\n",
       "      <td>False</td>\n",
       "      <td>False</td>\n",
       "      <td>False</td>\n",
       "      <td>False</td>\n",
       "      <td>False</td>\n",
       "      <td>False</td>\n",
       "      <td>False</td>\n",
       "    </tr>\n",
       "  </tbody>\n",
       "</table>\n",
       "</div>"
      ],
      "text/plain": [
       "               C1     C2     C3     C4     C5     C6     C7\n",
       "2020-01-20  False  False  False  False  False  False  False\n",
       "2020-01-21  False  False  False  False  False  False  False\n",
       "2020-01-22  False  False  False  False  False  False  False\n",
       "2020-01-23  False  False  False  False  False  False  False\n",
       "2020-01-24  False  False  False  False  False  False  False\n",
       "2020-01-25  False  False  False  False  False  False  False\n",
       "2020-01-26  False  False  False  False  False  False  False"
      ]
     },
     "execution_count": 222,
     "metadata": {},
     "output_type": "execute_result"
    }
   ],
   "source": [
    "# Detect Missing or NULL Values\n",
    "# It will return True for NULL values and False for NOT-NULL values\n",
    "dframe.isna()"
   ]
  },
  {
   "cell_type": "code",
   "execution_count": 223,
   "metadata": {},
   "outputs": [
    {
     "data": {
      "text/html": [
       "<div>\n",
       "<style scoped>\n",
       "    .dataframe tbody tr th:only-of-type {\n",
       "        vertical-align: middle;\n",
       "    }\n",
       "\n",
       "    .dataframe tbody tr th {\n",
       "        vertical-align: top;\n",
       "    }\n",
       "\n",
       "    .dataframe thead th {\n",
       "        text-align: right;\n",
       "    }\n",
       "</style>\n",
       "<table border=\"1\" class=\"dataframe\">\n",
       "  <thead>\n",
       "    <tr style=\"text-align: right;\">\n",
       "      <th></th>\n",
       "      <th>C1</th>\n",
       "      <th>C2</th>\n",
       "      <th>C3</th>\n",
       "      <th>C4</th>\n",
       "      <th>C5</th>\n",
       "      <th>C6</th>\n",
       "      <th>C7</th>\n",
       "    </tr>\n",
       "  </thead>\n",
       "  <tbody>\n",
       "    <tr>\n",
       "      <th>2020-01-20</th>\n",
       "      <td>888</td>\n",
       "      <td>0.993583</td>\n",
       "      <td>0.350126</td>\n",
       "      <td>0.039340</td>\n",
       "      <td>0.449637</td>\n",
       "      <td>1020.000000</td>\n",
       "      <td>1020.0</td>\n",
       "    </tr>\n",
       "    <tr>\n",
       "      <th>2020-01-21</th>\n",
       "      <td>888</td>\n",
       "      <td>0.810138</td>\n",
       "      <td>0.721619</td>\n",
       "      <td>0.684445</td>\n",
       "      <td>0.701107</td>\n",
       "      <td>1020.000000</td>\n",
       "      <td>1020.0</td>\n",
       "    </tr>\n",
       "    <tr>\n",
       "      <th>2020-01-22</th>\n",
       "      <td>888</td>\n",
       "      <td>0.635133</td>\n",
       "      <td>0.184109</td>\n",
       "      <td>0.056312</td>\n",
       "      <td>0.765443</td>\n",
       "      <td>777.000000</td>\n",
       "      <td>1020.0</td>\n",
       "    </tr>\n",
       "    <tr>\n",
       "      <th>2020-01-23</th>\n",
       "      <td>888</td>\n",
       "      <td>0.510296</td>\n",
       "      <td>0.527891</td>\n",
       "      <td>333.000000</td>\n",
       "      <td>555.000000</td>\n",
       "      <td>0.192789</td>\n",
       "      <td>1020.0</td>\n",
       "    </tr>\n",
       "    <tr>\n",
       "      <th>2020-01-24</th>\n",
       "      <td>888</td>\n",
       "      <td>0.900926</td>\n",
       "      <td>0.988436</td>\n",
       "      <td>0.411650</td>\n",
       "      <td>0.455052</td>\n",
       "      <td>0.317770</td>\n",
       "      <td>1020.0</td>\n",
       "    </tr>\n",
       "    <tr>\n",
       "      <th>2020-01-25</th>\n",
       "      <td>888</td>\n",
       "      <td>0.711455</td>\n",
       "      <td>0.606295</td>\n",
       "      <td>0.156955</td>\n",
       "      <td>1020.000000</td>\n",
       "      <td>0.970588</td>\n",
       "      <td>1020.0</td>\n",
       "    </tr>\n",
       "    <tr>\n",
       "      <th>2020-01-26</th>\n",
       "      <td>888</td>\n",
       "      <td>0.498947</td>\n",
       "      <td>0.046108</td>\n",
       "      <td>0.937178</td>\n",
       "      <td>0.037080</td>\n",
       "      <td>0.273831</td>\n",
       "      <td>1020.0</td>\n",
       "    </tr>\n",
       "  </tbody>\n",
       "</table>\n",
       "</div>"
      ],
      "text/plain": [
       "             C1        C2        C3          C4           C5           C6  \\\n",
       "2020-01-20  888  0.993583  0.350126    0.039340     0.449637  1020.000000   \n",
       "2020-01-21  888  0.810138  0.721619    0.684445     0.701107  1020.000000   \n",
       "2020-01-22  888  0.635133  0.184109    0.056312     0.765443   777.000000   \n",
       "2020-01-23  888  0.510296  0.527891  333.000000   555.000000     0.192789   \n",
       "2020-01-24  888  0.900926  0.988436    0.411650     0.455052     0.317770   \n",
       "2020-01-25  888  0.711455  0.606295    0.156955  1020.000000     0.970588   \n",
       "2020-01-26  888  0.498947  0.046108    0.937178     0.037080     0.273831   \n",
       "\n",
       "                C7  \n",
       "2020-01-20  1020.0  \n",
       "2020-01-21  1020.0  \n",
       "2020-01-22  1020.0  \n",
       "2020-01-23  1020.0  \n",
       "2020-01-24  1020.0  \n",
       "2020-01-25  1020.0  \n",
       "2020-01-26  1020.0  "
      ]
     },
     "execution_count": 223,
     "metadata": {},
     "output_type": "execute_result"
    }
   ],
   "source": [
    "# Fill all NULL values with 1020\n",
    "dframe = dframe.fillna(1020)\n",
    "dframe"
   ]
  },
  {
   "cell_type": "code",
   "execution_count": 225,
   "metadata": {},
   "outputs": [
    {
     "data": {
      "text/html": [
       "<div>\n",
       "<style scoped>\n",
       "    .dataframe tbody tr th:only-of-type {\n",
       "        vertical-align: middle;\n",
       "    }\n",
       "\n",
       "    .dataframe tbody tr th {\n",
       "        vertical-align: top;\n",
       "    }\n",
       "\n",
       "    .dataframe thead th {\n",
       "        text-align: right;\n",
       "    }\n",
       "</style>\n",
       "<table border=\"1\" class=\"dataframe\">\n",
       "  <thead>\n",
       "    <tr style=\"text-align: right;\">\n",
       "      <th></th>\n",
       "      <th>C1</th>\n",
       "      <th>C2</th>\n",
       "      <th>C3</th>\n",
       "      <th>C4</th>\n",
       "      <th>C5</th>\n",
       "      <th>C6</th>\n",
       "      <th>C7</th>\n",
       "    </tr>\n",
       "  </thead>\n",
       "  <tbody>\n",
       "    <tr>\n",
       "      <th>2020-01-20</th>\n",
       "      <td>888</td>\n",
       "      <td>0.993583</td>\n",
       "      <td>0.350126</td>\n",
       "      <td>0.039340</td>\n",
       "      <td>0.449637</td>\n",
       "      <td>NaN</td>\n",
       "      <td>NaN</td>\n",
       "    </tr>\n",
       "    <tr>\n",
       "      <th>2020-01-21</th>\n",
       "      <td>888</td>\n",
       "      <td>0.810138</td>\n",
       "      <td>0.721619</td>\n",
       "      <td>0.684445</td>\n",
       "      <td>0.701107</td>\n",
       "      <td>NaN</td>\n",
       "      <td>NaN</td>\n",
       "    </tr>\n",
       "    <tr>\n",
       "      <th>2020-01-22</th>\n",
       "      <td>888</td>\n",
       "      <td>0.635133</td>\n",
       "      <td>0.184109</td>\n",
       "      <td>0.056312</td>\n",
       "      <td>0.765443</td>\n",
       "      <td>777.000000</td>\n",
       "      <td>NaN</td>\n",
       "    </tr>\n",
       "    <tr>\n",
       "      <th>2020-01-23</th>\n",
       "      <td>888</td>\n",
       "      <td>0.510296</td>\n",
       "      <td>0.527891</td>\n",
       "      <td>333.000000</td>\n",
       "      <td>555.000000</td>\n",
       "      <td>0.192789</td>\n",
       "      <td>NaN</td>\n",
       "    </tr>\n",
       "    <tr>\n",
       "      <th>2020-01-24</th>\n",
       "      <td>888</td>\n",
       "      <td>0.900926</td>\n",
       "      <td>0.988436</td>\n",
       "      <td>0.411650</td>\n",
       "      <td>0.455052</td>\n",
       "      <td>0.317770</td>\n",
       "      <td>NaN</td>\n",
       "    </tr>\n",
       "    <tr>\n",
       "      <th>2020-01-25</th>\n",
       "      <td>888</td>\n",
       "      <td>0.711455</td>\n",
       "      <td>0.606295</td>\n",
       "      <td>0.156955</td>\n",
       "      <td>NaN</td>\n",
       "      <td>0.970588</td>\n",
       "      <td>1020.0</td>\n",
       "    </tr>\n",
       "    <tr>\n",
       "      <th>2020-01-26</th>\n",
       "      <td>888</td>\n",
       "      <td>0.498947</td>\n",
       "      <td>0.046108</td>\n",
       "      <td>0.937178</td>\n",
       "      <td>0.037080</td>\n",
       "      <td>0.273831</td>\n",
       "      <td>1020.0</td>\n",
       "    </tr>\n",
       "  </tbody>\n",
       "</table>\n",
       "</div>"
      ],
      "text/plain": [
       "             C1        C2        C3          C4          C5          C6  \\\n",
       "2020-01-20  888  0.993583  0.350126    0.039340    0.449637         NaN   \n",
       "2020-01-21  888  0.810138  0.721619    0.684445    0.701107         NaN   \n",
       "2020-01-22  888  0.635133  0.184109    0.056312    0.765443  777.000000   \n",
       "2020-01-23  888  0.510296  0.527891  333.000000  555.000000    0.192789   \n",
       "2020-01-24  888  0.900926  0.988436    0.411650    0.455052    0.317770   \n",
       "2020-01-25  888  0.711455  0.606295    0.156955         NaN    0.970588   \n",
       "2020-01-26  888  0.498947  0.046108    0.937178    0.037080    0.273831   \n",
       "\n",
       "                C7  \n",
       "2020-01-20     NaN  \n",
       "2020-01-21     NaN  \n",
       "2020-01-22     NaN  \n",
       "2020-01-23     NaN  \n",
       "2020-01-24     NaN  \n",
       "2020-01-25  1020.0  \n",
       "2020-01-26  1020.0  "
      ]
     },
     "execution_count": 225,
     "metadata": {},
     "output_type": "execute_result"
    }
   ],
   "source": [
    "dframe.at[0:5 , 'C7'] = np.NaN\n",
    "dframe.at[0:2 , 'C6'] = np.NaN\n",
    "dframe.at[5:6 , 'C5'] = np.NaN\n",
    "dframe"
   ]
  },
  {
   "cell_type": "code",
   "execution_count": 227,
   "metadata": {},
   "outputs": [
    {
     "data": {
      "text/html": [
       "<div>\n",
       "<style scoped>\n",
       "    .dataframe tbody tr th:only-of-type {\n",
       "        vertical-align: middle;\n",
       "    }\n",
       "\n",
       "    .dataframe tbody tr th {\n",
       "        vertical-align: top;\n",
       "    }\n",
       "\n",
       "    .dataframe thead th {\n",
       "        text-align: right;\n",
       "    }\n",
       "</style>\n",
       "<table border=\"1\" class=\"dataframe\">\n",
       "  <thead>\n",
       "    <tr style=\"text-align: right;\">\n",
       "      <th></th>\n",
       "      <th>C1</th>\n",
       "      <th>C2</th>\n",
       "      <th>C3</th>\n",
       "      <th>C4</th>\n",
       "      <th>C5</th>\n",
       "      <th>C6</th>\n",
       "      <th>C7</th>\n",
       "    </tr>\n",
       "  </thead>\n",
       "  <tbody>\n",
       "    <tr>\n",
       "      <th>2020-01-20</th>\n",
       "      <td>888</td>\n",
       "      <td>0.993583</td>\n",
       "      <td>0.350126</td>\n",
       "      <td>0.039340</td>\n",
       "      <td>0.449637</td>\n",
       "      <td>789.000000</td>\n",
       "      <td>NaN</td>\n",
       "    </tr>\n",
       "    <tr>\n",
       "      <th>2020-01-21</th>\n",
       "      <td>888</td>\n",
       "      <td>0.810138</td>\n",
       "      <td>0.721619</td>\n",
       "      <td>0.684445</td>\n",
       "      <td>0.701107</td>\n",
       "      <td>789.000000</td>\n",
       "      <td>NaN</td>\n",
       "    </tr>\n",
       "    <tr>\n",
       "      <th>2020-01-22</th>\n",
       "      <td>888</td>\n",
       "      <td>0.635133</td>\n",
       "      <td>0.184109</td>\n",
       "      <td>0.056312</td>\n",
       "      <td>0.765443</td>\n",
       "      <td>777.000000</td>\n",
       "      <td>NaN</td>\n",
       "    </tr>\n",
       "    <tr>\n",
       "      <th>2020-01-23</th>\n",
       "      <td>888</td>\n",
       "      <td>0.510296</td>\n",
       "      <td>0.527891</td>\n",
       "      <td>333.000000</td>\n",
       "      <td>555.000000</td>\n",
       "      <td>0.192789</td>\n",
       "      <td>NaN</td>\n",
       "    </tr>\n",
       "    <tr>\n",
       "      <th>2020-01-24</th>\n",
       "      <td>888</td>\n",
       "      <td>0.900926</td>\n",
       "      <td>0.988436</td>\n",
       "      <td>0.411650</td>\n",
       "      <td>0.455052</td>\n",
       "      <td>0.317770</td>\n",
       "      <td>NaN</td>\n",
       "    </tr>\n",
       "    <tr>\n",
       "      <th>2020-01-25</th>\n",
       "      <td>888</td>\n",
       "      <td>0.711455</td>\n",
       "      <td>0.606295</td>\n",
       "      <td>0.156955</td>\n",
       "      <td>NaN</td>\n",
       "      <td>0.970588</td>\n",
       "      <td>1020.0</td>\n",
       "    </tr>\n",
       "    <tr>\n",
       "      <th>2020-01-26</th>\n",
       "      <td>888</td>\n",
       "      <td>0.498947</td>\n",
       "      <td>0.046108</td>\n",
       "      <td>0.937178</td>\n",
       "      <td>0.037080</td>\n",
       "      <td>0.273831</td>\n",
       "      <td>1020.0</td>\n",
       "    </tr>\n",
       "  </tbody>\n",
       "</table>\n",
       "</div>"
      ],
      "text/plain": [
       "             C1        C2        C3          C4          C5          C6  \\\n",
       "2020-01-20  888  0.993583  0.350126    0.039340    0.449637  789.000000   \n",
       "2020-01-21  888  0.810138  0.721619    0.684445    0.701107  789.000000   \n",
       "2020-01-22  888  0.635133  0.184109    0.056312    0.765443  777.000000   \n",
       "2020-01-23  888  0.510296  0.527891  333.000000  555.000000    0.192789   \n",
       "2020-01-24  888  0.900926  0.988436    0.411650    0.455052    0.317770   \n",
       "2020-01-25  888  0.711455  0.606295    0.156955         NaN    0.970588   \n",
       "2020-01-26  888  0.498947  0.046108    0.937178    0.037080    0.273831   \n",
       "\n",
       "                C7  \n",
       "2020-01-20     NaN  \n",
       "2020-01-21     NaN  \n",
       "2020-01-22     NaN  \n",
       "2020-01-23     NaN  \n",
       "2020-01-24     NaN  \n",
       "2020-01-25  1020.0  \n",
       "2020-01-26  1020.0  "
      ]
     },
     "execution_count": 227,
     "metadata": {},
     "output_type": "execute_result"
    }
   ],
   "source": [
    "# Replace Null values in Column 'C5' with number 123\n",
    "# Replace Null values in Column 'C6' with number 789\n",
    "dframe.fillna(value={'C1' : 123 , 'C6' : 789})"
   ]
  },
  {
   "cell_type": "code",
   "execution_count": 229,
   "metadata": {},
   "outputs": [
    {
     "data": {
      "text/html": [
       "<div>\n",
       "<style scoped>\n",
       "    .dataframe tbody tr th:only-of-type {\n",
       "        vertical-align: middle;\n",
       "    }\n",
       "\n",
       "    .dataframe tbody tr th {\n",
       "        vertical-align: top;\n",
       "    }\n",
       "\n",
       "    .dataframe thead th {\n",
       "        text-align: right;\n",
       "    }\n",
       "</style>\n",
       "<table border=\"1\" class=\"dataframe\">\n",
       "  <thead>\n",
       "    <tr style=\"text-align: right;\">\n",
       "      <th></th>\n",
       "      <th>C1</th>\n",
       "      <th>C2</th>\n",
       "      <th>C3</th>\n",
       "      <th>C4</th>\n",
       "      <th>C5</th>\n",
       "      <th>C6</th>\n",
       "      <th>C7</th>\n",
       "    </tr>\n",
       "  </thead>\n",
       "  <tbody>\n",
       "    <tr>\n",
       "      <th>2020-01-20</th>\n",
       "      <td>888</td>\n",
       "      <td>0.993583</td>\n",
       "      <td>0.350126</td>\n",
       "      <td>0.039340</td>\n",
       "      <td>0.449637</td>\n",
       "      <td>NaN</td>\n",
       "      <td>NaN</td>\n",
       "    </tr>\n",
       "    <tr>\n",
       "      <th>2020-01-21</th>\n",
       "      <td>888</td>\n",
       "      <td>0.810138</td>\n",
       "      <td>0.721619</td>\n",
       "      <td>0.684445</td>\n",
       "      <td>0.701107</td>\n",
       "      <td>NaN</td>\n",
       "      <td>NaN</td>\n",
       "    </tr>\n",
       "    <tr>\n",
       "      <th>2020-01-22</th>\n",
       "      <td>888</td>\n",
       "      <td>0.635133</td>\n",
       "      <td>0.184109</td>\n",
       "      <td>0.056312</td>\n",
       "      <td>0.765443</td>\n",
       "      <td>777.000000</td>\n",
       "      <td>NaN</td>\n",
       "    </tr>\n",
       "    <tr>\n",
       "      <th>2020-01-23</th>\n",
       "      <td>888</td>\n",
       "      <td>0.510296</td>\n",
       "      <td>0.527891</td>\n",
       "      <td>333.000000</td>\n",
       "      <td>555.000000</td>\n",
       "      <td>0.192789</td>\n",
       "      <td>NaN</td>\n",
       "    </tr>\n",
       "    <tr>\n",
       "      <th>2020-01-24</th>\n",
       "      <td>888</td>\n",
       "      <td>0.900926</td>\n",
       "      <td>0.988436</td>\n",
       "      <td>0.411650</td>\n",
       "      <td>0.455052</td>\n",
       "      <td>0.317770</td>\n",
       "      <td>NaN</td>\n",
       "    </tr>\n",
       "    <tr>\n",
       "      <th>2020-01-25</th>\n",
       "      <td>888</td>\n",
       "      <td>0.711455</td>\n",
       "      <td>0.606295</td>\n",
       "      <td>0.156955</td>\n",
       "      <td>NaN</td>\n",
       "      <td>0.970588</td>\n",
       "      <td>1020.0</td>\n",
       "    </tr>\n",
       "    <tr>\n",
       "      <th>2020-01-26</th>\n",
       "      <td>888</td>\n",
       "      <td>0.498947</td>\n",
       "      <td>0.046108</td>\n",
       "      <td>0.937178</td>\n",
       "      <td>0.037080</td>\n",
       "      <td>0.273831</td>\n",
       "      <td>1020.0</td>\n",
       "    </tr>\n",
       "  </tbody>\n",
       "</table>\n",
       "</div>"
      ],
      "text/plain": [
       "             C1        C2        C3          C4          C5          C6  \\\n",
       "2020-01-20  888  0.993583  0.350126    0.039340    0.449637         NaN   \n",
       "2020-01-21  888  0.810138  0.721619    0.684445    0.701107         NaN   \n",
       "2020-01-22  888  0.635133  0.184109    0.056312    0.765443  777.000000   \n",
       "2020-01-23  888  0.510296  0.527891  333.000000  555.000000    0.192789   \n",
       "2020-01-24  888  0.900926  0.988436    0.411650    0.455052    0.317770   \n",
       "2020-01-25  888  0.711455  0.606295    0.156955         NaN    0.970588   \n",
       "2020-01-26  888  0.498947  0.046108    0.937178    0.037080    0.273831   \n",
       "\n",
       "                C7  \n",
       "2020-01-20     NaN  \n",
       "2020-01-21     NaN  \n",
       "2020-01-22     NaN  \n",
       "2020-01-23     NaN  \n",
       "2020-01-24     NaN  \n",
       "2020-01-25  1020.0  \n",
       "2020-01-26  1020.0  "
      ]
     },
     "execution_count": 229,
     "metadata": {},
     "output_type": "execute_result"
    }
   ],
   "source": [
    "#Replace first NULL value in Column C7 with 789\n",
    "dframe.fillna(value={'C7' : 789} , limit=1)\n",
    "dframe"
   ]
  },
  {
   "cell_type": "code",
   "execution_count": 231,
   "metadata": {},
   "outputs": [
    {
     "data": {
      "text/html": [
       "<div>\n",
       "<style scoped>\n",
       "    .dataframe tbody tr th:only-of-type {\n",
       "        vertical-align: middle;\n",
       "    }\n",
       "\n",
       "    .dataframe tbody tr th {\n",
       "        vertical-align: top;\n",
       "    }\n",
       "\n",
       "    .dataframe thead th {\n",
       "        text-align: right;\n",
       "    }\n",
       "</style>\n",
       "<table border=\"1\" class=\"dataframe\">\n",
       "  <thead>\n",
       "    <tr style=\"text-align: right;\">\n",
       "      <th></th>\n",
       "      <th>C1</th>\n",
       "      <th>C2</th>\n",
       "      <th>C3</th>\n",
       "      <th>C4</th>\n",
       "      <th>C5</th>\n",
       "      <th>C6</th>\n",
       "      <th>C7</th>\n",
       "    </tr>\n",
       "  </thead>\n",
       "  <tbody>\n",
       "    <tr>\n",
       "      <th>2020-01-20</th>\n",
       "      <td>888</td>\n",
       "      <td>0.993583</td>\n",
       "      <td>0.350126</td>\n",
       "      <td>0.039340</td>\n",
       "      <td>0.449637</td>\n",
       "      <td>NaN</td>\n",
       "      <td>NaN</td>\n",
       "    </tr>\n",
       "    <tr>\n",
       "      <th>2020-01-21</th>\n",
       "      <td>888</td>\n",
       "      <td>0.810138</td>\n",
       "      <td>0.721619</td>\n",
       "      <td>0.684445</td>\n",
       "      <td>0.701107</td>\n",
       "      <td>NaN</td>\n",
       "      <td>NaN</td>\n",
       "    </tr>\n",
       "    <tr>\n",
       "      <th>2020-01-22</th>\n",
       "      <td>888</td>\n",
       "      <td>0.635133</td>\n",
       "      <td>0.184109</td>\n",
       "      <td>0.056312</td>\n",
       "      <td>0.765443</td>\n",
       "      <td>777.000000</td>\n",
       "      <td>NaN</td>\n",
       "    </tr>\n",
       "    <tr>\n",
       "      <th>2020-01-23</th>\n",
       "      <td>888</td>\n",
       "      <td>0.510296</td>\n",
       "      <td>0.527891</td>\n",
       "      <td>333.000000</td>\n",
       "      <td>555.000000</td>\n",
       "      <td>0.192789</td>\n",
       "      <td>NaN</td>\n",
       "    </tr>\n",
       "    <tr>\n",
       "      <th>2020-01-24</th>\n",
       "      <td>888</td>\n",
       "      <td>0.900926</td>\n",
       "      <td>0.988436</td>\n",
       "      <td>0.411650</td>\n",
       "      <td>0.455052</td>\n",
       "      <td>0.317770</td>\n",
       "      <td>NaN</td>\n",
       "    </tr>\n",
       "    <tr>\n",
       "      <th>2020-01-25</th>\n",
       "      <td>888</td>\n",
       "      <td>0.711455</td>\n",
       "      <td>0.606295</td>\n",
       "      <td>0.156955</td>\n",
       "      <td>NaN</td>\n",
       "      <td>0.970588</td>\n",
       "      <td>1020.0</td>\n",
       "    </tr>\n",
       "    <tr>\n",
       "      <th>2020-01-26</th>\n",
       "      <td>888</td>\n",
       "      <td>0.498947</td>\n",
       "      <td>0.046108</td>\n",
       "      <td>0.937178</td>\n",
       "      <td>0.037080</td>\n",
       "      <td>0.273831</td>\n",
       "      <td>1020.0</td>\n",
       "    </tr>\n",
       "  </tbody>\n",
       "</table>\n",
       "</div>"
      ],
      "text/plain": [
       "             C1        C2        C3          C4          C5          C6  \\\n",
       "2020-01-20  888  0.993583  0.350126    0.039340    0.449637         NaN   \n",
       "2020-01-21  888  0.810138  0.721619    0.684445    0.701107         NaN   \n",
       "2020-01-22  888  0.635133  0.184109    0.056312    0.765443  777.000000   \n",
       "2020-01-23  888  0.510296  0.527891  333.000000  555.000000    0.192789   \n",
       "2020-01-24  888  0.900926  0.988436    0.411650    0.455052    0.317770   \n",
       "2020-01-25  888  0.711455  0.606295    0.156955         NaN    0.970588   \n",
       "2020-01-26  888  0.498947  0.046108    0.937178    0.037080    0.273831   \n",
       "\n",
       "                C7  \n",
       "2020-01-20     NaN  \n",
       "2020-01-21     NaN  \n",
       "2020-01-22     NaN  \n",
       "2020-01-23     NaN  \n",
       "2020-01-24     NaN  \n",
       "2020-01-25  1020.0  \n",
       "2020-01-26  1020.0  "
      ]
     },
     "execution_count": 231,
     "metadata": {},
     "output_type": "execute_result"
    }
   ],
   "source": [
    "# Drop Rows with NULL values\n",
    "# dframe.dropna(inplace=True)\n",
    "dframe"
   ]
  },
  {
   "cell_type": "code",
   "execution_count": 232,
   "metadata": {},
   "outputs": [
    {
     "data": {
      "text/html": [
       "<div>\n",
       "<style scoped>\n",
       "    .dataframe tbody tr th:only-of-type {\n",
       "        vertical-align: middle;\n",
       "    }\n",
       "\n",
       "    .dataframe tbody tr th {\n",
       "        vertical-align: top;\n",
       "    }\n",
       "\n",
       "    .dataframe thead th {\n",
       "        text-align: right;\n",
       "    }\n",
       "</style>\n",
       "<table border=\"1\" class=\"dataframe\">\n",
       "  <thead>\n",
       "    <tr style=\"text-align: right;\">\n",
       "      <th></th>\n",
       "      <th>C1</th>\n",
       "      <th>C2</th>\n",
       "      <th>C3</th>\n",
       "      <th>C4</th>\n",
       "    </tr>\n",
       "  </thead>\n",
       "  <tbody>\n",
       "    <tr>\n",
       "      <th>2020-01-20</th>\n",
       "      <td>888</td>\n",
       "      <td>0.993583</td>\n",
       "      <td>0.350126</td>\n",
       "      <td>0.039340</td>\n",
       "    </tr>\n",
       "    <tr>\n",
       "      <th>2020-01-21</th>\n",
       "      <td>888</td>\n",
       "      <td>0.810138</td>\n",
       "      <td>0.721619</td>\n",
       "      <td>0.684445</td>\n",
       "    </tr>\n",
       "    <tr>\n",
       "      <th>2020-01-22</th>\n",
       "      <td>888</td>\n",
       "      <td>0.635133</td>\n",
       "      <td>0.184109</td>\n",
       "      <td>0.056312</td>\n",
       "    </tr>\n",
       "    <tr>\n",
       "      <th>2020-01-23</th>\n",
       "      <td>888</td>\n",
       "      <td>0.510296</td>\n",
       "      <td>0.527891</td>\n",
       "      <td>333.000000</td>\n",
       "    </tr>\n",
       "    <tr>\n",
       "      <th>2020-01-24</th>\n",
       "      <td>888</td>\n",
       "      <td>0.900926</td>\n",
       "      <td>0.988436</td>\n",
       "      <td>0.411650</td>\n",
       "    </tr>\n",
       "    <tr>\n",
       "      <th>2020-01-25</th>\n",
       "      <td>888</td>\n",
       "      <td>0.711455</td>\n",
       "      <td>0.606295</td>\n",
       "      <td>0.156955</td>\n",
       "    </tr>\n",
       "    <tr>\n",
       "      <th>2020-01-26</th>\n",
       "      <td>888</td>\n",
       "      <td>0.498947</td>\n",
       "      <td>0.046108</td>\n",
       "      <td>0.937178</td>\n",
       "    </tr>\n",
       "  </tbody>\n",
       "</table>\n",
       "</div>"
      ],
      "text/plain": [
       "             C1        C2        C3          C4\n",
       "2020-01-20  888  0.993583  0.350126    0.039340\n",
       "2020-01-21  888  0.810138  0.721619    0.684445\n",
       "2020-01-22  888  0.635133  0.184109    0.056312\n",
       "2020-01-23  888  0.510296  0.527891  333.000000\n",
       "2020-01-24  888  0.900926  0.988436    0.411650\n",
       "2020-01-25  888  0.711455  0.606295    0.156955\n",
       "2020-01-26  888  0.498947  0.046108    0.937178"
      ]
     },
     "execution_count": 232,
     "metadata": {},
     "output_type": "execute_result"
    }
   ],
   "source": [
    "# Drop Columns with NULL values\n",
    "dframe.dropna(axis='columns')"
   ]
  },
  {
   "cell_type": "code",
   "execution_count": 233,
   "metadata": {},
   "outputs": [
    {
     "data": {
      "text/html": [
       "<div>\n",
       "<style scoped>\n",
       "    .dataframe tbody tr th:only-of-type {\n",
       "        vertical-align: middle;\n",
       "    }\n",
       "\n",
       "    .dataframe tbody tr th {\n",
       "        vertical-align: top;\n",
       "    }\n",
       "\n",
       "    .dataframe thead th {\n",
       "        text-align: right;\n",
       "    }\n",
       "</style>\n",
       "<table border=\"1\" class=\"dataframe\">\n",
       "  <thead>\n",
       "    <tr style=\"text-align: right;\">\n",
       "      <th></th>\n",
       "      <th>C1</th>\n",
       "      <th>C2</th>\n",
       "      <th>C3</th>\n",
       "      <th>C4</th>\n",
       "      <th>C5</th>\n",
       "      <th>C6</th>\n",
       "      <th>C7</th>\n",
       "    </tr>\n",
       "  </thead>\n",
       "  <tbody>\n",
       "    <tr>\n",
       "      <th>2020-01-20</th>\n",
       "      <td>888</td>\n",
       "      <td>0.993583</td>\n",
       "      <td>0.350126</td>\n",
       "      <td>0.039340</td>\n",
       "      <td>0.449637</td>\n",
       "      <td>NaN</td>\n",
       "      <td>NaN</td>\n",
       "    </tr>\n",
       "    <tr>\n",
       "      <th>2020-01-21</th>\n",
       "      <td>888</td>\n",
       "      <td>0.810138</td>\n",
       "      <td>0.721619</td>\n",
       "      <td>0.684445</td>\n",
       "      <td>0.701107</td>\n",
       "      <td>NaN</td>\n",
       "      <td>NaN</td>\n",
       "    </tr>\n",
       "    <tr>\n",
       "      <th>2020-01-22</th>\n",
       "      <td>888</td>\n",
       "      <td>0.635133</td>\n",
       "      <td>0.184109</td>\n",
       "      <td>0.056312</td>\n",
       "      <td>0.765443</td>\n",
       "      <td>777.000000</td>\n",
       "      <td>NaN</td>\n",
       "    </tr>\n",
       "    <tr>\n",
       "      <th>2020-01-23</th>\n",
       "      <td>888</td>\n",
       "      <td>0.510296</td>\n",
       "      <td>0.527891</td>\n",
       "      <td>333.000000</td>\n",
       "      <td>555.000000</td>\n",
       "      <td>0.192789</td>\n",
       "      <td>NaN</td>\n",
       "    </tr>\n",
       "    <tr>\n",
       "      <th>2020-01-24</th>\n",
       "      <td>888</td>\n",
       "      <td>0.900926</td>\n",
       "      <td>0.988436</td>\n",
       "      <td>0.411650</td>\n",
       "      <td>0.455052</td>\n",
       "      <td>0.317770</td>\n",
       "      <td>NaN</td>\n",
       "    </tr>\n",
       "    <tr>\n",
       "      <th>2020-01-25</th>\n",
       "      <td>888</td>\n",
       "      <td>0.711455</td>\n",
       "      <td>0.606295</td>\n",
       "      <td>0.156955</td>\n",
       "      <td>NaN</td>\n",
       "      <td>0.970588</td>\n",
       "      <td>1020.0</td>\n",
       "    </tr>\n",
       "    <tr>\n",
       "      <th>2020-01-26</th>\n",
       "      <td>888</td>\n",
       "      <td>0.498947</td>\n",
       "      <td>0.046108</td>\n",
       "      <td>0.937178</td>\n",
       "      <td>0.037080</td>\n",
       "      <td>0.273831</td>\n",
       "      <td>1020.0</td>\n",
       "    </tr>\n",
       "  </tbody>\n",
       "</table>\n",
       "</div>"
      ],
      "text/plain": [
       "             C1        C2        C3          C4          C5          C6  \\\n",
       "2020-01-20  888  0.993583  0.350126    0.039340    0.449637         NaN   \n",
       "2020-01-21  888  0.810138  0.721619    0.684445    0.701107         NaN   \n",
       "2020-01-22  888  0.635133  0.184109    0.056312    0.765443  777.000000   \n",
       "2020-01-23  888  0.510296  0.527891  333.000000  555.000000    0.192789   \n",
       "2020-01-24  888  0.900926  0.988436    0.411650    0.455052    0.317770   \n",
       "2020-01-25  888  0.711455  0.606295    0.156955         NaN    0.970588   \n",
       "2020-01-26  888  0.498947  0.046108    0.937178    0.037080    0.273831   \n",
       "\n",
       "                C7  \n",
       "2020-01-20     NaN  \n",
       "2020-01-21     NaN  \n",
       "2020-01-22     NaN  \n",
       "2020-01-23     NaN  \n",
       "2020-01-24     NaN  \n",
       "2020-01-25  1020.0  \n",
       "2020-01-26  1020.0  "
      ]
     },
     "execution_count": 233,
     "metadata": {},
     "output_type": "execute_result"
    }
   ],
   "source": [
    "dframe"
   ]
  },
  {
   "cell_type": "code",
   "execution_count": 234,
   "metadata": {},
   "outputs": [
    {
     "data": {
      "text/html": [
       "<div>\n",
       "<style scoped>\n",
       "    .dataframe tbody tr th:only-of-type {\n",
       "        vertical-align: middle;\n",
       "    }\n",
       "\n",
       "    .dataframe tbody tr th {\n",
       "        vertical-align: top;\n",
       "    }\n",
       "\n",
       "    .dataframe thead th {\n",
       "        text-align: right;\n",
       "    }\n",
       "</style>\n",
       "<table border=\"1\" class=\"dataframe\">\n",
       "  <thead>\n",
       "    <tr style=\"text-align: right;\">\n",
       "      <th></th>\n",
       "      <th>C1</th>\n",
       "      <th>C2</th>\n",
       "      <th>C3</th>\n",
       "      <th>C4</th>\n",
       "      <th>C5</th>\n",
       "      <th>C6</th>\n",
       "      <th>C7</th>\n",
       "    </tr>\n",
       "  </thead>\n",
       "  <tbody>\n",
       "    <tr>\n",
       "      <th>2020-01-22</th>\n",
       "      <td>888</td>\n",
       "      <td>0.635133</td>\n",
       "      <td>0.184109</td>\n",
       "      <td>0.056312</td>\n",
       "      <td>0.765443</td>\n",
       "      <td>777.000000</td>\n",
       "      <td>NaN</td>\n",
       "    </tr>\n",
       "    <tr>\n",
       "      <th>2020-01-23</th>\n",
       "      <td>888</td>\n",
       "      <td>0.510296</td>\n",
       "      <td>0.527891</td>\n",
       "      <td>333.000000</td>\n",
       "      <td>555.000000</td>\n",
       "      <td>0.192789</td>\n",
       "      <td>NaN</td>\n",
       "    </tr>\n",
       "    <tr>\n",
       "      <th>2020-01-24</th>\n",
       "      <td>888</td>\n",
       "      <td>0.900926</td>\n",
       "      <td>0.988436</td>\n",
       "      <td>0.411650</td>\n",
       "      <td>0.455052</td>\n",
       "      <td>0.317770</td>\n",
       "      <td>NaN</td>\n",
       "    </tr>\n",
       "    <tr>\n",
       "      <th>2020-01-26</th>\n",
       "      <td>888</td>\n",
       "      <td>0.498947</td>\n",
       "      <td>0.046108</td>\n",
       "      <td>0.937178</td>\n",
       "      <td>0.037080</td>\n",
       "      <td>0.273831</td>\n",
       "      <td>1020.0</td>\n",
       "    </tr>\n",
       "  </tbody>\n",
       "</table>\n",
       "</div>"
      ],
      "text/plain": [
       "             C1        C2        C3          C4          C5          C6  \\\n",
       "2020-01-22  888  0.635133  0.184109    0.056312    0.765443  777.000000   \n",
       "2020-01-23  888  0.510296  0.527891  333.000000  555.000000    0.192789   \n",
       "2020-01-24  888  0.900926  0.988436    0.411650    0.455052    0.317770   \n",
       "2020-01-26  888  0.498947  0.046108    0.937178    0.037080    0.273831   \n",
       "\n",
       "                C7  \n",
       "2020-01-22     NaN  \n",
       "2020-01-23     NaN  \n",
       "2020-01-24     NaN  \n",
       "2020-01-26  1020.0  "
      ]
     },
     "execution_count": 234,
     "metadata": {},
     "output_type": "execute_result"
    }
   ],
   "source": [
    "# Drop Rows with NULL values present in C5 or C6\n",
    "dframe.dropna(subset=['C5' ,'C6'])"
   ]
  },
  {
   "cell_type": "markdown",
   "metadata": {},
   "source": [
    "## Descriptive Statistics "
   ]
  },
  {
   "cell_type": "code",
   "execution_count": 242,
   "metadata": {},
   "outputs": [
    {
     "data": {
      "text/html": [
       "<div>\n",
       "<style scoped>\n",
       "    .dataframe tbody tr th:only-of-type {\n",
       "        vertical-align: middle;\n",
       "    }\n",
       "\n",
       "    .dataframe tbody tr th {\n",
       "        vertical-align: top;\n",
       "    }\n",
       "\n",
       "    .dataframe thead th {\n",
       "        text-align: right;\n",
       "    }\n",
       "</style>\n",
       "<table border=\"1\" class=\"dataframe\">\n",
       "  <thead>\n",
       "    <tr style=\"text-align: right;\">\n",
       "      <th></th>\n",
       "      <th>C1</th>\n",
       "      <th>C2</th>\n",
       "      <th>C3</th>\n",
       "      <th>C4</th>\n",
       "      <th>C5</th>\n",
       "      <th>C6</th>\n",
       "      <th>C7</th>\n",
       "    </tr>\n",
       "  </thead>\n",
       "  <tbody>\n",
       "    <tr>\n",
       "      <th>2020-01-20</th>\n",
       "      <td>888</td>\n",
       "      <td>0.993583</td>\n",
       "      <td>0.350126</td>\n",
       "      <td>0.039340</td>\n",
       "      <td>0.449637</td>\n",
       "      <td>55.000000</td>\n",
       "      <td>55.0</td>\n",
       "    </tr>\n",
       "    <tr>\n",
       "      <th>2020-01-21</th>\n",
       "      <td>888</td>\n",
       "      <td>0.810138</td>\n",
       "      <td>0.721619</td>\n",
       "      <td>0.684445</td>\n",
       "      <td>0.701107</td>\n",
       "      <td>55.000000</td>\n",
       "      <td>55.0</td>\n",
       "    </tr>\n",
       "    <tr>\n",
       "      <th>2020-01-22</th>\n",
       "      <td>888</td>\n",
       "      <td>0.635133</td>\n",
       "      <td>0.184109</td>\n",
       "      <td>0.056312</td>\n",
       "      <td>0.765443</td>\n",
       "      <td>777.000000</td>\n",
       "      <td>55.0</td>\n",
       "    </tr>\n",
       "    <tr>\n",
       "      <th>2020-01-23</th>\n",
       "      <td>888</td>\n",
       "      <td>0.510296</td>\n",
       "      <td>0.527891</td>\n",
       "      <td>333.000000</td>\n",
       "      <td>555.000000</td>\n",
       "      <td>0.192789</td>\n",
       "      <td>55.0</td>\n",
       "    </tr>\n",
       "    <tr>\n",
       "      <th>2020-01-24</th>\n",
       "      <td>888</td>\n",
       "      <td>0.900926</td>\n",
       "      <td>0.988436</td>\n",
       "      <td>0.411650</td>\n",
       "      <td>0.455052</td>\n",
       "      <td>0.317770</td>\n",
       "      <td>55.0</td>\n",
       "    </tr>\n",
       "    <tr>\n",
       "      <th>2020-01-25</th>\n",
       "      <td>888</td>\n",
       "      <td>0.711455</td>\n",
       "      <td>0.606295</td>\n",
       "      <td>0.156955</td>\n",
       "      <td>55.000000</td>\n",
       "      <td>0.970588</td>\n",
       "      <td>1020.0</td>\n",
       "    </tr>\n",
       "    <tr>\n",
       "      <th>2020-01-26</th>\n",
       "      <td>888</td>\n",
       "      <td>0.498947</td>\n",
       "      <td>0.046108</td>\n",
       "      <td>0.937178</td>\n",
       "      <td>0.037080</td>\n",
       "      <td>0.273831</td>\n",
       "      <td>1020.0</td>\n",
       "    </tr>\n",
       "  </tbody>\n",
       "</table>\n",
       "</div>"
      ],
      "text/plain": [
       "             C1        C2        C3          C4          C5          C6  \\\n",
       "2020-01-20  888  0.993583  0.350126    0.039340    0.449637   55.000000   \n",
       "2020-01-21  888  0.810138  0.721619    0.684445    0.701107   55.000000   \n",
       "2020-01-22  888  0.635133  0.184109    0.056312    0.765443  777.000000   \n",
       "2020-01-23  888  0.510296  0.527891  333.000000  555.000000    0.192789   \n",
       "2020-01-24  888  0.900926  0.988436    0.411650    0.455052    0.317770   \n",
       "2020-01-25  888  0.711455  0.606295    0.156955   55.000000    0.970588   \n",
       "2020-01-26  888  0.498947  0.046108    0.937178    0.037080    0.273831   \n",
       "\n",
       "                C7  \n",
       "2020-01-20    55.0  \n",
       "2020-01-21    55.0  \n",
       "2020-01-22    55.0  \n",
       "2020-01-23    55.0  \n",
       "2020-01-24    55.0  \n",
       "2020-01-25  1020.0  \n",
       "2020-01-26  1020.0  "
      ]
     },
     "execution_count": 242,
     "metadata": {},
     "output_type": "execute_result"
    }
   ],
   "source": [
    "# Fill NULL values with 55\n",
    "dframe.fillna(55 , inplace=True)\n",
    "dframe"
   ]
  },
  {
   "cell_type": "code",
   "execution_count": 243,
   "metadata": {},
   "outputs": [
    {
     "data": {
      "text/plain": [
       "C1    888.000000\n",
       "C2      0.722925\n",
       "C3      0.489226\n",
       "C4     47.897983\n",
       "C5     87.486903\n",
       "C6    126.964997\n",
       "C7    330.714286\n",
       "dtype: float64"
      ]
     },
     "execution_count": 243,
     "metadata": {},
     "output_type": "execute_result"
    }
   ],
   "source": [
    "# Mean of all Columns\n",
    "dframe.mean()"
   ]
  },
  {
   "cell_type": "code",
   "execution_count": 244,
   "metadata": {},
   "outputs": [
    {
     "data": {
      "text/plain": [
       "C1     888.000000\n",
       "C2       0.993583\n",
       "C3       0.988436\n",
       "C4     333.000000\n",
       "C5     555.000000\n",
       "C6     777.000000\n",
       "C7    1020.000000\n",
       "dtype: float64"
      ]
     },
     "execution_count": 244,
     "metadata": {},
     "output_type": "execute_result"
    }
   ],
   "source": [
    "# Max value per column\n",
    "dframe.max()"
   ]
  },
  {
   "cell_type": "code",
   "execution_count": 245,
   "metadata": {},
   "outputs": [
    {
     "data": {
      "text/plain": [
       "C1    888.000000\n",
       "C2      0.498947\n",
       "C3      0.046108\n",
       "C4      0.039340\n",
       "C5      0.037080\n",
       "C6      0.192789\n",
       "C7     55.000000\n",
       "dtype: float64"
      ]
     },
     "execution_count": 245,
     "metadata": {},
     "output_type": "execute_result"
    }
   ],
   "source": [
    "# Min value per column\n",
    "dframe.min()"
   ]
  },
  {
   "cell_type": "code",
   "execution_count": 251,
   "metadata": {},
   "outputs": [
    {
     "data": {
      "text/plain": [
       "C1    888.000000\n",
       "C2      0.711455\n",
       "C3      0.527891\n",
       "C4      0.411650\n",
       "C5      0.701107\n",
       "C6      0.970588\n",
       "C7     55.000000\n",
       "dtype: float64"
      ]
     },
     "execution_count": 251,
     "metadata": {},
     "output_type": "execute_result"
    }
   ],
   "source": [
    "# Median \n",
    "dframe.median()"
   ]
  },
  {
   "cell_type": "code",
   "execution_count": 252,
   "metadata": {},
   "outputs": [
    {
     "data": {
      "text/plain": [
       "C1      0.000000\n",
       "C2      0.189632\n",
       "C3      0.323320\n",
       "C4    125.718620\n",
       "C5    207.152834\n",
       "C6    287.790254\n",
       "C7    470.871785\n",
       "dtype: float64"
      ]
     },
     "execution_count": 252,
     "metadata": {},
     "output_type": "execute_result"
    }
   ],
   "source": [
    "dframe.std() #Standard Deviation"
   ]
  },
  {
   "cell_type": "code",
   "execution_count": 253,
   "metadata": {},
   "outputs": [
    {
     "data": {
      "text/plain": [
       "C1         0.000000\n",
       "C2         0.035960\n",
       "C3         0.104536\n",
       "C4     15805.171366\n",
       "C5     42912.296833\n",
       "C6     82823.230339\n",
       "C7    221720.238095\n",
       "dtype: float64"
      ]
     },
     "execution_count": 253,
     "metadata": {},
     "output_type": "execute_result"
    }
   ],
   "source": [
    "dframe.var()  #Variance "
   ]
  },
  {
   "cell_type": "code",
   "execution_count": 254,
   "metadata": {},
   "outputs": [
    {
     "data": {
      "text/plain": [
       "C1    888.000000\n",
       "C2      0.572714\n",
       "C3      0.267117\n",
       "C4      0.106633\n",
       "C5      0.452345\n",
       "C6      0.295801\n",
       "C7     55.000000\n",
       "Name: 0.25, dtype: float64"
      ]
     },
     "execution_count": 254,
     "metadata": {},
     "output_type": "execute_result"
    }
   ],
   "source": [
    "#Lower Quartile / First Quartile\n",
    "dframe.quantile(0.25) "
   ]
  },
  {
   "cell_type": "code",
   "execution_count": 255,
   "metadata": {},
   "outputs": [
    {
     "data": {
      "text/plain": [
       "C1    888.000000\n",
       "C2      0.711455\n",
       "C3      0.527891\n",
       "C4      0.411650\n",
       "C5      0.701107\n",
       "C6      0.970588\n",
       "C7     55.000000\n",
       "Name: 0.5, dtype: float64"
      ]
     },
     "execution_count": 255,
     "metadata": {},
     "output_type": "execute_result"
    }
   ],
   "source": [
    "#Second Quartile / Median\n",
    "dframe.quantile(0.50)"
   ]
  },
  {
   "cell_type": "code",
   "execution_count": 256,
   "metadata": {},
   "outputs": [
    {
     "data": {
      "text/plain": [
       "C1    888.000000\n",
       "C2      0.855532\n",
       "C3      0.663957\n",
       "C4      0.810812\n",
       "C5     27.882721\n",
       "C6     55.000000\n",
       "C7    537.500000\n",
       "Name: 0.75, dtype: float64"
      ]
     },
     "execution_count": 256,
     "metadata": {},
     "output_type": "execute_result"
    }
   ],
   "source": [
    "# Upper Quartile\n",
    "dframe.quantile(0.75)"
   ]
  },
  {
   "cell_type": "code",
   "execution_count": 257,
   "metadata": {},
   "outputs": [
    {
     "data": {
      "text/plain": [
       "C1      0.000000\n",
       "C2      0.282817\n",
       "C3      0.396840\n",
       "C4      0.704178\n",
       "C5     27.430377\n",
       "C6     54.704199\n",
       "C7    482.500000\n",
       "dtype: float64"
      ]
     },
     "execution_count": 257,
     "metadata": {},
     "output_type": "execute_result"
    }
   ],
   "source": [
    " #IQR (Interquartile Range)\n",
    "dframe.quantile(0.75) - dframe.quantile(0.25)"
   ]
  },
  {
   "cell_type": "code",
   "execution_count": 258,
   "metadata": {},
   "outputs": [
    {
     "data": {
      "text/plain": [
       "C1    6216.000000\n",
       "C2       5.060478\n",
       "C3       3.424584\n",
       "C4     335.285880\n",
       "C5     612.408319\n",
       "C6     888.754979\n",
       "C7    2315.000000\n",
       "dtype: float64"
      ]
     },
     "execution_count": 258,
     "metadata": {},
     "output_type": "execute_result"
    }
   ],
   "source": [
    "# SUM of column values\n",
    "dframe.sum()"
   ]
  },
  {
   "cell_type": "code",
   "execution_count": 259,
   "metadata": {},
   "outputs": [
    {
     "data": {
      "text/html": [
       "<div>\n",
       "<style scoped>\n",
       "    .dataframe tbody tr th:only-of-type {\n",
       "        vertical-align: middle;\n",
       "    }\n",
       "\n",
       "    .dataframe tbody tr th {\n",
       "        vertical-align: top;\n",
       "    }\n",
       "\n",
       "    .dataframe thead th {\n",
       "        text-align: right;\n",
       "    }\n",
       "</style>\n",
       "<table border=\"1\" class=\"dataframe\">\n",
       "  <thead>\n",
       "    <tr style=\"text-align: right;\">\n",
       "      <th></th>\n",
       "      <th>C1</th>\n",
       "      <th>C2</th>\n",
       "      <th>C3</th>\n",
       "      <th>C4</th>\n",
       "      <th>C5</th>\n",
       "      <th>C6</th>\n",
       "      <th>C7</th>\n",
       "    </tr>\n",
       "  </thead>\n",
       "  <tbody>\n",
       "    <tr>\n",
       "      <th>count</th>\n",
       "      <td>7.0</td>\n",
       "      <td>7.000000</td>\n",
       "      <td>7.000000</td>\n",
       "      <td>7.000000</td>\n",
       "      <td>7.000000</td>\n",
       "      <td>7.000000</td>\n",
       "      <td>7.000000</td>\n",
       "    </tr>\n",
       "    <tr>\n",
       "      <th>mean</th>\n",
       "      <td>888.0</td>\n",
       "      <td>0.722925</td>\n",
       "      <td>0.489226</td>\n",
       "      <td>47.897983</td>\n",
       "      <td>87.486903</td>\n",
       "      <td>126.964997</td>\n",
       "      <td>330.714286</td>\n",
       "    </tr>\n",
       "    <tr>\n",
       "      <th>std</th>\n",
       "      <td>0.0</td>\n",
       "      <td>0.189632</td>\n",
       "      <td>0.323320</td>\n",
       "      <td>125.718620</td>\n",
       "      <td>207.152834</td>\n",
       "      <td>287.790254</td>\n",
       "      <td>470.871785</td>\n",
       "    </tr>\n",
       "    <tr>\n",
       "      <th>min</th>\n",
       "      <td>888.0</td>\n",
       "      <td>0.498947</td>\n",
       "      <td>0.046108</td>\n",
       "      <td>0.039340</td>\n",
       "      <td>0.037080</td>\n",
       "      <td>0.192789</td>\n",
       "      <td>55.000000</td>\n",
       "    </tr>\n",
       "    <tr>\n",
       "      <th>25%</th>\n",
       "      <td>888.0</td>\n",
       "      <td>0.572714</td>\n",
       "      <td>0.267117</td>\n",
       "      <td>0.106633</td>\n",
       "      <td>0.452345</td>\n",
       "      <td>0.295801</td>\n",
       "      <td>55.000000</td>\n",
       "    </tr>\n",
       "    <tr>\n",
       "      <th>50%</th>\n",
       "      <td>888.0</td>\n",
       "      <td>0.711455</td>\n",
       "      <td>0.527891</td>\n",
       "      <td>0.411650</td>\n",
       "      <td>0.701107</td>\n",
       "      <td>0.970588</td>\n",
       "      <td>55.000000</td>\n",
       "    </tr>\n",
       "    <tr>\n",
       "      <th>75%</th>\n",
       "      <td>888.0</td>\n",
       "      <td>0.855532</td>\n",
       "      <td>0.663957</td>\n",
       "      <td>0.810812</td>\n",
       "      <td>27.882721</td>\n",
       "      <td>55.000000</td>\n",
       "      <td>537.500000</td>\n",
       "    </tr>\n",
       "    <tr>\n",
       "      <th>max</th>\n",
       "      <td>888.0</td>\n",
       "      <td>0.993583</td>\n",
       "      <td>0.988436</td>\n",
       "      <td>333.000000</td>\n",
       "      <td>555.000000</td>\n",
       "      <td>777.000000</td>\n",
       "      <td>1020.000000</td>\n",
       "    </tr>\n",
       "  </tbody>\n",
       "</table>\n",
       "</div>"
      ],
      "text/plain": [
       "          C1        C2        C3          C4          C5          C6  \\\n",
       "count    7.0  7.000000  7.000000    7.000000    7.000000    7.000000   \n",
       "mean   888.0  0.722925  0.489226   47.897983   87.486903  126.964997   \n",
       "std      0.0  0.189632  0.323320  125.718620  207.152834  287.790254   \n",
       "min    888.0  0.498947  0.046108    0.039340    0.037080    0.192789   \n",
       "25%    888.0  0.572714  0.267117    0.106633    0.452345    0.295801   \n",
       "50%    888.0  0.711455  0.527891    0.411650    0.701107    0.970588   \n",
       "75%    888.0  0.855532  0.663957    0.810812   27.882721   55.000000   \n",
       "max    888.0  0.993583  0.988436  333.000000  555.000000  777.000000   \n",
       "\n",
       "                C7  \n",
       "count     7.000000  \n",
       "mean    330.714286  \n",
       "std     470.871785  \n",
       "min      55.000000  \n",
       "25%      55.000000  \n",
       "50%      55.000000  \n",
       "75%     537.500000  \n",
       "max    1020.000000  "
      ]
     },
     "execution_count": 259,
     "metadata": {},
     "output_type": "execute_result"
    }
   ],
   "source": [
    "# GENERATES DESCRIPTIVE STATS\n",
    "dframe.describe()"
   ]
  },
  {
   "cell_type": "code",
   "execution_count": 152,
   "metadata": {},
   "outputs": [
    {
     "data": {
      "text/plain": [
       "C1    0.000000\n",
       "C2   -0.686703\n",
       "C3   -0.175199\n",
       "C4    2.645740\n",
       "C5    2.594395\n",
       "C6    2.602376\n",
       "C7    1.229634\n",
       "dtype: float64"
      ]
     },
     "execution_count": 152,
     "metadata": {},
     "output_type": "execute_result"
    }
   ],
   "source": [
    "#Return unbiased skew\n",
    "# https://www.youtube.com/watch?v=HnMGKsupF8Q\n",
    "dframe.skew()"
   ]
  },
  {
   "cell_type": "code",
   "execution_count": 153,
   "metadata": {},
   "outputs": [
    {
     "data": {
      "text/plain": [
       "C1    0.000000\n",
       "C2   -1.388805\n",
       "C3   -2.242459\n",
       "C4    6.999954\n",
       "C5    6.777466\n",
       "C6    6.820623\n",
       "C7   -0.840000\n",
       "dtype: float64"
      ]
     },
     "execution_count": 153,
     "metadata": {},
     "output_type": "execute_result"
    }
   ],
   "source": [
    "# Return unbiased kurtosis using Fisher’s definition of kurtosis\n",
    "# https://www.youtube.com/watch?v=HnMGKsupF8Q\n",
    "dframe.kurt()"
   ]
  },
  {
   "cell_type": "code",
   "execution_count": 154,
   "metadata": {},
   "outputs": [
    {
     "data": {
      "text/html": [
       "<div>\n",
       "<style scoped>\n",
       "    .dataframe tbody tr th:only-of-type {\n",
       "        vertical-align: middle;\n",
       "    }\n",
       "\n",
       "    .dataframe tbody tr th {\n",
       "        vertical-align: top;\n",
       "    }\n",
       "\n",
       "    .dataframe thead th {\n",
       "        text-align: right;\n",
       "    }\n",
       "</style>\n",
       "<table border=\"1\" class=\"dataframe\">\n",
       "  <thead>\n",
       "    <tr style=\"text-align: right;\">\n",
       "      <th></th>\n",
       "      <th>C1</th>\n",
       "      <th>C2</th>\n",
       "      <th>C3</th>\n",
       "      <th>C4</th>\n",
       "      <th>C5</th>\n",
       "      <th>C6</th>\n",
       "      <th>C7</th>\n",
       "    </tr>\n",
       "  </thead>\n",
       "  <tbody>\n",
       "    <tr>\n",
       "      <th>C1</th>\n",
       "      <td>NaN</td>\n",
       "      <td>NaN</td>\n",
       "      <td>NaN</td>\n",
       "      <td>NaN</td>\n",
       "      <td>NaN</td>\n",
       "      <td>NaN</td>\n",
       "      <td>NaN</td>\n",
       "    </tr>\n",
       "    <tr>\n",
       "      <th>C2</th>\n",
       "      <td>NaN</td>\n",
       "      <td>1.000000</td>\n",
       "      <td>-0.070148</td>\n",
       "      <td>0.328297</td>\n",
       "      <td>0.372302</td>\n",
       "      <td>0.367081</td>\n",
       "      <td>0.044494</td>\n",
       "    </tr>\n",
       "    <tr>\n",
       "      <th>C3</th>\n",
       "      <td>NaN</td>\n",
       "      <td>-0.070148</td>\n",
       "      <td>1.000000</td>\n",
       "      <td>-0.580887</td>\n",
       "      <td>-0.622911</td>\n",
       "      <td>0.531608</td>\n",
       "      <td>-0.575723</td>\n",
       "    </tr>\n",
       "    <tr>\n",
       "      <th>C4</th>\n",
       "      <td>NaN</td>\n",
       "      <td>0.328297</td>\n",
       "      <td>-0.580887</td>\n",
       "      <td>1.000000</td>\n",
       "      <td>0.995013</td>\n",
       "      <td>-0.192783</td>\n",
       "      <td>-0.258969</td>\n",
       "    </tr>\n",
       "    <tr>\n",
       "      <th>C5</th>\n",
       "      <td>NaN</td>\n",
       "      <td>0.372302</td>\n",
       "      <td>-0.622911</td>\n",
       "      <td>0.995013</td>\n",
       "      <td>1.000000</td>\n",
       "      <td>-0.215361</td>\n",
       "      <td>-0.196921</td>\n",
       "    </tr>\n",
       "    <tr>\n",
       "      <th>C6</th>\n",
       "      <td>NaN</td>\n",
       "      <td>0.367081</td>\n",
       "      <td>0.531608</td>\n",
       "      <td>-0.192783</td>\n",
       "      <td>-0.215361</td>\n",
       "      <td>1.000000</td>\n",
       "      <td>-0.300528</td>\n",
       "    </tr>\n",
       "    <tr>\n",
       "      <th>C7</th>\n",
       "      <td>NaN</td>\n",
       "      <td>0.044494</td>\n",
       "      <td>-0.575723</td>\n",
       "      <td>-0.258969</td>\n",
       "      <td>-0.196921</td>\n",
       "      <td>-0.300528</td>\n",
       "      <td>1.000000</td>\n",
       "    </tr>\n",
       "  </tbody>\n",
       "</table>\n",
       "</div>"
      ],
      "text/plain": [
       "    C1        C2        C3        C4        C5        C6        C7\n",
       "C1 NaN       NaN       NaN       NaN       NaN       NaN       NaN\n",
       "C2 NaN  1.000000 -0.070148  0.328297  0.372302  0.367081  0.044494\n",
       "C3 NaN -0.070148  1.000000 -0.580887 -0.622911  0.531608 -0.575723\n",
       "C4 NaN  0.328297 -0.580887  1.000000  0.995013 -0.192783 -0.258969\n",
       "C5 NaN  0.372302 -0.622911  0.995013  1.000000 -0.215361 -0.196921\n",
       "C6 NaN  0.367081  0.531608 -0.192783 -0.215361  1.000000 -0.300528\n",
       "C7 NaN  0.044494 -0.575723 -0.258969 -0.196921 -0.300528  1.000000"
      ]
     },
     "execution_count": 154,
     "metadata": {},
     "output_type": "execute_result"
    }
   ],
   "source": [
    "#Correlation\n",
    "# https://www.youtube.com/watch?v=qtaqvPAeEJY&list=PLblh5JKOoLUK0FLuzwntyYI10UQFUhsY9&index=10\n",
    "# https://www.youtube.com/watch?v=xZ_z8KWkhXE&list=PLblh5JKOoLUK0FLuzwntyYI10UQFUhsY9&index=11\n",
    "dframe.corr()"
   ]
  },
  {
   "cell_type": "code",
   "execution_count": 155,
   "metadata": {},
   "outputs": [
    {
     "data": {
      "text/html": [
       "<div>\n",
       "<style scoped>\n",
       "    .dataframe tbody tr th:only-of-type {\n",
       "        vertical-align: middle;\n",
       "    }\n",
       "\n",
       "    .dataframe tbody tr th {\n",
       "        vertical-align: top;\n",
       "    }\n",
       "\n",
       "    .dataframe thead th {\n",
       "        text-align: right;\n",
       "    }\n",
       "</style>\n",
       "<table border=\"1\" class=\"dataframe\">\n",
       "  <thead>\n",
       "    <tr style=\"text-align: right;\">\n",
       "      <th></th>\n",
       "      <th>C1</th>\n",
       "      <th>C2</th>\n",
       "      <th>C3</th>\n",
       "      <th>C4</th>\n",
       "      <th>C5</th>\n",
       "      <th>C6</th>\n",
       "      <th>C7</th>\n",
       "    </tr>\n",
       "  </thead>\n",
       "  <tbody>\n",
       "    <tr>\n",
       "      <th>C1</th>\n",
       "      <td>0.0</td>\n",
       "      <td>0.000000</td>\n",
       "      <td>0.000000</td>\n",
       "      <td>0.000000</td>\n",
       "      <td>0.000000</td>\n",
       "      <td>0.000000</td>\n",
       "      <td>0.000000</td>\n",
       "    </tr>\n",
       "    <tr>\n",
       "      <th>C2</th>\n",
       "      <td>0.0</td>\n",
       "      <td>0.103557</td>\n",
       "      <td>-0.006856</td>\n",
       "      <td>13.265922</td>\n",
       "      <td>24.829395</td>\n",
       "      <td>33.991600</td>\n",
       "      <td>6.742136</td>\n",
       "    </tr>\n",
       "    <tr>\n",
       "      <th>C3</th>\n",
       "      <td>0.0</td>\n",
       "      <td>-0.006856</td>\n",
       "      <td>0.092255</td>\n",
       "      <td>-22.154819</td>\n",
       "      <td>-39.210651</td>\n",
       "      <td>46.463164</td>\n",
       "      <td>-82.340225</td>\n",
       "    </tr>\n",
       "    <tr>\n",
       "      <th>C4</th>\n",
       "      <td>0.0</td>\n",
       "      <td>13.265922</td>\n",
       "      <td>-22.154819</td>\n",
       "      <td>15767.466274</td>\n",
       "      <td>25893.559306</td>\n",
       "      <td>-6965.814097</td>\n",
       "      <td>-15312.006704</td>\n",
       "    </tr>\n",
       "    <tr>\n",
       "      <th>C5</th>\n",
       "      <td>0.0</td>\n",
       "      <td>24.829395</td>\n",
       "      <td>-39.210651</td>\n",
       "      <td>25893.559306</td>\n",
       "      <td>42950.111296</td>\n",
       "      <td>-12843.098630</td>\n",
       "      <td>-19216.585468</td>\n",
       "    </tr>\n",
       "    <tr>\n",
       "      <th>C6</th>\n",
       "      <td>0.0</td>\n",
       "      <td>33.991600</td>\n",
       "      <td>46.463164</td>\n",
       "      <td>-6965.814097</td>\n",
       "      <td>-12843.098630</td>\n",
       "      <td>82802.312914</td>\n",
       "      <td>-40720.045869</td>\n",
       "    </tr>\n",
       "    <tr>\n",
       "      <th>C7</th>\n",
       "      <td>0.0</td>\n",
       "      <td>6.742136</td>\n",
       "      <td>-82.340225</td>\n",
       "      <td>-15312.006704</td>\n",
       "      <td>-19216.585468</td>\n",
       "      <td>-40720.045869</td>\n",
       "      <td>221720.238095</td>\n",
       "    </tr>\n",
       "  </tbody>\n",
       "</table>\n",
       "</div>"
      ],
      "text/plain": [
       "     C1         C2         C3            C4            C5            C6  \\\n",
       "C1  0.0   0.000000   0.000000      0.000000      0.000000      0.000000   \n",
       "C2  0.0   0.103557  -0.006856     13.265922     24.829395     33.991600   \n",
       "C3  0.0  -0.006856   0.092255    -22.154819    -39.210651     46.463164   \n",
       "C4  0.0  13.265922 -22.154819  15767.466274  25893.559306  -6965.814097   \n",
       "C5  0.0  24.829395 -39.210651  25893.559306  42950.111296 -12843.098630   \n",
       "C6  0.0  33.991600  46.463164  -6965.814097 -12843.098630  82802.312914   \n",
       "C7  0.0   6.742136 -82.340225 -15312.006704 -19216.585468 -40720.045869   \n",
       "\n",
       "               C7  \n",
       "C1       0.000000  \n",
       "C2       6.742136  \n",
       "C3     -82.340225  \n",
       "C4  -15312.006704  \n",
       "C5  -19216.585468  \n",
       "C6  -40720.045869  \n",
       "C7  221720.238095  "
      ]
     },
     "execution_count": 155,
     "metadata": {},
     "output_type": "execute_result"
    }
   ],
   "source": [
    "#Covariance\n",
    "# https://www.youtube.com/watch?v=qtaqvPAeEJY&list=PLblh5JKOoLUK0FLuzwntyYI10UQFUhsY9&index=10\n",
    "# https://www.youtube.com/watch?v=xZ_z8KWkhXE&list=PLblh5JKOoLUK0FLuzwntyYI10UQFUhsY9&index=11\n",
    "dframe.cov()"
   ]
  },
  {
   "cell_type": "code",
   "execution_count": 260,
   "metadata": {},
   "outputs": [],
   "source": [
    "import statistics as st\n",
    "# dframe.at[3:6,'C1'] = 22\n",
    "# dframe"
   ]
  },
  {
   "cell_type": "code",
   "execution_count": 261,
   "metadata": {},
   "outputs": [
    {
     "data": {
      "text/plain": [
       "888"
      ]
     },
     "execution_count": 261,
     "metadata": {},
     "output_type": "execute_result"
    }
   ],
   "source": [
    "# Average \n",
    "st.mean(dframe['C1'])"
   ]
  },
  {
   "cell_type": "code",
   "execution_count": 262,
   "metadata": {},
   "outputs": [],
   "source": [
    "# # Hormonic Mean\n",
    "# st.harmonic_mean(dframe['C1'])"
   ]
  },
  {
   "cell_type": "code",
   "execution_count": 263,
   "metadata": {},
   "outputs": [
    {
     "data": {
      "text/plain": [
       "4.5"
      ]
     },
     "execution_count": 263,
     "metadata": {},
     "output_type": "execute_result"
    }
   ],
   "source": [
    "#Returns average of the two middle numbers when length is EVEN\n",
    "arr = np.array([1,2,3,4,5,6,7,8])\n",
    "st.median(arr)"
   ]
  },
  {
   "cell_type": "code",
   "execution_count": 264,
   "metadata": {},
   "outputs": [
    {
     "data": {
      "text/plain": [
       "4"
      ]
     },
     "execution_count": 264,
     "metadata": {},
     "output_type": "execute_result"
    }
   ],
   "source": [
    "# low median of the data with EVEN length\n",
    "st.median_low(arr)"
   ]
  },
  {
   "cell_type": "code",
   "execution_count": 265,
   "metadata": {},
   "outputs": [
    {
     "data": {
      "text/plain": [
       "5"
      ]
     },
     "execution_count": 265,
     "metadata": {},
     "output_type": "execute_result"
    }
   ],
   "source": [
    "# High median of the data with EVEN length\n",
    "st.median_high(arr)"
   ]
  },
  {
   "cell_type": "code",
   "execution_count": 266,
   "metadata": {},
   "outputs": [
    {
     "data": {
      "text/plain": [
       "55.0"
      ]
     },
     "execution_count": 266,
     "metadata": {},
     "output_type": "execute_result"
    }
   ],
   "source": [
    "# Mode of Dataset\n",
    "st.mode(dframe['C7'])"
   ]
  },
  {
   "cell_type": "code",
   "execution_count": 267,
   "metadata": {},
   "outputs": [
    {
     "data": {
      "text/plain": [
       "0"
      ]
     },
     "execution_count": 267,
     "metadata": {},
     "output_type": "execute_result"
    }
   ],
   "source": [
    "# Sample Variance\n",
    "st.variance(dframe['C1'])"
   ]
  },
  {
   "cell_type": "code",
   "execution_count": 268,
   "metadata": {},
   "outputs": [
    {
     "data": {
      "text/plain": [
       "0"
      ]
     },
     "execution_count": 268,
     "metadata": {},
     "output_type": "execute_result"
    }
   ],
   "source": [
    "#Population Variance\n",
    "st.pvariance(dframe['C1'])"
   ]
  },
  {
   "cell_type": "code",
   "execution_count": null,
   "metadata": {},
   "outputs": [],
   "source": [
    "#Sample  Standard Deviation\n",
    "st.stdev(dframe['C1'])"
   ]
  },
  {
   "cell_type": "code",
   "execution_count": 269,
   "metadata": {},
   "outputs": [
    {
     "data": {
      "text/plain": [
       "0.0"
      ]
     },
     "execution_count": 269,
     "metadata": {},
     "output_type": "execute_result"
    }
   ],
   "source": [
    "#Population Standard Deviation\n",
    "st.pstdev(dframe['C1'])"
   ]
  },
  {
   "cell_type": "markdown",
   "metadata": {},
   "source": [
    "## Apply function on Dataframe"
   ]
  },
  {
   "cell_type": "code",
   "execution_count": 270,
   "metadata": {},
   "outputs": [
    {
     "data": {
      "text/html": [
       "<div>\n",
       "<style scoped>\n",
       "    .dataframe tbody tr th:only-of-type {\n",
       "        vertical-align: middle;\n",
       "    }\n",
       "\n",
       "    .dataframe tbody tr th {\n",
       "        vertical-align: top;\n",
       "    }\n",
       "\n",
       "    .dataframe thead th {\n",
       "        text-align: right;\n",
       "    }\n",
       "</style>\n",
       "<table border=\"1\" class=\"dataframe\">\n",
       "  <thead>\n",
       "    <tr style=\"text-align: right;\">\n",
       "      <th></th>\n",
       "      <th>C1</th>\n",
       "      <th>C2</th>\n",
       "      <th>C3</th>\n",
       "      <th>C4</th>\n",
       "      <th>C5</th>\n",
       "      <th>C6</th>\n",
       "      <th>C7</th>\n",
       "    </tr>\n",
       "  </thead>\n",
       "  <tbody>\n",
       "    <tr>\n",
       "      <th>2020-01-20</th>\n",
       "      <td>888</td>\n",
       "      <td>0.993583</td>\n",
       "      <td>0.350126</td>\n",
       "      <td>0.039340</td>\n",
       "      <td>0.449637</td>\n",
       "      <td>55.000000</td>\n",
       "      <td>55.0</td>\n",
       "    </tr>\n",
       "    <tr>\n",
       "      <th>2020-01-21</th>\n",
       "      <td>888</td>\n",
       "      <td>0.810138</td>\n",
       "      <td>0.721619</td>\n",
       "      <td>0.684445</td>\n",
       "      <td>0.701107</td>\n",
       "      <td>55.000000</td>\n",
       "      <td>55.0</td>\n",
       "    </tr>\n",
       "    <tr>\n",
       "      <th>2020-01-22</th>\n",
       "      <td>888</td>\n",
       "      <td>0.635133</td>\n",
       "      <td>0.184109</td>\n",
       "      <td>0.056312</td>\n",
       "      <td>0.765443</td>\n",
       "      <td>777.000000</td>\n",
       "      <td>55.0</td>\n",
       "    </tr>\n",
       "    <tr>\n",
       "      <th>2020-01-23</th>\n",
       "      <td>888</td>\n",
       "      <td>0.510296</td>\n",
       "      <td>0.527891</td>\n",
       "      <td>333.000000</td>\n",
       "      <td>555.000000</td>\n",
       "      <td>0.192789</td>\n",
       "      <td>55.0</td>\n",
       "    </tr>\n",
       "    <tr>\n",
       "      <th>2020-01-24</th>\n",
       "      <td>888</td>\n",
       "      <td>0.900926</td>\n",
       "      <td>0.988436</td>\n",
       "      <td>0.411650</td>\n",
       "      <td>0.455052</td>\n",
       "      <td>0.317770</td>\n",
       "      <td>55.0</td>\n",
       "    </tr>\n",
       "    <tr>\n",
       "      <th>2020-01-25</th>\n",
       "      <td>888</td>\n",
       "      <td>0.711455</td>\n",
       "      <td>0.606295</td>\n",
       "      <td>0.156955</td>\n",
       "      <td>55.000000</td>\n",
       "      <td>0.970588</td>\n",
       "      <td>1020.0</td>\n",
       "    </tr>\n",
       "    <tr>\n",
       "      <th>2020-01-26</th>\n",
       "      <td>888</td>\n",
       "      <td>0.498947</td>\n",
       "      <td>0.046108</td>\n",
       "      <td>0.937178</td>\n",
       "      <td>0.037080</td>\n",
       "      <td>0.273831</td>\n",
       "      <td>1020.0</td>\n",
       "    </tr>\n",
       "  </tbody>\n",
       "</table>\n",
       "</div>"
      ],
      "text/plain": [
       "             C1        C2        C3          C4          C5          C6  \\\n",
       "2020-01-20  888  0.993583  0.350126    0.039340    0.449637   55.000000   \n",
       "2020-01-21  888  0.810138  0.721619    0.684445    0.701107   55.000000   \n",
       "2020-01-22  888  0.635133  0.184109    0.056312    0.765443  777.000000   \n",
       "2020-01-23  888  0.510296  0.527891  333.000000  555.000000    0.192789   \n",
       "2020-01-24  888  0.900926  0.988436    0.411650    0.455052    0.317770   \n",
       "2020-01-25  888  0.711455  0.606295    0.156955   55.000000    0.970588   \n",
       "2020-01-26  888  0.498947  0.046108    0.937178    0.037080    0.273831   \n",
       "\n",
       "                C7  \n",
       "2020-01-20    55.0  \n",
       "2020-01-21    55.0  \n",
       "2020-01-22    55.0  \n",
       "2020-01-23    55.0  \n",
       "2020-01-24    55.0  \n",
       "2020-01-25  1020.0  \n",
       "2020-01-26  1020.0  "
      ]
     },
     "execution_count": 270,
     "metadata": {},
     "output_type": "execute_result"
    }
   ],
   "source": [
    "dframe"
   ]
  },
  {
   "cell_type": "code",
   "execution_count": 271,
   "metadata": {},
   "outputs": [
    {
     "data": {
      "text/plain": [
       "C1     888.000000\n",
       "C2       0.993583\n",
       "C3       0.988436\n",
       "C4     333.000000\n",
       "C5     555.000000\n",
       "C6     777.000000\n",
       "C7    1020.000000\n",
       "dtype: float64"
      ]
     },
     "execution_count": 271,
     "metadata": {},
     "output_type": "execute_result"
    }
   ],
   "source": [
    "# Finding MAX value in Columns\n",
    "dframe.apply(max)"
   ]
  },
  {
   "cell_type": "code",
   "execution_count": 272,
   "metadata": {},
   "outputs": [
    {
     "data": {
      "text/plain": [
       "C1    888.000000\n",
       "C2      0.498947\n",
       "C3      0.046108\n",
       "C4      0.039340\n",
       "C5      0.037080\n",
       "C6      0.192789\n",
       "C7     55.000000\n",
       "dtype: float64"
      ]
     },
     "execution_count": 272,
     "metadata": {},
     "output_type": "execute_result"
    }
   ],
   "source": [
    "# Finding minimum value in Columns\n",
    "dframe.apply(min)"
   ]
  },
  {
   "cell_type": "code",
   "execution_count": 273,
   "metadata": {},
   "outputs": [
    {
     "data": {
      "text/plain": [
       "C1    6216.000000\n",
       "C2       5.060478\n",
       "C3       3.424584\n",
       "C4     335.285880\n",
       "C5     612.408319\n",
       "C6     888.754979\n",
       "C7    2315.000000\n",
       "dtype: float64"
      ]
     },
     "execution_count": 273,
     "metadata": {},
     "output_type": "execute_result"
    }
   ],
   "source": [
    "#Sum of Column Values\n",
    "dframe.apply(sum)"
   ]
  },
  {
   "cell_type": "code",
   "execution_count": 274,
   "metadata": {},
   "outputs": [
    {
     "data": {
      "text/plain": [
       "C1    6216.000000\n",
       "C2       5.060478\n",
       "C3       3.424584\n",
       "C4     335.285880\n",
       "C5     612.408319\n",
       "C6     888.754979\n",
       "C7    2315.000000\n",
       "dtype: float64"
      ]
     },
     "execution_count": 274,
     "metadata": {},
     "output_type": "execute_result"
    }
   ],
   "source": [
    "#Sum of Column Values\n",
    "dframe.apply(np.sum)"
   ]
  },
  {
   "cell_type": "code",
   "execution_count": 275,
   "metadata": {},
   "outputs": [
    {
     "data": {
      "text/plain": [
       "2020-01-20     999.832686\n",
       "2020-01-21    1000.917310\n",
       "2020-01-22    1721.640997\n",
       "2020-01-23    1832.230976\n",
       "2020-01-24     946.073833\n",
       "2020-01-25    1965.445294\n",
       "2020-01-26    1909.793144\n",
       "Freq: D, dtype: float64"
      ]
     },
     "execution_count": 275,
     "metadata": {},
     "output_type": "execute_result"
    }
   ],
   "source": [
    "# Sum of rows\n",
    "dframe.apply(np.sum ,axis=1)"
   ]
  },
  {
   "cell_type": "code",
   "execution_count": 276,
   "metadata": {},
   "outputs": [
    {
     "data": {
      "text/html": [
       "<div>\n",
       "<style scoped>\n",
       "    .dataframe tbody tr th:only-of-type {\n",
       "        vertical-align: middle;\n",
       "    }\n",
       "\n",
       "    .dataframe tbody tr th {\n",
       "        vertical-align: top;\n",
       "    }\n",
       "\n",
       "    .dataframe thead th {\n",
       "        text-align: right;\n",
       "    }\n",
       "</style>\n",
       "<table border=\"1\" class=\"dataframe\">\n",
       "  <thead>\n",
       "    <tr style=\"text-align: right;\">\n",
       "      <th></th>\n",
       "      <th>C1</th>\n",
       "      <th>C2</th>\n",
       "      <th>C3</th>\n",
       "      <th>C4</th>\n",
       "      <th>C5</th>\n",
       "      <th>C6</th>\n",
       "      <th>C7</th>\n",
       "    </tr>\n",
       "  </thead>\n",
       "  <tbody>\n",
       "    <tr>\n",
       "      <th>2020-01-20</th>\n",
       "      <td>29.799329</td>\n",
       "      <td>0.996786</td>\n",
       "      <td>0.591714</td>\n",
       "      <td>0.198342</td>\n",
       "      <td>0.670550</td>\n",
       "      <td>7.416198</td>\n",
       "      <td>7.416198</td>\n",
       "    </tr>\n",
       "    <tr>\n",
       "      <th>2020-01-21</th>\n",
       "      <td>29.799329</td>\n",
       "      <td>0.900077</td>\n",
       "      <td>0.849482</td>\n",
       "      <td>0.827312</td>\n",
       "      <td>0.837321</td>\n",
       "      <td>7.416198</td>\n",
       "      <td>7.416198</td>\n",
       "    </tr>\n",
       "    <tr>\n",
       "      <th>2020-01-22</th>\n",
       "      <td>29.799329</td>\n",
       "      <td>0.796952</td>\n",
       "      <td>0.429079</td>\n",
       "      <td>0.237301</td>\n",
       "      <td>0.874896</td>\n",
       "      <td>27.874720</td>\n",
       "      <td>7.416198</td>\n",
       "    </tr>\n",
       "    <tr>\n",
       "      <th>2020-01-23</th>\n",
       "      <td>29.799329</td>\n",
       "      <td>0.714350</td>\n",
       "      <td>0.726561</td>\n",
       "      <td>18.248288</td>\n",
       "      <td>23.558438</td>\n",
       "      <td>0.439078</td>\n",
       "      <td>7.416198</td>\n",
       "    </tr>\n",
       "    <tr>\n",
       "      <th>2020-01-24</th>\n",
       "      <td>29.799329</td>\n",
       "      <td>0.949171</td>\n",
       "      <td>0.994201</td>\n",
       "      <td>0.641600</td>\n",
       "      <td>0.674575</td>\n",
       "      <td>0.563711</td>\n",
       "      <td>7.416198</td>\n",
       "    </tr>\n",
       "    <tr>\n",
       "      <th>2020-01-25</th>\n",
       "      <td>29.799329</td>\n",
       "      <td>0.843478</td>\n",
       "      <td>0.778650</td>\n",
       "      <td>0.396176</td>\n",
       "      <td>7.416198</td>\n",
       "      <td>0.985184</td>\n",
       "      <td>31.937439</td>\n",
       "    </tr>\n",
       "    <tr>\n",
       "      <th>2020-01-26</th>\n",
       "      <td>29.799329</td>\n",
       "      <td>0.706362</td>\n",
       "      <td>0.214728</td>\n",
       "      <td>0.968080</td>\n",
       "      <td>0.192561</td>\n",
       "      <td>0.523289</td>\n",
       "      <td>31.937439</td>\n",
       "    </tr>\n",
       "  </tbody>\n",
       "</table>\n",
       "</div>"
      ],
      "text/plain": [
       "                   C1        C2        C3         C4         C5         C6  \\\n",
       "2020-01-20  29.799329  0.996786  0.591714   0.198342   0.670550   7.416198   \n",
       "2020-01-21  29.799329  0.900077  0.849482   0.827312   0.837321   7.416198   \n",
       "2020-01-22  29.799329  0.796952  0.429079   0.237301   0.874896  27.874720   \n",
       "2020-01-23  29.799329  0.714350  0.726561  18.248288  23.558438   0.439078   \n",
       "2020-01-24  29.799329  0.949171  0.994201   0.641600   0.674575   0.563711   \n",
       "2020-01-25  29.799329  0.843478  0.778650   0.396176   7.416198   0.985184   \n",
       "2020-01-26  29.799329  0.706362  0.214728   0.968080   0.192561   0.523289   \n",
       "\n",
       "                   C7  \n",
       "2020-01-20   7.416198  \n",
       "2020-01-21   7.416198  \n",
       "2020-01-22   7.416198  \n",
       "2020-01-23   7.416198  \n",
       "2020-01-24   7.416198  \n",
       "2020-01-25  31.937439  \n",
       "2020-01-26  31.937439  "
      ]
     },
     "execution_count": 276,
     "metadata": {},
     "output_type": "execute_result"
    }
   ],
   "source": [
    "# Square root of all values in a DataFrame\n",
    "dframe.applymap(np.sqrt)"
   ]
  },
  {
   "cell_type": "code",
   "execution_count": 277,
   "metadata": {},
   "outputs": [
    {
     "data": {
      "text/html": [
       "<div>\n",
       "<style scoped>\n",
       "    .dataframe tbody tr th:only-of-type {\n",
       "        vertical-align: middle;\n",
       "    }\n",
       "\n",
       "    .dataframe tbody tr th {\n",
       "        vertical-align: top;\n",
       "    }\n",
       "\n",
       "    .dataframe thead th {\n",
       "        text-align: right;\n",
       "    }\n",
       "</style>\n",
       "<table border=\"1\" class=\"dataframe\">\n",
       "  <thead>\n",
       "    <tr style=\"text-align: right;\">\n",
       "      <th></th>\n",
       "      <th>C1</th>\n",
       "      <th>C2</th>\n",
       "      <th>C3</th>\n",
       "      <th>C4</th>\n",
       "      <th>C5</th>\n",
       "      <th>C6</th>\n",
       "      <th>C7</th>\n",
       "    </tr>\n",
       "  </thead>\n",
       "  <tbody>\n",
       "    <tr>\n",
       "      <th>2020-01-20</th>\n",
       "      <td>29.799329</td>\n",
       "      <td>0.996786</td>\n",
       "      <td>0.591714</td>\n",
       "      <td>0.198342</td>\n",
       "      <td>0.670550</td>\n",
       "      <td>7.416198</td>\n",
       "      <td>7.416198</td>\n",
       "    </tr>\n",
       "    <tr>\n",
       "      <th>2020-01-21</th>\n",
       "      <td>29.799329</td>\n",
       "      <td>0.900077</td>\n",
       "      <td>0.849482</td>\n",
       "      <td>0.827312</td>\n",
       "      <td>0.837321</td>\n",
       "      <td>7.416198</td>\n",
       "      <td>7.416198</td>\n",
       "    </tr>\n",
       "    <tr>\n",
       "      <th>2020-01-22</th>\n",
       "      <td>29.799329</td>\n",
       "      <td>0.796952</td>\n",
       "      <td>0.429079</td>\n",
       "      <td>0.237301</td>\n",
       "      <td>0.874896</td>\n",
       "      <td>27.874720</td>\n",
       "      <td>7.416198</td>\n",
       "    </tr>\n",
       "    <tr>\n",
       "      <th>2020-01-23</th>\n",
       "      <td>29.799329</td>\n",
       "      <td>0.714350</td>\n",
       "      <td>0.726561</td>\n",
       "      <td>18.248288</td>\n",
       "      <td>23.558438</td>\n",
       "      <td>0.439078</td>\n",
       "      <td>7.416198</td>\n",
       "    </tr>\n",
       "    <tr>\n",
       "      <th>2020-01-24</th>\n",
       "      <td>29.799329</td>\n",
       "      <td>0.949171</td>\n",
       "      <td>0.994201</td>\n",
       "      <td>0.641600</td>\n",
       "      <td>0.674575</td>\n",
       "      <td>0.563711</td>\n",
       "      <td>7.416198</td>\n",
       "    </tr>\n",
       "    <tr>\n",
       "      <th>2020-01-25</th>\n",
       "      <td>29.799329</td>\n",
       "      <td>0.843478</td>\n",
       "      <td>0.778650</td>\n",
       "      <td>0.396176</td>\n",
       "      <td>7.416198</td>\n",
       "      <td>0.985184</td>\n",
       "      <td>31.937439</td>\n",
       "    </tr>\n",
       "    <tr>\n",
       "      <th>2020-01-26</th>\n",
       "      <td>29.799329</td>\n",
       "      <td>0.706362</td>\n",
       "      <td>0.214728</td>\n",
       "      <td>0.968080</td>\n",
       "      <td>0.192561</td>\n",
       "      <td>0.523289</td>\n",
       "      <td>31.937439</td>\n",
       "    </tr>\n",
       "  </tbody>\n",
       "</table>\n",
       "</div>"
      ],
      "text/plain": [
       "                   C1        C2        C3         C4         C5         C6  \\\n",
       "2020-01-20  29.799329  0.996786  0.591714   0.198342   0.670550   7.416198   \n",
       "2020-01-21  29.799329  0.900077  0.849482   0.827312   0.837321   7.416198   \n",
       "2020-01-22  29.799329  0.796952  0.429079   0.237301   0.874896  27.874720   \n",
       "2020-01-23  29.799329  0.714350  0.726561  18.248288  23.558438   0.439078   \n",
       "2020-01-24  29.799329  0.949171  0.994201   0.641600   0.674575   0.563711   \n",
       "2020-01-25  29.799329  0.843478  0.778650   0.396176   7.416198   0.985184   \n",
       "2020-01-26  29.799329  0.706362  0.214728   0.968080   0.192561   0.523289   \n",
       "\n",
       "                   C7  \n",
       "2020-01-20   7.416198  \n",
       "2020-01-21   7.416198  \n",
       "2020-01-22   7.416198  \n",
       "2020-01-23   7.416198  \n",
       "2020-01-24   7.416198  \n",
       "2020-01-25  31.937439  \n",
       "2020-01-26  31.937439  "
      ]
     },
     "execution_count": 277,
     "metadata": {},
     "output_type": "execute_result"
    }
   ],
   "source": [
    "# Square root of all values in a DataFrame\n",
    "dframe.applymap(math.sqrt)"
   ]
  },
  {
   "cell_type": "code",
   "execution_count": 278,
   "metadata": {},
   "outputs": [
    {
     "data": {
      "text/html": [
       "<div>\n",
       "<style scoped>\n",
       "    .dataframe tbody tr th:only-of-type {\n",
       "        vertical-align: middle;\n",
       "    }\n",
       "\n",
       "    .dataframe tbody tr th {\n",
       "        vertical-align: top;\n",
       "    }\n",
       "\n",
       "    .dataframe thead th {\n",
       "        text-align: right;\n",
       "    }\n",
       "</style>\n",
       "<table border=\"1\" class=\"dataframe\">\n",
       "  <thead>\n",
       "    <tr style=\"text-align: right;\">\n",
       "      <th></th>\n",
       "      <th>C1</th>\n",
       "      <th>C2</th>\n",
       "      <th>C3</th>\n",
       "      <th>C4</th>\n",
       "      <th>C5</th>\n",
       "      <th>C6</th>\n",
       "      <th>C7</th>\n",
       "    </tr>\n",
       "  </thead>\n",
       "  <tbody>\n",
       "    <tr>\n",
       "      <th>2020-01-20</th>\n",
       "      <td>888.0</td>\n",
       "      <td>0.993583</td>\n",
       "      <td>0.350126</td>\n",
       "      <td>0.039340</td>\n",
       "      <td>0.449637</td>\n",
       "      <td>55.000000</td>\n",
       "      <td>55.0</td>\n",
       "    </tr>\n",
       "    <tr>\n",
       "      <th>2020-01-21</th>\n",
       "      <td>888.0</td>\n",
       "      <td>0.810138</td>\n",
       "      <td>0.721619</td>\n",
       "      <td>0.684445</td>\n",
       "      <td>0.701107</td>\n",
       "      <td>55.000000</td>\n",
       "      <td>55.0</td>\n",
       "    </tr>\n",
       "    <tr>\n",
       "      <th>2020-01-22</th>\n",
       "      <td>888.0</td>\n",
       "      <td>0.635133</td>\n",
       "      <td>0.184109</td>\n",
       "      <td>0.056312</td>\n",
       "      <td>0.765443</td>\n",
       "      <td>777.000000</td>\n",
       "      <td>55.0</td>\n",
       "    </tr>\n",
       "    <tr>\n",
       "      <th>2020-01-23</th>\n",
       "      <td>888.0</td>\n",
       "      <td>0.510296</td>\n",
       "      <td>0.527891</td>\n",
       "      <td>333.000000</td>\n",
       "      <td>555.000000</td>\n",
       "      <td>0.192789</td>\n",
       "      <td>55.0</td>\n",
       "    </tr>\n",
       "    <tr>\n",
       "      <th>2020-01-24</th>\n",
       "      <td>888.0</td>\n",
       "      <td>0.900926</td>\n",
       "      <td>0.988436</td>\n",
       "      <td>0.411650</td>\n",
       "      <td>0.455052</td>\n",
       "      <td>0.317770</td>\n",
       "      <td>55.0</td>\n",
       "    </tr>\n",
       "    <tr>\n",
       "      <th>2020-01-25</th>\n",
       "      <td>888.0</td>\n",
       "      <td>0.711455</td>\n",
       "      <td>0.606295</td>\n",
       "      <td>0.156955</td>\n",
       "      <td>55.000000</td>\n",
       "      <td>0.970588</td>\n",
       "      <td>1020.0</td>\n",
       "    </tr>\n",
       "    <tr>\n",
       "      <th>2020-01-26</th>\n",
       "      <td>888.0</td>\n",
       "      <td>0.498947</td>\n",
       "      <td>0.046108</td>\n",
       "      <td>0.937178</td>\n",
       "      <td>0.037080</td>\n",
       "      <td>0.273831</td>\n",
       "      <td>1020.0</td>\n",
       "    </tr>\n",
       "  </tbody>\n",
       "</table>\n",
       "</div>"
      ],
      "text/plain": [
       "               C1        C2        C3          C4          C5          C6  \\\n",
       "2020-01-20  888.0  0.993583  0.350126    0.039340    0.449637   55.000000   \n",
       "2020-01-21  888.0  0.810138  0.721619    0.684445    0.701107   55.000000   \n",
       "2020-01-22  888.0  0.635133  0.184109    0.056312    0.765443  777.000000   \n",
       "2020-01-23  888.0  0.510296  0.527891  333.000000  555.000000    0.192789   \n",
       "2020-01-24  888.0  0.900926  0.988436    0.411650    0.455052    0.317770   \n",
       "2020-01-25  888.0  0.711455  0.606295    0.156955   55.000000    0.970588   \n",
       "2020-01-26  888.0  0.498947  0.046108    0.937178    0.037080    0.273831   \n",
       "\n",
       "                C7  \n",
       "2020-01-20    55.0  \n",
       "2020-01-21    55.0  \n",
       "2020-01-22    55.0  \n",
       "2020-01-23    55.0  \n",
       "2020-01-24    55.0  \n",
       "2020-01-25  1020.0  \n",
       "2020-01-26  1020.0  "
      ]
     },
     "execution_count": 278,
     "metadata": {},
     "output_type": "execute_result"
    }
   ],
   "source": [
    "dframe.applymap(float)"
   ]
  },
  {
   "cell_type": "code",
   "execution_count": 282,
   "metadata": {},
   "outputs": [
    {
     "data": {
      "text/plain": [
       "C1    888.000000\n",
       "C2      0.498947\n",
       "C3      0.046108\n",
       "C4      0.039340\n",
       "C5      0.037080\n",
       "C6      0.192789\n",
       "C7     55.000000\n",
       "dtype: float64"
      ]
     },
     "execution_count": 282,
     "metadata": {},
     "output_type": "execute_result"
    }
   ],
   "source": [
    "# Using Lambda function in Dataframes\n",
    "dframe.apply(lambda x: min(x))"
   ]
  },
  {
   "cell_type": "code",
   "execution_count": 281,
   "metadata": {},
   "outputs": [
    {
     "data": {
      "text/html": [
       "<div>\n",
       "<style scoped>\n",
       "    .dataframe tbody tr th:only-of-type {\n",
       "        vertical-align: middle;\n",
       "    }\n",
       "\n",
       "    .dataframe tbody tr th {\n",
       "        vertical-align: top;\n",
       "    }\n",
       "\n",
       "    .dataframe thead th {\n",
       "        text-align: right;\n",
       "    }\n",
       "</style>\n",
       "<table border=\"1\" class=\"dataframe\">\n",
       "  <thead>\n",
       "    <tr style=\"text-align: right;\">\n",
       "      <th></th>\n",
       "      <th>C1</th>\n",
       "      <th>C2</th>\n",
       "      <th>C3</th>\n",
       "      <th>C4</th>\n",
       "      <th>C5</th>\n",
       "      <th>C6</th>\n",
       "      <th>C7</th>\n",
       "    </tr>\n",
       "  </thead>\n",
       "  <tbody>\n",
       "    <tr>\n",
       "      <th>2020-01-20</th>\n",
       "      <td>788544</td>\n",
       "      <td>0.987206</td>\n",
       "      <td>0.122588</td>\n",
       "      <td>0.001548</td>\n",
       "      <td>0.202174</td>\n",
       "      <td>3025.000000</td>\n",
       "      <td>3025.0</td>\n",
       "    </tr>\n",
       "    <tr>\n",
       "      <th>2020-01-21</th>\n",
       "      <td>788544</td>\n",
       "      <td>0.656324</td>\n",
       "      <td>0.520734</td>\n",
       "      <td>0.468466</td>\n",
       "      <td>0.491551</td>\n",
       "      <td>3025.000000</td>\n",
       "      <td>3025.0</td>\n",
       "    </tr>\n",
       "    <tr>\n",
       "      <th>2020-01-22</th>\n",
       "      <td>788544</td>\n",
       "      <td>0.403394</td>\n",
       "      <td>0.033896</td>\n",
       "      <td>0.003171</td>\n",
       "      <td>0.585903</td>\n",
       "      <td>603729.000000</td>\n",
       "      <td>3025.0</td>\n",
       "    </tr>\n",
       "    <tr>\n",
       "      <th>2020-01-23</th>\n",
       "      <td>788544</td>\n",
       "      <td>0.260402</td>\n",
       "      <td>0.278669</td>\n",
       "      <td>110889.000000</td>\n",
       "      <td>308025.000000</td>\n",
       "      <td>0.037168</td>\n",
       "      <td>3025.0</td>\n",
       "    </tr>\n",
       "    <tr>\n",
       "      <th>2020-01-24</th>\n",
       "      <td>788544</td>\n",
       "      <td>0.811667</td>\n",
       "      <td>0.977005</td>\n",
       "      <td>0.169456</td>\n",
       "      <td>0.207072</td>\n",
       "      <td>0.100978</td>\n",
       "      <td>3025.0</td>\n",
       "    </tr>\n",
       "    <tr>\n",
       "      <th>2020-01-25</th>\n",
       "      <td>788544</td>\n",
       "      <td>0.506168</td>\n",
       "      <td>0.367594</td>\n",
       "      <td>0.024635</td>\n",
       "      <td>3025.000000</td>\n",
       "      <td>0.942042</td>\n",
       "      <td>1040400.0</td>\n",
       "    </tr>\n",
       "    <tr>\n",
       "      <th>2020-01-26</th>\n",
       "      <td>788544</td>\n",
       "      <td>0.248948</td>\n",
       "      <td>0.002126</td>\n",
       "      <td>0.878303</td>\n",
       "      <td>0.001375</td>\n",
       "      <td>0.074983</td>\n",
       "      <td>1040400.0</td>\n",
       "    </tr>\n",
       "  </tbody>\n",
       "</table>\n",
       "</div>"
      ],
      "text/plain": [
       "                C1        C2        C3             C4             C5  \\\n",
       "2020-01-20  788544  0.987206  0.122588       0.001548       0.202174   \n",
       "2020-01-21  788544  0.656324  0.520734       0.468466       0.491551   \n",
       "2020-01-22  788544  0.403394  0.033896       0.003171       0.585903   \n",
       "2020-01-23  788544  0.260402  0.278669  110889.000000  308025.000000   \n",
       "2020-01-24  788544  0.811667  0.977005       0.169456       0.207072   \n",
       "2020-01-25  788544  0.506168  0.367594       0.024635    3025.000000   \n",
       "2020-01-26  788544  0.248948  0.002126       0.878303       0.001375   \n",
       "\n",
       "                       C6         C7  \n",
       "2020-01-20    3025.000000     3025.0  \n",
       "2020-01-21    3025.000000     3025.0  \n",
       "2020-01-22  603729.000000     3025.0  \n",
       "2020-01-23       0.037168     3025.0  \n",
       "2020-01-24       0.100978     3025.0  \n",
       "2020-01-25       0.942042  1040400.0  \n",
       "2020-01-26       0.074983  1040400.0  "
      ]
     },
     "execution_count": 281,
     "metadata": {},
     "output_type": "execute_result"
    }
   ],
   "source": [
    "# Using Lambda function in Dataframes\n",
    "dframe.apply(lambda x: x*x)"
   ]
  },
  {
   "cell_type": "markdown",
   "metadata": {},
   "source": [
    "# Merge Dataframes"
   ]
  }
 ],
 "metadata": {
  "kernelspec": {
   "display_name": "Python 3",
   "language": "python",
   "name": "python3"
  },
  "language_info": {
   "codemirror_mode": {
    "name": "ipython",
    "version": 3
   },
   "file_extension": ".py",
   "mimetype": "text/x-python",
   "name": "python",
   "nbconvert_exporter": "python",
   "pygments_lexer": "ipython3",
   "version": "3.7.7"
  }
 },
 "nbformat": 4,
 "nbformat_minor": 4
}
