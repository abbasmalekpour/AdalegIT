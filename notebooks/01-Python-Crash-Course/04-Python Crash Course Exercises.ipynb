{
 "cells": [
  {
   "cell_type": "markdown",
   "metadata": {},
   "source": [
    "### Write a Python program to reverse a string.\n",
    "\n",
    "Sample String : \"1234abcd\"  \n",
    "  Expected Output : \"dcba4321\""
   ]
  },
  {
   "cell_type": "code",
   "execution_count": null,
   "metadata": {},
   "outputs": [],
   "source": []
  },
  {
   "cell_type": "markdown",
   "metadata": {},
   "source": [
    "### Write a Python function to calculate the factorial of a number (a non-negative integer). The function accepts the number as an argument.\n",
    "Sample : fact(3)   \n",
    "  Expected Output : The Factorial of number 3 is: 6"
   ]
  },
  {
   "cell_type": "code",
   "execution_count": null,
   "metadata": {},
   "outputs": [],
   "source": []
  },
  {
   "cell_type": "markdown",
   "metadata": {},
   "source": [
    "### Write a Python function that takes a list and returns a new list with unique elements of the first list\n",
    "Sample : fact([a,c,b,b,c,a,d,b,a])   \n",
    "Expected Output : [a,b,c,d]"
   ]
  },
  {
   "cell_type": "code",
   "execution_count": null,
   "metadata": {},
   "outputs": [],
   "source": []
  },
  {
   "cell_type": "markdown",
   "metadata": {},
   "source": [
    "###  Write a Python program to sort a list of tuples using Lambda.\n",
    "Sample:   \n",
    "`Original list of tuples:  \n",
    "[('English', 88), ('Science', 90), ('Maths', 97), ('Social sciences', 82)]`  \n",
    "\n",
    " \n",
    "Expected Output:  `[('Social sciences', 82), ('English', 88), ('Science', 90), ('Maths', 97)]`  "
   ]
  },
  {
   "cell_type": "code",
   "execution_count": null,
   "metadata": {},
   "outputs": [],
   "source": []
  },
  {
   "cell_type": "markdown",
   "metadata": {},
   "source": [
    "### Write a Python class to find validity of a string of parentheses, '(', ')', '{', '}', '[' and ']. These brackets must be close in the correct order, for example \"()\" and \"()[]{}\" are valid but \"[)\", \"({[)]\" and \"{{{\" are invalid.\n",
    "\n",
    "print(py_solution().is_valid_parenthese(\"(){}[]\"))  \n",
    "> True\n",
    "\n",
    "\n",
    "print(py_solution().is_valid_parenthese(\"()[{)}\"))  \n",
    "> False\n",
    "\n",
    "\n",
    "print(py_solution().is_valid_parenthese(\"()\"))      \n",
    ">True"
   ]
  },
  {
   "cell_type": "markdown",
   "metadata": {},
   "source": [
    "### Write a Python Class which is able to perform the following method:\n",
    "-  Read a list of numbers\n",
    "-  Root squer of the numbers. the numbers will be the keys and the root squer of the numbers will be the Value of output `dictionary`\n",
    "- The unique numbers  "
   ]
  },
  {
   "cell_type": "code",
   "execution_count": null,
   "metadata": {},
   "outputs": [],
   "source": []
  }
 ],
 "metadata": {
  "kernelspec": {
   "display_name": "Python 3",
   "language": "python",
   "name": "python3"
  },
  "language_info": {
   "codemirror_mode": {
    "name": "ipython",
    "version": 3
   },
   "file_extension": ".py",
   "mimetype": "text/x-python",
   "name": "python",
   "nbconvert_exporter": "python",
   "pygments_lexer": "ipython3",
   "version": "3.7.7"
  }
 },
 "nbformat": 4,
 "nbformat_minor": 4
}
