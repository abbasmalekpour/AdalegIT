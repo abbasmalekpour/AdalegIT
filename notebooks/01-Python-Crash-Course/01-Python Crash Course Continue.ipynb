{
 "cells": [
  {
   "cell_type": "markdown",
   "metadata": {},
   "source": [
    "___\n",
    "\n",
    "<a href='#'> <img src='../../supper_datascience_logo.png' /></a>\n",
    "___\n",
    "### I. Native DataTypes\n",
    "#### Number"
   ]
  },
  {
   "cell_type": "code",
   "execution_count": 56,
   "metadata": {
    "collapsed": false,
    "jupyter": {
     "outputs_hidden": false
    }
   },
   "outputs": [
    {
     "name": "stdout",
     "output_type": "stream",
     "text": [
      "<class 'int'>\n",
      "1\n"
     ]
    }
   ],
   "source": [
    "## integer\n",
    "a = 1\n",
    "print(type(a))  # <class 'int'>\n",
    "print(a)"
   ]
  },
  {
   "cell_type": "code",
   "execution_count": 57,
   "metadata": {
    "collapsed": false,
    "jupyter": {
     "outputs_hidden": false
    }
   },
   "outputs": [
    {
     "name": "stdout",
     "output_type": "stream",
     "text": [
      "<class 'float'>\n"
     ]
    }
   ],
   "source": [
    "## float\n",
    "c = 1.2\n",
    "d = 0.5  # 0.5\n",
    "g = 0.314e1  # 3.14\n",
    "print(type(g))  # <class 'float'>"
   ]
  },
  {
   "cell_type": "code",
   "execution_count": 60,
   "metadata": {
    "collapsed": false,
    "jupyter": {
     "outputs_hidden": false
    }
   },
   "outputs": [
    {
     "name": "stdout",
     "output_type": "stream",
     "text": [
      "2\n",
      "0\n",
      "9\n",
      "1.25\n",
      "1024\n",
      "12\n",
      "2\n"
     ]
    }
   ],
   "source": [
    "## Operators: + - * / ** // %\n",
    "print(1 + 1)\n",
    "\n",
    "print(2 - 2)\n",
    "\n",
    "print(3 * 3)\n",
    "\n",
    "print(5 / 4)\n",
    "\n",
    "print(2 ** 10)\n",
    "\n",
    "print(50 // 4)\n",
    "\n",
    "print(50 % 4)"
   ]
  },
  {
   "cell_type": "code",
   "execution_count": 61,
   "metadata": {
    "collapsed": false,
    "jupyter": {
     "outputs_hidden": false
    }
   },
   "outputs": [
    {
     "name": "stdout",
     "output_type": "stream",
     "text": [
      "Convert a string or number to a floating point number, if possible.\n",
      "3.0\n",
      "3.0\n",
      "3.14\n"
     ]
    }
   ],
   "source": [
    "## Casting\n",
    "### Integer -> Float\n",
    "print(float.__doc__)\n",
    "\n",
    "print(float(3))\n",
    "print(3 / 1)\n",
    "print(float(\"3.14\"))"
   ]
  },
  {
   "cell_type": "code",
   "execution_count": 62,
   "metadata": {
    "collapsed": false,
    "jupyter": {
     "outputs_hidden": false
    }
   },
   "outputs": [
    {
     "name": "stdout",
     "output_type": "stream",
     "text": [
      "int([x]) -> integer\n",
      "int(x, base=10) -> integer\n",
      "\n",
      "Convert a number or string to an integer, or return 0 if no arguments\n",
      "are given.  If x is a number, return x.__int__().  For floating point\n",
      "numbers, this truncates towards zero.\n",
      "\n",
      "If x is not a number or if base is given, then x must be a string,\n",
      "bytes, or bytearray instance representing an integer literal in the\n",
      "given base.  The literal can be preceded by '+' or '-' and be surrounded\n",
      "by whitespace.  The base defaults to 10.  Valid bases are 0 and 2-36.\n",
      "Base 0 means to interpret the base from the string as an integer literal.\n",
      ">>> int('0b100', base=0)\n",
      "4\n"
     ]
    }
   ],
   "source": [
    "### Float -> Integer\n",
    "print(int.__doc__)"
   ]
  },
  {
   "cell_type": "code",
   "execution_count": 64,
   "metadata": {
    "collapsed": false,
    "jupyter": {
     "outputs_hidden": false
    }
   },
   "outputs": [
    {
     "name": "stdout",
     "output_type": "stream",
     "text": [
      "3\n",
      "3\n",
      "14\n"
     ]
    }
   ],
   "source": [
    "print(int(3.14))  # 3\n",
    "print(int(\"3\", base=10))  # 3\n",
    "print(int(\"1110\", base=2))  # 10"
   ]
  },
  {
   "cell_type": "markdown",
   "metadata": {},
   "source": [
    "#### String"
   ]
  },
  {
   "cell_type": "code",
   "execution_count": 66,
   "metadata": {
    "collapsed": false,
    "jupyter": {
     "outputs_hidden": false
    }
   },
   "outputs": [
    {
     "name": "stdout",
     "output_type": "stream",
     "text": [
      "<class 'str'> \n",
      "\n",
      ":dog:\n",
      ", Dogge's home, \n",
      "Hello,\n",
      "Dogge!\n",
      "\n",
      "this is my first :dog:\n",
      ", this is my second Dogge's home, this is my third  string \n",
      "Hello,\n",
      "Dogge!\n",
      "\n"
     ]
    }
   ],
   "source": [
    "s1 = \":dog:\\n\"\n",
    "s2 = \"Dogge's home\"\n",
    "s3 = \"\"\"\n",
    "Hello,\n",
    "Dogge!\n",
    "\"\"\"\n",
    "print(type(s1), \"\\n\")  # <class 'str'>\n",
    "print(\"%s, %s, %s\" % (s1, s2, s3))\n",
    "print(f\"this is my first {s1}, this is my second {s2}, this is my third  string {s3}\")"
   ]
  },
  {
   "cell_type": "code",
   "execution_count": 8,
   "metadata": {
    "collapsed": false,
    "jupyter": {
     "outputs_hidden": false
    }
   },
   "outputs": [
    {
     "name": "stdout",
     "output_type": "stream",
     "text": [
      "6\n"
     ]
    }
   ],
   "source": [
    "## Length\n",
    "print(len(s1))  # 2"
   ]
  },
  {
   "cell_type": "code",
   "execution_count": 71,
   "metadata": {
    "collapsed": false,
    "jupyter": {
     "outputs_hidden": false
    }
   },
   "outputs": [
    {
     "name": "stdout",
     "output_type": "stream",
     "text": [
      "study: practice\n"
     ]
    }
   ],
   "source": [
    "## Slicing\n",
    "s = \"study and practice\"\n",
    "print(\"{0}: {1}\".format(s[:5], s[-8:]))  # study:practice"
   ]
  },
  {
   "cell_type": "code",
   "execution_count": 68,
   "metadata": {},
   "outputs": [
    {
     "name": "stdout",
     "output_type": "stream",
     "text": [
      "my name is Abbas, my number is 5\n",
      "my name is Abbas, my number is 5\n"
     ]
    }
   ],
   "source": [
    "num = 5\n",
    "name = \"Abbas\"\n",
    "print(f\"my name is {name}, my number is {num}\")\n",
    "print(\"my name is {0}, my number is {1}\".format(name, num))"
   ]
  },
  {
   "cell_type": "code",
   "execution_count": 10,
   "metadata": {
    "collapsed": false,
    "jupyter": {
     "outputs_hidden": false
    }
   },
   "outputs": [
    {
     "name": "stdout",
     "output_type": "stream",
     "text": [
      "abc.xyz\n"
     ]
    }
   ],
   "source": [
    "## Operator: +\n",
    "print(\"abc\" + \".\" + \"xyz\")"
   ]
  },
  {
   "cell_type": "code",
   "execution_count": 11,
   "metadata": {
    "collapsed": false,
    "jupyter": {
     "outputs_hidden": false
    }
   },
   "outputs": [
    {
     "name": "stdout",
     "output_type": "stream",
     "text": [
      "str(object='') -> str\n",
      "str(bytes_or_buffer[, encoding[, errors]]) -> str\n",
      "\n",
      "Create a new string object from the given object. If encoding or\n",
      "errors is specified, then the object must expose a data buffer\n",
      "that will be decoded using the given encoding and error handler.\n",
      "Otherwise, returns the result of object.__str__() (if defined)\n",
      "or repr(object).\n",
      "encoding defaults to sys.getdefaultencoding().\n",
      "errors defaults to 'strict'.\n",
      "3.14\n",
      "3\n",
      "[1, 2, 3]\n",
      "(1, 2, 3)\n",
      "{1, 2, 3}\n",
      "{'python': '*.py', 'javascript': '*.js'} \n",
      "\n",
      "this is the string:'*.py', 'javascript': '*.js'} \n",
      "and this is its type:<class 'str'>\n"
     ]
    }
   ],
   "source": [
    "## Casting\n",
    "print(str.__doc__)\n",
    "\n",
    "print(str(3.14))\n",
    "print(str(3))\n",
    "print(str([1, 2, 3]))\n",
    "print(str((1, 2, 3)))\n",
    "print(str({1, 2, 3}))\n",
    "print(str({\"python\": \"*.py\", \"javascript\": \"*.js\"}), \"\\n\")\n",
    "temp = str({\"python\": \"*.py\", \"javascript\": \"*.js\"})\n",
    "print(f\"this is the string:{temp[11:]} \\nand this is its type:{type(temp)}\")"
   ]
  },
  {
   "cell_type": "markdown",
   "metadata": {},
   "source": [
    "#### Boolean"
   ]
  },
  {
   "cell_type": "code",
   "execution_count": 12,
   "metadata": {
    "collapsed": false,
    "jupyter": {
     "outputs_hidden": false
    }
   },
   "outputs": [
    {
     "name": "stdout",
     "output_type": "stream",
     "text": [
      "<class 'bool'>\n"
     ]
    }
   ],
   "source": [
    "True\n",
    "False\n",
    "print(type(True))  # <class 'bool'>"
   ]
  },
  {
   "cell_type": "markdown",
   "metadata": {},
   "source": [
    "#### None"
   ]
  },
  {
   "cell_type": "code",
   "execution_count": 73,
   "metadata": {
    "collapsed": false,
    "jupyter": {
     "outputs_hidden": false
    }
   },
   "outputs": [
    {
     "name": "stdout",
     "output_type": "stream",
     "text": [
      "True\n",
      "<class 'NoneType'>\n"
     ]
    }
   ],
   "source": [
    "print(None is None)  # True\n",
    "print(type(None))  # <class 'NoneType'>"
   ]
  },
  {
   "cell_type": "markdown",
   "metadata": {},
   "source": [
    "#### List"
   ]
  },
  {
   "cell_type": "code",
   "execution_count": 14,
   "metadata": {
    "collapsed": false,
    "jupyter": {
     "outputs_hidden": false
    }
   },
   "outputs": [
    {
     "name": "stdout",
     "output_type": "stream",
     "text": [
      "<class 'list'>\n"
     ]
    }
   ],
   "source": [
    "l = [\"python\", 3, \"in\", \"one\"]\n",
    "print(type(l))  # <class 'list'>"
   ]
  },
  {
   "cell_type": "code",
   "execution_count": 15,
   "metadata": {
    "collapsed": false,
    "jupyter": {
     "outputs_hidden": false
    }
   },
   "outputs": [
    {
     "name": "stdout",
     "output_type": "stream",
     "text": [
      "4\n"
     ]
    }
   ],
   "source": [
    "## Length\n",
    "print(len(l))  # 4"
   ]
  },
  {
   "cell_type": "code",
   "execution_count": 16,
   "metadata": {
    "collapsed": false,
    "jupyter": {
     "outputs_hidden": false
    }
   },
   "outputs": [
    {
     "name": "stdout",
     "output_type": "stream",
     "text": [
      "python\n",
      "one\n",
      "[3, 'in']\n"
     ]
    }
   ],
   "source": [
    "## Slicing\n",
    "print(l[0])  # 'python'\n",
    "print(l[-1])  # 'one'\n",
    "print(l[1:-1])  # [3, 'in']"
   ]
  },
  {
   "cell_type": "code",
   "execution_count": 17,
   "metadata": {
    "collapsed": false,
    "jupyter": {
     "outputs_hidden": false
    }
   },
   "outputs": [
    {
     "name": "stdout",
     "output_type": "stream",
     "text": [
      "['python', 3, 'in', 'one', 'pic']\n",
      "['python', 3, '.4.1', 'in', 'one', 'pic']\n",
      "['python', 3, '.4.1', 'in', 'one', 'pic', '!', '!']\n"
     ]
    }
   ],
   "source": [
    "## Alter\n",
    "l.append(\"pic\")  # None\n",
    "print(l)\n",
    "# l == ['python', 3, 'in', 'one', 'pic']\n",
    "\n",
    "l.insert(2, \".4.1\")  # None\n",
    "print(l)\n",
    "# l == ['python', 3, '.4.1', 'in', 'one', 'pic']\n",
    "\n",
    "l.extend([\"!\", \"!\"])\n",
    "print(l)\n",
    "# l == ['python', 3, '.4.1', 'in', 'one', 'pic', '!', '!']"
   ]
  },
  {
   "cell_type": "code",
   "execution_count": 18,
   "metadata": {
    "collapsed": false,
    "jupyter": {
     "outputs_hidden": false
    }
   },
   "outputs": [
    {
     "name": "stdout",
     "output_type": "stream",
     "text": [
      "!\n",
      "['python', 3, '.4.1', 'in', 'one', 'pic', '!']\n",
      ".4.1\n",
      "['python', 3, 'in', 'one', 'pic', '!']\n",
      "['python', 3, 'one', 'pic', '!']\n",
      "['python', 3, 'pic', '!']\n"
     ]
    }
   ],
   "source": [
    "print(l.pop())  # '!'\n",
    "print(l)\n",
    "# l == ['python', 3, '.4.1', 'in', 'one', 'pic', '!']\n",
    "\n",
    "print(l.pop(2))  # '.4.1'\n",
    "print(l)\n",
    "# l == ['python', 3, 'in', 'one', 'pic', '!']\n",
    "\n",
    "l.remove(\"in\")\n",
    "print(l)\n",
    "# l == ['python', 3, 'one', 'pic', '!']\n",
    "\n",
    "del l[2]\n",
    "print(l)\n",
    "# l == ['python', 3, 'pic', '!']"
   ]
  },
  {
   "cell_type": "code",
   "execution_count": 19,
   "metadata": {
    "collapsed": false,
    "jupyter": {
     "outputs_hidden": false
    }
   },
   "outputs": [
    {
     "name": "stdout",
     "output_type": "stream",
     "text": [
      "2\n"
     ]
    }
   ],
   "source": [
    "print(l.index(\"pic\"))  # 2"
   ]
  },
  {
   "cell_type": "markdown",
   "metadata": {},
   "source": [
    "#### Tuple"
   ]
  },
  {
   "cell_type": "code",
   "execution_count": 20,
   "metadata": {
    "collapsed": false,
    "jupyter": {
     "outputs_hidden": false
    }
   },
   "outputs": [
    {
     "name": "stdout",
     "output_type": "stream",
     "text": [
      "<class 'tuple'>\n"
     ]
    }
   ],
   "source": [
    "tp = (1, 2, 3, [4, 5])\n",
    "print(type(tp))  # <class 'tuple'>"
   ]
  },
  {
   "cell_type": "code",
   "execution_count": 21,
   "metadata": {
    "collapsed": false,
    "jupyter": {
     "outputs_hidden": false
    }
   },
   "outputs": [
    {
     "name": "stdout",
     "output_type": "stream",
     "text": [
      "4\n",
      "3\n",
      "(1, 2, 3, [4, 6])\n"
     ]
    }
   ],
   "source": [
    "## Length\n",
    "print(len(tp))  # 4\n",
    "\n",
    "print(tp[2])  # 3\n",
    "tp[3][1] = 6\n",
    "print(tp)  # (1, 2, 3, [4, 6])"
   ]
  },
  {
   "cell_type": "code",
   "execution_count": 22,
   "metadata": {
    "collapsed": false,
    "jupyter": {
     "outputs_hidden": false
    }
   },
   "outputs": [
    {
     "name": "stdout",
     "output_type": "stream",
     "text": [
      "(1,)\n"
     ]
    }
   ],
   "source": [
    "## Single element\n",
    "tp = (1,)  # Not tp = (1)\n",
    "print(tp)"
   ]
  },
  {
   "cell_type": "code",
   "execution_count": 23,
   "metadata": {
    "collapsed": false,
    "jupyter": {
     "outputs_hidden": false
    }
   },
   "outputs": [
    {
     "name": "stdout",
     "output_type": "stream",
     "text": [
      "a 2 3\n"
     ]
    }
   ],
   "source": [
    "## Assign multiple values at once\n",
    "v = (3, 2, \"a\")\n",
    "(c, b, a) = v\n",
    "print(a, b, c)  # a 2 3"
   ]
  },
  {
   "cell_type": "markdown",
   "metadata": {},
   "source": [
    "#### Set"
   ]
  },
  {
   "cell_type": "code",
   "execution_count": 24,
   "metadata": {
    "collapsed": false,
    "jupyter": {
     "outputs_hidden": false
    }
   },
   "outputs": [
    {
     "name": "stdout",
     "output_type": "stream",
     "text": [
      "<class 'set'>\n"
     ]
    }
   ],
   "source": [
    "st = {\"s\", \"e\", \"T\"}\n",
    "print(type(st))  # <class 'set'>"
   ]
  },
  {
   "cell_type": "code",
   "execution_count": 25,
   "metadata": {
    "collapsed": false,
    "jupyter": {
     "outputs_hidden": false
    }
   },
   "outputs": [
    {
     "name": "stdout",
     "output_type": "stream",
     "text": [
      "3\n"
     ]
    }
   ],
   "source": [
    "## Length\n",
    "print(len(st))  # 3"
   ]
  },
  {
   "cell_type": "code",
   "execution_count": 26,
   "metadata": {
    "collapsed": false,
    "jupyter": {
     "outputs_hidden": false
    }
   },
   "outputs": [
    {
     "name": "stdout",
     "output_type": "stream",
     "text": [
      "0\n"
     ]
    }
   ],
   "source": [
    "## Empty\n",
    "st = set()\n",
    "print(len(st))  # 0"
   ]
  },
  {
   "cell_type": "code",
   "execution_count": 27,
   "metadata": {
    "collapsed": false,
    "jupyter": {
     "outputs_hidden": false
    }
   },
   "outputs": [
    {
     "name": "stdout",
     "output_type": "stream",
     "text": [
      "<class 'dict'>\n"
     ]
    }
   ],
   "source": [
    "st = {}\n",
    "print(type(st))  # <class 'dict'>"
   ]
  },
  {
   "cell_type": "code",
   "execution_count": 28,
   "metadata": {
    "collapsed": false,
    "jupyter": {
     "outputs_hidden": false
    }
   },
   "outputs": [
    {
     "name": "stdout",
     "output_type": "stream",
     "text": [
      "{'t', '!', 'e', 'T', 's'}\n",
      "{'e', 's'}\n",
      "set()\n"
     ]
    }
   ],
   "source": [
    "## Alter\n",
    "st = set([\"s\", \"e\", \"T\"])\n",
    "st.add(\"t\")  # st == {'s', 'e', 't', 'T'}\n",
    "st.add(\"t\")  # st == {'s', 'e', 't', 'T'}\n",
    "st.update([\"!\", \"!\"])\n",
    "print(st)\n",
    "# st == {'s', 'e', 't', 'T', '!'}\n",
    "\n",
    "st.discard(\"t\")  # st == {'T', '!', 's', 'e'} # No Error\n",
    "st.remove(\"T\")  # st == {'s', 'e', '!'}      # KeyError\n",
    "st.pop()  # 's'\n",
    "print(st)\n",
    "# st == {'e'}\n",
    "\n",
    "st.clear()  # st == set()\n",
    "print(st)"
   ]
  },
  {
   "cell_type": "markdown",
   "metadata": {},
   "source": [
    "#### Dict"
   ]
  },
  {
   "cell_type": "code",
   "execution_count": 13,
   "metadata": {
    "collapsed": false,
    "jupyter": {
     "outputs_hidden": false
    }
   },
   "outputs": [
    {
     "name": "stdout",
     "output_type": "stream",
     "text": [
      "<class 'dict'>\n",
      "{'k1': 'v1', 'k2': 'v2'}\n"
     ]
    }
   ],
   "source": [
    "dic = {}\n",
    "print(type(dic))  # <class 'dict'>\n",
    "\n",
    "dic = {\"k1\": \"v1\", \"k2\": \"v2\"}\n",
    "print(dic)"
   ]
  },
  {
   "cell_type": "code",
   "execution_count": 14,
   "metadata": {
    "collapsed": false,
    "jupyter": {
     "outputs_hidden": false
    }
   },
   "outputs": [
    {
     "name": "stdout",
     "output_type": "stream",
     "text": [
      "2\n"
     ]
    }
   ],
   "source": [
    "## Length\n",
    "print(len(dic))  # 2"
   ]
  },
  {
   "cell_type": "code",
   "execution_count": 19,
   "metadata": {
    "collapsed": false,
    "jupyter": {
     "outputs_hidden": false
    }
   },
   "outputs": [
    {
     "name": "stdout",
     "output_type": "stream",
     "text": [
      "v3\n",
      "v1\n",
      "ther is no value\n",
      "{'k1': 'v1', 'k2': 'v3'}\n",
      "True\n",
      "False\n"
     ]
    }
   ],
   "source": [
    "print(dic[\"k2\"])  # 'v2'\n",
    "print(dic.get(\"k1\"))  # 'v1'\n",
    "print(dic.get(\"k3\", \"Ther is no value\"))  # 'v0'\n",
    "\n",
    "dic[\"k2\"] = \"v3\"\n",
    "print(dic)  # {'k1': 'v1', 'k2': 'v3'}\n",
    "\n",
    "print(\"k2\" in dic)  # True\n",
    "print(\"v1\" in dic)  # False"
   ]
  },
  {
   "cell_type": "markdown",
   "metadata": {},
   "source": [
    "### III. Flow Control\n",
    "\n",
    "#### If"
   ]
  },
  {
   "cell_type": "code",
   "execution_count": 32,
   "metadata": {
    "collapsed": false,
    "jupyter": {
     "outputs_hidden": false
    }
   },
   "outputs": [
    {
     "name": "stdout",
     "output_type": "stream",
     "text": [
      "Version 3.X\n"
     ]
    }
   ],
   "source": [
    "# import sys\n",
    "# if sys.version_info.major < 3:\n",
    "#     print(\"Version 2.X\")\n",
    "# elif sys.version_info.major > 3:\n",
    "#     print(\"Future\")\n",
    "# else:\n",
    "#     print(\"Version 3.X\")"
   ]
  },
  {
   "cell_type": "markdown",
   "metadata": {},
   "source": [
    "#### Loop"
   ]
  },
  {
   "cell_type": "markdown",
   "metadata": {},
   "source": [
    "**for**"
   ]
  },
  {
   "cell_type": "code",
   "execution_count": 33,
   "metadata": {
    "collapsed": false,
    "jupyter": {
     "outputs_hidden": false
    }
   },
   "outputs": [
    {
     "name": "stdout",
     "output_type": "stream",
     "text": [
      "H\n",
      "e\n",
      "l\n",
      "l\n",
      "o\n"
     ]
    }
   ],
   "source": [
    "for i in \"Hello\":\n",
    "    print(i)"
   ]
  },
  {
   "cell_type": "markdown",
   "metadata": {},
   "source": [
    "**while**"
   ]
  },
  {
   "cell_type": "code",
   "execution_count": 34,
   "metadata": {
    "collapsed": false,
    "jupyter": {
     "outputs_hidden": false
    }
   },
   "outputs": [
    {
     "name": "stdout",
     "output_type": "stream",
     "text": [
      "362880\n"
     ]
    }
   ],
   "source": [
    "prod = 1\n",
    "i = 1\n",
    "while i < 10:\n",
    "    prod = prod * i\n",
    "    i += 1\n",
    "print(prod)"
   ]
  },
  {
   "cell_type": "code",
   "execution_count": 35,
   "metadata": {
    "collapsed": false,
    "jupyter": {
     "outputs_hidden": false
    }
   },
   "outputs": [
    {
     "name": "stdout",
     "output_type": "stream",
     "text": [
      "Found an even number  2\n",
      "Found an even number  4\n",
      "Found an even number  6\n",
      "n > 5!\n"
     ]
    }
   ],
   "source": [
    "## break & continue\n",
    "for n in range(2, 10):\n",
    "    if n % 2 == 0:\n",
    "        print(\"Found an even number \", n)\n",
    "        continue\n",
    "    if n > 5:\n",
    "        print(\"n > 5!\")\n",
    "        break"
   ]
  },
  {
   "cell_type": "code",
   "execution_count": 36,
   "metadata": {
    "collapsed": false,
    "jupyter": {
     "outputs_hidden": false
    }
   },
   "outputs": [
    {
     "name": "stdout",
     "output_type": "stream",
     "text": [
      "Found an even number 2\n",
      "Found a number 3\n",
      "Found an even number 4\n",
      "Found a number 5\n",
      "Found an even number 6\n",
      "Found a number 7\n",
      "Found an even number 8\n",
      "Found a number 9\n"
     ]
    }
   ],
   "source": [
    "## continue\n",
    "for num in range(2, 10):\n",
    "    if num % 2 == 0:\n",
    "        print(\"Found an even number\", num)\n",
    "        continue\n",
    "    print(\"Found a number\", num)"
   ]
  },
  {
   "cell_type": "markdown",
   "metadata": {},
   "source": [
    "#### Comprehension"
   ]
  },
  {
   "cell_type": "markdown",
   "metadata": {},
   "source": [
    "**List**"
   ]
  },
  {
   "cell_type": "code",
   "execution_count": 81,
   "metadata": {},
   "outputs": [
    {
     "name": "stdout",
     "output_type": "stream",
     "text": [
      "4\n",
      "6\n",
      "8\n",
      "10\n",
      "12\n",
      "14\n",
      "16\n",
      "18\n"
     ]
    }
   ],
   "source": [
    "for x in range(10):\n",
    "    if x ** 2 > 3:\n",
    "        print(2 * x)"
   ]
  },
  {
   "cell_type": "code",
   "execution_count": 87,
   "metadata": {},
   "outputs": [
    {
     "name": "stdout",
     "output_type": "stream",
     "text": [
      "0 0\n",
      "0 1\n",
      "1 0\n",
      "1 1\n"
     ]
    },
    {
     "data": {
      "text/plain": [
       "{0: 0, 1: 2, 2: 4, 3: 6, 4: 8}"
      ]
     },
     "execution_count": 87,
     "metadata": {},
     "output_type": "execute_result"
    }
   ],
   "source": [
    "[i for i in range(5)]\n",
    "for x in range(2):\n",
    "    for y in range(2):\n",
    "        print(x, y)\n",
    "\n",
    "{i: i * 2 for i in range(5)}"
   ]
  },
  {
   "cell_type": "code",
   "execution_count": 85,
   "metadata": {
    "collapsed": false,
    "jupyter": {
     "outputs_hidden": false
    }
   },
   "outputs": [
    {
     "name": "stdout",
     "output_type": "stream",
     "text": [
      "[4, 6, 8, 10, 12, 14, 16, 18]\n",
      "[(0, 0), (0, 1), (1, 0), (1, 1)]\n"
     ]
    }
   ],
   "source": [
    "s = [2 * x for x in range(10) if x ** 2 > 3]\n",
    "print(s)\n",
    "\n",
    "pairs = [(x, y) for x in range(2) for y in range(2)]\n",
    "print(pairs)"
   ]
  },
  {
   "cell_type": "markdown",
   "metadata": {},
   "source": [
    "**Set**"
   ]
  },
  {
   "cell_type": "code",
   "execution_count": 38,
   "metadata": {
    "collapsed": false,
    "jupyter": {
     "outputs_hidden": false
    }
   },
   "outputs": [
    {
     "name": "stdout",
     "output_type": "stream",
     "text": [
      "{4, 6, 8, 10, 12, 14, 16, 18}\n",
      "{(0, 1), (1, 0), (0, 0), (1, 1)}\n"
     ]
    }
   ],
   "source": [
    "s = {2 * x for x in range(10) if x ** 2 > 3}\n",
    "print(s)\n",
    "\n",
    "pairs = set([(x, y) for x in range(2) for y in range(2)])\n",
    "print(pairs)"
   ]
  },
  {
   "cell_type": "markdown",
   "metadata": {},
   "source": [
    "**Dict**"
   ]
  },
  {
   "cell_type": "code",
   "execution_count": 39,
   "metadata": {
    "collapsed": false,
    "jupyter": {
     "outputs_hidden": false
    }
   },
   "outputs": [
    {
     "name": "stdout",
     "output_type": "stream",
     "text": [
      "{'Python': 6, 'Javascript': 10, 'Golang': 6}\n",
      "{6: 'Golang', 10: 'Javascript'}\n"
     ]
    }
   ],
   "source": [
    "ls = {s: len(s) for s in [\"Python\", \"Javascript\", \"Golang\"]}\n",
    "print(ls)\n",
    "\n",
    "sl = {v: k for k, v in ls.items()}\n",
    "print(sl)"
   ]
  },
  {
   "cell_type": "markdown",
   "metadata": {},
   "source": [
    "#### Iterators & Generators"
   ]
  },
  {
   "cell_type": "code",
   "execution_count": 40,
   "metadata": {
    "collapsed": false,
    "jupyter": {
     "outputs_hidden": false
    }
   },
   "outputs": [
    {
     "name": "stdout",
     "output_type": "stream",
     "text": [
      "<str_iterator object at 0x10ac78510>\n",
      "P\n",
      "y\n",
      "t\n",
      "h\n",
      "o\n",
      "n\n"
     ]
    }
   ],
   "source": [
    "python = iter(\"Python\")\n",
    "print(python)\n",
    "for i in python:\n",
    "    print(i)"
   ]
  },
  {
   "cell_type": "code",
   "execution_count": 41,
   "metadata": {
    "collapsed": false,
    "jupyter": {
     "outputs_hidden": false
    }
   },
   "outputs": [
    {
     "name": "stdout",
     "output_type": "stream",
     "text": [
      "<generator object reverse at 0x10acfe4d0>\n",
      "n\n",
      "o\n",
      "h\n",
      "t\n",
      "y\n",
      "P\n"
     ]
    }
   ],
   "source": [
    "def reverse(data):\n",
    "    for index in range(len(data) - 1, -1, -1):\n",
    "        yield data[index]\n",
    "\n",
    "\n",
    "nohtyp = reverse(\"Python\")\n",
    "print(nohtyp)\n",
    "for i in nohtyp:\n",
    "    print(i)"
   ]
  },
  {
   "cell_type": "markdown",
   "metadata": {},
   "source": [
    "### IV. Function\n",
    "#### Definition"
   ]
  },
  {
   "cell_type": "code",
   "execution_count": 42,
   "metadata": {
    "collapsed": false,
    "jupyter": {
     "outputs_hidden": false
    }
   },
   "outputs": [
    {
     "name": "stdout",
     "output_type": "stream",
     "text": [
      "Hello, World!\n",
      "return 'Hello, World!'\n"
     ]
    }
   ],
   "source": [
    "def f():\n",
    "    \"\"\"return 'Hello, World!'\"\"\"\n",
    "    return \"Hello, World!\"\n",
    "\n",
    "\n",
    "print(f())\n",
    "print(f.__doc__)"
   ]
  },
  {
   "cell_type": "markdown",
   "metadata": {},
   "source": [
    "#### Arguments"
   ]
  },
  {
   "cell_type": "code",
   "execution_count": 89,
   "metadata": {},
   "outputs": [
    {
     "data": {
      "text/plain": [
       "25"
      ]
     },
     "execution_count": 89,
     "metadata": {},
     "output_type": "execute_result"
    }
   ],
   "source": [
    "def power(n=5):\n",
    "    return n * n\n",
    "\n",
    "\n",
    "power()"
   ]
  },
  {
   "cell_type": "code",
   "execution_count": 90,
   "metadata": {
    "collapsed": false,
    "jupyter": {
     "outputs_hidden": false
    }
   },
   "outputs": [
    {
     "name": "stdout",
     "output_type": "stream",
     "text": [
      "args  ()\n",
      "kargs  {}\n",
      "FP: None & Scripts: \n",
      "None\n",
      "args  ('Python',)\n",
      "kargs  {}\n",
      "FP: None & Scripts: Python\n",
      "None\n"
     ]
    }
   ],
   "source": [
    "## default arguments\n",
    "def func(name=\"World\"):\n",
    "    \"\"\"return 'Hello, $name'\"\"\"\n",
    "    return f\"Hello, {name}\"  # \"Hello, {}!\".format(name)\n",
    "\n",
    "\n",
    "print(f())\n",
    "print(f(\"Python\"))"
   ]
  },
  {
   "cell_type": "code",
   "execution_count": 44,
   "metadata": {
    "collapsed": false,
    "jupyter": {
     "outputs_hidden": false
    }
   },
   "outputs": [
    {
     "name": "stdout",
     "output_type": "stream",
     "text": [
      "Hello, Python!\n",
      "Bye, C/C++!\n"
     ]
    }
   ],
   "source": [
    "## keyword arguments\n",
    "def f(v, l=\"Python\"):\n",
    "    \"\"\"return '$v, $l'\"\"\"\n",
    "    return \"{}, {}!\".format(v, l)\n",
    "\n",
    "\n",
    "print(f(\"Hello\"))\n",
    "print(f(\"Bye\", \"C/C++\"))"
   ]
  },
  {
   "cell_type": "markdown",
   "metadata": {},
   "source": [
    "#### Lambda\n",
    "lambda arguments : expression\n"
   ]
  },
  {
   "cell_type": "code",
   "execution_count": null,
   "metadata": {},
   "outputs": [],
   "source": [
    "# def myfunction(x,y,z):\n",
    "#     retrun x*x, y*y, z*z"
   ]
  },
  {
   "cell_type": "code",
   "execution_count": 24,
   "metadata": {},
   "outputs": [
    {
     "data": {
      "text/plain": [
       "30"
      ]
     },
     "execution_count": 24,
     "metadata": {},
     "output_type": "execute_result"
    }
   ],
   "source": [
    "def sum_10(a, b):\n",
    "    return a * b\n",
    "\n",
    "\n",
    "sum_10(5, 6)"
   ]
  },
  {
   "cell_type": "code",
   "execution_count": 25,
   "metadata": {},
   "outputs": [
    {
     "data": {
      "text/plain": [
       "15"
      ]
     },
     "execution_count": 25,
     "metadata": {},
     "output_type": "execute_result"
    }
   ],
   "source": [
    "x = lambda a: a + 10\n",
    "x(5)"
   ]
  },
  {
   "cell_type": "code",
   "execution_count": 6,
   "metadata": {},
   "outputs": [
    {
     "name": "stdout",
     "output_type": "stream",
     "text": [
      "30\n"
     ]
    }
   ],
   "source": [
    "x = lambda a, b: a * b\n",
    "print(x(5, 6))"
   ]
  },
  {
   "cell_type": "code",
   "execution_count": 7,
   "metadata": {},
   "outputs": [
    {
     "name": "stdout",
     "output_type": "stream",
     "text": [
      "13\n"
     ]
    }
   ],
   "source": [
    "x = lambda a, b, c: a + b + c\n",
    "print(x(5, 6, 2))"
   ]
  },
  {
   "cell_type": "code",
   "execution_count": 35,
   "metadata": {
    "collapsed": false,
    "jupyter": {
     "outputs_hidden": false
    }
   },
   "outputs": [
    {
     "name": "stdout",
     "output_type": "stream",
     "text": [
      "[(4, 'four'), (1, 'one'), (3, 'three'), (2, 'two')]\n",
      "[(1, 'one'), (2, 'two'), (3, 'three'), (4, 'four')]\n"
     ]
    }
   ],
   "source": [
    "pairs = [(1, 'one'), (2, 'two'), (3, 'three'), (4, 'four')]\n",
    "pairs.sort(key=lambda www: www[1])\n",
    "print(pairs)\n",
    "pairs.sort(key=lambda pair: pair[0])\n",
    "print(pairs)"
   ]
  },
  {
   "cell_type": "code",
   "execution_count": 12,
   "metadata": {},
   "outputs": [
    {
     "name": "stdout",
     "output_type": "stream",
     "text": [
      "[('Matis', 85), ('abbas', 90), ('john', 95)]\n"
     ]
    }
   ],
   "source": [
    "dic_pairs = {'abbas':90, 'john':95, 'Matis':85}\n",
    "\n",
    "x = list(dic_pairs.items())\n",
    "x.sort(key=lambda x:x[0])\n",
    "print(x)"
   ]
  },
  {
   "cell_type": "code",
   "execution_count": 11,
   "metadata": {},
   "outputs": [],
   "source": [
    "# print(list(dic_pairs.items()).sort(key = lambda item: item[1])\n",
    "list(dic_pairs.items()).sort()"
   ]
  },
  {
   "cell_type": "code",
   "execution_count": 31,
   "metadata": {},
   "outputs": [
    {
     "name": "stdout",
     "output_type": "stream",
     "text": [
      "one\n",
      "two\n",
      "three\n",
      "four\n"
     ]
    }
   ],
   "source": [
    "for pair in pairs:\n",
    "    print(pair[1])"
   ]
  },
  {
   "cell_type": "markdown",
   "metadata": {},
   "source": [
    "#### @decorator"
   ]
  },
  {
   "cell_type": "code",
   "execution_count": 21,
   "metadata": {
    "collapsed": false,
    "jupyter": {
     "outputs_hidden": false
    }
   },
   "outputs": [
    {
     "name": "stdout",
     "output_type": "stream",
     "text": [
      "Hey log~\n",
      "This is fa!\n",
      "Bye log~\n",
      "\n",
      " ******************** \n",
      "\n",
      "Hey log~\n",
      "This is fb!\n",
      "Bye log~\n"
     ]
    }
   ],
   "source": [
    "def log(currnet_function):\n",
    "    def wrapper():\n",
    "        \n",
    "        print(\"Hey log~\")\n",
    "        currnet_function()\n",
    "        print(\"Bye log~\")\n",
    "\n",
    "    return wrapper\n",
    "\n",
    "\n",
    "@log\n",
    "def fa():\n",
    "    print(a)\n",
    "    print(\"This is fa!\")\n",
    "\n",
    "\n",
    "# Equal to...\n",
    "def fb():\n",
    "    print(\"This is fb!\")\n",
    "\n",
    "\n",
    "fb = log(fb)\n",
    "\n",
    "fa()\n",
    "print(\"\\n\", \"*\" * 20, \"\\n\")\n",
    "fb()"
   ]
  },
  {
   "cell_type": "code",
   "execution_count": 52,
   "metadata": {},
   "outputs": [
    {
     "name": "stdout",
     "output_type": "stream",
     "text": [
      "aa\n",
      "This is fa!\n"
     ]
    }
   ],
   "source": [
    "def log(currnet_function):\n",
    "    def test():\n",
    "        print('aa')\n",
    "        currnet_function()\n",
    "    return test\n",
    "@log\n",
    "def fa():\n",
    "    print(\"This is fa!\")\n",
    "fa()"
   ]
  },
  {
   "cell_type": "markdown",
   "metadata": {},
   "source": [
    "### V. Class(OOP)"
   ]
  },
  {
   "cell_type": "markdown",
   "metadata": {},
   "source": [
    "### `class`"
   ]
  },
  {
   "cell_type": "code",
   "execution_count": 65,
   "metadata": {
    "collapsed": false,
    "jupyter": {
     "outputs_hidden": false
    }
   },
   "outputs": [
    {
     "name": "stdout",
     "output_type": "stream",
     "text": [
      "I can fly!\n",
      "This is an Animal\n"
     ]
    }
   ],
   "source": [
    "class Animal:\n",
    "    \"\"\"This is an Animal\"\"\"\n",
    "\n",
    "    def fly(_):\n",
    "        print(\"I can fly!\")\n",
    "\n",
    "\n",
    "a = Animal()\n",
    "a.fly()  # I can fly!\n",
    "print(a.__doc__)  # This is an Animal"
   ]
  },
  {
   "cell_type": "markdown",
   "metadata": {},
   "source": [
    "### `__init__` & `self`"
   ]
  },
  {
   "cell_type": "code",
   "execution_count": 83,
   "metadata": {
    "collapsed": false,
    "jupyter": {
     "outputs_hidden": false
    }
   },
   "outputs": [
    {
     "name": "stdout",
     "output_type": "stream",
     "text": [
      "Calling __init__() when instantiation!\n",
      "I can not fly!\n",
      "Calling __init__() when instantiation!\n",
      "I CAN fly!\n"
     ]
    },
    {
     "data": {
      "text/plain": [
       "[1, 2, 3, 5]"
      ]
     },
     "execution_count": 83,
     "metadata": {},
     "output_type": "execute_result"
    }
   ],
   "source": [
    "class Animal:\n",
    "    \"\"\"This is an Animal\"\"\"\n",
    "    x = 10\n",
    "    def __init__(self, can_fly=False):\n",
    "        print(\"Calling __init__() when instantiation!\")\n",
    "        self.can_fly = can_fly\n",
    "\n",
    "    def fly(self):\n",
    "        if self.can_fly:\n",
    "            print(\"I CAN fly!\")\n",
    "        else:\n",
    "            print(\"I can not fly!\")\n",
    "\n",
    "\n",
    "a = Animal()  # Calling __init__() when instantiation!\n",
    "a.fly()  # I can not fly!\n",
    "\n",
    "b = Animal(can_fly=True)  # Calling __init__() when instantiation!\n",
    "b.fly()  # I CAN fly!\n",
    "a.x = 20\n",
    "a.x "
   ]
  },
  {
   "cell_type": "markdown",
   "metadata": {},
   "source": [
    "### Instance"
   ]
  },
  {
   "cell_type": "code",
   "execution_count": 85,
   "metadata": {
    "collapsed": false,
    "jupyter": {
     "outputs_hidden": false
    }
   },
   "outputs": [
    {
     "name": "stdout",
     "output_type": "stream",
     "text": [
      "True\n",
      "False\n"
     ]
    }
   ],
   "source": [
    "class Animal:\n",
    "    pass\n",
    "\n",
    "\n",
    "class Human:\n",
    "    pass\n",
    "\n",
    "\n",
    "a = Animal()\n",
    "h = Human()\n",
    "print(isinstance(a, Animal))\n",
    "print(isinstance(h, Animal))"
   ]
  },
  {
   "cell_type": "markdown",
   "metadata": {},
   "source": [
    "### Inheritance"
   ]
  },
  {
   "cell_type": "code",
   "execution_count": 90,
   "metadata": {
    "collapsed": false,
    "jupyter": {
     "outputs_hidden": false
    }
   },
   "outputs": [
    {
     "name": "stdout",
     "output_type": "stream",
     "text": [
      "I can not fly!\n",
      "Woof!\n"
     ]
    }
   ],
   "source": [
    "class Animal:\n",
    "    \"\"\"This is an Animal\"\"\"\n",
    "    def __init__(self, can_fly = False):\n",
    "        self.can_fly = can_fly\n",
    "    def fly(self):\n",
    "        if self.can_fly:\n",
    "            print(\"I CAN fly!\")\n",
    "        else:\n",
    "            print(\"I can not fly!\")\n",
    "class Dog(Animal):\n",
    "    \"\"\"This is a Dog\"\"\"\n",
    "    def bark(self):\n",
    "        print(\"Woof!\")\n",
    "d = Dog()\n",
    "d.fly()\n",
    "d.bark()"
   ]
  },
  {
   "cell_type": "markdown",
   "metadata": {},
   "source": [
    "### Override"
   ]
  },
  {
   "cell_type": "code",
   "execution_count": 91,
   "metadata": {
    "collapsed": false,
    "jupyter": {
     "outputs_hidden": false
    }
   },
   "outputs": [
    {
     "name": "stdout",
     "output_type": "stream",
     "text": [
      "I'm flying high!\n"
     ]
    }
   ],
   "source": [
    "class Animal:\n",
    "    \"\"\"This is an Animal\"\"\"\n",
    "\n",
    "    def __init__(self, can_fly=False):\n",
    "        self.can_fly = can_fly\n",
    "\n",
    "    def fly(self):\n",
    "        if self.can_fly:\n",
    "            print(\"I CAN fly!\")\n",
    "        else:\n",
    "            print(\"I can not fly!\")\n",
    "\n",
    "\n",
    "class Bird(Animal):\n",
    "    \"\"\"This is a Bird\"\"\"\n",
    "\n",
    "    def fly(self):\n",
    "        print(\"I'm flying high!\")\n",
    "\n",
    "\n",
    "bird = Bird()\n",
    "bird.fly()  # I'm flying high!"
   ]
  },
  {
   "cell_type": "markdown",
   "metadata": {},
   "source": [
    "### VI. Module"
   ]
  },
  {
   "cell_type": "markdown",
   "metadata": {},
   "source": [
    "#### `import`"
   ]
  },
  {
   "cell_type": "code",
   "execution_count": 14,
   "metadata": {
    "collapsed": false,
    "jupyter": {
     "outputs_hidden": false
    }
   },
   "outputs": [
    {
     "name": "stdout",
     "output_type": "stream",
     "text": [
      "posix\n",
      "VERSON: 3.7\n",
      "3.141592653589793\n"
     ]
    }
   ],
   "source": [
    "import os\n",
    "from math import *\n",
    "from sys import version_info as PY_VERSION\n",
    "import numpy\n",
    "import pandas\n",
    "import matplotlib\n",
    "import Animals\n",
    "\n",
    "print(os.name)\n",
    "\n",
    "print(\"VERSON: {}.{}\".format(PY_VERSION.major, PY_VERSION.minor))\n",
    "\n",
    "print(pi)"
   ]
  },
  {
   "cell_type": "markdown",
   "metadata": {},
   "source": [
    "#### Search Path\n",
    "\n",
    "1. current directory\n",
    "2. `echo $PYTHONPATH`\n",
    "3. `sys.path`"
   ]
  },
  {
   "cell_type": "markdown",
   "metadata": {},
   "source": [
    "#### Package"
   ]
  },
  {
   "cell_type": "code",
   "execution_count": 94,
   "metadata": {
    "collapsed": false,
    "jupyter": {
     "outputs_hidden": false
    }
   },
   "outputs": [
    {
     "name": "stdout",
     "output_type": "stream",
     "text": [
      "Running MyModule.SubModuleOne.smo!\n",
      "Running MyModule.SubModuleOne.smo!\n"
     ]
    }
   ],
   "source": [
    "\"\"\"\n",
    "MyModule/\n",
    "|--SubModuleOne/\n",
    "    |--__init__.py\n",
    "    |--smo.py\n",
    "\n",
    "# smo.py\n",
    "def run():\n",
    "    print(\"Running MyModule.SubModuleOne.smo!\")\n",
    "\"\"\"\n",
    "# !pwd\n",
    "\n",
    "from MyModule.SubModuleOne import smo\n",
    "import MyModule.SubModuleOne as t\n",
    "t.smo.run()\n",
    "smo.run()\n",
    "# Running MyModule.SubModuleOne.smo!"
   ]
  },
  {
   "cell_type": "code",
   "execution_count": 95,
   "metadata": {},
   "outputs": [
    {
     "data": {
      "text/plain": [
       "[0, 1, 2, 3, 4, 5, 6, 7]"
      ]
     },
     "execution_count": 95,
     "metadata": {},
     "output_type": "execute_result"
    }
   ],
   "source": [
    "[x for x in range(8)]"
   ]
  },
  {
   "cell_type": "code",
   "execution_count": null,
   "metadata": {},
   "outputs": [],
   "source": []
  }
 ],
 "metadata": {
  "kernelspec": {
   "display_name": "Python 3",
   "language": "python",
   "name": "python3"
  },
  "language_info": {
   "codemirror_mode": {
    "name": "ipython",
    "version": 3
   },
   "file_extension": ".py",
   "mimetype": "text/x-python",
   "name": "python",
   "nbconvert_exporter": "python",
   "pygments_lexer": "ipython3",
   "version": "3.7.7"
  }
 },
 "nbformat": 4,
 "nbformat_minor": 4
}
