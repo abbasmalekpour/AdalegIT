{
 "cells": [
  {
   "cell_type": "markdown",
   "metadata": {
    "id": "dljhXUQYOnOT"
   },
   "source": [
    "# Data Analysis of Movie Review using Natural Language Processing \n",
    "> A tutorial of Data Analysis for Movie Review using NLTK.\n",
    "\n",
    "- toc: true\n",
    "- badges: true\n",
    "- comments: true\n",
    "- categories: [ntlk, jupyter, python, movie-review, natual Language Processing]\n"
   ]
  },
  {
   "cell_type": "code",
   "execution_count": 1,
   "metadata": {
    "colab": {
     "base_uri": "https://localhost:8080/",
     "height": 204
    },
    "id": "XhWVzOLqL2xm",
    "outputId": "298f0167-ef73-4d8f-c2a0-cbd89ac62686"
   },
   "outputs": [],
   "source": [
    "import nltk\n",
    "\n",
    "%config Completer.use_jedi = False\n",
    "\n",
    "from IPython.core.interactiveshell import InteractiveShell\n",
    "InteractiveShell.ast_node_interactivity = 'all'\n",
    "\n",
    "# nltk.download('movie_reviews')\n",
    "# nltk.download('stopwords')\n",
    "# nltk.download('averaged_perceptron_tagger')\n",
    "# nltk.download('wordnet')"
   ]
  },
  {
   "cell_type": "code",
   "execution_count": 2,
   "metadata": {
    "id": "J-C-VfgvLoo4"
   },
   "outputs": [
    {
     "data": {
      "text/plain": [
       "2000"
      ]
     },
     "execution_count": 2,
     "metadata": {},
     "output_type": "execute_result"
    },
    {
     "data": {
      "text/plain": [
       "'pos'"
      ]
     },
     "execution_count": 2,
     "metadata": {},
     "output_type": "execute_result"
    }
   ],
   "source": [
    "from nltk.corpus import movie_reviews\n",
    "documents = []\n",
    "for category in movie_reviews.categories():\n",
    "    for fileid in movie_reviews.fileids(category):\n",
    "        documents.append((movie_reviews.words(fileid), category))\n",
    "len(documents)\n",
    "# documents\n",
    "documents[1000][1]"
   ]
  },
  {
   "cell_type": "code",
   "execution_count": 3,
   "metadata": {
    "id": "Ph3IJZ-oMDTa"
   },
   "outputs": [],
   "source": [
    "import random\n",
    "random.shuffle(documents)\n",
    "# documents"
   ]
  },
  {
   "cell_type": "code",
   "execution_count": 4,
   "metadata": {
    "id": "0Jf5kGFlMLQL"
   },
   "outputs": [],
   "source": [
    "from nltk.corpus import wordnet\n",
    "from nltk import pos_tag\n",
    "from nltk.corpus import stopwords\n",
    "import string\n",
    "from nltk.stem import WordNetLemmatizer"
   ]
  },
  {
   "cell_type": "code",
   "execution_count": 5,
   "metadata": {},
   "outputs": [],
   "source": [
    "# list ... append\n",
    "# set ... update"
   ]
  },
  {
   "cell_type": "code",
   "execution_count": 6,
   "metadata": {
    "id": "0Jf5kGFlMLQL"
   },
   "outputs": [],
   "source": [
    "lemmatizer = WordNetLemmatizer()\n",
    "stops = set(stopwords.words('english'))\n",
    "# stops\n",
    "# type(stops)\n",
    "punctuations = list(string.punctuation)\n",
    "# punctuations\n",
    "stops.update(punctuations)\n",
    "\n",
    "\n",
    "def get_simple_pos(tag):\n",
    "    if tag.startswith('J'):\n",
    "        return wordnet.ADJ\n",
    "    if tag.startswith('N'):\n",
    "        return wordnet.NOUN\n",
    "    if tag.startswith('V'):\n",
    "        return wordnet.VERB\n",
    "    if tag.startswith('R'):\n",
    "        return wordnet.ADV\n",
    "    else:\n",
    "        return wordnet.NOUN\n",
    "\n",
    "\n",
    "def clean_review(words):\n",
    "    clean_words = []\n",
    "    for word in words:\n",
    "        if word.lower() not in stops:\n",
    "            pos = pos_tag([word])[0][1]\n",
    "            clean_word = lemmatizer.lemmatize(word, pos=get_simple_pos(pos))\n",
    "            clean_words.append(clean_word.lower())\n",
    "    return clean_words"
   ]
  },
  {
   "cell_type": "code",
   "execution_count": 7,
   "metadata": {},
   "outputs": [],
   "source": [
    "# for doc, cat in documents:\n",
    "#     print(f'this is documnet: {doc} and this is categories: {cat}')"
   ]
  },
  {
   "cell_type": "code",
   "execution_count": 10,
   "metadata": {
    "id": "-_qeFWbxMbvF"
   },
   "outputs": [],
   "source": [
    "docs = [(clean_review(document), category) for document, category in documents]\n",
    "# docs"
   ]
  },
  {
   "cell_type": "code",
   "execution_count": 11,
   "metadata": {
    "id": "Q5CUwQh_NXu6"
   },
   "outputs": [
    {
     "data": {
      "text/plain": [
       "710579"
      ]
     },
     "execution_count": 11,
     "metadata": {},
     "output_type": "execute_result"
    }
   ],
   "source": [
    "all_words = []\n",
    "for tup in docs:\n",
    "    all_words += tup[0]\n",
    "len(all_words)   "
   ]
  },
  {
   "cell_type": "code",
   "execution_count": 12,
   "metadata": {
    "colab": {
     "base_uri": "https://localhost:8080/",
     "height": 1000
    },
    "id": "jsvZYaW9Neb2",
    "outputId": "dfdc3051-1894-4259-f074-70c5c121190e"
   },
   "outputs": [],
   "source": [
    "import nltk\n",
    "freq = nltk.FreqDist(all_words)\n",
    "common = freq.most_common(3000)\n",
    "# common\n",
    "features = [i[0] for i in common]\n",
    "# features"
   ]
  },
  {
   "cell_type": "code",
   "execution_count": 13,
   "metadata": {
    "id": "d0nq-LaJNksk"
   },
   "outputs": [],
   "source": [
    "training_documents = docs[0:1500] # %75 out of 2000 row\n",
    "testing_documents = docs[1500:] # %25 out of 2000 row\n",
    "# training_documents"
   ]
  },
  {
   "cell_type": "code",
   "execution_count": 14,
   "metadata": {
    "id": "vO7Nff9RNol0"
   },
   "outputs": [],
   "source": [
    "def get_feature_dict(words): # words==doc\n",
    "    current_features = {}\n",
    "    words_set = set(words)\n",
    "    for w in features:\n",
    "        current_features[w] = w in words_set\n",
    "    return current_features"
   ]
  },
  {
   "cell_type": "code",
   "execution_count": 15,
   "metadata": {},
   "outputs": [
    {
     "data": {
      "text/plain": [
       "True"
      ]
     },
     "execution_count": 15,
     "metadata": {},
     "output_type": "execute_result"
    }
   ],
   "source": [
    "lst = ['Abbas', 'Sharel']\n",
    "'Sharel' in lst"
   ]
  },
  {
   "cell_type": "code",
   "execution_count": 19,
   "metadata": {
    "id": "Ugt0TPkrNr9U"
   },
   "outputs": [],
   "source": [
    "training_data = [(get_feature_dict(doc), category)\n",
    "                 for doc, category in training_documents]\n",
    "# training_data[0]"
   ]
  },
  {
   "cell_type": "code",
   "execution_count": 20,
   "metadata": {
    "id": "yAnP4hxYNvyI"
   },
   "outputs": [],
   "source": [
    "testing_data = [(get_feature_dict(doc), category)\n",
    "                for doc, category in testing_documents]\n",
    "# testing_data"
   ]
  },
  {
   "cell_type": "code",
   "execution_count": 21,
   "metadata": {
    "id": "RwTxT1-EN1Ac"
   },
   "outputs": [],
   "source": [
    "from nltk import NaiveBayesClassifier\n",
    "clf = NaiveBayesClassifier.train(training_data)"
   ]
  },
  {
   "cell_type": "code",
   "execution_count": 22,
   "metadata": {
    "colab": {
     "base_uri": "https://localhost:8080/",
     "height": 34
    },
    "id": "aV-ihXtBN6B9",
    "outputId": "a1f0a9fd-2576-405e-9a82-831503c2f69b"
   },
   "outputs": [
    {
     "data": {
      "text/plain": [
       "0.782"
      ]
     },
     "execution_count": 22,
     "metadata": {},
     "output_type": "execute_result"
    }
   ],
   "source": [
    "nltk.classify.accuracy(clf, testing_data)"
   ]
  },
  {
   "cell_type": "code",
   "execution_count": 25,
   "metadata": {
    "colab": {
     "base_uri": "https://localhost:8080/",
     "height": 1000
    },
    "id": "opA7b0zsN80n",
    "outputId": "ebddbf15-cb52-437e-d33d-e8bc0b601491"
   },
   "outputs": [
    {
     "name": "stdout",
     "output_type": "stream",
     "text": [
      "Most Informative Features\n",
      "                 idiotic = True              neg : pos    =      8.9 : 1.0\n",
      "             outstanding = True              pos : neg    =      8.8 : 1.0\n",
      "               ludicrous = True              neg : pos    =      8.0 : 1.0\n",
      "                    zeta = True              neg : pos    =      7.5 : 1.0\n",
      "                  castle = True              pos : neg    =      7.5 : 1.0\n"
     ]
    }
   ],
   "source": [
    "clf.show_most_informative_features(5) # how manytimes happen in (category (neg/pos)) : against the other category(pos/neg)"
   ]
  },
  {
   "cell_type": "code",
   "execution_count": 26,
   "metadata": {
    "colab": {
     "base_uri": "https://localhost:8080/",
     "height": 1000
    },
    "id": "y_f05EZ5OCHM",
    "outputId": "565cc15b-5dde-4775-f555-f7b278df3471"
   },
   "outputs": [],
   "source": [
    "# clf.classify_many([tup[0] for tup in testing_data])"
   ]
  },
  {
   "cell_type": "code",
   "execution_count": null,
   "metadata": {},
   "outputs": [],
   "source": []
  }
 ],
 "metadata": {
  "colab": {
   "name": "2020-03-18-Movie Review Data Analysis.ipynb",
   "provenance": []
  },
  "kernelspec": {
   "display_name": "Python 3",
   "language": "python",
   "name": "python3"
  },
  "language_info": {
   "codemirror_mode": {
    "name": "ipython",
    "version": 3
   },
   "file_extension": ".py",
   "mimetype": "text/x-python",
   "name": "python",
   "nbconvert_exporter": "python",
   "pygments_lexer": "ipython3",
   "version": "3.7.9"
  }
 },
 "nbformat": 4,
 "nbformat_minor": 4
}
