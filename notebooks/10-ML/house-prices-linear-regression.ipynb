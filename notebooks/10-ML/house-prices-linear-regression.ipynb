{
 "cells": [
  {
   "cell_type": "markdown",
   "metadata": {
    "_uuid": "c4d159a99ba1b69ecc931d0d852c6bad2ec0bc95"
   },
   "source": [
    "Here, I have predicted house sales using multiple linear regression.\n",
    "\n",
    "Steps:\n",
    "\n",
    "1) Import dependent libraries <br>\n",
    "2) Read data <br>\n",
    "3) Exploratory analysis<br>\n",
    "4) Apply Label Encoding and one hot encoding<br>\n",
    "5) Feature Engineering - Find out the most correlated columns with SalesPrice and use only those columns in model<br>\n",
    "6) Replace null values with median<br>\n",
    "7) Apply normalization<br>\n",
    "8) Split train-testing data, so we can check the accuracy of model<br>\n",
    "9) Generate linear regression<br>\n",
    "10) Predict sales value<br>\n",
    "11) Evaluate predicted value<br>\n",
    "12) Apply linear model to test data and save it!<br>"
   ]
  },
  {
   "cell_type": "markdown",
   "metadata": {
    "_uuid": "e21c65969f6d97f66c6aff0353f70b90403b8485"
   },
   "source": [
    "#### 1) Import dependent libraries"
   ]
  },
  {
   "cell_type": "code",
   "execution_count": 42,
   "metadata": {
    "_uuid": "b95e0ec65e2e222a46a538b1396bcdc14ba46e9d"
   },
   "outputs": [],
   "source": [
    "import warnings\n",
    "\n",
    "import matplotlib.pyplot as plt\n",
    "import numpy as np\n",
    "import pandas as pd\n",
    "import seaborn as sns\n",
    "plt.rcParams['figure.figsize'] = [12,5]\n",
    "warnings.filterwarnings(\"ignore\")"
   ]
  },
  {
   "cell_type": "code",
   "execution_count": 43,
   "metadata": {
    "_uuid": "871b1f4e3aeda7842aad3e90b2d4d9fe3396fd83"
   },
   "outputs": [],
   "source": [
    "# Because my Jupyter was showing only last line output, so need to add\n",
    "from IPython.core.interactiveshell import InteractiveShell\n",
    "InteractiveShell.ast_node_interactivity = \"all\""
   ]
  },
  {
   "cell_type": "markdown",
   "metadata": {
    "_uuid": "5a3d9ae01b368401afe112ac7852919b9312cf4f"
   },
   "source": [
    "#### 2) Read data from training and testing file"
   ]
  },
  {
   "cell_type": "code",
   "execution_count": 68,
   "metadata": {
    "_uuid": "524fbd56146ae8c6f10e81ffa89473ae26bf66fb"
   },
   "outputs": [],
   "source": [
    "# read train and testing data\n",
    "\n",
    "train = pd.read_csv(\"../../data/house_prices/train.csv\")\n",
    "test = pd.read_csv(\"../../data/house_prices/test.csv\")\n",
    "testID = test[\"Id\"]\n",
    "# train.head()\n",
    "# test.head() \n",
    "# testID"
   ]
  },
  {
   "cell_type": "markdown",
   "metadata": {
    "_uuid": "47522523b430cfaafe108001734729787ffdf2d3"
   },
   "source": [
    "#### 3) Exploratory analysis"
   ]
  },
  {
   "cell_type": "code",
   "execution_count": 67,
   "metadata": {
    "_uuid": "2f886627a9303fdbde6211589b6fcf8e7e94a5bf"
   },
   "outputs": [],
   "source": [
    "# train.columns\n",
    "# train.shape\n",
    "# test.shape"
   ]
  },
  {
   "cell_type": "code",
   "execution_count": 66,
   "metadata": {},
   "outputs": [],
   "source": [
    "# train.info()"
   ]
  },
  {
   "cell_type": "code",
   "execution_count": 69,
   "metadata": {},
   "outputs": [],
   "source": [
    "# temp.isna().sum().sort_values().tail(20)"
   ]
  },
  {
   "cell_type": "code",
   "execution_count": 90,
   "metadata": {},
   "outputs": [],
   "source": [
    "train_num = train._get_numeric_data() # alternative: dfName.select_dtypes(include=['int', 'float']).columns\n",
    "train_cat = train[np.array(list(set(train.columns) - set(train_num.columns)))] # alternative: train.select_dtypes(exclude=['int', 'float']).columns\n",
    "# train_cat.head()\n",
    "# train_num.head()"
   ]
  },
  {
   "cell_type": "code",
   "execution_count": 89,
   "metadata": {},
   "outputs": [],
   "source": [
    "# train_cat.fillna(train_cat.mode())\n",
    "# train_num.fillna(train_num.mean())\n",
    "# train_cat['Alley']\n"
   ]
  },
  {
   "cell_type": "code",
   "execution_count": 78,
   "metadata": {},
   "outputs": [],
   "source": [
    "# i=0\n",
    "# for col in train:\n",
    "#     print(col)\n",
    "#     i+=1\n",
    "# print(i)"
   ]
  },
  {
   "cell_type": "code",
   "execution_count": 93,
   "metadata": {
    "_uuid": "d75969b77007a18b40ae055101cfd390b7a20d49"
   },
   "outputs": [],
   "source": [
    "# replace NaN value! If striing column, then using mode otherwise median\n",
    "for col in train:\n",
    "    if train[col].dtype == \"object\":\n",
    "        train[col] = train[col].fillna(train[col].mode())\n",
    "#         print(f'this is CAT: {col}')\n",
    "    else:\n",
    "        train[col] = train[col].fillna(train[col].median())\n",
    "#         print(f'this is NUM: {col}')\n"
   ]
  },
  {
   "cell_type": "markdown",
   "metadata": {
    "_uuid": "3d0322f14ee08087b5cfbe69968b1914fe7d75a7"
   },
   "source": [
    "#### 4) Apply Label Encoding and one hot encoding"
   ]
  },
  {
   "cell_type": "code",
   "execution_count": 94,
   "metadata": {},
   "outputs": [
    {
     "data": {
      "text/plain": [
       "Id                 int64\n",
       "MSSubClass         int64\n",
       "MSZoning          object\n",
       "LotFrontage      float64\n",
       "LotArea            int64\n",
       "                  ...   \n",
       "MoSold             int64\n",
       "YrSold             int64\n",
       "SaleType          object\n",
       "SaleCondition     object\n",
       "SalePrice          int64\n",
       "Length: 81, dtype: object"
      ]
     },
     "execution_count": 94,
     "metadata": {},
     "output_type": "execute_result"
    }
   ],
   "source": [
    "train.dtypes"
   ]
  },
  {
   "cell_type": "code",
   "execution_count": 11,
   "metadata": {
    "_uuid": "eeb928c09cbd56e1413f9154a64e3f85c3a28553"
   },
   "outputs": [],
   "source": [
    "from sklearn.preprocessing import LabelEncoder\n",
    "\n",
    "\n",
    "def label_encoding(df_train, df_test):\n",
    "    le_count = 0\n",
    "    for col in df_train:\n",
    "        if df_train[col].dtype == \"object\":\n",
    "            if len(list(df_train[col].unique())) <= 2:\n",
    "                le = LabelEncoder()\n",
    "                le.fit(list(df_train[col].unique()) + list(df_test[col].unique()))\n",
    "\n",
    "                df_train[col] = le.transform(df_train[col].astype(str))\n",
    "                df_test[col] = le.transform(df_test[col].astype(str))\n",
    "                le_count += 1\n",
    "\n",
    "    print(\"Total label encoded columns : %d \" % le_count)"
   ]
  },
  {
   "cell_type": "code",
   "execution_count": 12,
   "metadata": {
    "_uuid": "8f160e54d8ea5efc11b438baaec0974164679e87"
   },
   "outputs": [
    {
     "name": "stdout",
     "output_type": "stream",
     "text": [
      "Total label encoded columns : 3 \n"
     ]
    },
    {
     "data": {
      "text/plain": [
       "(1460, 81)"
      ]
     },
     "execution_count": 12,
     "metadata": {},
     "output_type": "execute_result"
    },
    {
     "data": {
      "text/plain": [
       "(1459, 80)"
      ]
     },
     "execution_count": 12,
     "metadata": {},
     "output_type": "execute_result"
    }
   ],
   "source": [
    "label_encoding(train, test)\n",
    "train.shape\n",
    "test.shape"
   ]
  },
  {
   "cell_type": "code",
   "execution_count": 13,
   "metadata": {
    "_uuid": "72ec1a8501de4e11782b0dba75b2951a116e208e",
    "scrolled": true
   },
   "outputs": [
    {
     "data": {
      "text/plain": [
       "(1460, 287)"
      ]
     },
     "execution_count": 13,
     "metadata": {},
     "output_type": "execute_result"
    },
    {
     "data": {
      "text/plain": [
       "(1459, 286)"
      ]
     },
     "execution_count": 13,
     "metadata": {},
     "output_type": "execute_result"
    }
   ],
   "source": [
    "import copy\n",
    "\n",
    "train_objs_num = len(train)\n",
    "dataset = pd.concat(objs=[train, test], axis=0)\n",
    "dataset = pd.get_dummies(dataset)\n",
    "train = copy.copy(dataset[:train_objs_num])\n",
    "test = copy.copy(dataset[train_objs_num:])\n",
    "test = test.drop([\"SalePrice\"], axis=1)\n",
    "train.shape\n",
    "test.shape"
   ]
  },
  {
   "cell_type": "code",
   "execution_count": 14,
   "metadata": {
    "_uuid": "8c7b2fabbd625f919a8eb002de9fff45409c1037"
   },
   "outputs": [
    {
     "data": {
      "text/plain": [
       "<matplotlib.axes._subplots.AxesSubplot at 0x7fc01f162ad0>"
      ]
     },
     "execution_count": 14,
     "metadata": {},
     "output_type": "execute_result"
    },
    {
     "data": {
      "text/plain": [
       "''"
      ]
     },
     "execution_count": 14,
     "metadata": {},
     "output_type": "execute_result"
    },
    {
     "data": {
      "image/png": "[encoded data removed]",
      "text/plain": [
       "<Figure size 864x360 with 1 Axes>"
      ]
     },
     "metadata": {
      "needs_background": "light"
     },
     "output_type": "display_data"
    }
   ],
   "source": [
    "# display the distribution of salePrice\n",
    "from scipy.stats import norm\n",
    "\n",
    "sns.distplot(train[\"SalePrice\"], fit=norm, hist=True)\n",
    ";"
   ]
  },
  {
   "cell_type": "markdown",
   "metadata": {
    "_uuid": "bd583f9eadf5859dcbabd634a36ae0bd1e1ee090"
   },
   "source": [
    "#### 5) Feature Engineering - Find out the most correlated columns with SalesPrice and use only those columns in model"
   ]
  },
  {
   "cell_type": "code",
   "execution_count": 15,
   "metadata": {
    "_uuid": "d3b7cbd664ea95eeb3932c4a30cf57675dadef17"
   },
   "outputs": [],
   "source": [
    "corr = train.corr()"
   ]
  },
  {
   "cell_type": "code",
   "execution_count": 16,
   "metadata": {
    "_uuid": "f4762f97e23f422b898fe2aee394753a25f157dc"
   },
   "outputs": [],
   "source": [
    "corr = corr.sort_values(\"SalePrice\")\n",
    "cols = corr[\"SalePrice\"][corr[\"SalePrice\"].values > 0.4].index.values"
   ]
  },
  {
   "cell_type": "code",
   "execution_count": 17,
   "metadata": {
    "_uuid": "589f5ac48ceaf7d6e594d30b75f190fef34bc2eb"
   },
   "outputs": [
    {
     "data": {
      "text/plain": [
       "array(['Neighborhood_NridgHt', 'GarageFinish_Fin', 'HeatingQC_Ex',\n",
       "       'BsmtFinType1_GLQ', 'ExterQual_Ex', 'ExterQual_Gd', 'GarageYrBlt',\n",
       "       'Fireplaces', 'MasVnrArea', 'Foundation_PConc', 'KitchenQual_Ex',\n",
       "       'YearRemodAdd', 'YearBuilt', 'TotRmsAbvGrd', 'BsmtQual_Ex',\n",
       "       'FullBath', '1stFlrSF', 'TotalBsmtSF', 'GarageArea', 'GarageCars',\n",
       "       'GrLivArea', 'OverallQual', 'SalePrice'], dtype=object)"
      ]
     },
     "execution_count": 17,
     "metadata": {},
     "output_type": "execute_result"
    }
   ],
   "source": [
    "cols"
   ]
  },
  {
   "cell_type": "markdown",
   "metadata": {
    "_uuid": "5a9fcf85191de365ccada7e04f64c1b883cc7f2f"
   },
   "source": [
    "We will draw heatmap plot of top 10 correlated variables!"
   ]
  },
  {
   "cell_type": "code",
   "execution_count": 18,
   "metadata": {},
   "outputs": [
    {
     "data": {
      "image/png": "[encoded data removed]",
      "text/plain": [
       "<Figure size 1440x432 with 2 Axes>"
      ]
     },
     "metadata": {
      "needs_background": "light"
     },
     "output_type": "display_data"
    }
   ],
   "source": [
    "# Abbas Solution\n",
    "top10 = train[cols[-10:]]\n",
    "top10_corr = top10.corr()\n",
    "plt.figure(figsize=(20,6))\n",
    "sns.heatmap(top10_corr, annot = True,cmap= 'coolwarm',linecolor='Black', linewidths=.9); \n",
    "# sns.heatmap(dataset.corr(), annot = True); # heatmap blue_print"
   ]
  },
  {
   "cell_type": "code",
   "execution_count": 19,
   "metadata": {
    "_uuid": "f91c6856cc8de20604f6bd33feedc89cd5d88af4"
   },
   "outputs": [],
   "source": [
    "# heatMapCols=np.append(cols[-10:], np.array(['SalePrice']))\n",
    "# cm = np.corrcoef(train[heatMapCols[::-1]].T)\n",
    "# plt.figure(figsize=(16,16))\n",
    "# sns.set(font_scale=1)\n",
    "# with sns.axes_style(\"white\"):\n",
    "#     sns.heatmap(cm,yticklabels=heatMapCols[::-1],xticklabels=heatMapCols[::-1],fmt='.2f',annot_kws={'size':10},annot=True,square=True,cmap=None)"
   ]
  },
  {
   "cell_type": "code",
   "execution_count": 20,
   "metadata": {},
   "outputs": [],
   "source": [
    "arr = np.array([1,2,3,4,5])\n"
   ]
  },
  {
   "cell_type": "code",
   "execution_count": 21,
   "metadata": {},
   "outputs": [
    {
     "data": {
      "text/plain": [
       "array([1, 2, 3, 4])"
      ]
     },
     "execution_count": 21,
     "metadata": {},
     "output_type": "execute_result"
    },
    {
     "data": {
      "text/plain": [
       "23"
      ]
     },
     "execution_count": 21,
     "metadata": {},
     "output_type": "execute_result"
    },
    {
     "data": {
      "text/plain": [
       "array(['Neighborhood_NridgHt', 'GarageFinish_Fin', 'HeatingQC_Ex',\n",
       "       'BsmtFinType1_GLQ', 'ExterQual_Ex', 'ExterQual_Gd', 'GarageYrBlt',\n",
       "       'Fireplaces', 'MasVnrArea', 'Foundation_PConc', 'KitchenQual_Ex',\n",
       "       'YearRemodAdd', 'YearBuilt', 'TotRmsAbvGrd', 'BsmtQual_Ex',\n",
       "       'FullBath', '1stFlrSF', 'TotalBsmtSF', 'GarageArea', 'GarageCars',\n",
       "       'GrLivArea', 'OverallQual', 'SalePrice'], dtype=object)"
      ]
     },
     "execution_count": 21,
     "metadata": {},
     "output_type": "execute_result"
    }
   ],
   "source": [
    "t= np.delete(arr,-1)\n",
    "t\n",
    "len(cols)\n",
    "cols"
   ]
  },
  {
   "cell_type": "code",
   "execution_count": 22,
   "metadata": {
    "_uuid": "ed5d09ac243719d8caaeca59e593a8e83aecfcb5"
   },
   "outputs": [
    {
     "data": {
      "text/plain": [
       "array(['Neighborhood_NridgHt', 'GarageFinish_Fin', 'HeatingQC_Ex',\n",
       "       'BsmtFinType1_GLQ', 'ExterQual_Ex', 'ExterQual_Gd', 'GarageYrBlt',\n",
       "       'Fireplaces', 'MasVnrArea', 'Foundation_PConc', 'KitchenQual_Ex',\n",
       "       'YearRemodAdd', 'YearBuilt', 'TotRmsAbvGrd', 'BsmtQual_Ex',\n",
       "       'FullBath', '1stFlrSF', 'TotalBsmtSF', 'GarageArea', 'GarageCars',\n",
       "       'GrLivArea', 'OverallQual'], dtype=object)"
      ]
     },
     "execution_count": 22,
     "metadata": {},
     "output_type": "execute_result"
    }
   ],
   "source": [
    "train_label = train[\"SalePrice\"]\n",
    "\n",
    "cols = np.delete(cols, len(cols) - 1)\n",
    "train_sample = train[cols]\n",
    "cols\n",
    "test_sample = test[cols]"
   ]
  },
  {
   "cell_type": "code",
   "execution_count": 23,
   "metadata": {
    "_uuid": "b0a1a3390a75abad411c50afe114fe1b458ae9f9"
   },
   "outputs": [
    {
     "data": {
      "text/plain": [
       "(1459, 22)"
      ]
     },
     "execution_count": 23,
     "metadata": {},
     "output_type": "execute_result"
    },
    {
     "data": {
      "text/plain": [
       "(1460, 22)"
      ]
     },
     "execution_count": 23,
     "metadata": {},
     "output_type": "execute_result"
    },
    {
     "data": {
      "text/html": [
       "<div>\n",
       "<style scoped>\n",
       "    .dataframe tbody tr th:only-of-type {\n",
       "        vertical-align: middle;\n",
       "    }\n",
       "\n",
       "    .dataframe tbody tr th {\n",
       "        vertical-align: top;\n",
       "    }\n",
       "\n",
       "    .dataframe thead th {\n",
       "        text-align: right;\n",
       "    }\n",
       "</style>\n",
       "<table border=\"1\" class=\"dataframe\">\n",
       "  <thead>\n",
       "    <tr style=\"text-align: right;\">\n",
       "      <th></th>\n",
       "      <th>Neighborhood_NridgHt</th>\n",
       "      <th>GarageFinish_Fin</th>\n",
       "      <th>HeatingQC_Ex</th>\n",
       "      <th>BsmtFinType1_GLQ</th>\n",
       "      <th>ExterQual_Ex</th>\n",
       "      <th>ExterQual_Gd</th>\n",
       "      <th>GarageYrBlt</th>\n",
       "      <th>Fireplaces</th>\n",
       "      <th>MasVnrArea</th>\n",
       "      <th>Foundation_PConc</th>\n",
       "      <th>...</th>\n",
       "      <th>YearBuilt</th>\n",
       "      <th>TotRmsAbvGrd</th>\n",
       "      <th>BsmtQual_Ex</th>\n",
       "      <th>FullBath</th>\n",
       "      <th>1stFlrSF</th>\n",
       "      <th>TotalBsmtSF</th>\n",
       "      <th>GarageArea</th>\n",
       "      <th>GarageCars</th>\n",
       "      <th>GrLivArea</th>\n",
       "      <th>OverallQual</th>\n",
       "    </tr>\n",
       "  </thead>\n",
       "  <tbody>\n",
       "    <tr>\n",
       "      <th>0</th>\n",
       "      <td>0</td>\n",
       "      <td>0</td>\n",
       "      <td>0</td>\n",
       "      <td>0</td>\n",
       "      <td>0</td>\n",
       "      <td>0</td>\n",
       "      <td>1961.0</td>\n",
       "      <td>0</td>\n",
       "      <td>0.0</td>\n",
       "      <td>0</td>\n",
       "      <td>...</td>\n",
       "      <td>1961</td>\n",
       "      <td>5</td>\n",
       "      <td>0</td>\n",
       "      <td>1</td>\n",
       "      <td>896</td>\n",
       "      <td>882.0</td>\n",
       "      <td>730.0</td>\n",
       "      <td>1.0</td>\n",
       "      <td>896</td>\n",
       "      <td>5</td>\n",
       "    </tr>\n",
       "    <tr>\n",
       "      <th>1</th>\n",
       "      <td>0</td>\n",
       "      <td>0</td>\n",
       "      <td>0</td>\n",
       "      <td>0</td>\n",
       "      <td>0</td>\n",
       "      <td>0</td>\n",
       "      <td>1958.0</td>\n",
       "      <td>0</td>\n",
       "      <td>108.0</td>\n",
       "      <td>0</td>\n",
       "      <td>...</td>\n",
       "      <td>1958</td>\n",
       "      <td>6</td>\n",
       "      <td>0</td>\n",
       "      <td>1</td>\n",
       "      <td>1329</td>\n",
       "      <td>1329.0</td>\n",
       "      <td>312.0</td>\n",
       "      <td>1.0</td>\n",
       "      <td>1329</td>\n",
       "      <td>6</td>\n",
       "    </tr>\n",
       "    <tr>\n",
       "      <th>2</th>\n",
       "      <td>0</td>\n",
       "      <td>1</td>\n",
       "      <td>0</td>\n",
       "      <td>1</td>\n",
       "      <td>0</td>\n",
       "      <td>0</td>\n",
       "      <td>1997.0</td>\n",
       "      <td>1</td>\n",
       "      <td>0.0</td>\n",
       "      <td>1</td>\n",
       "      <td>...</td>\n",
       "      <td>1997</td>\n",
       "      <td>6</td>\n",
       "      <td>0</td>\n",
       "      <td>2</td>\n",
       "      <td>928</td>\n",
       "      <td>928.0</td>\n",
       "      <td>482.0</td>\n",
       "      <td>2.0</td>\n",
       "      <td>1629</td>\n",
       "      <td>5</td>\n",
       "    </tr>\n",
       "    <tr>\n",
       "      <th>3</th>\n",
       "      <td>0</td>\n",
       "      <td>1</td>\n",
       "      <td>1</td>\n",
       "      <td>1</td>\n",
       "      <td>0</td>\n",
       "      <td>0</td>\n",
       "      <td>1998.0</td>\n",
       "      <td>1</td>\n",
       "      <td>20.0</td>\n",
       "      <td>1</td>\n",
       "      <td>...</td>\n",
       "      <td>1998</td>\n",
       "      <td>7</td>\n",
       "      <td>0</td>\n",
       "      <td>2</td>\n",
       "      <td>926</td>\n",
       "      <td>926.0</td>\n",
       "      <td>470.0</td>\n",
       "      <td>2.0</td>\n",
       "      <td>1604</td>\n",
       "      <td>6</td>\n",
       "    </tr>\n",
       "    <tr>\n",
       "      <th>4</th>\n",
       "      <td>0</td>\n",
       "      <td>0</td>\n",
       "      <td>1</td>\n",
       "      <td>0</td>\n",
       "      <td>0</td>\n",
       "      <td>1</td>\n",
       "      <td>1992.0</td>\n",
       "      <td>0</td>\n",
       "      <td>0.0</td>\n",
       "      <td>1</td>\n",
       "      <td>...</td>\n",
       "      <td>1992</td>\n",
       "      <td>5</td>\n",
       "      <td>0</td>\n",
       "      <td>2</td>\n",
       "      <td>1280</td>\n",
       "      <td>1280.0</td>\n",
       "      <td>506.0</td>\n",
       "      <td>2.0</td>\n",
       "      <td>1280</td>\n",
       "      <td>8</td>\n",
       "    </tr>\n",
       "  </tbody>\n",
       "</table>\n",
       "<p>5 rows × 22 columns</p>\n",
       "</div>"
      ],
      "text/plain": [
       "   Neighborhood_NridgHt  GarageFinish_Fin  HeatingQC_Ex  BsmtFinType1_GLQ  \\\n",
       "0                     0                 0             0                 0   \n",
       "1                     0                 0             0                 0   \n",
       "2                     0                 1             0                 1   \n",
       "3                     0                 1             1                 1   \n",
       "4                     0                 0             1                 0   \n",
       "\n",
       "   ExterQual_Ex  ExterQual_Gd  GarageYrBlt  Fireplaces  MasVnrArea  \\\n",
       "0             0             0       1961.0           0         0.0   \n",
       "1             0             0       1958.0           0       108.0   \n",
       "2             0             0       1997.0           1         0.0   \n",
       "3             0             0       1998.0           1        20.0   \n",
       "4             0             1       1992.0           0         0.0   \n",
       "\n",
       "   Foundation_PConc  ...  YearBuilt  TotRmsAbvGrd  BsmtQual_Ex  FullBath  \\\n",
       "0                 0  ...       1961             5            0         1   \n",
       "1                 0  ...       1958             6            0         1   \n",
       "2                 1  ...       1997             6            0         2   \n",
       "3                 1  ...       1998             7            0         2   \n",
       "4                 1  ...       1992             5            0         2   \n",
       "\n",
       "   1stFlrSF  TotalBsmtSF  GarageArea  GarageCars  GrLivArea  OverallQual  \n",
       "0       896        882.0       730.0         1.0        896            5  \n",
       "1      1329       1329.0       312.0         1.0       1329            6  \n",
       "2       928        928.0       482.0         2.0       1629            5  \n",
       "3       926        926.0       470.0         2.0       1604            6  \n",
       "4      1280       1280.0       506.0         2.0       1280            8  \n",
       "\n",
       "[5 rows x 22 columns]"
      ]
     },
     "execution_count": 23,
     "metadata": {},
     "output_type": "execute_result"
    },
    {
     "data": {
      "text/html": [
       "<div>\n",
       "<style scoped>\n",
       "    .dataframe tbody tr th:only-of-type {\n",
       "        vertical-align: middle;\n",
       "    }\n",
       "\n",
       "    .dataframe tbody tr th {\n",
       "        vertical-align: top;\n",
       "    }\n",
       "\n",
       "    .dataframe thead th {\n",
       "        text-align: right;\n",
       "    }\n",
       "</style>\n",
       "<table border=\"1\" class=\"dataframe\">\n",
       "  <thead>\n",
       "    <tr style=\"text-align: right;\">\n",
       "      <th></th>\n",
       "      <th>Neighborhood_NridgHt</th>\n",
       "      <th>GarageFinish_Fin</th>\n",
       "      <th>HeatingQC_Ex</th>\n",
       "      <th>BsmtFinType1_GLQ</th>\n",
       "      <th>ExterQual_Ex</th>\n",
       "      <th>ExterQual_Gd</th>\n",
       "      <th>GarageYrBlt</th>\n",
       "      <th>Fireplaces</th>\n",
       "      <th>MasVnrArea</th>\n",
       "      <th>Foundation_PConc</th>\n",
       "      <th>...</th>\n",
       "      <th>YearBuilt</th>\n",
       "      <th>TotRmsAbvGrd</th>\n",
       "      <th>BsmtQual_Ex</th>\n",
       "      <th>FullBath</th>\n",
       "      <th>1stFlrSF</th>\n",
       "      <th>TotalBsmtSF</th>\n",
       "      <th>GarageArea</th>\n",
       "      <th>GarageCars</th>\n",
       "      <th>GrLivArea</th>\n",
       "      <th>OverallQual</th>\n",
       "    </tr>\n",
       "  </thead>\n",
       "  <tbody>\n",
       "    <tr>\n",
       "      <th>0</th>\n",
       "      <td>0</td>\n",
       "      <td>0</td>\n",
       "      <td>1</td>\n",
       "      <td>1</td>\n",
       "      <td>0</td>\n",
       "      <td>1</td>\n",
       "      <td>2003.0</td>\n",
       "      <td>0</td>\n",
       "      <td>196.0</td>\n",
       "      <td>1</td>\n",
       "      <td>...</td>\n",
       "      <td>2003</td>\n",
       "      <td>8</td>\n",
       "      <td>0</td>\n",
       "      <td>2</td>\n",
       "      <td>856</td>\n",
       "      <td>856.0</td>\n",
       "      <td>548.0</td>\n",
       "      <td>2.0</td>\n",
       "      <td>1710</td>\n",
       "      <td>7</td>\n",
       "    </tr>\n",
       "    <tr>\n",
       "      <th>1</th>\n",
       "      <td>0</td>\n",
       "      <td>0</td>\n",
       "      <td>1</td>\n",
       "      <td>0</td>\n",
       "      <td>0</td>\n",
       "      <td>0</td>\n",
       "      <td>1976.0</td>\n",
       "      <td>1</td>\n",
       "      <td>0.0</td>\n",
       "      <td>0</td>\n",
       "      <td>...</td>\n",
       "      <td>1976</td>\n",
       "      <td>6</td>\n",
       "      <td>0</td>\n",
       "      <td>2</td>\n",
       "      <td>1262</td>\n",
       "      <td>1262.0</td>\n",
       "      <td>460.0</td>\n",
       "      <td>2.0</td>\n",
       "      <td>1262</td>\n",
       "      <td>6</td>\n",
       "    </tr>\n",
       "    <tr>\n",
       "      <th>2</th>\n",
       "      <td>0</td>\n",
       "      <td>0</td>\n",
       "      <td>1</td>\n",
       "      <td>1</td>\n",
       "      <td>0</td>\n",
       "      <td>1</td>\n",
       "      <td>2001.0</td>\n",
       "      <td>1</td>\n",
       "      <td>162.0</td>\n",
       "      <td>1</td>\n",
       "      <td>...</td>\n",
       "      <td>2001</td>\n",
       "      <td>6</td>\n",
       "      <td>0</td>\n",
       "      <td>2</td>\n",
       "      <td>920</td>\n",
       "      <td>920.0</td>\n",
       "      <td>608.0</td>\n",
       "      <td>2.0</td>\n",
       "      <td>1786</td>\n",
       "      <td>7</td>\n",
       "    </tr>\n",
       "    <tr>\n",
       "      <th>3</th>\n",
       "      <td>0</td>\n",
       "      <td>0</td>\n",
       "      <td>0</td>\n",
       "      <td>0</td>\n",
       "      <td>0</td>\n",
       "      <td>0</td>\n",
       "      <td>1998.0</td>\n",
       "      <td>1</td>\n",
       "      <td>0.0</td>\n",
       "      <td>0</td>\n",
       "      <td>...</td>\n",
       "      <td>1915</td>\n",
       "      <td>7</td>\n",
       "      <td>0</td>\n",
       "      <td>1</td>\n",
       "      <td>961</td>\n",
       "      <td>756.0</td>\n",
       "      <td>642.0</td>\n",
       "      <td>3.0</td>\n",
       "      <td>1717</td>\n",
       "      <td>7</td>\n",
       "    </tr>\n",
       "    <tr>\n",
       "      <th>4</th>\n",
       "      <td>0</td>\n",
       "      <td>0</td>\n",
       "      <td>1</td>\n",
       "      <td>1</td>\n",
       "      <td>0</td>\n",
       "      <td>1</td>\n",
       "      <td>2000.0</td>\n",
       "      <td>1</td>\n",
       "      <td>350.0</td>\n",
       "      <td>1</td>\n",
       "      <td>...</td>\n",
       "      <td>2000</td>\n",
       "      <td>9</td>\n",
       "      <td>0</td>\n",
       "      <td>2</td>\n",
       "      <td>1145</td>\n",
       "      <td>1145.0</td>\n",
       "      <td>836.0</td>\n",
       "      <td>3.0</td>\n",
       "      <td>2198</td>\n",
       "      <td>8</td>\n",
       "    </tr>\n",
       "  </tbody>\n",
       "</table>\n",
       "<p>5 rows × 22 columns</p>\n",
       "</div>"
      ],
      "text/plain": [
       "   Neighborhood_NridgHt  GarageFinish_Fin  HeatingQC_Ex  BsmtFinType1_GLQ  \\\n",
       "0                     0                 0             1                 1   \n",
       "1                     0                 0             1                 0   \n",
       "2                     0                 0             1                 1   \n",
       "3                     0                 0             0                 0   \n",
       "4                     0                 0             1                 1   \n",
       "\n",
       "   ExterQual_Ex  ExterQual_Gd  GarageYrBlt  Fireplaces  MasVnrArea  \\\n",
       "0             0             1       2003.0           0       196.0   \n",
       "1             0             0       1976.0           1         0.0   \n",
       "2             0             1       2001.0           1       162.0   \n",
       "3             0             0       1998.0           1         0.0   \n",
       "4             0             1       2000.0           1       350.0   \n",
       "\n",
       "   Foundation_PConc  ...  YearBuilt  TotRmsAbvGrd  BsmtQual_Ex  FullBath  \\\n",
       "0                 1  ...       2003             8            0         2   \n",
       "1                 0  ...       1976             6            0         2   \n",
       "2                 1  ...       2001             6            0         2   \n",
       "3                 0  ...       1915             7            0         1   \n",
       "4                 1  ...       2000             9            0         2   \n",
       "\n",
       "   1stFlrSF  TotalBsmtSF  GarageArea  GarageCars  GrLivArea  OverallQual  \n",
       "0       856        856.0       548.0         2.0       1710            7  \n",
       "1      1262       1262.0       460.0         2.0       1262            6  \n",
       "2       920        920.0       608.0         2.0       1786            7  \n",
       "3       961        756.0       642.0         3.0       1717            7  \n",
       "4      1145       1145.0       836.0         3.0       2198            8  \n",
       "\n",
       "[5 rows x 22 columns]"
      ]
     },
     "execution_count": 23,
     "metadata": {},
     "output_type": "execute_result"
    }
   ],
   "source": [
    "test_sample.shape\n",
    "train_sample.shape\n",
    "test_sample.head()\n",
    "train_sample.head()"
   ]
  },
  {
   "cell_type": "markdown",
   "metadata": {
    "_uuid": "02e1a8de83a3d5124bc71c1a703d07fd23dcb362"
   },
   "source": [
    "#### 6) Replace null values with median"
   ]
  },
  {
   "cell_type": "code",
   "execution_count": 27,
   "metadata": {},
   "outputs": [
    {
     "data": {
      "text/html": [
       "<div>\n",
       "<style scoped>\n",
       "    .dataframe tbody tr th:only-of-type {\n",
       "        vertical-align: middle;\n",
       "    }\n",
       "\n",
       "    .dataframe tbody tr th {\n",
       "        vertical-align: top;\n",
       "    }\n",
       "\n",
       "    .dataframe thead th {\n",
       "        text-align: right;\n",
       "    }\n",
       "</style>\n",
       "<table border=\"1\" class=\"dataframe\">\n",
       "  <thead>\n",
       "    <tr style=\"text-align: right;\">\n",
       "      <th></th>\n",
       "      <th>Neighborhood_NridgHt</th>\n",
       "      <th>GarageFinish_Fin</th>\n",
       "      <th>HeatingQC_Ex</th>\n",
       "      <th>BsmtFinType1_GLQ</th>\n",
       "      <th>ExterQual_Ex</th>\n",
       "      <th>ExterQual_Gd</th>\n",
       "      <th>GarageYrBlt</th>\n",
       "      <th>Fireplaces</th>\n",
       "      <th>MasVnrArea</th>\n",
       "      <th>Foundation_PConc</th>\n",
       "      <th>...</th>\n",
       "      <th>YearBuilt</th>\n",
       "      <th>TotRmsAbvGrd</th>\n",
       "      <th>BsmtQual_Ex</th>\n",
       "      <th>FullBath</th>\n",
       "      <th>1stFlrSF</th>\n",
       "      <th>TotalBsmtSF</th>\n",
       "      <th>GarageArea</th>\n",
       "      <th>GarageCars</th>\n",
       "      <th>GrLivArea</th>\n",
       "      <th>OverallQual</th>\n",
       "    </tr>\n",
       "  </thead>\n",
       "  <tbody>\n",
       "    <tr>\n",
       "      <th>0</th>\n",
       "      <td>0</td>\n",
       "      <td>0</td>\n",
       "      <td>1</td>\n",
       "      <td>1</td>\n",
       "      <td>0</td>\n",
       "      <td>1</td>\n",
       "      <td>2003.0</td>\n",
       "      <td>0</td>\n",
       "      <td>196.0</td>\n",
       "      <td>1</td>\n",
       "      <td>...</td>\n",
       "      <td>2003</td>\n",
       "      <td>8</td>\n",
       "      <td>0</td>\n",
       "      <td>2</td>\n",
       "      <td>856</td>\n",
       "      <td>856.0</td>\n",
       "      <td>548.0</td>\n",
       "      <td>2.0</td>\n",
       "      <td>1710</td>\n",
       "      <td>7</td>\n",
       "    </tr>\n",
       "    <tr>\n",
       "      <th>1</th>\n",
       "      <td>0</td>\n",
       "      <td>0</td>\n",
       "      <td>1</td>\n",
       "      <td>0</td>\n",
       "      <td>0</td>\n",
       "      <td>0</td>\n",
       "      <td>1976.0</td>\n",
       "      <td>1</td>\n",
       "      <td>0.0</td>\n",
       "      <td>0</td>\n",
       "      <td>...</td>\n",
       "      <td>1976</td>\n",
       "      <td>6</td>\n",
       "      <td>0</td>\n",
       "      <td>2</td>\n",
       "      <td>1262</td>\n",
       "      <td>1262.0</td>\n",
       "      <td>460.0</td>\n",
       "      <td>2.0</td>\n",
       "      <td>1262</td>\n",
       "      <td>6</td>\n",
       "    </tr>\n",
       "    <tr>\n",
       "      <th>2</th>\n",
       "      <td>0</td>\n",
       "      <td>0</td>\n",
       "      <td>1</td>\n",
       "      <td>1</td>\n",
       "      <td>0</td>\n",
       "      <td>1</td>\n",
       "      <td>2001.0</td>\n",
       "      <td>1</td>\n",
       "      <td>162.0</td>\n",
       "      <td>1</td>\n",
       "      <td>...</td>\n",
       "      <td>2001</td>\n",
       "      <td>6</td>\n",
       "      <td>0</td>\n",
       "      <td>2</td>\n",
       "      <td>920</td>\n",
       "      <td>920.0</td>\n",
       "      <td>608.0</td>\n",
       "      <td>2.0</td>\n",
       "      <td>1786</td>\n",
       "      <td>7</td>\n",
       "    </tr>\n",
       "    <tr>\n",
       "      <th>3</th>\n",
       "      <td>0</td>\n",
       "      <td>0</td>\n",
       "      <td>0</td>\n",
       "      <td>0</td>\n",
       "      <td>0</td>\n",
       "      <td>0</td>\n",
       "      <td>1998.0</td>\n",
       "      <td>1</td>\n",
       "      <td>0.0</td>\n",
       "      <td>0</td>\n",
       "      <td>...</td>\n",
       "      <td>1915</td>\n",
       "      <td>7</td>\n",
       "      <td>0</td>\n",
       "      <td>1</td>\n",
       "      <td>961</td>\n",
       "      <td>756.0</td>\n",
       "      <td>642.0</td>\n",
       "      <td>3.0</td>\n",
       "      <td>1717</td>\n",
       "      <td>7</td>\n",
       "    </tr>\n",
       "    <tr>\n",
       "      <th>4</th>\n",
       "      <td>0</td>\n",
       "      <td>0</td>\n",
       "      <td>1</td>\n",
       "      <td>1</td>\n",
       "      <td>0</td>\n",
       "      <td>1</td>\n",
       "      <td>2000.0</td>\n",
       "      <td>1</td>\n",
       "      <td>350.0</td>\n",
       "      <td>1</td>\n",
       "      <td>...</td>\n",
       "      <td>2000</td>\n",
       "      <td>9</td>\n",
       "      <td>0</td>\n",
       "      <td>2</td>\n",
       "      <td>1145</td>\n",
       "      <td>1145.0</td>\n",
       "      <td>836.0</td>\n",
       "      <td>3.0</td>\n",
       "      <td>2198</td>\n",
       "      <td>8</td>\n",
       "    </tr>\n",
       "  </tbody>\n",
       "</table>\n",
       "<p>5 rows × 22 columns</p>\n",
       "</div>"
      ],
      "text/plain": [
       "   Neighborhood_NridgHt  GarageFinish_Fin  HeatingQC_Ex  BsmtFinType1_GLQ  \\\n",
       "0                     0                 0             1                 1   \n",
       "1                     0                 0             1                 0   \n",
       "2                     0                 0             1                 1   \n",
       "3                     0                 0             0                 0   \n",
       "4                     0                 0             1                 1   \n",
       "\n",
       "   ExterQual_Ex  ExterQual_Gd  GarageYrBlt  Fireplaces  MasVnrArea  \\\n",
       "0             0             1       2003.0           0       196.0   \n",
       "1             0             0       1976.0           1         0.0   \n",
       "2             0             1       2001.0           1       162.0   \n",
       "3             0             0       1998.0           1         0.0   \n",
       "4             0             1       2000.0           1       350.0   \n",
       "\n",
       "   Foundation_PConc  ...  YearBuilt  TotRmsAbvGrd  BsmtQual_Ex  FullBath  \\\n",
       "0                 1  ...       2003             8            0         2   \n",
       "1                 0  ...       1976             6            0         2   \n",
       "2                 1  ...       2001             6            0         2   \n",
       "3                 0  ...       1915             7            0         1   \n",
       "4                 1  ...       2000             9            0         2   \n",
       "\n",
       "   1stFlrSF  TotalBsmtSF  GarageArea  GarageCars  GrLivArea  OverallQual  \n",
       "0       856        856.0       548.0         2.0       1710            7  \n",
       "1      1262       1262.0       460.0         2.0       1262            6  \n",
       "2       920        920.0       608.0         2.0       1786            7  \n",
       "3       961        756.0       642.0         3.0       1717            7  \n",
       "4      1145       1145.0       836.0         3.0       2198            8  \n",
       "\n",
       "[5 rows x 22 columns]"
      ]
     },
     "execution_count": 27,
     "metadata": {},
     "output_type": "execute_result"
    }
   ],
   "source": [
    "train_sample.head()"
   ]
  },
  {
   "cell_type": "code",
   "execution_count": 24,
   "metadata": {
    "_uuid": "d02f247e11b2c3220aa031a7293db1c41a36074d"
   },
   "outputs": [
    {
     "ename": "ImportError",
     "evalue": "cannot import name 'Imputer' from 'sklearn.preprocessing' (/Users/Optimus/opt/anaconda3/envs/env1/lib/python3.7/site-packages/sklearn/preprocessing/__init__.py)",
     "output_type": "error",
     "traceback": [
      "\u001b[0;31m---------------------------------------------------------------------------\u001b[0m",
      "\u001b[0;31mImportError\u001b[0m                               Traceback (most recent call last)",
      "\u001b[0;32m<ipython-input-24-f7bc5528a433>\u001b[0m in \u001b[0;36m<module>\u001b[0;34m\u001b[0m\n\u001b[0;32m----> 1\u001b[0;31m \u001b[0;32mfrom\u001b[0m \u001b[0msklearn\u001b[0m\u001b[0;34m.\u001b[0m\u001b[0mpreprocessing\u001b[0m \u001b[0;32mimport\u001b[0m \u001b[0mImputer\u001b[0m\u001b[0;34m\u001b[0m\u001b[0;34m\u001b[0m\u001b[0m\n\u001b[0m\u001b[1;32m      2\u001b[0m \u001b[0;34m\u001b[0m\u001b[0m\n\u001b[1;32m      3\u001b[0m \u001b[0mimputer\u001b[0m \u001b[0;34m=\u001b[0m \u001b[0mImputer\u001b[0m\u001b[0;34m(\u001b[0m\u001b[0mstrategy\u001b[0m\u001b[0;34m=\u001b[0m\u001b[0;34m\"median\"\u001b[0m\u001b[0;34m)\u001b[0m\u001b[0;34m\u001b[0m\u001b[0;34m\u001b[0m\u001b[0m\n\u001b[1;32m      4\u001b[0m \u001b[0;34m\u001b[0m\u001b[0m\n\u001b[1;32m      5\u001b[0m \u001b[0mimputer\u001b[0m\u001b[0;34m.\u001b[0m\u001b[0mfit\u001b[0m\u001b[0;34m(\u001b[0m\u001b[0mtrain_sample\u001b[0m\u001b[0;34m)\u001b[0m\u001b[0;34m\u001b[0m\u001b[0;34m\u001b[0m\u001b[0m\n",
      "\u001b[0;31mImportError\u001b[0m: cannot import name 'Imputer' from 'sklearn.preprocessing' (/Users/Optimus/opt/anaconda3/envs/env1/lib/python3.7/site-packages/sklearn/preprocessing/__init__.py)"
     ]
    }
   ],
   "source": [
    "from sklearn.preprocessing import Imputer\n",
    "\n",
    "imputer = Imputer(strategy=\"median\")\n",
    "\n",
    "imputer.fit(train_sample)\n",
    "\n",
    "train_sample = imputer.transform(train_sample)\n",
    "test_sample = imputer.transform(test_sample)"
   ]
  },
  {
   "cell_type": "code",
   "execution_count": 28,
   "metadata": {},
   "outputs": [
    {
     "data": {
      "text/plain": [
       "SimpleImputer(add_indicator=False, copy=True, fill_value=None,\n",
       "              missing_values=nan, strategy='mean', verbose=0)"
      ]
     },
     "execution_count": 28,
     "metadata": {},
     "output_type": "execute_result"
    }
   ],
   "source": [
    "from sklearn.impute import SimpleImputer\n",
    "imp = SimpleImputer(missing_values=np.nan, strategy='mean')\n",
    "imp.fit(train_sample.values)\n",
    "train_sample = imp.transform(train_sample.values)\n",
    "test_sample = imp.transform(test_sample.values)"
   ]
  },
  {
   "cell_type": "code",
   "execution_count": 29,
   "metadata": {},
   "outputs": [
    {
     "data": {
      "text/plain": [
       "array([[0.000e+00, 0.000e+00, 0.000e+00, ..., 1.000e+00, 8.960e+02,\n",
       "        5.000e+00],\n",
       "       [0.000e+00, 0.000e+00, 0.000e+00, ..., 1.000e+00, 1.329e+03,\n",
       "        6.000e+00],\n",
       "       [0.000e+00, 1.000e+00, 0.000e+00, ..., 2.000e+00, 1.629e+03,\n",
       "        5.000e+00],\n",
       "       ...,\n",
       "       [0.000e+00, 0.000e+00, 1.000e+00, ..., 2.000e+00, 1.224e+03,\n",
       "        5.000e+00],\n",
       "       [0.000e+00, 0.000e+00, 0.000e+00, ..., 0.000e+00, 9.700e+02,\n",
       "        5.000e+00],\n",
       "       [0.000e+00, 1.000e+00, 1.000e+00, ..., 3.000e+00, 2.000e+03,\n",
       "        7.000e+00]])"
      ]
     },
     "execution_count": 29,
     "metadata": {},
     "output_type": "execute_result"
    }
   ],
   "source": [
    "test_sample"
   ]
  },
  {
   "cell_type": "markdown",
   "metadata": {
    "_uuid": "96ee0fb3d7cf076b671e1dd6815d3039ecd6f748"
   },
   "source": [
    "#### 7) Apply normalization"
   ]
  },
  {
   "cell_type": "code",
   "execution_count": 30,
   "metadata": {
    "_uuid": "33c9a803a7d2691d2d77029231c8c472c166e69d"
   },
   "outputs": [
    {
     "data": {
      "text/plain": [
       "StandardScaler(copy=True, with_mean=True, with_std=True)"
      ]
     },
     "execution_count": 30,
     "metadata": {},
     "output_type": "execute_result"
    },
    {
     "ename": "AttributeError",
     "evalue": "'numpy.ndarray' object has no attribute 'head'",
     "output_type": "error",
     "traceback": [
      "\u001b[0;31m---------------------------------------------------------------------------\u001b[0m",
      "\u001b[0;31mAttributeError\u001b[0m                            Traceback (most recent call last)",
      "\u001b[0;32m<ipython-input-30-1c07096f4762>\u001b[0m in \u001b[0;36m<module>\u001b[0;34m\u001b[0m\n\u001b[1;32m      7\u001b[0m \u001b[0mtrain_sample\u001b[0m \u001b[0;34m=\u001b[0m \u001b[0mscaler\u001b[0m\u001b[0;34m.\u001b[0m\u001b[0mtransform\u001b[0m\u001b[0;34m(\u001b[0m\u001b[0mtrain_sample\u001b[0m\u001b[0;34m)\u001b[0m\u001b[0;34m\u001b[0m\u001b[0;34m\u001b[0m\u001b[0m\n\u001b[1;32m      8\u001b[0m \u001b[0mtest_sample\u001b[0m \u001b[0;34m=\u001b[0m \u001b[0mscaler\u001b[0m\u001b[0;34m.\u001b[0m\u001b[0mtransform\u001b[0m\u001b[0;34m(\u001b[0m\u001b[0mtest_sample\u001b[0m\u001b[0;34m)\u001b[0m\u001b[0;34m\u001b[0m\u001b[0;34m\u001b[0m\u001b[0m\n\u001b[0;32m----> 9\u001b[0;31m \u001b[0mtest_sample\u001b[0m\u001b[0;34m.\u001b[0m\u001b[0mhead\u001b[0m\u001b[0;34m(\u001b[0m\u001b[0;34m)\u001b[0m\u001b[0;34m\u001b[0m\u001b[0;34m\u001b[0m\u001b[0m\n\u001b[0m",
      "\u001b[0;31mAttributeError\u001b[0m: 'numpy.ndarray' object has no attribute 'head'"
     ]
    }
   ],
   "source": [
    "from sklearn.preprocessing import StandardScaler\n",
    "\n",
    "scaler = StandardScaler()\n",
    "\n",
    "scaler.fit(train_sample)\n",
    "\n",
    "train_sample = scaler.transform(train_sample)\n",
    "test_sample = scaler.transform(test_sample)\n",
    "test_sample.head()"
   ]
  },
  {
   "cell_type": "markdown",
   "metadata": {
    "_uuid": "22313594b0a96f9ac39887f7f25e3b648e0e8642"
   },
   "source": [
    "#### 8) Split train-testing data, so we can check the accuracy of model"
   ]
  },
  {
   "cell_type": "code",
   "execution_count": null,
   "metadata": {
    "_uuid": "a693ea8e373726377fb2362c607b6db497451256"
   },
   "outputs": [],
   "source": [
    "from sklearn.cross_validation import train_test_split\n",
    "\n",
    "X_train, X_test, y_train, y_test = train_test_split(\n",
    "    train_sample, train_label, train_size=0.8\n",
    ")"
   ]
  },
  {
   "cell_type": "code",
   "execution_count": null,
   "metadata": {
    "_uuid": "8f3e298b3d07b15ba7555a825eaffde099184446"
   },
   "outputs": [],
   "source": [
    "X_train.shape\n",
    "X_test.shape\n",
    "test_sample.shape"
   ]
  },
  {
   "cell_type": "markdown",
   "metadata": {
    "_uuid": "73167442ea514ceb1fcae6ae46f8c3dba226d726"
   },
   "source": [
    "#### 9) Generate linear regression"
   ]
  },
  {
   "cell_type": "code",
   "execution_count": null,
   "metadata": {
    "_uuid": "191415d314c8d2c85fbc2adc66991d336d42d780"
   },
   "outputs": [],
   "source": [
    "from sklearn.linear_model import LinearRegression\n",
    "\n",
    "model = LinearRegression()\n",
    "model.fit(train_sample, train_label)"
   ]
  },
  {
   "cell_type": "markdown",
   "metadata": {
    "_uuid": "20a43465dce9fe0982fcf2c90eb5463fba4e57f2"
   },
   "source": [
    "#### 10) Predict sales value"
   ]
  },
  {
   "cell_type": "code",
   "execution_count": null,
   "metadata": {
    "_uuid": "b57d5752398b1e96b4e8a2893fe0856f718450d7"
   },
   "outputs": [],
   "source": [
    "y_preds = model.predict(X_test)"
   ]
  },
  {
   "cell_type": "markdown",
   "metadata": {
    "_uuid": "0dd793f0aa729aa289d0859fed1a1c8acbcc2004"
   },
   "source": [
    "#### 11) Evaluate predicted value"
   ]
  },
  {
   "cell_type": "code",
   "execution_count": null,
   "metadata": {
    "_uuid": "4413c4cba054a999a54250fecd3114117d2a4212"
   },
   "outputs": [],
   "source": [
    "from sklearn import metrics\n",
    "\n",
    "print(\"Root Mean square error: \", np.sqrt(metrics.mean_squared_error(y_test, y_preds)))"
   ]
  },
  {
   "cell_type": "markdown",
   "metadata": {
    "_uuid": "c4c3f31efb53746f24889d29ea1ec1c242136914"
   },
   "source": [
    "#### 12) Apply linear model to test data and save it!"
   ]
  },
  {
   "cell_type": "code",
   "execution_count": null,
   "metadata": {
    "_uuid": "52eb0978debc4574a81c86b1e4d8e45388cc8ec4"
   },
   "outputs": [],
   "source": [
    "test_pred = model.predict(test_sample)\n",
    "submit = pd.DataFrame()\n",
    "submit[\"ID\"] = testID\n",
    "submit[\"SalePrice\"] = test_pred\n",
    "submit.head()"
   ]
  },
  {
   "cell_type": "code",
   "execution_count": null,
   "metadata": {
    "_uuid": "f448f750e48348a3d8fdecc20f485de62951a3f4",
    "collapsed": true,
    "jupyter": {
     "outputs_hidden": true
    }
   },
   "outputs": [],
   "source": [
    "submit.to_csv(\"attemp1.csv\", index=False)"
   ]
  },
  {
   "cell_type": "markdown",
   "metadata": {
    "_uuid": "26022bae46ce1f3edea50139aff0a67d26558c64"
   },
   "source": [
    "Let's draw pair plots between SalePrice and top correlated variables! So, we get better idea about the variables and it's relationship with SalePrice."
   ]
  },
  {
   "cell_type": "code",
   "execution_count": null,
   "metadata": {
    "_uuid": "08a1be15e6f5d1b53a8fc15fadd8180a8f87f584",
    "scrolled": true
   },
   "outputs": [],
   "source": [
    "cols = [\n",
    "    \"OverallQual\",\n",
    "    \"GrLivArea\",\n",
    "    \"GarageCars\",\n",
    "    \"GarageArea\",\n",
    "    \"TotalBsmtSF\",\n",
    "    \"1stFlrSF\",\n",
    "]\n",
    "\n",
    "test_cols = test[cols]\n",
    "\n",
    "imputer = Imputer(strategy=\"median\")\n",
    "\n",
    "imputer.fit(test_cols)\n",
    "\n",
    "test_cols = imputer.transform(test_cols)\n",
    "\n",
    "\n",
    "count = 0\n",
    "\n",
    "f, axes = plt.subplots(2, 3, figsize=(15, 12))\n",
    "\n",
    "for i in range(2):\n",
    "    for j in range(3):\n",
    "        sns.kdeplot(test_cols[:, count], test_pred, ax=axes[i][j])\n",
    "        axes[i][j].set_xlabel(\"%s\" % cols[count])\n",
    "        axes[i][j].set_ylabel(\"Sale Price\")\n",
    "        count += 1\n",
    "\n",
    "\n",
    "f.tight_layout()"
   ]
  },
  {
   "cell_type": "markdown",
   "metadata": {
    "_uuid": "f738d8282dfba11c2aef5412d71c04f2a0fde603"
   },
   "source": [
    "Using this model, I have scored 0.155, which is pretty good with basic model!.\n",
    "\n",
    "As mentioned in competition, we can get more accurate model if we use advance regression model like Random forest or Light GBM. We will see that in future post!"
   ]
  }
 ],
 "metadata": {
  "kernelspec": {
   "display_name": "Python 3",
   "language": "python",
   "name": "python3"
  },
  "language_info": {
   "codemirror_mode": {
    "name": "ipython",
    "version": 3
   },
   "file_extension": ".py",
   "mimetype": "text/x-python",
   "name": "python",
   "nbconvert_exporter": "python",
   "pygments_lexer": "ipython3",
   "version": "3.7.7"
  }
 },
 "nbformat": 4,
 "nbformat_minor": 4
}
