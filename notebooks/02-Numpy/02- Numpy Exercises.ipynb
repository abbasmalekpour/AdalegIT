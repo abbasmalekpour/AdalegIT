{
 "cells": [
  {
   "cell_type": "markdown",
   "metadata": {},
   "source": [
    "### Write a NumPy program to compute the inverse of a given matrix.\n",
    "Original matrix:  \n",
    "`[[1 2]  \n",
    " [3 4]]`  \n",
    "    \n",
    "Inverse of the said matrix:  \n",
    "`[[-2.   1. ]  \n",
    " [ 1.5 -0.5]]`"
   ]
  },
  {
   "cell_type": "code",
   "execution_count": null,
   "metadata": {},
   "outputs": [],
   "source": []
  },
  {
   "cell_type": "markdown",
   "metadata": {},
   "source": [
    "### Write a NumPy program to compute the multiplication of two given matrixes.\n",
    "original matrix:   \n",
    "`[[1, 0], [0, 1]]   \n",
    "[[1, 2], [3, 4]]`  \n",
    "   \n",
    "Result of the said matrix multiplication:    \n",
    "`[[1 2]  \n",
    " [3 4]]`  "
   ]
  },
  {
   "cell_type": "code",
   "execution_count": null,
   "metadata": {},
   "outputs": [],
   "source": []
  },
  {
   "cell_type": "code",
   "execution_count": null,
   "metadata": {},
   "outputs": [],
   "source": []
  },
  {
   "cell_type": "markdown",
   "metadata": {},
   "source": [
    "### Write a Numpy program read a list of number and to compute the Standard Deviation of those numbers.\n",
    "`standard deviation should be implemented manualy without using std function`"
   ]
  },
  {
   "cell_type": "code",
   "execution_count": null,
   "metadata": {},
   "outputs": [],
   "source": []
  }
 ],
 "metadata": {
  "kernelspec": {
   "display_name": "Python 3",
   "language": "python",
   "name": "python3"
  },
  "language_info": {
   "codemirror_mode": {
    "name": "ipython",
    "version": 3
   },
   "file_extension": ".py",
   "mimetype": "text/x-python",
   "name": "python",
   "nbconvert_exporter": "python",
   "pygments_lexer": "ipython3",
   "version": "3.7.7"
  }
 },
 "nbformat": 4,
 "nbformat_minor": 4
}
